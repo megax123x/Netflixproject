{
 "cells": [
  {
   "cell_type": "code",
   "execution_count": 2,
   "metadata": {},
   "outputs": [],
   "source": [
    "import pandas as pd\n",
    "import numpy as np\n",
    "import pandas_profiling\n",
    "import matplotlib.pyplot as plt\n",
    "import seaborn as sns\n",
    "import streamlit as st\n",
    "import plotly.express as px"
   ]
  },
  {
   "source": [
    "# import des bases de données"
   ],
   "cell_type": "markdown",
   "metadata": {}
  },
  {
   "source": [
    "## exploration des tables:"
   ],
   "cell_type": "markdown",
   "metadata": {}
  },
  {
   "cell_type": "code",
   "execution_count": 3,
   "metadata": {},
   "outputs": [
    {
     "output_type": "execute_result",
     "data": {
      "text/plain": [
       "      tconst  ordering     nconst         category                      job  \\\n",
       "0  tt0000001         1  nm1588970             self                       \\N   \n",
       "1  tt0000001         2  nm0005690         director                       \\N   \n",
       "2  tt0000001         3  nm0374658  cinematographer  director of photography   \n",
       "3  tt0000002         1  nm0721526         director                       \\N   \n",
       "4  tt0000002         2  nm1335271         composer                       \\N   \n",
       "\n",
       "  characters  \n",
       "0   [\"Self\"]  \n",
       "1         \\N  \n",
       "2         \\N  \n",
       "3         \\N  \n",
       "4         \\N  "
      ],
      "text/html": "<div>\n<style scoped>\n    .dataframe tbody tr th:only-of-type {\n        vertical-align: middle;\n    }\n\n    .dataframe tbody tr th {\n        vertical-align: top;\n    }\n\n    .dataframe thead th {\n        text-align: right;\n    }\n</style>\n<table border=\"1\" class=\"dataframe\">\n  <thead>\n    <tr style=\"text-align: right;\">\n      <th></th>\n      <th>tconst</th>\n      <th>ordering</th>\n      <th>nconst</th>\n      <th>category</th>\n      <th>job</th>\n      <th>characters</th>\n    </tr>\n  </thead>\n  <tbody>\n    <tr>\n      <th>0</th>\n      <td>tt0000001</td>\n      <td>1</td>\n      <td>nm1588970</td>\n      <td>self</td>\n      <td>\\N</td>\n      <td>[\"Self\"]</td>\n    </tr>\n    <tr>\n      <th>1</th>\n      <td>tt0000001</td>\n      <td>2</td>\n      <td>nm0005690</td>\n      <td>director</td>\n      <td>\\N</td>\n      <td>\\N</td>\n    </tr>\n    <tr>\n      <th>2</th>\n      <td>tt0000001</td>\n      <td>3</td>\n      <td>nm0374658</td>\n      <td>cinematographer</td>\n      <td>director of photography</td>\n      <td>\\N</td>\n    </tr>\n    <tr>\n      <th>3</th>\n      <td>tt0000002</td>\n      <td>1</td>\n      <td>nm0721526</td>\n      <td>director</td>\n      <td>\\N</td>\n      <td>\\N</td>\n    </tr>\n    <tr>\n      <th>4</th>\n      <td>tt0000002</td>\n      <td>2</td>\n      <td>nm1335271</td>\n      <td>composer</td>\n      <td>\\N</td>\n      <td>\\N</td>\n    </tr>\n  </tbody>\n</table>\n</div>"
     },
     "metadata": {},
     "execution_count": 3
    }
   ],
   "source": [
    "title_principals=pd.read_csv(\"title.principals.tsv.gz\", sep = \"\\t\")\n",
    "title_principals.head()"
   ]
  },
  {
   "cell_type": "code",
   "execution_count": 4,
   "metadata": {},
   "outputs": [
    {
     "output_type": "stream",
     "name": "stderr",
     "text": [
      "C:\\Users\\simad\\AppData\\Roaming\\Python\\Python39\\site-packages\\IPython\\core\\interactiveshell.py:3165: DtypeWarning: Columns (4,5) have mixed types.Specify dtype option on import or set low_memory=False.\n  has_raised = await self.run_ast_nodes(code_ast.body, cell_name,\n"
     ]
    },
    {
     "output_type": "execute_result",
     "data": {
      "text/plain": [
       "      tconst titleType            primaryTitle           originalTitle  \\\n",
       "0  tt0000001     short              Carmencita              Carmencita   \n",
       "1  tt0000002     short  Le clown et ses chiens  Le clown et ses chiens   \n",
       "2  tt0000003     short          Pauvre Pierrot          Pauvre Pierrot   \n",
       "3  tt0000004     short             Un bon bock             Un bon bock   \n",
       "4  tt0000005     short        Blacksmith Scene        Blacksmith Scene   \n",
       "\n",
       "  isAdult startYear endYear runtimeMinutes                    genres  \n",
       "0       0      1894      \\N              1         Documentary,Short  \n",
       "1       0      1892      \\N              5           Animation,Short  \n",
       "2       0      1892      \\N              4  Animation,Comedy,Romance  \n",
       "3       0      1892      \\N             12           Animation,Short  \n",
       "4       0      1893      \\N              1              Comedy,Short  "
      ],
      "text/html": "<div>\n<style scoped>\n    .dataframe tbody tr th:only-of-type {\n        vertical-align: middle;\n    }\n\n    .dataframe tbody tr th {\n        vertical-align: top;\n    }\n\n    .dataframe thead th {\n        text-align: right;\n    }\n</style>\n<table border=\"1\" class=\"dataframe\">\n  <thead>\n    <tr style=\"text-align: right;\">\n      <th></th>\n      <th>tconst</th>\n      <th>titleType</th>\n      <th>primaryTitle</th>\n      <th>originalTitle</th>\n      <th>isAdult</th>\n      <th>startYear</th>\n      <th>endYear</th>\n      <th>runtimeMinutes</th>\n      <th>genres</th>\n    </tr>\n  </thead>\n  <tbody>\n    <tr>\n      <th>0</th>\n      <td>tt0000001</td>\n      <td>short</td>\n      <td>Carmencita</td>\n      <td>Carmencita</td>\n      <td>0</td>\n      <td>1894</td>\n      <td>\\N</td>\n      <td>1</td>\n      <td>Documentary,Short</td>\n    </tr>\n    <tr>\n      <th>1</th>\n      <td>tt0000002</td>\n      <td>short</td>\n      <td>Le clown et ses chiens</td>\n      <td>Le clown et ses chiens</td>\n      <td>0</td>\n      <td>1892</td>\n      <td>\\N</td>\n      <td>5</td>\n      <td>Animation,Short</td>\n    </tr>\n    <tr>\n      <th>2</th>\n      <td>tt0000003</td>\n      <td>short</td>\n      <td>Pauvre Pierrot</td>\n      <td>Pauvre Pierrot</td>\n      <td>0</td>\n      <td>1892</td>\n      <td>\\N</td>\n      <td>4</td>\n      <td>Animation,Comedy,Romance</td>\n    </tr>\n    <tr>\n      <th>3</th>\n      <td>tt0000004</td>\n      <td>short</td>\n      <td>Un bon bock</td>\n      <td>Un bon bock</td>\n      <td>0</td>\n      <td>1892</td>\n      <td>\\N</td>\n      <td>12</td>\n      <td>Animation,Short</td>\n    </tr>\n    <tr>\n      <th>4</th>\n      <td>tt0000005</td>\n      <td>short</td>\n      <td>Blacksmith Scene</td>\n      <td>Blacksmith Scene</td>\n      <td>0</td>\n      <td>1893</td>\n      <td>\\N</td>\n      <td>1</td>\n      <td>Comedy,Short</td>\n    </tr>\n  </tbody>\n</table>\n</div>"
     },
     "metadata": {},
     "execution_count": 4
    }
   ],
   "source": [
    "title_basics=pd.read_csv(\"title.basics.tsv.gz\", sep = \"\\t\")\n",
    "title_basics.head()"
   ]
  },
  {
   "cell_type": "code",
   "execution_count": 5,
   "metadata": {},
   "outputs": [
    {
     "output_type": "stream",
     "name": "stderr",
     "text": [
      "C:\\Users\\simad\\AppData\\Roaming\\Python\\Python39\\site-packages\\IPython\\core\\interactiveshell.py:3165: DtypeWarning: Columns (7) have mixed types.Specify dtype option on import or set low_memory=False.\n  has_raised = await self.run_ast_nodes(code_ast.body, cell_name,\n"
     ]
    },
    {
     "output_type": "execute_result",
     "data": {
      "text/plain": [
       "     titleId  ordering                      title region language  \\\n",
       "0  tt0000001         1                 Карменсіта     UA       \\N   \n",
       "1  tt0000001         2                 Carmencita     DE       \\N   \n",
       "2  tt0000001         3  Carmencita - spanyol tánc     HU       \\N   \n",
       "3  tt0000001         4                 Καρμενσίτα     GR       \\N   \n",
       "4  tt0000001         5                 Карменсита     RU       \\N   \n",
       "\n",
       "         types     attributes isOriginalTitle  \n",
       "0  imdbDisplay             \\N               0  \n",
       "1           \\N  literal title               0  \n",
       "2  imdbDisplay             \\N               0  \n",
       "3  imdbDisplay             \\N               0  \n",
       "4  imdbDisplay             \\N               0  "
      ],
      "text/html": "<div>\n<style scoped>\n    .dataframe tbody tr th:only-of-type {\n        vertical-align: middle;\n    }\n\n    .dataframe tbody tr th {\n        vertical-align: top;\n    }\n\n    .dataframe thead th {\n        text-align: right;\n    }\n</style>\n<table border=\"1\" class=\"dataframe\">\n  <thead>\n    <tr style=\"text-align: right;\">\n      <th></th>\n      <th>titleId</th>\n      <th>ordering</th>\n      <th>title</th>\n      <th>region</th>\n      <th>language</th>\n      <th>types</th>\n      <th>attributes</th>\n      <th>isOriginalTitle</th>\n    </tr>\n  </thead>\n  <tbody>\n    <tr>\n      <th>0</th>\n      <td>tt0000001</td>\n      <td>1</td>\n      <td>Карменсіта</td>\n      <td>UA</td>\n      <td>\\N</td>\n      <td>imdbDisplay</td>\n      <td>\\N</td>\n      <td>0</td>\n    </tr>\n    <tr>\n      <th>1</th>\n      <td>tt0000001</td>\n      <td>2</td>\n      <td>Carmencita</td>\n      <td>DE</td>\n      <td>\\N</td>\n      <td>\\N</td>\n      <td>literal title</td>\n      <td>0</td>\n    </tr>\n    <tr>\n      <th>2</th>\n      <td>tt0000001</td>\n      <td>3</td>\n      <td>Carmencita - spanyol tánc</td>\n      <td>HU</td>\n      <td>\\N</td>\n      <td>imdbDisplay</td>\n      <td>\\N</td>\n      <td>0</td>\n    </tr>\n    <tr>\n      <th>3</th>\n      <td>tt0000001</td>\n      <td>4</td>\n      <td>Καρμενσίτα</td>\n      <td>GR</td>\n      <td>\\N</td>\n      <td>imdbDisplay</td>\n      <td>\\N</td>\n      <td>0</td>\n    </tr>\n    <tr>\n      <th>4</th>\n      <td>tt0000001</td>\n      <td>5</td>\n      <td>Карменсита</td>\n      <td>RU</td>\n      <td>\\N</td>\n      <td>imdbDisplay</td>\n      <td>\\N</td>\n      <td>0</td>\n    </tr>\n  </tbody>\n</table>\n</div>"
     },
     "metadata": {},
     "execution_count": 5
    }
   ],
   "source": [
    "title_akas=pd.read_csv(\"title.akas.tsv.gz\", sep = \"\\t\")\n",
    "title_akas.head()"
   ]
  },
  {
   "cell_type": "code",
   "execution_count": 6,
   "metadata": {},
   "outputs": [
    {
     "output_type": "execute_result",
     "data": {
      "text/plain": [
       "      tconst  directors writers\n",
       "0  tt0000001  nm0005690      \\N\n",
       "1  tt0000002  nm0721526      \\N\n",
       "2  tt0000003  nm0721526      \\N\n",
       "3  tt0000004  nm0721526      \\N\n",
       "4  tt0000005  nm0005690      \\N"
      ],
      "text/html": "<div>\n<style scoped>\n    .dataframe tbody tr th:only-of-type {\n        vertical-align: middle;\n    }\n\n    .dataframe tbody tr th {\n        vertical-align: top;\n    }\n\n    .dataframe thead th {\n        text-align: right;\n    }\n</style>\n<table border=\"1\" class=\"dataframe\">\n  <thead>\n    <tr style=\"text-align: right;\">\n      <th></th>\n      <th>tconst</th>\n      <th>directors</th>\n      <th>writers</th>\n    </tr>\n  </thead>\n  <tbody>\n    <tr>\n      <th>0</th>\n      <td>tt0000001</td>\n      <td>nm0005690</td>\n      <td>\\N</td>\n    </tr>\n    <tr>\n      <th>1</th>\n      <td>tt0000002</td>\n      <td>nm0721526</td>\n      <td>\\N</td>\n    </tr>\n    <tr>\n      <th>2</th>\n      <td>tt0000003</td>\n      <td>nm0721526</td>\n      <td>\\N</td>\n    </tr>\n    <tr>\n      <th>3</th>\n      <td>tt0000004</td>\n      <td>nm0721526</td>\n      <td>\\N</td>\n    </tr>\n    <tr>\n      <th>4</th>\n      <td>tt0000005</td>\n      <td>nm0005690</td>\n      <td>\\N</td>\n    </tr>\n  </tbody>\n</table>\n</div>"
     },
     "metadata": {},
     "execution_count": 6
    }
   ],
   "source": [
    "title_crew=pd.read_csv(\"title.crew.tsv.gz\", sep = \"\\t\")\n",
    "title_crew.head()"
   ]
  },
  {
   "cell_type": "code",
   "execution_count": 7,
   "metadata": {},
   "outputs": [
    {
     "output_type": "execute_result",
     "data": {
      "text/plain": [
       "      tconst parentTconst seasonNumber episodeNumber\n",
       "0  tt0041951    tt0041038            1             9\n",
       "1  tt0042816    tt0989125            1            17\n",
       "2  tt0042889    tt0989125           \\N            \\N\n",
       "3  tt0043426    tt0040051            3            42\n",
       "4  tt0043631    tt0989125            2            16"
      ],
      "text/html": "<div>\n<style scoped>\n    .dataframe tbody tr th:only-of-type {\n        vertical-align: middle;\n    }\n\n    .dataframe tbody tr th {\n        vertical-align: top;\n    }\n\n    .dataframe thead th {\n        text-align: right;\n    }\n</style>\n<table border=\"1\" class=\"dataframe\">\n  <thead>\n    <tr style=\"text-align: right;\">\n      <th></th>\n      <th>tconst</th>\n      <th>parentTconst</th>\n      <th>seasonNumber</th>\n      <th>episodeNumber</th>\n    </tr>\n  </thead>\n  <tbody>\n    <tr>\n      <th>0</th>\n      <td>tt0041951</td>\n      <td>tt0041038</td>\n      <td>1</td>\n      <td>9</td>\n    </tr>\n    <tr>\n      <th>1</th>\n      <td>tt0042816</td>\n      <td>tt0989125</td>\n      <td>1</td>\n      <td>17</td>\n    </tr>\n    <tr>\n      <th>2</th>\n      <td>tt0042889</td>\n      <td>tt0989125</td>\n      <td>\\N</td>\n      <td>\\N</td>\n    </tr>\n    <tr>\n      <th>3</th>\n      <td>tt0043426</td>\n      <td>tt0040051</td>\n      <td>3</td>\n      <td>42</td>\n    </tr>\n    <tr>\n      <th>4</th>\n      <td>tt0043631</td>\n      <td>tt0989125</td>\n      <td>2</td>\n      <td>16</td>\n    </tr>\n  </tbody>\n</table>\n</div>"
     },
     "metadata": {},
     "execution_count": 7
    }
   ],
   "source": [
    "title_episode=pd.read_csv(\"title.episode.tsv.gz\", sep = \"\\t\")\n",
    "title_episode.head()"
   ]
  },
  {
   "cell_type": "code",
   "execution_count": 8,
   "metadata": {},
   "outputs": [
    {
     "output_type": "execute_result",
     "data": {
      "text/plain": [
       "      nconst      primaryName birthYear deathYear  \\\n",
       "0  nm0000001     Fred Astaire      1899      1987   \n",
       "1  nm0000002    Lauren Bacall      1924      2014   \n",
       "2  nm0000003  Brigitte Bardot      1934        \\N   \n",
       "3  nm0000004     John Belushi      1949      1982   \n",
       "4  nm0000005   Ingmar Bergman      1918      2007   \n",
       "\n",
       "                     primaryProfession  \\\n",
       "0       soundtrack,actor,miscellaneous   \n",
       "1                   actress,soundtrack   \n",
       "2  actress,soundtrack,music_department   \n",
       "3              actor,soundtrack,writer   \n",
       "4                writer,director,actor   \n",
       "\n",
       "                            knownForTitles  \n",
       "0  tt0050419,tt0072308,tt0053137,tt0031983  \n",
       "1  tt0037382,tt0038355,tt0071877,tt0117057  \n",
       "2  tt0054452,tt0049189,tt0057345,tt0056404  \n",
       "3  tt0072562,tt0077975,tt0078723,tt0080455  \n",
       "4  tt0050976,tt0069467,tt0060827,tt0050986  "
      ],
      "text/html": "<div>\n<style scoped>\n    .dataframe tbody tr th:only-of-type {\n        vertical-align: middle;\n    }\n\n    .dataframe tbody tr th {\n        vertical-align: top;\n    }\n\n    .dataframe thead th {\n        text-align: right;\n    }\n</style>\n<table border=\"1\" class=\"dataframe\">\n  <thead>\n    <tr style=\"text-align: right;\">\n      <th></th>\n      <th>nconst</th>\n      <th>primaryName</th>\n      <th>birthYear</th>\n      <th>deathYear</th>\n      <th>primaryProfession</th>\n      <th>knownForTitles</th>\n    </tr>\n  </thead>\n  <tbody>\n    <tr>\n      <th>0</th>\n      <td>nm0000001</td>\n      <td>Fred Astaire</td>\n      <td>1899</td>\n      <td>1987</td>\n      <td>soundtrack,actor,miscellaneous</td>\n      <td>tt0050419,tt0072308,tt0053137,tt0031983</td>\n    </tr>\n    <tr>\n      <th>1</th>\n      <td>nm0000002</td>\n      <td>Lauren Bacall</td>\n      <td>1924</td>\n      <td>2014</td>\n      <td>actress,soundtrack</td>\n      <td>tt0037382,tt0038355,tt0071877,tt0117057</td>\n    </tr>\n    <tr>\n      <th>2</th>\n      <td>nm0000003</td>\n      <td>Brigitte Bardot</td>\n      <td>1934</td>\n      <td>\\N</td>\n      <td>actress,soundtrack,music_department</td>\n      <td>tt0054452,tt0049189,tt0057345,tt0056404</td>\n    </tr>\n    <tr>\n      <th>3</th>\n      <td>nm0000004</td>\n      <td>John Belushi</td>\n      <td>1949</td>\n      <td>1982</td>\n      <td>actor,soundtrack,writer</td>\n      <td>tt0072562,tt0077975,tt0078723,tt0080455</td>\n    </tr>\n    <tr>\n      <th>4</th>\n      <td>nm0000005</td>\n      <td>Ingmar Bergman</td>\n      <td>1918</td>\n      <td>2007</td>\n      <td>writer,director,actor</td>\n      <td>tt0050976,tt0069467,tt0060827,tt0050986</td>\n    </tr>\n  </tbody>\n</table>\n</div>"
     },
     "metadata": {},
     "execution_count": 8
    }
   ],
   "source": [
    "name_basics=pd.read_csv(\"name.basics.tsv.gz\", sep = \"\\t\")\n",
    "name_basics.head()"
   ]
  },
  {
   "cell_type": "code",
   "execution_count": 9,
   "metadata": {},
   "outputs": [
    {
     "output_type": "execute_result",
     "data": {
      "text/plain": [
       "      tconst  averageRating  numVotes\n",
       "0  tt0000001            5.6      1696\n",
       "1  tt0000002            6.0       210\n",
       "2  tt0000003            6.5      1443\n",
       "3  tt0000004            6.1       122\n",
       "4  tt0000005            6.1      2243"
      ],
      "text/html": "<div>\n<style scoped>\n    .dataframe tbody tr th:only-of-type {\n        vertical-align: middle;\n    }\n\n    .dataframe tbody tr th {\n        vertical-align: top;\n    }\n\n    .dataframe thead th {\n        text-align: right;\n    }\n</style>\n<table border=\"1\" class=\"dataframe\">\n  <thead>\n    <tr style=\"text-align: right;\">\n      <th></th>\n      <th>tconst</th>\n      <th>averageRating</th>\n      <th>numVotes</th>\n    </tr>\n  </thead>\n  <tbody>\n    <tr>\n      <th>0</th>\n      <td>tt0000001</td>\n      <td>5.6</td>\n      <td>1696</td>\n    </tr>\n    <tr>\n      <th>1</th>\n      <td>tt0000002</td>\n      <td>6.0</td>\n      <td>210</td>\n    </tr>\n    <tr>\n      <th>2</th>\n      <td>tt0000003</td>\n      <td>6.5</td>\n      <td>1443</td>\n    </tr>\n    <tr>\n      <th>3</th>\n      <td>tt0000004</td>\n      <td>6.1</td>\n      <td>122</td>\n    </tr>\n    <tr>\n      <th>4</th>\n      <td>tt0000005</td>\n      <td>6.1</td>\n      <td>2243</td>\n    </tr>\n  </tbody>\n</table>\n</div>"
     },
     "metadata": {},
     "execution_count": 9
    }
   ],
   "source": [
    "title_ratings=pd.read_csv(\"title.ratings.tsv.gz\", sep = \"\\t\")\n",
    "title_ratings.head()"
   ]
  },
  {
   "source": [
    "# Netoyage de la base \n"
   ],
   "cell_type": "markdown",
   "metadata": {}
  },
  {
   "source": [
    "# je merge trois tables avreage rating et celle des titre avec celle qui contient les regions title id "
   ],
   "cell_type": "markdown",
   "metadata": {}
  },
  {
   "cell_type": "code",
   "execution_count": 10,
   "metadata": {},
   "outputs": [
    {
     "output_type": "execute_result",
     "data": {
      "text/plain": [
       "            tconst  titleType               primaryTitle  \\\n",
       "0        tt0000001      short                 Carmencita   \n",
       "1        tt0000002      short     Le clown et ses chiens   \n",
       "2        tt0000003      short             Pauvre Pierrot   \n",
       "3        tt0000004      short                Un bon bock   \n",
       "4        tt0000005      short           Blacksmith Scene   \n",
       "...            ...        ...                        ...   \n",
       "7783578  tt9916848  tvEpisode              Episode #3.17   \n",
       "7783579  tt9916850  tvEpisode              Episode #3.19   \n",
       "7783580  tt9916852  tvEpisode              Episode #3.20   \n",
       "7783581  tt9916856      short                   The Wind   \n",
       "7783582  tt9916880  tvEpisode  Horrid Henry Knows It All   \n",
       "\n",
       "                     originalTitle isAdult startYear endYear runtimeMinutes  \\\n",
       "0                       Carmencita       0      1894      \\N              1   \n",
       "1           Le clown et ses chiens       0      1892      \\N              5   \n",
       "2                   Pauvre Pierrot       0      1892      \\N              4   \n",
       "3                      Un bon bock       0      1892      \\N             12   \n",
       "4                 Blacksmith Scene       0      1893      \\N              1   \n",
       "...                            ...     ...       ...     ...            ...   \n",
       "7783578              Episode #3.17       0      2010      \\N             \\N   \n",
       "7783579              Episode #3.19       0      2010      \\N             \\N   \n",
       "7783580              Episode #3.20       0      2010      \\N             \\N   \n",
       "7783581                   The Wind       0      2015      \\N             27   \n",
       "7783582  Horrid Henry Knows It All       0      2014      \\N             10   \n",
       "\n",
       "                           genres  averageRating  numVotes  \n",
       "0               Documentary,Short            5.6    1696.0  \n",
       "1                 Animation,Short            6.0     210.0  \n",
       "2        Animation,Comedy,Romance            6.5    1443.0  \n",
       "3                 Animation,Short            6.1     122.0  \n",
       "4                    Comedy,Short            6.1    2243.0  \n",
       "...                           ...            ...       ...  \n",
       "7783578       Action,Drama,Family            NaN       NaN  \n",
       "7783579       Action,Drama,Family            NaN       NaN  \n",
       "7783580       Action,Drama,Family            NaN       NaN  \n",
       "7783581                     Short            NaN       NaN  \n",
       "7783582   Animation,Comedy,Family            NaN       NaN  \n",
       "\n",
       "[7783583 rows x 11 columns]"
      ],
      "text/html": "<div>\n<style scoped>\n    .dataframe tbody tr th:only-of-type {\n        vertical-align: middle;\n    }\n\n    .dataframe tbody tr th {\n        vertical-align: top;\n    }\n\n    .dataframe thead th {\n        text-align: right;\n    }\n</style>\n<table border=\"1\" class=\"dataframe\">\n  <thead>\n    <tr style=\"text-align: right;\">\n      <th></th>\n      <th>tconst</th>\n      <th>titleType</th>\n      <th>primaryTitle</th>\n      <th>originalTitle</th>\n      <th>isAdult</th>\n      <th>startYear</th>\n      <th>endYear</th>\n      <th>runtimeMinutes</th>\n      <th>genres</th>\n      <th>averageRating</th>\n      <th>numVotes</th>\n    </tr>\n  </thead>\n  <tbody>\n    <tr>\n      <th>0</th>\n      <td>tt0000001</td>\n      <td>short</td>\n      <td>Carmencita</td>\n      <td>Carmencita</td>\n      <td>0</td>\n      <td>1894</td>\n      <td>\\N</td>\n      <td>1</td>\n      <td>Documentary,Short</td>\n      <td>5.6</td>\n      <td>1696.0</td>\n    </tr>\n    <tr>\n      <th>1</th>\n      <td>tt0000002</td>\n      <td>short</td>\n      <td>Le clown et ses chiens</td>\n      <td>Le clown et ses chiens</td>\n      <td>0</td>\n      <td>1892</td>\n      <td>\\N</td>\n      <td>5</td>\n      <td>Animation,Short</td>\n      <td>6.0</td>\n      <td>210.0</td>\n    </tr>\n    <tr>\n      <th>2</th>\n      <td>tt0000003</td>\n      <td>short</td>\n      <td>Pauvre Pierrot</td>\n      <td>Pauvre Pierrot</td>\n      <td>0</td>\n      <td>1892</td>\n      <td>\\N</td>\n      <td>4</td>\n      <td>Animation,Comedy,Romance</td>\n      <td>6.5</td>\n      <td>1443.0</td>\n    </tr>\n    <tr>\n      <th>3</th>\n      <td>tt0000004</td>\n      <td>short</td>\n      <td>Un bon bock</td>\n      <td>Un bon bock</td>\n      <td>0</td>\n      <td>1892</td>\n      <td>\\N</td>\n      <td>12</td>\n      <td>Animation,Short</td>\n      <td>6.1</td>\n      <td>122.0</td>\n    </tr>\n    <tr>\n      <th>4</th>\n      <td>tt0000005</td>\n      <td>short</td>\n      <td>Blacksmith Scene</td>\n      <td>Blacksmith Scene</td>\n      <td>0</td>\n      <td>1893</td>\n      <td>\\N</td>\n      <td>1</td>\n      <td>Comedy,Short</td>\n      <td>6.1</td>\n      <td>2243.0</td>\n    </tr>\n    <tr>\n      <th>...</th>\n      <td>...</td>\n      <td>...</td>\n      <td>...</td>\n      <td>...</td>\n      <td>...</td>\n      <td>...</td>\n      <td>...</td>\n      <td>...</td>\n      <td>...</td>\n      <td>...</td>\n      <td>...</td>\n    </tr>\n    <tr>\n      <th>7783578</th>\n      <td>tt9916848</td>\n      <td>tvEpisode</td>\n      <td>Episode #3.17</td>\n      <td>Episode #3.17</td>\n      <td>0</td>\n      <td>2010</td>\n      <td>\\N</td>\n      <td>\\N</td>\n      <td>Action,Drama,Family</td>\n      <td>NaN</td>\n      <td>NaN</td>\n    </tr>\n    <tr>\n      <th>7783579</th>\n      <td>tt9916850</td>\n      <td>tvEpisode</td>\n      <td>Episode #3.19</td>\n      <td>Episode #3.19</td>\n      <td>0</td>\n      <td>2010</td>\n      <td>\\N</td>\n      <td>\\N</td>\n      <td>Action,Drama,Family</td>\n      <td>NaN</td>\n      <td>NaN</td>\n    </tr>\n    <tr>\n      <th>7783580</th>\n      <td>tt9916852</td>\n      <td>tvEpisode</td>\n      <td>Episode #3.20</td>\n      <td>Episode #3.20</td>\n      <td>0</td>\n      <td>2010</td>\n      <td>\\N</td>\n      <td>\\N</td>\n      <td>Action,Drama,Family</td>\n      <td>NaN</td>\n      <td>NaN</td>\n    </tr>\n    <tr>\n      <th>7783581</th>\n      <td>tt9916856</td>\n      <td>short</td>\n      <td>The Wind</td>\n      <td>The Wind</td>\n      <td>0</td>\n      <td>2015</td>\n      <td>\\N</td>\n      <td>27</td>\n      <td>Short</td>\n      <td>NaN</td>\n      <td>NaN</td>\n    </tr>\n    <tr>\n      <th>7783582</th>\n      <td>tt9916880</td>\n      <td>tvEpisode</td>\n      <td>Horrid Henry Knows It All</td>\n      <td>Horrid Henry Knows It All</td>\n      <td>0</td>\n      <td>2014</td>\n      <td>\\N</td>\n      <td>10</td>\n      <td>Animation,Comedy,Family</td>\n      <td>NaN</td>\n      <td>NaN</td>\n    </tr>\n  </tbody>\n</table>\n<p>7783583 rows × 11 columns</p>\n</div>"
     },
     "metadata": {},
     "execution_count": 10
    }
   ],
   "source": [
    "table_Film_Rating=pd.merge(left=title_basics, right=title_ratings, how='left')\n",
    "table_Film_Rating"
   ]
  },
  {
   "cell_type": "code",
   "execution_count": 11,
   "metadata": {},
   "outputs": [],
   "source": [
    "table_Film_Rating_title= pd.merge(table_Film_Rating,title_akas, how='left', left_on='tconst', right_on='titleId')\n"
   ]
  },
  {
   "cell_type": "code",
   "execution_count": 12,
   "metadata": {},
   "outputs": [
    {
     "output_type": "execute_result",
     "data": {
      "text/plain": [
       "      tconst titleType primaryTitle originalTitle isAdult startYear endYear  \\\n",
       "0  tt0000001     short   Carmencita    Carmencita       0      1894      \\N   \n",
       "1  tt0000001     short   Carmencita    Carmencita       0      1894      \\N   \n",
       "2  tt0000001     short   Carmencita    Carmencita       0      1894      \\N   \n",
       "3  tt0000001     short   Carmencita    Carmencita       0      1894      \\N   \n",
       "4  tt0000001     short   Carmencita    Carmencita       0      1894      \\N   \n",
       "\n",
       "  runtimeMinutes             genres  averageRating  numVotes    titleId  \\\n",
       "0              1  Documentary,Short            5.6    1696.0  tt0000001   \n",
       "1              1  Documentary,Short            5.6    1696.0  tt0000001   \n",
       "2              1  Documentary,Short            5.6    1696.0  tt0000001   \n",
       "3              1  Documentary,Short            5.6    1696.0  tt0000001   \n",
       "4              1  Documentary,Short            5.6    1696.0  tt0000001   \n",
       "\n",
       "   ordering                      title region language        types  \\\n",
       "0       1.0                 Карменсіта     UA       \\N  imdbDisplay   \n",
       "1       2.0                 Carmencita     DE       \\N           \\N   \n",
       "2       3.0  Carmencita - spanyol tánc     HU       \\N  imdbDisplay   \n",
       "3       4.0                 Καρμενσίτα     GR       \\N  imdbDisplay   \n",
       "4       5.0                 Карменсита     RU       \\N  imdbDisplay   \n",
       "\n",
       "      attributes isOriginalTitle  \n",
       "0             \\N               0  \n",
       "1  literal title               0  \n",
       "2             \\N               0  \n",
       "3             \\N               0  \n",
       "4             \\N               0  "
      ],
      "text/html": "<div>\n<style scoped>\n    .dataframe tbody tr th:only-of-type {\n        vertical-align: middle;\n    }\n\n    .dataframe tbody tr th {\n        vertical-align: top;\n    }\n\n    .dataframe thead th {\n        text-align: right;\n    }\n</style>\n<table border=\"1\" class=\"dataframe\">\n  <thead>\n    <tr style=\"text-align: right;\">\n      <th></th>\n      <th>tconst</th>\n      <th>titleType</th>\n      <th>primaryTitle</th>\n      <th>originalTitle</th>\n      <th>isAdult</th>\n      <th>startYear</th>\n      <th>endYear</th>\n      <th>runtimeMinutes</th>\n      <th>genres</th>\n      <th>averageRating</th>\n      <th>numVotes</th>\n      <th>titleId</th>\n      <th>ordering</th>\n      <th>title</th>\n      <th>region</th>\n      <th>language</th>\n      <th>types</th>\n      <th>attributes</th>\n      <th>isOriginalTitle</th>\n    </tr>\n  </thead>\n  <tbody>\n    <tr>\n      <th>0</th>\n      <td>tt0000001</td>\n      <td>short</td>\n      <td>Carmencita</td>\n      <td>Carmencita</td>\n      <td>0</td>\n      <td>1894</td>\n      <td>\\N</td>\n      <td>1</td>\n      <td>Documentary,Short</td>\n      <td>5.6</td>\n      <td>1696.0</td>\n      <td>tt0000001</td>\n      <td>1.0</td>\n      <td>Карменсіта</td>\n      <td>UA</td>\n      <td>\\N</td>\n      <td>imdbDisplay</td>\n      <td>\\N</td>\n      <td>0</td>\n    </tr>\n    <tr>\n      <th>1</th>\n      <td>tt0000001</td>\n      <td>short</td>\n      <td>Carmencita</td>\n      <td>Carmencita</td>\n      <td>0</td>\n      <td>1894</td>\n      <td>\\N</td>\n      <td>1</td>\n      <td>Documentary,Short</td>\n      <td>5.6</td>\n      <td>1696.0</td>\n      <td>tt0000001</td>\n      <td>2.0</td>\n      <td>Carmencita</td>\n      <td>DE</td>\n      <td>\\N</td>\n      <td>\\N</td>\n      <td>literal title</td>\n      <td>0</td>\n    </tr>\n    <tr>\n      <th>2</th>\n      <td>tt0000001</td>\n      <td>short</td>\n      <td>Carmencita</td>\n      <td>Carmencita</td>\n      <td>0</td>\n      <td>1894</td>\n      <td>\\N</td>\n      <td>1</td>\n      <td>Documentary,Short</td>\n      <td>5.6</td>\n      <td>1696.0</td>\n      <td>tt0000001</td>\n      <td>3.0</td>\n      <td>Carmencita - spanyol tánc</td>\n      <td>HU</td>\n      <td>\\N</td>\n      <td>imdbDisplay</td>\n      <td>\\N</td>\n      <td>0</td>\n    </tr>\n    <tr>\n      <th>3</th>\n      <td>tt0000001</td>\n      <td>short</td>\n      <td>Carmencita</td>\n      <td>Carmencita</td>\n      <td>0</td>\n      <td>1894</td>\n      <td>\\N</td>\n      <td>1</td>\n      <td>Documentary,Short</td>\n      <td>5.6</td>\n      <td>1696.0</td>\n      <td>tt0000001</td>\n      <td>4.0</td>\n      <td>Καρμενσίτα</td>\n      <td>GR</td>\n      <td>\\N</td>\n      <td>imdbDisplay</td>\n      <td>\\N</td>\n      <td>0</td>\n    </tr>\n    <tr>\n      <th>4</th>\n      <td>tt0000001</td>\n      <td>short</td>\n      <td>Carmencita</td>\n      <td>Carmencita</td>\n      <td>0</td>\n      <td>1894</td>\n      <td>\\N</td>\n      <td>1</td>\n      <td>Documentary,Short</td>\n      <td>5.6</td>\n      <td>1696.0</td>\n      <td>tt0000001</td>\n      <td>5.0</td>\n      <td>Карменсита</td>\n      <td>RU</td>\n      <td>\\N</td>\n      <td>imdbDisplay</td>\n      <td>\\N</td>\n      <td>0</td>\n    </tr>\n  </tbody>\n</table>\n</div>"
     },
     "metadata": {},
     "execution_count": 12
    }
   ],
   "source": [
    "table_Film_Rating_title.head()"
   ]
  },
  {
   "cell_type": "code",
   "execution_count": 13,
   "metadata": {},
   "outputs": [
    {
     "output_type": "execute_result",
     "data": {
      "text/plain": [
       "             tconst  titleType  \\\n",
       "14056935  tt1713719  tvEpisode   \n",
       "18039531  tt3728336  tvEpisode   \n",
       "18039614  tt3728390  tvEpisode   \n",
       "18039613  tt3728390  tvEpisode   \n",
       "18039596  tt3728362  tvEpisode   \n",
       "...             ...        ...   \n",
       "548       tt0000113      short   \n",
       "547       tt0000113      short   \n",
       "546       tt0000113      short   \n",
       "1672087   tt0454640      short   \n",
       "549       tt0000113      short   \n",
       "\n",
       "                                               primaryTitle  \\\n",
       "14056935                    Episode dated 20 September 1990   \n",
       "18039531                                    Episode #18.157   \n",
       "18039614                                    Episode #1.2991   \n",
       "18039613                                    Episode #1.2991   \n",
       "18039596  Una tragedia fiorentina di Alexander von Zemli...   \n",
       "...                                                     ...   \n",
       "548                               Rip's Twenty Years' Sleep   \n",
       "547                               Rip's Twenty Years' Sleep   \n",
       "546                               Rip's Twenty Years' Sleep   \n",
       "1672087                                            The Talk   \n",
       "549                               Rip's Twenty Years' Sleep   \n",
       "\n",
       "                                              originalTitle isAdult startYear  \\\n",
       "14056935                    Episode dated 20 September 1990       0      1990   \n",
       "18039531                                    Episode #18.157       0      2014   \n",
       "18039614                                    Episode #1.2991       0      2005   \n",
       "18039613                                    Episode #1.2991       0      2005   \n",
       "18039596  Una tragedia fiorentina di Alexander von Zemli...       0      2014   \n",
       "...                                                     ...     ...       ...   \n",
       "548                               Rip's Twenty Years' Sleep       0      1896   \n",
       "547                               Rip's Twenty Years' Sleep       0      1896   \n",
       "546                               Rip's Twenty Years' Sleep       0      1896   \n",
       "1672087                                            The Talk       0      2003   \n",
       "549                               Rip's Twenty Years' Sleep       0      1896   \n",
       "\n",
       "         endYear runtimeMinutes             genres  averageRating  numVotes  \\\n",
       "14056935      \\N             \\N     News,Talk-Show            NaN       NaN   \n",
       "18039531      \\N             \\N          Talk-Show            NaN       NaN   \n",
       "18039614      \\N             \\N          Talk-Show            NaN       NaN   \n",
       "18039613      \\N             \\N          Talk-Show            NaN       NaN   \n",
       "18039596      \\N             \\N  Documentary,Music            NaN       NaN   \n",
       "...          ...            ...                ...            ...       ...   \n",
       "548           \\N              0        Drama,Short            4.4     469.0   \n",
       "547           \\N              0        Drama,Short            4.4     469.0   \n",
       "546           \\N              0        Drama,Short            4.4     469.0   \n",
       "1672087       \\N              0       Comedy,Short            8.0       9.0   \n",
       "549           \\N              0        Drama,Short            4.4     469.0   \n",
       "\n",
       "            titleId  ordering                                title region  \\\n",
       "14056935  tt1713719       6.0  Épisode datant du 20 septembre 1990     FR   \n",
       "18039531  tt3728336       2.0                        Folge #18.157     DE   \n",
       "18039614  tt3728390       2.0                     Episodio #1.2991     ES   \n",
       "18039613  tt3728390       1.0                       एपिसोड #1.2991     IN   \n",
       "18039596        NaN       NaN                                  NaN    NaN   \n",
       "...             ...       ...                                  ...    ...   \n",
       "548       tt0000113       3.0            Rip's Twenty Years' Sleep     DE   \n",
       "547       tt0000113       2.0            Rip's Twenty Years' Sleep     \\N   \n",
       "546       tt0000113       1.0                      20 лет сна Рипа     RU   \n",
       "1672087   tt0454640       1.0                             The Talk     US   \n",
       "549       tt0000113       4.0            Rip's Twenty Years' Sleep     US   \n",
       "\n",
       "         language        types attributes isOriginalTitle  \n",
       "14056935       fr           \\N         \\N               0  \n",
       "18039531       de           \\N         \\N               0  \n",
       "18039614       es           \\N         \\N               0  \n",
       "18039613       hi           \\N         \\N               0  \n",
       "18039596      NaN          NaN        NaN             NaN  \n",
       "...           ...          ...        ...             ...  \n",
       "548            \\N  imdbDisplay         \\N               0  \n",
       "547            \\N     original         \\N               1  \n",
       "546            \\N  imdbDisplay         \\N               0  \n",
       "1672087        \\N           \\N         \\N               0  \n",
       "549            \\N           \\N         \\N               0  \n",
       "\n",
       "[28113870 rows x 19 columns]"
      ],
      "text/html": "<div>\n<style scoped>\n    .dataframe tbody tr th:only-of-type {\n        vertical-align: middle;\n    }\n\n    .dataframe tbody tr th {\n        vertical-align: top;\n    }\n\n    .dataframe thead th {\n        text-align: right;\n    }\n</style>\n<table border=\"1\" class=\"dataframe\">\n  <thead>\n    <tr style=\"text-align: right;\">\n      <th></th>\n      <th>tconst</th>\n      <th>titleType</th>\n      <th>primaryTitle</th>\n      <th>originalTitle</th>\n      <th>isAdult</th>\n      <th>startYear</th>\n      <th>endYear</th>\n      <th>runtimeMinutes</th>\n      <th>genres</th>\n      <th>averageRating</th>\n      <th>numVotes</th>\n      <th>titleId</th>\n      <th>ordering</th>\n      <th>title</th>\n      <th>region</th>\n      <th>language</th>\n      <th>types</th>\n      <th>attributes</th>\n      <th>isOriginalTitle</th>\n    </tr>\n  </thead>\n  <tbody>\n    <tr>\n      <th>14056935</th>\n      <td>tt1713719</td>\n      <td>tvEpisode</td>\n      <td>Episode dated 20 September 1990</td>\n      <td>Episode dated 20 September 1990</td>\n      <td>0</td>\n      <td>1990</td>\n      <td>\\N</td>\n      <td>\\N</td>\n      <td>News,Talk-Show</td>\n      <td>NaN</td>\n      <td>NaN</td>\n      <td>tt1713719</td>\n      <td>6.0</td>\n      <td>Épisode datant du 20 septembre 1990</td>\n      <td>FR</td>\n      <td>fr</td>\n      <td>\\N</td>\n      <td>\\N</td>\n      <td>0</td>\n    </tr>\n    <tr>\n      <th>18039531</th>\n      <td>tt3728336</td>\n      <td>tvEpisode</td>\n      <td>Episode #18.157</td>\n      <td>Episode #18.157</td>\n      <td>0</td>\n      <td>2014</td>\n      <td>\\N</td>\n      <td>\\N</td>\n      <td>Talk-Show</td>\n      <td>NaN</td>\n      <td>NaN</td>\n      <td>tt3728336</td>\n      <td>2.0</td>\n      <td>Folge #18.157</td>\n      <td>DE</td>\n      <td>de</td>\n      <td>\\N</td>\n      <td>\\N</td>\n      <td>0</td>\n    </tr>\n    <tr>\n      <th>18039614</th>\n      <td>tt3728390</td>\n      <td>tvEpisode</td>\n      <td>Episode #1.2991</td>\n      <td>Episode #1.2991</td>\n      <td>0</td>\n      <td>2005</td>\n      <td>\\N</td>\n      <td>\\N</td>\n      <td>Talk-Show</td>\n      <td>NaN</td>\n      <td>NaN</td>\n      <td>tt3728390</td>\n      <td>2.0</td>\n      <td>Episodio #1.2991</td>\n      <td>ES</td>\n      <td>es</td>\n      <td>\\N</td>\n      <td>\\N</td>\n      <td>0</td>\n    </tr>\n    <tr>\n      <th>18039613</th>\n      <td>tt3728390</td>\n      <td>tvEpisode</td>\n      <td>Episode #1.2991</td>\n      <td>Episode #1.2991</td>\n      <td>0</td>\n      <td>2005</td>\n      <td>\\N</td>\n      <td>\\N</td>\n      <td>Talk-Show</td>\n      <td>NaN</td>\n      <td>NaN</td>\n      <td>tt3728390</td>\n      <td>1.0</td>\n      <td>एपिसोड #1.2991</td>\n      <td>IN</td>\n      <td>hi</td>\n      <td>\\N</td>\n      <td>\\N</td>\n      <td>0</td>\n    </tr>\n    <tr>\n      <th>18039596</th>\n      <td>tt3728362</td>\n      <td>tvEpisode</td>\n      <td>Una tragedia fiorentina di Alexander von Zemli...</td>\n      <td>Una tragedia fiorentina di Alexander von Zemli...</td>\n      <td>0</td>\n      <td>2014</td>\n      <td>\\N</td>\n      <td>\\N</td>\n      <td>Documentary,Music</td>\n      <td>NaN</td>\n      <td>NaN</td>\n      <td>NaN</td>\n      <td>NaN</td>\n      <td>NaN</td>\n      <td>NaN</td>\n      <td>NaN</td>\n      <td>NaN</td>\n      <td>NaN</td>\n      <td>NaN</td>\n    </tr>\n    <tr>\n      <th>...</th>\n      <td>...</td>\n      <td>...</td>\n      <td>...</td>\n      <td>...</td>\n      <td>...</td>\n      <td>...</td>\n      <td>...</td>\n      <td>...</td>\n      <td>...</td>\n      <td>...</td>\n      <td>...</td>\n      <td>...</td>\n      <td>...</td>\n      <td>...</td>\n      <td>...</td>\n      <td>...</td>\n      <td>...</td>\n      <td>...</td>\n      <td>...</td>\n    </tr>\n    <tr>\n      <th>548</th>\n      <td>tt0000113</td>\n      <td>short</td>\n      <td>Rip's Twenty Years' Sleep</td>\n      <td>Rip's Twenty Years' Sleep</td>\n      <td>0</td>\n      <td>1896</td>\n      <td>\\N</td>\n      <td>0</td>\n      <td>Drama,Short</td>\n      <td>4.4</td>\n      <td>469.0</td>\n      <td>tt0000113</td>\n      <td>3.0</td>\n      <td>Rip's Twenty Years' Sleep</td>\n      <td>DE</td>\n      <td>\\N</td>\n      <td>imdbDisplay</td>\n      <td>\\N</td>\n      <td>0</td>\n    </tr>\n    <tr>\n      <th>547</th>\n      <td>tt0000113</td>\n      <td>short</td>\n      <td>Rip's Twenty Years' Sleep</td>\n      <td>Rip's Twenty Years' Sleep</td>\n      <td>0</td>\n      <td>1896</td>\n      <td>\\N</td>\n      <td>0</td>\n      <td>Drama,Short</td>\n      <td>4.4</td>\n      <td>469.0</td>\n      <td>tt0000113</td>\n      <td>2.0</td>\n      <td>Rip's Twenty Years' Sleep</td>\n      <td>\\N</td>\n      <td>\\N</td>\n      <td>original</td>\n      <td>\\N</td>\n      <td>1</td>\n    </tr>\n    <tr>\n      <th>546</th>\n      <td>tt0000113</td>\n      <td>short</td>\n      <td>Rip's Twenty Years' Sleep</td>\n      <td>Rip's Twenty Years' Sleep</td>\n      <td>0</td>\n      <td>1896</td>\n      <td>\\N</td>\n      <td>0</td>\n      <td>Drama,Short</td>\n      <td>4.4</td>\n      <td>469.0</td>\n      <td>tt0000113</td>\n      <td>1.0</td>\n      <td>20 лет сна Рипа</td>\n      <td>RU</td>\n      <td>\\N</td>\n      <td>imdbDisplay</td>\n      <td>\\N</td>\n      <td>0</td>\n    </tr>\n    <tr>\n      <th>1672087</th>\n      <td>tt0454640</td>\n      <td>short</td>\n      <td>The Talk</td>\n      <td>The Talk</td>\n      <td>0</td>\n      <td>2003</td>\n      <td>\\N</td>\n      <td>0</td>\n      <td>Comedy,Short</td>\n      <td>8.0</td>\n      <td>9.0</td>\n      <td>tt0454640</td>\n      <td>1.0</td>\n      <td>The Talk</td>\n      <td>US</td>\n      <td>\\N</td>\n      <td>\\N</td>\n      <td>\\N</td>\n      <td>0</td>\n    </tr>\n    <tr>\n      <th>549</th>\n      <td>tt0000113</td>\n      <td>short</td>\n      <td>Rip's Twenty Years' Sleep</td>\n      <td>Rip's Twenty Years' Sleep</td>\n      <td>0</td>\n      <td>1896</td>\n      <td>\\N</td>\n      <td>0</td>\n      <td>Drama,Short</td>\n      <td>4.4</td>\n      <td>469.0</td>\n      <td>tt0000113</td>\n      <td>4.0</td>\n      <td>Rip's Twenty Years' Sleep</td>\n      <td>US</td>\n      <td>\\N</td>\n      <td>\\N</td>\n      <td>\\N</td>\n      <td>0</td>\n    </tr>\n  </tbody>\n</table>\n<p>28113870 rows × 19 columns</p>\n</div>"
     },
     "metadata": {},
     "execution_count": 13
    }
   ],
   "source": [
    "\n",
    "table_Film_Rating_title.sort_values(by='runtimeMinutes', ascending=False)"
   ]
  },
  {
   "source": [
    "# j'esseye de répondre aux questions:\n",
    "# - quels sont les pays qui produisent le plus de films ? \n",
    "# -Quels sont les acteurs les plus présents ? A quelle période ? \n",
    "# -La durée moyenne des films s’allonge ou se raccourcit avec les années ? \n",
    "# -Les ateurs de série sont-ils les mêmes qu’au cinéma ? \n",
    "# -Les ateurs ont en moyenne quel âge ? \n",
    "# -Quels sont les films les mieux notés ? Partagent-ils des caractéristiques communes ? Etc…) "
   ],
   "cell_type": "markdown",
   "metadata": {}
  },
  {
   "source": [
    "# - quels sont les pays qui produisent le plus de films ? \n"
   ],
   "cell_type": "markdown",
   "metadata": {}
  },
  {
   "cell_type": "code",
   "execution_count": 14,
   "metadata": {},
   "outputs": [
    {
     "output_type": "execute_result",
     "data": {
      "text/plain": [
       "Text(0.5, 0, 'Total Number of Different Films Shown in Cinemas')"
      ]
     },
     "metadata": {},
     "execution_count": 14
    },
    {
     "output_type": "display_data",
     "data": {
      "text/plain": "<Figure size 864x396 with 1 Axes>",
      "image/svg+xml": "<?xml version=\"1.0\" encoding=\"utf-8\" standalone=\"no\"?>\r\n<!DOCTYPE svg PUBLIC \"-//W3C//DTD SVG 1.1//EN\"\r\n  \"http://www.w3.org/Graphics/SVG/1.1/DTD/svg11.dtd\">\r\n<svg height=\"343.73625pt\" version=\"1.1\" viewBox=\"0 0 706.478125 343.73625\" width=\"706.478125pt\" xmlns=\"http://www.w3.org/2000/svg\" xmlns:xlink=\"http://www.w3.org/1999/xlink\">\r\n <metadata>\r\n  <rdf:RDF xmlns:cc=\"http://creativecommons.org/ns#\" xmlns:dc=\"http://purl.org/dc/elements/1.1/\" xmlns:rdf=\"http://www.w3.org/1999/02/22-rdf-syntax-ns#\">\r\n   <cc:Work>\r\n    <dc:type rdf:resource=\"http://purl.org/dc/dcmitype/StillImage\"/>\r\n    <dc:date>2021-04-29T09:06:27.543989</dc:date>\r\n    <dc:format>image/svg+xml</dc:format>\r\n    <dc:creator>\r\n     <cc:Agent>\r\n      <dc:title>Matplotlib v3.4.1, https://matplotlib.org/</dc:title>\r\n     </cc:Agent>\r\n    </dc:creator>\r\n   </cc:Work>\r\n  </rdf:RDF>\r\n </metadata>\r\n <defs>\r\n  <style type=\"text/css\">*{stroke-linecap:butt;stroke-linejoin:round;}</style>\r\n </defs>\r\n <g id=\"figure_1\">\r\n  <g id=\"patch_1\">\r\n   <path d=\"M 0 343.73625 \r\nL 706.478125 343.73625 \r\nL 706.478125 0 \r\nL 0 0 \r\nz\r\n\" style=\"fill:none;\"/>\r\n  </g>\r\n  <g id=\"axes_1\">\r\n   <g id=\"patch_2\">\r\n    <path d=\"M 29.678125 306.18 \r\nL 699.278125 306.18 \r\nL 699.278125 7.2 \r\nL 29.678125 7.2 \r\nz\r\n\" style=\"fill:#ffffff;\"/>\r\n   </g>\r\n   <g id=\"patch_3\">\r\n    <path clip-path=\"url(#p4ecf597d19)\" d=\"M 29.678125 8.6949 \r\nL 667.392411 8.6949 \r\nL 667.392411 20.6541 \r\nL 29.678125 20.6541 \r\nz\r\n\" style=\"fill:#ea96a3;\"/>\r\n   </g>\r\n   <g id=\"patch_4\">\r\n    <path clip-path=\"url(#p4ecf597d19)\" d=\"M 29.678125 23.6439 \r\nL 665.685902 23.6439 \r\nL 665.685902 35.6031 \r\nL 29.678125 35.6031 \r\nz\r\n\" style=\"fill:#e79683;\"/>\r\n   </g>\r\n   <g id=\"patch_5\">\r\n    <path clip-path=\"url(#p4ecf597d19)\" d=\"M 29.678125 38.5929 \r\nL 658.484332 38.5929 \r\nL 658.484332 50.5521 \r\nL 29.678125 50.5521 \r\nz\r\n\" style=\"fill:#d7944e;\"/>\r\n   </g>\r\n   <g id=\"patch_6\">\r\n    <path clip-path=\"url(#p4ecf597d19)\" d=\"M 29.678125 53.5419 \r\nL 653.139645 53.5419 \r\nL 653.139645 65.5011 \r\nL 29.678125 65.5011 \r\nz\r\n\" style=\"fill:#bf9a4a;\"/>\r\n   </g>\r\n   <g id=\"patch_7\">\r\n    <path clip-path=\"url(#p4ecf597d19)\" d=\"M 29.678125 68.4909 \r\nL 649.864004 68.4909 \r\nL 649.864004 80.4501 \r\nL 29.678125 80.4501 \r\nz\r\n\" style=\"fill:#ab9e47;\"/>\r\n   </g>\r\n   <g id=\"patch_8\">\r\n    <path clip-path=\"url(#p4ecf597d19)\" d=\"M 29.678125 83.4399 \r\nL 649.24591 83.4399 \r\nL 649.24591 95.3991 \r\nL 29.678125 95.3991 \r\nz\r\n\" style=\"fill:#98a246;\"/>\r\n   </g>\r\n   <g id=\"patch_9\">\r\n    <path clip-path=\"url(#p4ecf597d19)\" d=\"M 29.678125 98.3889 \r\nL 638.726107 98.3889 \r\nL 638.726107 110.3481 \r\nL 29.678125 110.3481 \r\nz\r\n\" style=\"fill:#7fa946;\"/>\r\n   </g>\r\n   <g id=\"patch_10\">\r\n    <path clip-path=\"url(#p4ecf597d19)\" d=\"M 29.678125 113.3379 \r\nL 266.184932 113.3379 \r\nL 266.184932 125.2971 \r\nL 29.678125 125.2971 \r\nz\r\n\" style=\"fill:#48b052;\"/>\r\n   </g>\r\n   <g id=\"patch_11\">\r\n    <path clip-path=\"url(#p4ecf597d19)\" d=\"M 29.678125 128.2869 \r\nL 152.985865 128.2869 \r\nL 152.985865 140.2461 \r\nL 29.678125 140.2461 \r\nz\r\n\" style=\"fill:#49ae83;\"/>\r\n   </g>\r\n   <g id=\"patch_12\">\r\n    <path clip-path=\"url(#p4ecf597d19)\" d=\"M 29.678125 143.2359 \r\nL 93.807372 143.2359 \r\nL 93.807372 155.1951 \r\nL 29.678125 155.1951 \r\nz\r\n\" style=\"fill:#4aad96;\"/>\r\n   </g>\r\n   <g id=\"patch_13\">\r\n    <path clip-path=\"url(#p4ecf597d19)\" d=\"M 29.678125 158.1849 \r\nL 63.885683 158.1849 \r\nL 63.885683 170.1441 \r\nL 29.678125 170.1441 \r\nz\r\n\" style=\"fill:#4baba4;\"/>\r\n   </g>\r\n   <g id=\"patch_14\">\r\n    <path clip-path=\"url(#p4ecf597d19)\" d=\"M 29.678125 173.1339 \r\nL 49.08641 173.1339 \r\nL 49.08641 185.0931 \r\nL 29.678125 185.0931 \r\nz\r\n\" style=\"fill:#4dabb2;\"/>\r\n   </g>\r\n   <g id=\"patch_15\">\r\n    <path clip-path=\"url(#p4ecf597d19)\" d=\"M 29.678125 188.0829 \r\nL 48.960032 188.0829 \r\nL 48.960032 200.0421 \r\nL 29.678125 200.0421 \r\nz\r\n\" style=\"fill:#50acc3;\"/>\r\n   </g>\r\n   <g id=\"patch_16\">\r\n    <path clip-path=\"url(#p4ecf597d19)\" d=\"M 29.678125 203.0319 \r\nL 46.107119 203.0319 \r\nL 46.107119 214.9911 \r\nL 29.678125 214.9911 \r\nz\r\n\" style=\"fill:#56addb;\"/>\r\n   </g>\r\n   <g id=\"patch_17\">\r\n    <path clip-path=\"url(#p4ecf597d19)\" d=\"M 29.678125 217.9809 \r\nL 45.970143 217.9809 \r\nL 45.970143 229.9401 \r\nL 29.678125 229.9401 \r\nz\r\n\" style=\"fill:#94aee8;\"/>\r\n   </g>\r\n   <g id=\"patch_18\">\r\n    <path clip-path=\"url(#p4ecf597d19)\" d=\"M 29.678125 232.9299 \r\nL 45.6338 232.9299 \r\nL 45.6338 244.8891 \r\nL 29.678125 244.8891 \r\nz\r\n\" style=\"fill:#b6a8eb;\"/>\r\n   </g>\r\n   <g id=\"patch_19\">\r\n    <path clip-path=\"url(#p4ecf597d19)\" d=\"M 29.678125 247.8789 \r\nL 44.81194 247.8789 \r\nL 44.81194 259.8381 \r\nL 29.678125 259.8381 \r\nz\r\n\" style=\"fill:#ce9be9;\"/>\r\n   </g>\r\n   <g id=\"patch_20\">\r\n    <path clip-path=\"url(#p4ecf597d19)\" d=\"M 29.678125 262.8279 \r\nL 43.077836 262.8279 \r\nL 43.077836 274.7871 \r\nL 29.678125 274.7871 \r\nz\r\n\" style=\"fill:#e689e4;\"/>\r\n   </g>\r\n   <g id=\"patch_21\">\r\n    <path clip-path=\"url(#p4ecf597d19)\" d=\"M 29.678125 277.7769 \r\nL 43.050041 277.7769 \r\nL 43.050041 289.7361 \r\nL 29.678125 289.7361 \r\nz\r\n\" style=\"fill:#e88fcc;\"/>\r\n   </g>\r\n   <g id=\"patch_22\">\r\n    <path clip-path=\"url(#p4ecf597d19)\" d=\"M 29.678125 292.7259 \r\nL 40.864215 292.7259 \r\nL 40.864215 304.6851 \r\nL 29.678125 304.6851 \r\nz\r\n\" style=\"fill:#e993b9;\"/>\r\n   </g>\r\n   <g id=\"matplotlib.axis_1\">\r\n    <g id=\"xtick_1\">\r\n     <g id=\"line2d_1\">\r\n      <defs>\r\n       <path d=\"M 0 0 \r\nL 0 3.5 \r\n\" id=\"m7be6f8884f\" style=\"stroke:#000000;stroke-width:0.8;\"/>\r\n      </defs>\r\n      <g>\r\n       <use style=\"stroke:#000000;stroke-width:0.8;\" x=\"29.678125\" xlink:href=\"#m7be6f8884f\" y=\"306.18\"/>\r\n      </g>\r\n     </g>\r\n     <g id=\"text_1\">\r\n      <!-- 0.0 -->\r\n      <g transform=\"translate(21.726563 320.778437)scale(0.1 -0.1)\">\r\n       <defs>\r\n        <path d=\"M 2034 4250 \r\nQ 1547 4250 1301 3770 \r\nQ 1056 3291 1056 2328 \r\nQ 1056 1369 1301 889 \r\nQ 1547 409 2034 409 \r\nQ 2525 409 2770 889 \r\nQ 3016 1369 3016 2328 \r\nQ 3016 3291 2770 3770 \r\nQ 2525 4250 2034 4250 \r\nz\r\nM 2034 4750 \r\nQ 2819 4750 3233 4129 \r\nQ 3647 3509 3647 2328 \r\nQ 3647 1150 3233 529 \r\nQ 2819 -91 2034 -91 \r\nQ 1250 -91 836 529 \r\nQ 422 1150 422 2328 \r\nQ 422 3509 836 4129 \r\nQ 1250 4750 2034 4750 \r\nz\r\n\" id=\"DejaVuSans-30\" transform=\"scale(0.015625)\"/>\r\n        <path d=\"M 684 794 \r\nL 1344 794 \r\nL 1344 0 \r\nL 684 0 \r\nL 684 794 \r\nz\r\n\" id=\"DejaVuSans-2e\" transform=\"scale(0.015625)\"/>\r\n       </defs>\r\n       <use xlink:href=\"#DejaVuSans-30\"/>\r\n       <use x=\"63.623047\" xlink:href=\"#DejaVuSans-2e\"/>\r\n       <use x=\"95.410156\" xlink:href=\"#DejaVuSans-30\"/>\r\n      </g>\r\n     </g>\r\n    </g>\r\n    <g id=\"xtick_2\">\r\n     <g id=\"line2d_2\">\r\n      <g>\r\n       <use style=\"stroke:#000000;stroke-width:0.8;\" x=\"129.661049\" xlink:href=\"#m7be6f8884f\" y=\"306.18\"/>\r\n      </g>\r\n     </g>\r\n     <g id=\"text_2\">\r\n      <!-- 0.5 -->\r\n      <g transform=\"translate(121.709487 320.778437)scale(0.1 -0.1)\">\r\n       <defs>\r\n        <path d=\"M 691 4666 \r\nL 3169 4666 \r\nL 3169 4134 \r\nL 1269 4134 \r\nL 1269 2991 \r\nQ 1406 3038 1543 3061 \r\nQ 1681 3084 1819 3084 \r\nQ 2600 3084 3056 2656 \r\nQ 3513 2228 3513 1497 \r\nQ 3513 744 3044 326 \r\nQ 2575 -91 1722 -91 \r\nQ 1428 -91 1123 -41 \r\nQ 819 9 494 109 \r\nL 494 744 \r\nQ 775 591 1075 516 \r\nQ 1375 441 1709 441 \r\nQ 2250 441 2565 725 \r\nQ 2881 1009 2881 1497 \r\nQ 2881 1984 2565 2268 \r\nQ 2250 2553 1709 2553 \r\nQ 1456 2553 1204 2497 \r\nQ 953 2441 691 2322 \r\nL 691 4666 \r\nz\r\n\" id=\"DejaVuSans-35\" transform=\"scale(0.015625)\"/>\r\n       </defs>\r\n       <use xlink:href=\"#DejaVuSans-30\"/>\r\n       <use x=\"63.623047\" xlink:href=\"#DejaVuSans-2e\"/>\r\n       <use x=\"95.410156\" xlink:href=\"#DejaVuSans-35\"/>\r\n      </g>\r\n     </g>\r\n    </g>\r\n    <g id=\"xtick_3\">\r\n     <g id=\"line2d_3\">\r\n      <g>\r\n       <use style=\"stroke:#000000;stroke-width:0.8;\" x=\"229.643973\" xlink:href=\"#m7be6f8884f\" y=\"306.18\"/>\r\n      </g>\r\n     </g>\r\n     <g id=\"text_3\">\r\n      <!-- 1.0 -->\r\n      <g transform=\"translate(221.692411 320.778437)scale(0.1 -0.1)\">\r\n       <defs>\r\n        <path d=\"M 794 531 \r\nL 1825 531 \r\nL 1825 4091 \r\nL 703 3866 \r\nL 703 4441 \r\nL 1819 4666 \r\nL 2450 4666 \r\nL 2450 531 \r\nL 3481 531 \r\nL 3481 0 \r\nL 794 0 \r\nL 794 531 \r\nz\r\n\" id=\"DejaVuSans-31\" transform=\"scale(0.015625)\"/>\r\n       </defs>\r\n       <use xlink:href=\"#DejaVuSans-31\"/>\r\n       <use x=\"63.623047\" xlink:href=\"#DejaVuSans-2e\"/>\r\n       <use x=\"95.410156\" xlink:href=\"#DejaVuSans-30\"/>\r\n      </g>\r\n     </g>\r\n    </g>\r\n    <g id=\"xtick_4\">\r\n     <g id=\"line2d_4\">\r\n      <g>\r\n       <use style=\"stroke:#000000;stroke-width:0.8;\" x=\"329.626897\" xlink:href=\"#m7be6f8884f\" y=\"306.18\"/>\r\n      </g>\r\n     </g>\r\n     <g id=\"text_4\">\r\n      <!-- 1.5 -->\r\n      <g transform=\"translate(321.675335 320.778437)scale(0.1 -0.1)\">\r\n       <use xlink:href=\"#DejaVuSans-31\"/>\r\n       <use x=\"63.623047\" xlink:href=\"#DejaVuSans-2e\"/>\r\n       <use x=\"95.410156\" xlink:href=\"#DejaVuSans-35\"/>\r\n      </g>\r\n     </g>\r\n    </g>\r\n    <g id=\"xtick_5\">\r\n     <g id=\"line2d_5\">\r\n      <g>\r\n       <use style=\"stroke:#000000;stroke-width:0.8;\" x=\"429.609821\" xlink:href=\"#m7be6f8884f\" y=\"306.18\"/>\r\n      </g>\r\n     </g>\r\n     <g id=\"text_5\">\r\n      <!-- 2.0 -->\r\n      <g transform=\"translate(421.658259 320.778437)scale(0.1 -0.1)\">\r\n       <defs>\r\n        <path d=\"M 1228 531 \r\nL 3431 531 \r\nL 3431 0 \r\nL 469 0 \r\nL 469 531 \r\nQ 828 903 1448 1529 \r\nQ 2069 2156 2228 2338 \r\nQ 2531 2678 2651 2914 \r\nQ 2772 3150 2772 3378 \r\nQ 2772 3750 2511 3984 \r\nQ 2250 4219 1831 4219 \r\nQ 1534 4219 1204 4116 \r\nQ 875 4013 500 3803 \r\nL 500 4441 \r\nQ 881 4594 1212 4672 \r\nQ 1544 4750 1819 4750 \r\nQ 2544 4750 2975 4387 \r\nQ 3406 4025 3406 3419 \r\nQ 3406 3131 3298 2873 \r\nQ 3191 2616 2906 2266 \r\nQ 2828 2175 2409 1742 \r\nQ 1991 1309 1228 531 \r\nz\r\n\" id=\"DejaVuSans-32\" transform=\"scale(0.015625)\"/>\r\n       </defs>\r\n       <use xlink:href=\"#DejaVuSans-32\"/>\r\n       <use x=\"63.623047\" xlink:href=\"#DejaVuSans-2e\"/>\r\n       <use x=\"95.410156\" xlink:href=\"#DejaVuSans-30\"/>\r\n      </g>\r\n     </g>\r\n    </g>\r\n    <g id=\"xtick_6\">\r\n     <g id=\"line2d_6\">\r\n      <g>\r\n       <use style=\"stroke:#000000;stroke-width:0.8;\" x=\"529.592745\" xlink:href=\"#m7be6f8884f\" y=\"306.18\"/>\r\n      </g>\r\n     </g>\r\n     <g id=\"text_6\">\r\n      <!-- 2.5 -->\r\n      <g transform=\"translate(521.641183 320.778437)scale(0.1 -0.1)\">\r\n       <use xlink:href=\"#DejaVuSans-32\"/>\r\n       <use x=\"63.623047\" xlink:href=\"#DejaVuSans-2e\"/>\r\n       <use x=\"95.410156\" xlink:href=\"#DejaVuSans-35\"/>\r\n      </g>\r\n     </g>\r\n    </g>\r\n    <g id=\"xtick_7\">\r\n     <g id=\"line2d_7\">\r\n      <g>\r\n       <use style=\"stroke:#000000;stroke-width:0.8;\" x=\"629.575669\" xlink:href=\"#m7be6f8884f\" y=\"306.18\"/>\r\n      </g>\r\n     </g>\r\n     <g id=\"text_7\">\r\n      <!-- 3.0 -->\r\n      <g transform=\"translate(621.624107 320.778437)scale(0.1 -0.1)\">\r\n       <defs>\r\n        <path d=\"M 2597 2516 \r\nQ 3050 2419 3304 2112 \r\nQ 3559 1806 3559 1356 \r\nQ 3559 666 3084 287 \r\nQ 2609 -91 1734 -91 \r\nQ 1441 -91 1130 -33 \r\nQ 819 25 488 141 \r\nL 488 750 \r\nQ 750 597 1062 519 \r\nQ 1375 441 1716 441 \r\nQ 2309 441 2620 675 \r\nQ 2931 909 2931 1356 \r\nQ 2931 1769 2642 2001 \r\nQ 2353 2234 1838 2234 \r\nL 1294 2234 \r\nL 1294 2753 \r\nL 1863 2753 \r\nQ 2328 2753 2575 2939 \r\nQ 2822 3125 2822 3475 \r\nQ 2822 3834 2567 4026 \r\nQ 2313 4219 1838 4219 \r\nQ 1578 4219 1281 4162 \r\nQ 984 4106 628 3988 \r\nL 628 4550 \r\nQ 988 4650 1302 4700 \r\nQ 1616 4750 1894 4750 \r\nQ 2613 4750 3031 4423 \r\nQ 3450 4097 3450 3541 \r\nQ 3450 3153 3228 2886 \r\nQ 3006 2619 2597 2516 \r\nz\r\n\" id=\"DejaVuSans-33\" transform=\"scale(0.015625)\"/>\r\n       </defs>\r\n       <use xlink:href=\"#DejaVuSans-33\"/>\r\n       <use x=\"63.623047\" xlink:href=\"#DejaVuSans-2e\"/>\r\n       <use x=\"95.410156\" xlink:href=\"#DejaVuSans-30\"/>\r\n      </g>\r\n     </g>\r\n    </g>\r\n    <g id=\"text_8\">\r\n     <!-- Total Number of Different Films Shown in Cinemas -->\r\n     <g transform=\"translate(239.139063 334.456562)scale(0.1 -0.1)\">\r\n      <defs>\r\n       <path d=\"M -19 4666 \r\nL 3928 4666 \r\nL 3928 4134 \r\nL 2272 4134 \r\nL 2272 0 \r\nL 1638 0 \r\nL 1638 4134 \r\nL -19 4134 \r\nL -19 4666 \r\nz\r\n\" id=\"DejaVuSans-54\" transform=\"scale(0.015625)\"/>\r\n       <path d=\"M 1959 3097 \r\nQ 1497 3097 1228 2736 \r\nQ 959 2375 959 1747 \r\nQ 959 1119 1226 758 \r\nQ 1494 397 1959 397 \r\nQ 2419 397 2687 759 \r\nQ 2956 1122 2956 1747 \r\nQ 2956 2369 2687 2733 \r\nQ 2419 3097 1959 3097 \r\nz\r\nM 1959 3584 \r\nQ 2709 3584 3137 3096 \r\nQ 3566 2609 3566 1747 \r\nQ 3566 888 3137 398 \r\nQ 2709 -91 1959 -91 \r\nQ 1206 -91 779 398 \r\nQ 353 888 353 1747 \r\nQ 353 2609 779 3096 \r\nQ 1206 3584 1959 3584 \r\nz\r\n\" id=\"DejaVuSans-6f\" transform=\"scale(0.015625)\"/>\r\n       <path d=\"M 1172 4494 \r\nL 1172 3500 \r\nL 2356 3500 \r\nL 2356 3053 \r\nL 1172 3053 \r\nL 1172 1153 \r\nQ 1172 725 1289 603 \r\nQ 1406 481 1766 481 \r\nL 2356 481 \r\nL 2356 0 \r\nL 1766 0 \r\nQ 1100 0 847 248 \r\nQ 594 497 594 1153 \r\nL 594 3053 \r\nL 172 3053 \r\nL 172 3500 \r\nL 594 3500 \r\nL 594 4494 \r\nL 1172 4494 \r\nz\r\n\" id=\"DejaVuSans-74\" transform=\"scale(0.015625)\"/>\r\n       <path d=\"M 2194 1759 \r\nQ 1497 1759 1228 1600 \r\nQ 959 1441 959 1056 \r\nQ 959 750 1161 570 \r\nQ 1363 391 1709 391 \r\nQ 2188 391 2477 730 \r\nQ 2766 1069 2766 1631 \r\nL 2766 1759 \r\nL 2194 1759 \r\nz\r\nM 3341 1997 \r\nL 3341 0 \r\nL 2766 0 \r\nL 2766 531 \r\nQ 2569 213 2275 61 \r\nQ 1981 -91 1556 -91 \r\nQ 1019 -91 701 211 \r\nQ 384 513 384 1019 \r\nQ 384 1609 779 1909 \r\nQ 1175 2209 1959 2209 \r\nL 2766 2209 \r\nL 2766 2266 \r\nQ 2766 2663 2505 2880 \r\nQ 2244 3097 1772 3097 \r\nQ 1472 3097 1187 3025 \r\nQ 903 2953 641 2809 \r\nL 641 3341 \r\nQ 956 3463 1253 3523 \r\nQ 1550 3584 1831 3584 \r\nQ 2591 3584 2966 3190 \r\nQ 3341 2797 3341 1997 \r\nz\r\n\" id=\"DejaVuSans-61\" transform=\"scale(0.015625)\"/>\r\n       <path d=\"M 603 4863 \r\nL 1178 4863 \r\nL 1178 0 \r\nL 603 0 \r\nL 603 4863 \r\nz\r\n\" id=\"DejaVuSans-6c\" transform=\"scale(0.015625)\"/>\r\n       <path id=\"DejaVuSans-20\" transform=\"scale(0.015625)\"/>\r\n       <path d=\"M 628 4666 \r\nL 1478 4666 \r\nL 3547 763 \r\nL 3547 4666 \r\nL 4159 4666 \r\nL 4159 0 \r\nL 3309 0 \r\nL 1241 3903 \r\nL 1241 0 \r\nL 628 0 \r\nL 628 4666 \r\nz\r\n\" id=\"DejaVuSans-4e\" transform=\"scale(0.015625)\"/>\r\n       <path d=\"M 544 1381 \r\nL 544 3500 \r\nL 1119 3500 \r\nL 1119 1403 \r\nQ 1119 906 1312 657 \r\nQ 1506 409 1894 409 \r\nQ 2359 409 2629 706 \r\nQ 2900 1003 2900 1516 \r\nL 2900 3500 \r\nL 3475 3500 \r\nL 3475 0 \r\nL 2900 0 \r\nL 2900 538 \r\nQ 2691 219 2414 64 \r\nQ 2138 -91 1772 -91 \r\nQ 1169 -91 856 284 \r\nQ 544 659 544 1381 \r\nz\r\nM 1991 3584 \r\nL 1991 3584 \r\nz\r\n\" id=\"DejaVuSans-75\" transform=\"scale(0.015625)\"/>\r\n       <path d=\"M 3328 2828 \r\nQ 3544 3216 3844 3400 \r\nQ 4144 3584 4550 3584 \r\nQ 5097 3584 5394 3201 \r\nQ 5691 2819 5691 2113 \r\nL 5691 0 \r\nL 5113 0 \r\nL 5113 2094 \r\nQ 5113 2597 4934 2840 \r\nQ 4756 3084 4391 3084 \r\nQ 3944 3084 3684 2787 \r\nQ 3425 2491 3425 1978 \r\nL 3425 0 \r\nL 2847 0 \r\nL 2847 2094 \r\nQ 2847 2600 2669 2842 \r\nQ 2491 3084 2119 3084 \r\nQ 1678 3084 1418 2786 \r\nQ 1159 2488 1159 1978 \r\nL 1159 0 \r\nL 581 0 \r\nL 581 3500 \r\nL 1159 3500 \r\nL 1159 2956 \r\nQ 1356 3278 1631 3431 \r\nQ 1906 3584 2284 3584 \r\nQ 2666 3584 2933 3390 \r\nQ 3200 3197 3328 2828 \r\nz\r\n\" id=\"DejaVuSans-6d\" transform=\"scale(0.015625)\"/>\r\n       <path d=\"M 3116 1747 \r\nQ 3116 2381 2855 2742 \r\nQ 2594 3103 2138 3103 \r\nQ 1681 3103 1420 2742 \r\nQ 1159 2381 1159 1747 \r\nQ 1159 1113 1420 752 \r\nQ 1681 391 2138 391 \r\nQ 2594 391 2855 752 \r\nQ 3116 1113 3116 1747 \r\nz\r\nM 1159 2969 \r\nQ 1341 3281 1617 3432 \r\nQ 1894 3584 2278 3584 \r\nQ 2916 3584 3314 3078 \r\nQ 3713 2572 3713 1747 \r\nQ 3713 922 3314 415 \r\nQ 2916 -91 2278 -91 \r\nQ 1894 -91 1617 61 \r\nQ 1341 213 1159 525 \r\nL 1159 0 \r\nL 581 0 \r\nL 581 4863 \r\nL 1159 4863 \r\nL 1159 2969 \r\nz\r\n\" id=\"DejaVuSans-62\" transform=\"scale(0.015625)\"/>\r\n       <path d=\"M 3597 1894 \r\nL 3597 1613 \r\nL 953 1613 \r\nQ 991 1019 1311 708 \r\nQ 1631 397 2203 397 \r\nQ 2534 397 2845 478 \r\nQ 3156 559 3463 722 \r\nL 3463 178 \r\nQ 3153 47 2828 -22 \r\nQ 2503 -91 2169 -91 \r\nQ 1331 -91 842 396 \r\nQ 353 884 353 1716 \r\nQ 353 2575 817 3079 \r\nQ 1281 3584 2069 3584 \r\nQ 2775 3584 3186 3129 \r\nQ 3597 2675 3597 1894 \r\nz\r\nM 3022 2063 \r\nQ 3016 2534 2758 2815 \r\nQ 2500 3097 2075 3097 \r\nQ 1594 3097 1305 2825 \r\nQ 1016 2553 972 2059 \r\nL 3022 2063 \r\nz\r\n\" id=\"DejaVuSans-65\" transform=\"scale(0.015625)\"/>\r\n       <path d=\"M 2631 2963 \r\nQ 2534 3019 2420 3045 \r\nQ 2306 3072 2169 3072 \r\nQ 1681 3072 1420 2755 \r\nQ 1159 2438 1159 1844 \r\nL 1159 0 \r\nL 581 0 \r\nL 581 3500 \r\nL 1159 3500 \r\nL 1159 2956 \r\nQ 1341 3275 1631 3429 \r\nQ 1922 3584 2338 3584 \r\nQ 2397 3584 2469 3576 \r\nQ 2541 3569 2628 3553 \r\nL 2631 2963 \r\nz\r\n\" id=\"DejaVuSans-72\" transform=\"scale(0.015625)\"/>\r\n       <path d=\"M 2375 4863 \r\nL 2375 4384 \r\nL 1825 4384 \r\nQ 1516 4384 1395 4259 \r\nQ 1275 4134 1275 3809 \r\nL 1275 3500 \r\nL 2222 3500 \r\nL 2222 3053 \r\nL 1275 3053 \r\nL 1275 0 \r\nL 697 0 \r\nL 697 3053 \r\nL 147 3053 \r\nL 147 3500 \r\nL 697 3500 \r\nL 697 3744 \r\nQ 697 4328 969 4595 \r\nQ 1241 4863 1831 4863 \r\nL 2375 4863 \r\nz\r\n\" id=\"DejaVuSans-66\" transform=\"scale(0.015625)\"/>\r\n       <path d=\"M 1259 4147 \r\nL 1259 519 \r\nL 2022 519 \r\nQ 2988 519 3436 956 \r\nQ 3884 1394 3884 2338 \r\nQ 3884 3275 3436 3711 \r\nQ 2988 4147 2022 4147 \r\nL 1259 4147 \r\nz\r\nM 628 4666 \r\nL 1925 4666 \r\nQ 3281 4666 3915 4102 \r\nQ 4550 3538 4550 2338 \r\nQ 4550 1131 3912 565 \r\nQ 3275 0 1925 0 \r\nL 628 0 \r\nL 628 4666 \r\nz\r\n\" id=\"DejaVuSans-44\" transform=\"scale(0.015625)\"/>\r\n       <path d=\"M 603 3500 \r\nL 1178 3500 \r\nL 1178 0 \r\nL 603 0 \r\nL 603 3500 \r\nz\r\nM 603 4863 \r\nL 1178 4863 \r\nL 1178 4134 \r\nL 603 4134 \r\nL 603 4863 \r\nz\r\n\" id=\"DejaVuSans-69\" transform=\"scale(0.015625)\"/>\r\n       <path d=\"M 3513 2113 \r\nL 3513 0 \r\nL 2938 0 \r\nL 2938 2094 \r\nQ 2938 2591 2744 2837 \r\nQ 2550 3084 2163 3084 \r\nQ 1697 3084 1428 2787 \r\nQ 1159 2491 1159 1978 \r\nL 1159 0 \r\nL 581 0 \r\nL 581 3500 \r\nL 1159 3500 \r\nL 1159 2956 \r\nQ 1366 3272 1645 3428 \r\nQ 1925 3584 2291 3584 \r\nQ 2894 3584 3203 3211 \r\nQ 3513 2838 3513 2113 \r\nz\r\n\" id=\"DejaVuSans-6e\" transform=\"scale(0.015625)\"/>\r\n       <path d=\"M 628 4666 \r\nL 3309 4666 \r\nL 3309 4134 \r\nL 1259 4134 \r\nL 1259 2759 \r\nL 3109 2759 \r\nL 3109 2228 \r\nL 1259 2228 \r\nL 1259 0 \r\nL 628 0 \r\nL 628 4666 \r\nz\r\n\" id=\"DejaVuSans-46\" transform=\"scale(0.015625)\"/>\r\n       <path d=\"M 2834 3397 \r\nL 2834 2853 \r\nQ 2591 2978 2328 3040 \r\nQ 2066 3103 1784 3103 \r\nQ 1356 3103 1142 2972 \r\nQ 928 2841 928 2578 \r\nQ 928 2378 1081 2264 \r\nQ 1234 2150 1697 2047 \r\nL 1894 2003 \r\nQ 2506 1872 2764 1633 \r\nQ 3022 1394 3022 966 \r\nQ 3022 478 2636 193 \r\nQ 2250 -91 1575 -91 \r\nQ 1294 -91 989 -36 \r\nQ 684 19 347 128 \r\nL 347 722 \r\nQ 666 556 975 473 \r\nQ 1284 391 1588 391 \r\nQ 1994 391 2212 530 \r\nQ 2431 669 2431 922 \r\nQ 2431 1156 2273 1281 \r\nQ 2116 1406 1581 1522 \r\nL 1381 1569 \r\nQ 847 1681 609 1914 \r\nQ 372 2147 372 2553 \r\nQ 372 3047 722 3315 \r\nQ 1072 3584 1716 3584 \r\nQ 2034 3584 2315 3537 \r\nQ 2597 3491 2834 3397 \r\nz\r\n\" id=\"DejaVuSans-73\" transform=\"scale(0.015625)\"/>\r\n       <path d=\"M 3425 4513 \r\nL 3425 3897 \r\nQ 3066 4069 2747 4153 \r\nQ 2428 4238 2131 4238 \r\nQ 1616 4238 1336 4038 \r\nQ 1056 3838 1056 3469 \r\nQ 1056 3159 1242 3001 \r\nQ 1428 2844 1947 2747 \r\nL 2328 2669 \r\nQ 3034 2534 3370 2195 \r\nQ 3706 1856 3706 1288 \r\nQ 3706 609 3251 259 \r\nQ 2797 -91 1919 -91 \r\nQ 1588 -91 1214 -16 \r\nQ 841 59 441 206 \r\nL 441 856 \r\nQ 825 641 1194 531 \r\nQ 1563 422 1919 422 \r\nQ 2459 422 2753 634 \r\nQ 3047 847 3047 1241 \r\nQ 3047 1584 2836 1778 \r\nQ 2625 1972 2144 2069 \r\nL 1759 2144 \r\nQ 1053 2284 737 2584 \r\nQ 422 2884 422 3419 \r\nQ 422 4038 858 4394 \r\nQ 1294 4750 2059 4750 \r\nQ 2388 4750 2728 4690 \r\nQ 3069 4631 3425 4513 \r\nz\r\n\" id=\"DejaVuSans-53\" transform=\"scale(0.015625)\"/>\r\n       <path d=\"M 3513 2113 \r\nL 3513 0 \r\nL 2938 0 \r\nL 2938 2094 \r\nQ 2938 2591 2744 2837 \r\nQ 2550 3084 2163 3084 \r\nQ 1697 3084 1428 2787 \r\nQ 1159 2491 1159 1978 \r\nL 1159 0 \r\nL 581 0 \r\nL 581 4863 \r\nL 1159 4863 \r\nL 1159 2956 \r\nQ 1366 3272 1645 3428 \r\nQ 1925 3584 2291 3584 \r\nQ 2894 3584 3203 3211 \r\nQ 3513 2838 3513 2113 \r\nz\r\n\" id=\"DejaVuSans-68\" transform=\"scale(0.015625)\"/>\r\n       <path d=\"M 269 3500 \r\nL 844 3500 \r\nL 1563 769 \r\nL 2278 3500 \r\nL 2956 3500 \r\nL 3675 769 \r\nL 4391 3500 \r\nL 4966 3500 \r\nL 4050 0 \r\nL 3372 0 \r\nL 2619 2869 \r\nL 1863 0 \r\nL 1184 0 \r\nL 269 3500 \r\nz\r\n\" id=\"DejaVuSans-77\" transform=\"scale(0.015625)\"/>\r\n       <path d=\"M 4122 4306 \r\nL 4122 3641 \r\nQ 3803 3938 3442 4084 \r\nQ 3081 4231 2675 4231 \r\nQ 1875 4231 1450 3742 \r\nQ 1025 3253 1025 2328 \r\nQ 1025 1406 1450 917 \r\nQ 1875 428 2675 428 \r\nQ 3081 428 3442 575 \r\nQ 3803 722 4122 1019 \r\nL 4122 359 \r\nQ 3791 134 3420 21 \r\nQ 3050 -91 2638 -91 \r\nQ 1578 -91 968 557 \r\nQ 359 1206 359 2328 \r\nQ 359 3453 968 4101 \r\nQ 1578 4750 2638 4750 \r\nQ 3056 4750 3426 4639 \r\nQ 3797 4528 4122 4306 \r\nz\r\n\" id=\"DejaVuSans-43\" transform=\"scale(0.015625)\"/>\r\n      </defs>\r\n      <use xlink:href=\"#DejaVuSans-54\"/>\r\n      <use x=\"44.083984\" xlink:href=\"#DejaVuSans-6f\"/>\r\n      <use x=\"105.265625\" xlink:href=\"#DejaVuSans-74\"/>\r\n      <use x=\"144.474609\" xlink:href=\"#DejaVuSans-61\"/>\r\n      <use x=\"205.753906\" xlink:href=\"#DejaVuSans-6c\"/>\r\n      <use x=\"233.537109\" xlink:href=\"#DejaVuSans-20\"/>\r\n      <use x=\"265.324219\" xlink:href=\"#DejaVuSans-4e\"/>\r\n      <use x=\"340.128906\" xlink:href=\"#DejaVuSans-75\"/>\r\n      <use x=\"403.507812\" xlink:href=\"#DejaVuSans-6d\"/>\r\n      <use x=\"500.919922\" xlink:href=\"#DejaVuSans-62\"/>\r\n      <use x=\"564.396484\" xlink:href=\"#DejaVuSans-65\"/>\r\n      <use x=\"625.919922\" xlink:href=\"#DejaVuSans-72\"/>\r\n      <use x=\"667.033203\" xlink:href=\"#DejaVuSans-20\"/>\r\n      <use x=\"698.820312\" xlink:href=\"#DejaVuSans-6f\"/>\r\n      <use x=\"760.001953\" xlink:href=\"#DejaVuSans-66\"/>\r\n      <use x=\"795.207031\" xlink:href=\"#DejaVuSans-20\"/>\r\n      <use x=\"826.994141\" xlink:href=\"#DejaVuSans-44\"/>\r\n      <use x=\"903.996094\" xlink:href=\"#DejaVuSans-69\"/>\r\n      <use x=\"931.779297\" xlink:href=\"#DejaVuSans-66\"/>\r\n      <use x=\"966.984375\" xlink:href=\"#DejaVuSans-66\"/>\r\n      <use x=\"1002.189453\" xlink:href=\"#DejaVuSans-65\"/>\r\n      <use x=\"1063.712891\" xlink:href=\"#DejaVuSans-72\"/>\r\n      <use x=\"1102.576172\" xlink:href=\"#DejaVuSans-65\"/>\r\n      <use x=\"1164.099609\" xlink:href=\"#DejaVuSans-6e\"/>\r\n      <use x=\"1227.478516\" xlink:href=\"#DejaVuSans-74\"/>\r\n      <use x=\"1266.6875\" xlink:href=\"#DejaVuSans-20\"/>\r\n      <use x=\"1298.474609\" xlink:href=\"#DejaVuSans-46\"/>\r\n      <use x=\"1348.744141\" xlink:href=\"#DejaVuSans-69\"/>\r\n      <use x=\"1376.527344\" xlink:href=\"#DejaVuSans-6c\"/>\r\n      <use x=\"1404.310547\" xlink:href=\"#DejaVuSans-6d\"/>\r\n      <use x=\"1501.722656\" xlink:href=\"#DejaVuSans-73\"/>\r\n      <use x=\"1553.822266\" xlink:href=\"#DejaVuSans-20\"/>\r\n      <use x=\"1585.609375\" xlink:href=\"#DejaVuSans-53\"/>\r\n      <use x=\"1649.085938\" xlink:href=\"#DejaVuSans-68\"/>\r\n      <use x=\"1712.464844\" xlink:href=\"#DejaVuSans-6f\"/>\r\n      <use x=\"1773.646484\" xlink:href=\"#DejaVuSans-77\"/>\r\n      <use x=\"1855.433594\" xlink:href=\"#DejaVuSans-6e\"/>\r\n      <use x=\"1918.8125\" xlink:href=\"#DejaVuSans-20\"/>\r\n      <use x=\"1950.599609\" xlink:href=\"#DejaVuSans-69\"/>\r\n      <use x=\"1978.382812\" xlink:href=\"#DejaVuSans-6e\"/>\r\n      <use x=\"2041.761719\" xlink:href=\"#DejaVuSans-20\"/>\r\n      <use x=\"2073.548828\" xlink:href=\"#DejaVuSans-43\"/>\r\n      <use x=\"2143.373047\" xlink:href=\"#DejaVuSans-69\"/>\r\n      <use x=\"2171.15625\" xlink:href=\"#DejaVuSans-6e\"/>\r\n      <use x=\"2234.535156\" xlink:href=\"#DejaVuSans-65\"/>\r\n      <use x=\"2296.058594\" xlink:href=\"#DejaVuSans-6d\"/>\r\n      <use x=\"2393.470703\" xlink:href=\"#DejaVuSans-61\"/>\r\n      <use x=\"2454.75\" xlink:href=\"#DejaVuSans-73\"/>\r\n     </g>\r\n    </g>\r\n    <g id=\"text_9\">\r\n     <!-- 1e6 -->\r\n     <g transform=\"translate(680.4 333.456562)scale(0.1 -0.1)\">\r\n      <defs>\r\n       <path d=\"M 2113 2584 \r\nQ 1688 2584 1439 2293 \r\nQ 1191 2003 1191 1497 \r\nQ 1191 994 1439 701 \r\nQ 1688 409 2113 409 \r\nQ 2538 409 2786 701 \r\nQ 3034 994 3034 1497 \r\nQ 3034 2003 2786 2293 \r\nQ 2538 2584 2113 2584 \r\nz\r\nM 3366 4563 \r\nL 3366 3988 \r\nQ 3128 4100 2886 4159 \r\nQ 2644 4219 2406 4219 \r\nQ 1781 4219 1451 3797 \r\nQ 1122 3375 1075 2522 \r\nQ 1259 2794 1537 2939 \r\nQ 1816 3084 2150 3084 \r\nQ 2853 3084 3261 2657 \r\nQ 3669 2231 3669 1497 \r\nQ 3669 778 3244 343 \r\nQ 2819 -91 2113 -91 \r\nQ 1303 -91 875 529 \r\nQ 447 1150 447 2328 \r\nQ 447 3434 972 4092 \r\nQ 1497 4750 2381 4750 \r\nQ 2619 4750 2861 4703 \r\nQ 3103 4656 3366 4563 \r\nz\r\n\" id=\"DejaVuSans-36\" transform=\"scale(0.015625)\"/>\r\n      </defs>\r\n      <use xlink:href=\"#DejaVuSans-31\"/>\r\n      <use x=\"63.623047\" xlink:href=\"#DejaVuSans-65\"/>\r\n      <use x=\"125.146484\" xlink:href=\"#DejaVuSans-36\"/>\r\n     </g>\r\n    </g>\r\n   </g>\r\n   <g id=\"matplotlib.axis_2\">\r\n    <g id=\"ytick_1\">\r\n     <g id=\"line2d_8\">\r\n      <defs>\r\n       <path d=\"M 0 0 \r\nL -3.5 0 \r\n\" id=\"me5bb09c48d\" style=\"stroke:#000000;stroke-width:0.8;\"/>\r\n      </defs>\r\n      <g>\r\n       <use style=\"stroke:#000000;stroke-width:0.8;\" x=\"29.678125\" xlink:href=\"#me5bb09c48d\" y=\"14.6745\"/>\r\n      </g>\r\n     </g>\r\n     <g id=\"text_10\">\r\n      <!-- FR -->\r\n      <g transform=\"translate(9.978125 18.473719)scale(0.1 -0.1)\">\r\n       <defs>\r\n        <path d=\"M 2841 2188 \r\nQ 3044 2119 3236 1894 \r\nQ 3428 1669 3622 1275 \r\nL 4263 0 \r\nL 3584 0 \r\nL 2988 1197 \r\nQ 2756 1666 2539 1819 \r\nQ 2322 1972 1947 1972 \r\nL 1259 1972 \r\nL 1259 0 \r\nL 628 0 \r\nL 628 4666 \r\nL 2053 4666 \r\nQ 2853 4666 3247 4331 \r\nQ 3641 3997 3641 3322 \r\nQ 3641 2881 3436 2590 \r\nQ 3231 2300 2841 2188 \r\nz\r\nM 1259 4147 \r\nL 1259 2491 \r\nL 2053 2491 \r\nQ 2509 2491 2742 2702 \r\nQ 2975 2913 2975 3322 \r\nQ 2975 3731 2742 3939 \r\nQ 2509 4147 2053 4147 \r\nL 1259 4147 \r\nz\r\n\" id=\"DejaVuSans-52\" transform=\"scale(0.015625)\"/>\r\n       </defs>\r\n       <use xlink:href=\"#DejaVuSans-46\"/>\r\n       <use x=\"57.519531\" xlink:href=\"#DejaVuSans-52\"/>\r\n      </g>\r\n     </g>\r\n    </g>\r\n    <g id=\"ytick_2\">\r\n     <g id=\"line2d_9\">\r\n      <g>\r\n       <use style=\"stroke:#000000;stroke-width:0.8;\" x=\"29.678125\" xlink:href=\"#me5bb09c48d\" y=\"29.6235\"/>\r\n      </g>\r\n     </g>\r\n     <g id=\"text_11\">\r\n      <!-- JP -->\r\n      <g transform=\"translate(13.698438 33.422719)scale(0.1 -0.1)\">\r\n       <defs>\r\n        <path d=\"M 628 4666 \r\nL 1259 4666 \r\nL 1259 325 \r\nQ 1259 -519 939 -900 \r\nQ 619 -1281 -91 -1281 \r\nL -331 -1281 \r\nL -331 -750 \r\nL -134 -750 \r\nQ 284 -750 456 -515 \r\nQ 628 -281 628 325 \r\nL 628 4666 \r\nz\r\n\" id=\"DejaVuSans-4a\" transform=\"scale(0.015625)\"/>\r\n        <path d=\"M 1259 4147 \r\nL 1259 2394 \r\nL 2053 2394 \r\nQ 2494 2394 2734 2622 \r\nQ 2975 2850 2975 3272 \r\nQ 2975 3691 2734 3919 \r\nQ 2494 4147 2053 4147 \r\nL 1259 4147 \r\nz\r\nM 628 4666 \r\nL 2053 4666 \r\nQ 2838 4666 3239 4311 \r\nQ 3641 3956 3641 3272 \r\nQ 3641 2581 3239 2228 \r\nQ 2838 1875 2053 1875 \r\nL 1259 1875 \r\nL 1259 0 \r\nL 628 0 \r\nL 628 4666 \r\nz\r\n\" id=\"DejaVuSans-50\" transform=\"scale(0.015625)\"/>\r\n       </defs>\r\n       <use xlink:href=\"#DejaVuSans-4a\"/>\r\n       <use x=\"29.492188\" xlink:href=\"#DejaVuSans-50\"/>\r\n      </g>\r\n     </g>\r\n    </g>\r\n    <g id=\"ytick_3\">\r\n     <g id=\"line2d_10\">\r\n      <g>\r\n       <use style=\"stroke:#000000;stroke-width:0.8;\" x=\"29.678125\" xlink:href=\"#me5bb09c48d\" y=\"44.5725\"/>\r\n      </g>\r\n     </g>\r\n     <g id=\"text_12\">\r\n      <!-- DE -->\r\n      <g transform=\"translate(8.659375 48.371719)scale(0.1 -0.1)\">\r\n       <defs>\r\n        <path d=\"M 628 4666 \r\nL 3578 4666 \r\nL 3578 4134 \r\nL 1259 4134 \r\nL 1259 2753 \r\nL 3481 2753 \r\nL 3481 2222 \r\nL 1259 2222 \r\nL 1259 531 \r\nL 3634 531 \r\nL 3634 0 \r\nL 628 0 \r\nL 628 4666 \r\nz\r\n\" id=\"DejaVuSans-45\" transform=\"scale(0.015625)\"/>\r\n       </defs>\r\n       <use xlink:href=\"#DejaVuSans-44\"/>\r\n       <use x=\"77.001953\" xlink:href=\"#DejaVuSans-45\"/>\r\n      </g>\r\n     </g>\r\n    </g>\r\n    <g id=\"ytick_4\">\r\n     <g id=\"line2d_11\">\r\n      <g>\r\n       <use style=\"stroke:#000000;stroke-width:0.8;\" x=\"29.678125\" xlink:href=\"#me5bb09c48d\" y=\"59.5215\"/>\r\n      </g>\r\n     </g>\r\n     <g id=\"text_13\">\r\n      <!-- ES -->\r\n      <g transform=\"translate(10.010938 63.320719)scale(0.1 -0.1)\">\r\n       <use xlink:href=\"#DejaVuSans-45\"/>\r\n       <use x=\"63.183594\" xlink:href=\"#DejaVuSans-53\"/>\r\n      </g>\r\n     </g>\r\n    </g>\r\n    <g id=\"ytick_5\">\r\n     <g id=\"line2d_12\">\r\n      <g>\r\n       <use style=\"stroke:#000000;stroke-width:0.8;\" x=\"29.678125\" xlink:href=\"#me5bb09c48d\" y=\"74.4705\"/>\r\n      </g>\r\n     </g>\r\n     <g id=\"text_14\">\r\n      <!-- IT -->\r\n      <g transform=\"translate(13.620313 78.269719)scale(0.1 -0.1)\">\r\n       <defs>\r\n        <path d=\"M 628 4666 \r\nL 1259 4666 \r\nL 1259 0 \r\nL 628 0 \r\nL 628 4666 \r\nz\r\n\" id=\"DejaVuSans-49\" transform=\"scale(0.015625)\"/>\r\n       </defs>\r\n       <use xlink:href=\"#DejaVuSans-49\"/>\r\n       <use x=\"29.492188\" xlink:href=\"#DejaVuSans-54\"/>\r\n      </g>\r\n     </g>\r\n    </g>\r\n    <g id=\"ytick_6\">\r\n     <g id=\"line2d_13\">\r\n      <g>\r\n       <use style=\"stroke:#000000;stroke-width:0.8;\" x=\"29.678125\" xlink:href=\"#me5bb09c48d\" y=\"89.4195\"/>\r\n      </g>\r\n     </g>\r\n     <g id=\"text_15\">\r\n      <!-- IN -->\r\n      <g transform=\"translate(12.246875 93.218719)scale(0.1 -0.1)\">\r\n       <use xlink:href=\"#DejaVuSans-49\"/>\r\n       <use x=\"29.492188\" xlink:href=\"#DejaVuSans-4e\"/>\r\n      </g>\r\n     </g>\r\n    </g>\r\n    <g id=\"ytick_7\">\r\n     <g id=\"line2d_14\">\r\n      <g>\r\n       <use style=\"stroke:#000000;stroke-width:0.8;\" x=\"29.678125\" xlink:href=\"#me5bb09c48d\" y=\"104.3685\"/>\r\n      </g>\r\n     </g>\r\n     <g id=\"text_16\">\r\n      <!-- PT -->\r\n      <g transform=\"translate(10.540625 108.167719)scale(0.1 -0.1)\">\r\n       <use xlink:href=\"#DejaVuSans-50\"/>\r\n       <use x=\"60.302734\" xlink:href=\"#DejaVuSans-54\"/>\r\n      </g>\r\n     </g>\r\n    </g>\r\n    <g id=\"ytick_8\">\r\n     <g id=\"line2d_15\">\r\n      <g>\r\n       <use style=\"stroke:#000000;stroke-width:0.8;\" x=\"29.678125\" xlink:href=\"#me5bb09c48d\" y=\"119.3175\"/>\r\n      </g>\r\n     </g>\r\n     <g id=\"text_17\">\r\n      <!-- US -->\r\n      <g transform=\"translate(9.010938 123.116719)scale(0.1 -0.1)\">\r\n       <defs>\r\n        <path d=\"M 556 4666 \r\nL 1191 4666 \r\nL 1191 1831 \r\nQ 1191 1081 1462 751 \r\nQ 1734 422 2344 422 \r\nQ 2950 422 3222 751 \r\nQ 3494 1081 3494 1831 \r\nL 3494 4666 \r\nL 4128 4666 \r\nL 4128 1753 \r\nQ 4128 841 3676 375 \r\nQ 3225 -91 2344 -91 \r\nQ 1459 -91 1007 375 \r\nQ 556 841 556 1753 \r\nL 556 4666 \r\nz\r\n\" id=\"DejaVuSans-55\" transform=\"scale(0.015625)\"/>\r\n       </defs>\r\n       <use xlink:href=\"#DejaVuSans-55\"/>\r\n       <use x=\"73.193359\" xlink:href=\"#DejaVuSans-53\"/>\r\n      </g>\r\n     </g>\r\n    </g>\r\n    <g id=\"ytick_9\">\r\n     <g id=\"line2d_16\">\r\n      <g>\r\n       <use style=\"stroke:#000000;stroke-width:0.8;\" x=\"29.678125\" xlink:href=\"#me5bb09c48d\" y=\"134.2665\"/>\r\n      </g>\r\n     </g>\r\n     <g id=\"text_18\">\r\n      <!-- \\N -->\r\n      <g transform=\"translate(11.828125 138.065719)scale(0.1 -0.1)\">\r\n       <defs>\r\n        <path d=\"M 531 4666 \r\nL 2156 -594 \r\nL 1625 -594 \r\nL 0 4666 \r\nL 531 4666 \r\nz\r\n\" id=\"DejaVuSans-5c\" transform=\"scale(0.015625)\"/>\r\n       </defs>\r\n       <use xlink:href=\"#DejaVuSans-5c\"/>\r\n       <use x=\"33.691406\" xlink:href=\"#DejaVuSans-4e\"/>\r\n      </g>\r\n     </g>\r\n    </g>\r\n    <g id=\"ytick_10\">\r\n     <g id=\"line2d_17\">\r\n      <g>\r\n       <use style=\"stroke:#000000;stroke-width:0.8;\" x=\"29.678125\" xlink:href=\"#me5bb09c48d\" y=\"149.2155\"/>\r\n      </g>\r\n     </g>\r\n     <g id=\"text_19\">\r\n      <!-- GB -->\r\n      <g transform=\"translate(8.06875 153.014719)scale(0.1 -0.1)\">\r\n       <defs>\r\n        <path d=\"M 3809 666 \r\nL 3809 1919 \r\nL 2778 1919 \r\nL 2778 2438 \r\nL 4434 2438 \r\nL 4434 434 \r\nQ 4069 175 3628 42 \r\nQ 3188 -91 2688 -91 \r\nQ 1594 -91 976 548 \r\nQ 359 1188 359 2328 \r\nQ 359 3472 976 4111 \r\nQ 1594 4750 2688 4750 \r\nQ 3144 4750 3555 4637 \r\nQ 3966 4525 4313 4306 \r\nL 4313 3634 \r\nQ 3963 3931 3569 4081 \r\nQ 3175 4231 2741 4231 \r\nQ 1884 4231 1454 3753 \r\nQ 1025 3275 1025 2328 \r\nQ 1025 1384 1454 906 \r\nQ 1884 428 2741 428 \r\nQ 3075 428 3337 486 \r\nQ 3600 544 3809 666 \r\nz\r\n\" id=\"DejaVuSans-47\" transform=\"scale(0.015625)\"/>\r\n        <path d=\"M 1259 2228 \r\nL 1259 519 \r\nL 2272 519 \r\nQ 2781 519 3026 730 \r\nQ 3272 941 3272 1375 \r\nQ 3272 1813 3026 2020 \r\nQ 2781 2228 2272 2228 \r\nL 1259 2228 \r\nz\r\nM 1259 4147 \r\nL 1259 2741 \r\nL 2194 2741 \r\nQ 2656 2741 2882 2914 \r\nQ 3109 3088 3109 3444 \r\nQ 3109 3797 2882 3972 \r\nQ 2656 4147 2194 4147 \r\nL 1259 4147 \r\nz\r\nM 628 4666 \r\nL 2241 4666 \r\nQ 2963 4666 3353 4366 \r\nQ 3744 4066 3744 3513 \r\nQ 3744 3084 3544 2831 \r\nQ 3344 2578 2956 2516 \r\nQ 3422 2416 3680 2098 \r\nQ 3938 1781 3938 1306 \r\nQ 3938 681 3513 340 \r\nQ 3088 0 2303 0 \r\nL 628 0 \r\nL 628 4666 \r\nz\r\n\" id=\"DejaVuSans-42\" transform=\"scale(0.015625)\"/>\r\n       </defs>\r\n       <use xlink:href=\"#DejaVuSans-47\"/>\r\n       <use x=\"77.490234\" xlink:href=\"#DejaVuSans-42\"/>\r\n      </g>\r\n     </g>\r\n    </g>\r\n    <g id=\"ytick_11\">\r\n     <g id=\"line2d_18\">\r\n      <g>\r\n       <use style=\"stroke:#000000;stroke-width:0.8;\" x=\"29.678125\" xlink:href=\"#me5bb09c48d\" y=\"164.1645\"/>\r\n      </g>\r\n     </g>\r\n     <g id=\"text_20\">\r\n      <!-- CA -->\r\n      <g transform=\"translate(8.854688 167.963719)scale(0.1 -0.1)\">\r\n       <defs>\r\n        <path d=\"M 2188 4044 \r\nL 1331 1722 \r\nL 3047 1722 \r\nL 2188 4044 \r\nz\r\nM 1831 4666 \r\nL 2547 4666 \r\nL 4325 0 \r\nL 3669 0 \r\nL 3244 1197 \r\nL 1141 1197 \r\nL 716 0 \r\nL 50 0 \r\nL 1831 4666 \r\nz\r\n\" id=\"DejaVuSans-41\" transform=\"scale(0.015625)\"/>\r\n       </defs>\r\n       <use xlink:href=\"#DejaVuSans-43\"/>\r\n       <use x=\"69.824219\" xlink:href=\"#DejaVuSans-41\"/>\r\n      </g>\r\n     </g>\r\n    </g>\r\n    <g id=\"ytick_12\">\r\n     <g id=\"line2d_19\">\r\n      <g>\r\n       <use style=\"stroke:#000000;stroke-width:0.8;\" x=\"29.678125\" xlink:href=\"#me5bb09c48d\" y=\"179.1135\"/>\r\n      </g>\r\n     </g>\r\n     <g id=\"text_21\">\r\n      <!-- AU -->\r\n      <g transform=\"translate(8.51875 182.912719)scale(0.1 -0.1)\">\r\n       <use xlink:href=\"#DejaVuSans-41\"/>\r\n       <use x=\"68.408203\" xlink:href=\"#DejaVuSans-55\"/>\r\n      </g>\r\n     </g>\r\n    </g>\r\n    <g id=\"ytick_13\">\r\n     <g id=\"line2d_20\">\r\n      <g>\r\n       <use style=\"stroke:#000000;stroke-width:0.8;\" x=\"29.678125\" xlink:href=\"#me5bb09c48d\" y=\"194.0625\"/>\r\n      </g>\r\n     </g>\r\n     <g id=\"text_22\">\r\n      <!-- BR -->\r\n      <g transform=\"translate(8.86875 197.861719)scale(0.1 -0.1)\">\r\n       <use xlink:href=\"#DejaVuSans-42\"/>\r\n       <use x=\"68.603516\" xlink:href=\"#DejaVuSans-52\"/>\r\n      </g>\r\n     </g>\r\n    </g>\r\n    <g id=\"ytick_14\">\r\n     <g id=\"line2d_21\">\r\n      <g>\r\n       <use style=\"stroke:#000000;stroke-width:0.8;\" x=\"29.678125\" xlink:href=\"#me5bb09c48d\" y=\"209.0115\"/>\r\n      </g>\r\n     </g>\r\n     <g id=\"text_23\">\r\n      <!-- GR -->\r\n      <g transform=\"translate(7.98125 212.810719)scale(0.1 -0.1)\">\r\n       <use xlink:href=\"#DejaVuSans-47\"/>\r\n       <use x=\"77.490234\" xlink:href=\"#DejaVuSans-52\"/>\r\n      </g>\r\n     </g>\r\n    </g>\r\n    <g id=\"ytick_15\">\r\n     <g id=\"line2d_22\">\r\n      <g>\r\n       <use style=\"stroke:#000000;stroke-width:0.8;\" x=\"29.678125\" xlink:href=\"#me5bb09c48d\" y=\"223.9605\"/>\r\n      </g>\r\n     </g>\r\n     <g id=\"text_24\">\r\n      <!-- MX -->\r\n      <g transform=\"translate(7.2 227.759719)scale(0.1 -0.1)\">\r\n       <defs>\r\n        <path d=\"M 628 4666 \r\nL 1569 4666 \r\nL 2759 1491 \r\nL 3956 4666 \r\nL 4897 4666 \r\nL 4897 0 \r\nL 4281 0 \r\nL 4281 4097 \r\nL 3078 897 \r\nL 2444 897 \r\nL 1241 4097 \r\nL 1241 0 \r\nL 628 0 \r\nL 628 4666 \r\nz\r\n\" id=\"DejaVuSans-4d\" transform=\"scale(0.015625)\"/>\r\n        <path d=\"M 403 4666 \r\nL 1081 4666 \r\nL 2241 2931 \r\nL 3406 4666 \r\nL 4084 4666 \r\nL 2584 2425 \r\nL 4184 0 \r\nL 3506 0 \r\nL 2194 1984 \r\nL 872 0 \r\nL 191 0 \r\nL 1856 2491 \r\nL 403 4666 \r\nz\r\n\" id=\"DejaVuSans-58\" transform=\"scale(0.015625)\"/>\r\n       </defs>\r\n       <use xlink:href=\"#DejaVuSans-4d\"/>\r\n       <use x=\"86.279297\" xlink:href=\"#DejaVuSans-58\"/>\r\n      </g>\r\n     </g>\r\n    </g>\r\n    <g id=\"ytick_16\">\r\n     <g id=\"line2d_23\">\r\n      <g>\r\n       <use style=\"stroke:#000000;stroke-width:0.8;\" x=\"29.678125\" xlink:href=\"#me5bb09c48d\" y=\"238.9095\"/>\r\n      </g>\r\n     </g>\r\n     <g id=\"text_25\">\r\n      <!-- FI -->\r\n      <g transform=\"translate(13.976563 242.708719)scale(0.1 -0.1)\">\r\n       <use xlink:href=\"#DejaVuSans-46\"/>\r\n       <use x=\"57.519531\" xlink:href=\"#DejaVuSans-49\"/>\r\n      </g>\r\n     </g>\r\n    </g>\r\n    <g id=\"ytick_17\">\r\n     <g id=\"line2d_24\">\r\n      <g>\r\n       <use style=\"stroke:#000000;stroke-width:0.8;\" x=\"29.678125\" xlink:href=\"#me5bb09c48d\" y=\"253.8585\"/>\r\n      </g>\r\n     </g>\r\n     <g id=\"text_26\">\r\n      <!-- RU -->\r\n      <g transform=\"translate(8.410938 257.657719)scale(0.1 -0.1)\">\r\n       <use xlink:href=\"#DejaVuSans-52\"/>\r\n       <use x=\"69.482422\" xlink:href=\"#DejaVuSans-55\"/>\r\n      </g>\r\n     </g>\r\n    </g>\r\n    <g id=\"ytick_18\">\r\n     <g id=\"line2d_25\">\r\n      <g>\r\n       <use style=\"stroke:#000000;stroke-width:0.8;\" x=\"29.678125\" xlink:href=\"#me5bb09c48d\" y=\"268.8075\"/>\r\n      </g>\r\n     </g>\r\n     <g id=\"text_27\">\r\n      <!-- PL -->\r\n      <g transform=\"translate(11.076563 272.606719)scale(0.1 -0.1)\">\r\n       <defs>\r\n        <path d=\"M 628 4666 \r\nL 1259 4666 \r\nL 1259 531 \r\nL 3531 531 \r\nL 3531 0 \r\nL 628 0 \r\nL 628 4666 \r\nz\r\n\" id=\"DejaVuSans-4c\" transform=\"scale(0.015625)\"/>\r\n       </defs>\r\n       <use xlink:href=\"#DejaVuSans-50\"/>\r\n       <use x=\"60.302734\" xlink:href=\"#DejaVuSans-4c\"/>\r\n      </g>\r\n     </g>\r\n    </g>\r\n    <g id=\"ytick_19\">\r\n     <g id=\"line2d_26\">\r\n      <g>\r\n       <use style=\"stroke:#000000;stroke-width:0.8;\" x=\"29.678125\" xlink:href=\"#me5bb09c48d\" y=\"283.7565\"/>\r\n      </g>\r\n     </g>\r\n     <g id=\"text_28\">\r\n      <!-- HU -->\r\n      <g transform=\"translate(7.839063 287.555719)scale(0.1 -0.1)\">\r\n       <defs>\r\n        <path d=\"M 628 4666 \r\nL 1259 4666 \r\nL 1259 2753 \r\nL 3553 2753 \r\nL 3553 4666 \r\nL 4184 4666 \r\nL 4184 0 \r\nL 3553 0 \r\nL 3553 2222 \r\nL 1259 2222 \r\nL 1259 0 \r\nL 628 0 \r\nL 628 4666 \r\nz\r\n\" id=\"DejaVuSans-48\" transform=\"scale(0.015625)\"/>\r\n       </defs>\r\n       <use xlink:href=\"#DejaVuSans-48\"/>\r\n       <use x=\"75.195312\" xlink:href=\"#DejaVuSans-55\"/>\r\n      </g>\r\n     </g>\r\n    </g>\r\n    <g id=\"ytick_20\">\r\n     <g id=\"line2d_27\">\r\n      <g>\r\n       <use style=\"stroke:#000000;stroke-width:0.8;\" x=\"29.678125\" xlink:href=\"#me5bb09c48d\" y=\"298.7055\"/>\r\n      </g>\r\n     </g>\r\n     <g id=\"text_29\">\r\n      <!-- SE -->\r\n      <g transform=\"translate(10.010938 302.504719)scale(0.1 -0.1)\">\r\n       <use xlink:href=\"#DejaVuSans-53\"/>\r\n       <use x=\"63.476562\" xlink:href=\"#DejaVuSans-45\"/>\r\n      </g>\r\n     </g>\r\n    </g>\r\n   </g>\r\n   <g id=\"line2d_28\">\r\n    <path clip-path=\"url(#p4ecf597d19)\" d=\"M 0 0 \r\n\" style=\"fill:none;stroke:#424242;stroke-linecap:square;stroke-width:2.7;\"/>\r\n   </g>\r\n   <g id=\"line2d_29\">\r\n    <path clip-path=\"url(#p4ecf597d19)\" d=\"M 0 0 \r\n\" style=\"fill:none;stroke:#424242;stroke-linecap:square;stroke-width:2.7;\"/>\r\n   </g>\r\n   <g id=\"line2d_30\">\r\n    <path clip-path=\"url(#p4ecf597d19)\" d=\"M 0 0 \r\n\" style=\"fill:none;stroke:#424242;stroke-linecap:square;stroke-width:2.7;\"/>\r\n   </g>\r\n   <g id=\"line2d_31\">\r\n    <path clip-path=\"url(#p4ecf597d19)\" d=\"M 0 0 \r\n\" style=\"fill:none;stroke:#424242;stroke-linecap:square;stroke-width:2.7;\"/>\r\n   </g>\r\n   <g id=\"line2d_32\">\r\n    <path clip-path=\"url(#p4ecf597d19)\" d=\"M 0 0 \r\n\" style=\"fill:none;stroke:#424242;stroke-linecap:square;stroke-width:2.7;\"/>\r\n   </g>\r\n   <g id=\"line2d_33\">\r\n    <path clip-path=\"url(#p4ecf597d19)\" d=\"M 0 0 \r\n\" style=\"fill:none;stroke:#424242;stroke-linecap:square;stroke-width:2.7;\"/>\r\n   </g>\r\n   <g id=\"line2d_34\">\r\n    <path clip-path=\"url(#p4ecf597d19)\" d=\"M 0 0 \r\n\" style=\"fill:none;stroke:#424242;stroke-linecap:square;stroke-width:2.7;\"/>\r\n   </g>\r\n   <g id=\"line2d_35\">\r\n    <path clip-path=\"url(#p4ecf597d19)\" d=\"M 0 0 \r\n\" style=\"fill:none;stroke:#424242;stroke-linecap:square;stroke-width:2.7;\"/>\r\n   </g>\r\n   <g id=\"line2d_36\">\r\n    <path clip-path=\"url(#p4ecf597d19)\" d=\"M 0 0 \r\n\" style=\"fill:none;stroke:#424242;stroke-linecap:square;stroke-width:2.7;\"/>\r\n   </g>\r\n   <g id=\"line2d_37\">\r\n    <path clip-path=\"url(#p4ecf597d19)\" d=\"M 0 0 \r\n\" style=\"fill:none;stroke:#424242;stroke-linecap:square;stroke-width:2.7;\"/>\r\n   </g>\r\n   <g id=\"line2d_38\">\r\n    <path clip-path=\"url(#p4ecf597d19)\" d=\"M 0 0 \r\n\" style=\"fill:none;stroke:#424242;stroke-linecap:square;stroke-width:2.7;\"/>\r\n   </g>\r\n   <g id=\"line2d_39\">\r\n    <path clip-path=\"url(#p4ecf597d19)\" d=\"M 0 0 \r\n\" style=\"fill:none;stroke:#424242;stroke-linecap:square;stroke-width:2.7;\"/>\r\n   </g>\r\n   <g id=\"line2d_40\">\r\n    <path clip-path=\"url(#p4ecf597d19)\" d=\"M 0 0 \r\n\" style=\"fill:none;stroke:#424242;stroke-linecap:square;stroke-width:2.7;\"/>\r\n   </g>\r\n   <g id=\"line2d_41\">\r\n    <path clip-path=\"url(#p4ecf597d19)\" d=\"M 0 0 \r\n\" style=\"fill:none;stroke:#424242;stroke-linecap:square;stroke-width:2.7;\"/>\r\n   </g>\r\n   <g id=\"line2d_42\">\r\n    <path clip-path=\"url(#p4ecf597d19)\" d=\"M 0 0 \r\n\" style=\"fill:none;stroke:#424242;stroke-linecap:square;stroke-width:2.7;\"/>\r\n   </g>\r\n   <g id=\"line2d_43\">\r\n    <path clip-path=\"url(#p4ecf597d19)\" d=\"M 0 0 \r\n\" style=\"fill:none;stroke:#424242;stroke-linecap:square;stroke-width:2.7;\"/>\r\n   </g>\r\n   <g id=\"line2d_44\">\r\n    <path clip-path=\"url(#p4ecf597d19)\" d=\"M 0 0 \r\n\" style=\"fill:none;stroke:#424242;stroke-linecap:square;stroke-width:2.7;\"/>\r\n   </g>\r\n   <g id=\"line2d_45\">\r\n    <path clip-path=\"url(#p4ecf597d19)\" d=\"M 0 0 \r\n\" style=\"fill:none;stroke:#424242;stroke-linecap:square;stroke-width:2.7;\"/>\r\n   </g>\r\n   <g id=\"line2d_46\">\r\n    <path clip-path=\"url(#p4ecf597d19)\" d=\"M 0 0 \r\n\" style=\"fill:none;stroke:#424242;stroke-linecap:square;stroke-width:2.7;\"/>\r\n   </g>\r\n   <g id=\"line2d_47\">\r\n    <path clip-path=\"url(#p4ecf597d19)\" d=\"M 0 0 \r\n\" style=\"fill:none;stroke:#424242;stroke-linecap:square;stroke-width:2.7;\"/>\r\n   </g>\r\n   <g id=\"patch_23\">\r\n    <path d=\"M 29.678125 306.18 \r\nL 29.678125 7.2 \r\n\" style=\"fill:none;stroke:#000000;stroke-linecap:square;stroke-linejoin:miter;stroke-width:0.8;\"/>\r\n   </g>\r\n   <g id=\"patch_24\">\r\n    <path d=\"M 699.278125 306.18 \r\nL 699.278125 7.2 \r\n\" style=\"fill:none;stroke:#000000;stroke-linecap:square;stroke-linejoin:miter;stroke-width:0.8;\"/>\r\n   </g>\r\n   <g id=\"patch_25\">\r\n    <path d=\"M 29.678125 306.18 \r\nL 699.278125 306.18 \r\n\" style=\"fill:none;stroke:#000000;stroke-linecap:square;stroke-linejoin:miter;stroke-width:0.8;\"/>\r\n   </g>\r\n   <g id=\"patch_26\">\r\n    <path d=\"M 29.678125 7.2 \r\nL 699.278125 7.2 \r\n\" style=\"fill:none;stroke:#000000;stroke-linecap:square;stroke-linejoin:miter;stroke-width:0.8;\"/>\r\n   </g>\r\n  </g>\r\n </g>\r\n <defs>\r\n  <clipPath id=\"p4ecf597d19\">\r\n   <rect height=\"298.98\" width=\"669.6\" x=\"29.678125\" y=\"7.2\"/>\r\n  </clipPath>\r\n </defs>\r\n</svg>\r\n",
      "image/png": "[encoded data removed]"
     },
     "metadata": {
      "needs_background": "light"
     }
    }
   ],
   "source": [
    "country_counts = title_akas.region.value_counts()\n",
    "country_names = country_counts.drop([\"XWW\",\"XWG\"]).index[:20]\n",
    "counts = country_counts.drop([\"XWW\",\"XWG\"]).values[:20]\n",
    "plt.figure(figsize=(12,5.5))\n",
    "sns.barplot(x=counts,y=country_names,orient=\"h\")\n",
    "plt.xlabel(\"Total Number of Different Films Shown in Cinemas\")\n"
   ]
  },
  {
   "source": [
    "## - la distribution des ages"
   ],
   "cell_type": "markdown",
   "metadata": {}
  },
  {
   "cell_type": "code",
   "execution_count": 81,
   "metadata": {},
   "outputs": [
    {
     "output_type": "stream",
     "name": "stdout",
     "text": [
      "<class 'pandas.core.frame.DataFrame'>\nRangeIndex: 10838773 entries, 0 to 10838772\nData columns (total 6 columns):\n #   Column             Dtype \n---  ------             ----- \n 0   nconst             object\n 1   primaryName        object\n 2   birthYear          object\n 3   deathYear          object\n 4   primaryProfession  object\n 5   knownForTitles     object\ndtypes: object(6)\nmemory usage: 496.2+ MB\n"
     ]
    }
   ],
   "source": [
    "name_basics.info()"
   ]
  },
  {
   "cell_type": "code",
   "execution_count": 82,
   "metadata": {},
   "outputs": [],
   "source": [
    "df_name_basics=name_basics.dropna()"
   ]
  },
  {
   "cell_type": "code",
   "execution_count": 85,
   "metadata": {},
   "outputs": [],
   "source": [
    "df_name_basics=df_name_basics[df_name_basics.birthYear != '\\\\N']"
   ]
  },
  {
   "cell_type": "code",
   "execution_count": 86,
   "metadata": {},
   "outputs": [],
   "source": [
    "df_name_basics=df_name_basics[df_name_basics.deathYear != '\\\\N']"
   ]
  },
  {
   "cell_type": "code",
   "execution_count": 89,
   "metadata": {},
   "outputs": [],
   "source": [
    "df_name_basics.birthYear=df_name_basics.birthYear.astype(int)\n",
    "df_name_basics.deathYear=df_name_basics.deathYear.astype(int)"
   ]
  },
  {
   "cell_type": "code",
   "execution_count": 94,
   "metadata": {},
   "outputs": [
    {
     "output_type": "execute_result",
     "data": {
      "text/plain": [
       "             nconst            primaryName  birthYear  deathYear  \\\n",
       "124435    nm0130625  Jeanne Louise Calment       1875       1997   \n",
       "230796    nm0243164        Tatzumbia Dupea       1849       1970   \n",
       "6071259   nm4304013       Fakir Lalon Shah       1772       1890   \n",
       "4813478   nm2897088            Misao Ogawa       1898       2015   \n",
       "261864    nm0275946          Gustave Field       1896       2012   \n",
       "...             ...                    ...        ...        ...   \n",
       "917451    nm0993447           Grace Golden       1904       1903   \n",
       "372869    nm0393598           Michael Hook       1946       1913   \n",
       "487586    nm0515385           Titus Livius         59         17   \n",
       "10441979  nm9543104        Viktor Cholnoky       1868          5   \n",
       "5474986   nm3623931       Stanislaw Kucner       1932         27   \n",
       "\n",
       "                                   primaryProfession  \\\n",
       "124435                                    soundtrack   \n",
       "230796                                       actress   \n",
       "6071259           music_department,writer,soundtrack   \n",
       "4813478                                      actress   \n",
       "261864                     writer,assistant_director   \n",
       "...                                              ...   \n",
       "917451                                       actress   \n",
       "372869              assistant_director,miscellaneous   \n",
       "487586                                        writer   \n",
       "10441979                                      writer   \n",
       "5474986   cinematographer,camera_department,director   \n",
       "\n",
       "                                   knownForTitles  esperance  \n",
       "124435                        tt0081721,tt0128058        122  \n",
       "230796                        tt0036677,tt0043262        121  \n",
       "6071259   tt2402716,tt0368678,tt5238654,tt3365690        118  \n",
       "4813478                                 tt1172226        117  \n",
       "261864    tt0049219,tt0055666,tt0072471,tt0071054        116  \n",
       "...                                           ...        ...  \n",
       "917451                                  tt0285842         -1  \n",
       "372869    tt0087414,tt0087469,tt0078346,tt0082971        -33  \n",
       "487586                                  tt0003740        -42  \n",
       "10441979                                       \\N      -1863  \n",
       "5474986   tt0200223,tt5725986,tt4117064,tt0100245      -1905  \n",
       "\n",
       "[156438 rows x 7 columns]"
      ],
      "text/html": "<div>\n<style scoped>\n    .dataframe tbody tr th:only-of-type {\n        vertical-align: middle;\n    }\n\n    .dataframe tbody tr th {\n        vertical-align: top;\n    }\n\n    .dataframe thead th {\n        text-align: right;\n    }\n</style>\n<table border=\"1\" class=\"dataframe\">\n  <thead>\n    <tr style=\"text-align: right;\">\n      <th></th>\n      <th>nconst</th>\n      <th>primaryName</th>\n      <th>birthYear</th>\n      <th>deathYear</th>\n      <th>primaryProfession</th>\n      <th>knownForTitles</th>\n      <th>esperance</th>\n    </tr>\n  </thead>\n  <tbody>\n    <tr>\n      <th>124435</th>\n      <td>nm0130625</td>\n      <td>Jeanne Louise Calment</td>\n      <td>1875</td>\n      <td>1997</td>\n      <td>soundtrack</td>\n      <td>tt0081721,tt0128058</td>\n      <td>122</td>\n    </tr>\n    <tr>\n      <th>230796</th>\n      <td>nm0243164</td>\n      <td>Tatzumbia Dupea</td>\n      <td>1849</td>\n      <td>1970</td>\n      <td>actress</td>\n      <td>tt0036677,tt0043262</td>\n      <td>121</td>\n    </tr>\n    <tr>\n      <th>6071259</th>\n      <td>nm4304013</td>\n      <td>Fakir Lalon Shah</td>\n      <td>1772</td>\n      <td>1890</td>\n      <td>music_department,writer,soundtrack</td>\n      <td>tt2402716,tt0368678,tt5238654,tt3365690</td>\n      <td>118</td>\n    </tr>\n    <tr>\n      <th>4813478</th>\n      <td>nm2897088</td>\n      <td>Misao Ogawa</td>\n      <td>1898</td>\n      <td>2015</td>\n      <td>actress</td>\n      <td>tt1172226</td>\n      <td>117</td>\n    </tr>\n    <tr>\n      <th>261864</th>\n      <td>nm0275946</td>\n      <td>Gustave Field</td>\n      <td>1896</td>\n      <td>2012</td>\n      <td>writer,assistant_director</td>\n      <td>tt0049219,tt0055666,tt0072471,tt0071054</td>\n      <td>116</td>\n    </tr>\n    <tr>\n      <th>...</th>\n      <td>...</td>\n      <td>...</td>\n      <td>...</td>\n      <td>...</td>\n      <td>...</td>\n      <td>...</td>\n      <td>...</td>\n    </tr>\n    <tr>\n      <th>917451</th>\n      <td>nm0993447</td>\n      <td>Grace Golden</td>\n      <td>1904</td>\n      <td>1903</td>\n      <td>actress</td>\n      <td>tt0285842</td>\n      <td>-1</td>\n    </tr>\n    <tr>\n      <th>372869</th>\n      <td>nm0393598</td>\n      <td>Michael Hook</td>\n      <td>1946</td>\n      <td>1913</td>\n      <td>assistant_director,miscellaneous</td>\n      <td>tt0087414,tt0087469,tt0078346,tt0082971</td>\n      <td>-33</td>\n    </tr>\n    <tr>\n      <th>487586</th>\n      <td>nm0515385</td>\n      <td>Titus Livius</td>\n      <td>59</td>\n      <td>17</td>\n      <td>writer</td>\n      <td>tt0003740</td>\n      <td>-42</td>\n    </tr>\n    <tr>\n      <th>10441979</th>\n      <td>nm9543104</td>\n      <td>Viktor Cholnoky</td>\n      <td>1868</td>\n      <td>5</td>\n      <td>writer</td>\n      <td>\\N</td>\n      <td>-1863</td>\n    </tr>\n    <tr>\n      <th>5474986</th>\n      <td>nm3623931</td>\n      <td>Stanislaw Kucner</td>\n      <td>1932</td>\n      <td>27</td>\n      <td>cinematographer,camera_department,director</td>\n      <td>tt0200223,tt5725986,tt4117064,tt0100245</td>\n      <td>-1905</td>\n    </tr>\n  </tbody>\n</table>\n<p>156438 rows × 7 columns</p>\n</div>"
     },
     "metadata": {},
     "execution_count": 94
    }
   ],
   "source": [
    "df_name_basics['esperance']=df_name_basics.deathYear-df_name_basics.birthYear\n",
    "df_name_basics.sort_values('esperance', ascending=False)"
   ]
  },
  {
   "cell_type": "code",
   "execution_count": 96,
   "metadata": {},
   "outputs": [],
   "source": [
    "df_name_basics=df_name_basics[df_name_basics['esperance']>0]"
   ]
  },
  {
   "cell_type": "code",
   "execution_count": 97,
   "metadata": {},
   "outputs": [
    {
     "output_type": "execute_result",
     "data": {
      "text/plain": [
       "            nconst            primaryName  birthYear  deathYear  \\\n",
       "124435   nm0130625  Jeanne Louise Calment       1875       1997   \n",
       "230796   nm0243164        Tatzumbia Dupea       1849       1970   \n",
       "6071259  nm4304013       Fakir Lalon Shah       1772       1890   \n",
       "4813478  nm2897088            Misao Ogawa       1898       2015   \n",
       "261864   nm0275946          Gustave Field       1896       2012   \n",
       "...            ...                    ...        ...        ...   \n",
       "239451   nm0252323     Caryll Ann Ekelund       1935       1939   \n",
       "7395752  nm5785061        Harry Whittaker       2011       2014   \n",
       "7156906  nm5513057               Murzylka       2009       2011   \n",
       "9239762  nm8094452             Xavian Lee       2000       2001   \n",
       "846512   nm0897911      Felipe Villanueva       1862       1863   \n",
       "\n",
       "                            primaryProfession  \\\n",
       "124435                             soundtrack   \n",
       "230796                                actress   \n",
       "6071259    music_department,writer,soundtrack   \n",
       "4813478                               actress   \n",
       "261864              writer,assistant_director   \n",
       "...                                       ...   \n",
       "239451                                actress   \n",
       "7395752                                 actor   \n",
       "7156906             actor,soundtrack,composer   \n",
       "9239762                                 actor   \n",
       "846512   soundtrack,composer,music_department   \n",
       "\n",
       "                                  knownForTitles  esperance  \n",
       "124435                       tt0081721,tt0128058        122  \n",
       "230796                       tt0036677,tt0043262        121  \n",
       "6071259  tt2402716,tt0368678,tt5238654,tt3365690        118  \n",
       "4813478                                tt1172226        117  \n",
       "261864   tt0049219,tt0055666,tt0072471,tt0071054        116  \n",
       "...                                          ...        ...  \n",
       "239451                                 tt0032264          4  \n",
       "7395752                      tt0068069,tt2126283          3  \n",
       "7156906  tt2697400,tt4473096,tt3856316,tt4939036          2  \n",
       "9239762                      tt4718836,tt4718822          1  \n",
       "846512   tt0056128,tt0154631,tt0212640,tt0290617          1  \n",
       "\n",
       "[156429 rows x 7 columns]"
      ],
      "text/html": "<div>\n<style scoped>\n    .dataframe tbody tr th:only-of-type {\n        vertical-align: middle;\n    }\n\n    .dataframe tbody tr th {\n        vertical-align: top;\n    }\n\n    .dataframe thead th {\n        text-align: right;\n    }\n</style>\n<table border=\"1\" class=\"dataframe\">\n  <thead>\n    <tr style=\"text-align: right;\">\n      <th></th>\n      <th>nconst</th>\n      <th>primaryName</th>\n      <th>birthYear</th>\n      <th>deathYear</th>\n      <th>primaryProfession</th>\n      <th>knownForTitles</th>\n      <th>esperance</th>\n    </tr>\n  </thead>\n  <tbody>\n    <tr>\n      <th>124435</th>\n      <td>nm0130625</td>\n      <td>Jeanne Louise Calment</td>\n      <td>1875</td>\n      <td>1997</td>\n      <td>soundtrack</td>\n      <td>tt0081721,tt0128058</td>\n      <td>122</td>\n    </tr>\n    <tr>\n      <th>230796</th>\n      <td>nm0243164</td>\n      <td>Tatzumbia Dupea</td>\n      <td>1849</td>\n      <td>1970</td>\n      <td>actress</td>\n      <td>tt0036677,tt0043262</td>\n      <td>121</td>\n    </tr>\n    <tr>\n      <th>6071259</th>\n      <td>nm4304013</td>\n      <td>Fakir Lalon Shah</td>\n      <td>1772</td>\n      <td>1890</td>\n      <td>music_department,writer,soundtrack</td>\n      <td>tt2402716,tt0368678,tt5238654,tt3365690</td>\n      <td>118</td>\n    </tr>\n    <tr>\n      <th>4813478</th>\n      <td>nm2897088</td>\n      <td>Misao Ogawa</td>\n      <td>1898</td>\n      <td>2015</td>\n      <td>actress</td>\n      <td>tt1172226</td>\n      <td>117</td>\n    </tr>\n    <tr>\n      <th>261864</th>\n      <td>nm0275946</td>\n      <td>Gustave Field</td>\n      <td>1896</td>\n      <td>2012</td>\n      <td>writer,assistant_director</td>\n      <td>tt0049219,tt0055666,tt0072471,tt0071054</td>\n      <td>116</td>\n    </tr>\n    <tr>\n      <th>...</th>\n      <td>...</td>\n      <td>...</td>\n      <td>...</td>\n      <td>...</td>\n      <td>...</td>\n      <td>...</td>\n      <td>...</td>\n    </tr>\n    <tr>\n      <th>239451</th>\n      <td>nm0252323</td>\n      <td>Caryll Ann Ekelund</td>\n      <td>1935</td>\n      <td>1939</td>\n      <td>actress</td>\n      <td>tt0032264</td>\n      <td>4</td>\n    </tr>\n    <tr>\n      <th>7395752</th>\n      <td>nm5785061</td>\n      <td>Harry Whittaker</td>\n      <td>2011</td>\n      <td>2014</td>\n      <td>actor</td>\n      <td>tt0068069,tt2126283</td>\n      <td>3</td>\n    </tr>\n    <tr>\n      <th>7156906</th>\n      <td>nm5513057</td>\n      <td>Murzylka</td>\n      <td>2009</td>\n      <td>2011</td>\n      <td>actor,soundtrack,composer</td>\n      <td>tt2697400,tt4473096,tt3856316,tt4939036</td>\n      <td>2</td>\n    </tr>\n    <tr>\n      <th>9239762</th>\n      <td>nm8094452</td>\n      <td>Xavian Lee</td>\n      <td>2000</td>\n      <td>2001</td>\n      <td>actor</td>\n      <td>tt4718836,tt4718822</td>\n      <td>1</td>\n    </tr>\n    <tr>\n      <th>846512</th>\n      <td>nm0897911</td>\n      <td>Felipe Villanueva</td>\n      <td>1862</td>\n      <td>1863</td>\n      <td>soundtrack,composer,music_department</td>\n      <td>tt0056128,tt0154631,tt0212640,tt0290617</td>\n      <td>1</td>\n    </tr>\n  </tbody>\n</table>\n<p>156429 rows × 7 columns</p>\n</div>"
     },
     "metadata": {},
     "execution_count": 97
    }
   ],
   "source": [
    "df_name_basics.sort_values('esperance', ascending=False)"
   ]
  },
  {
   "cell_type": "code",
   "execution_count": 128,
   "metadata": {},
   "outputs": [
    {
     "output_type": "execute_result",
     "data": {
      "text/plain": [
       "count    156429.000000\n",
       "mean         70.880495\n",
       "std          15.864404\n",
       "min           1.000000\n",
       "25%          61.000000\n",
       "50%          73.000000\n",
       "75%          83.000000\n",
       "max         122.000000\n",
       "Name: esperance, dtype: float64"
      ]
     },
     "metadata": {},
     "execution_count": 128
    }
   ],
   "source": [
    "df_name_basics.esperance.describe()"
   ]
  },
  {
   "cell_type": "code",
   "execution_count": 137,
   "metadata": {},
   "outputs": [
    {
     "output_type": "stream",
     "name": "stderr",
     "text": [
      "C:\\Users\\simad\\AppData\\Local\\Programs\\Python\\Python39\\lib\\site-packages\\seaborn\\distributions.py:2557: FutureWarning: `distplot` is a deprecated function and will be removed in a future version. Please adapt your code to use either `displot` (a figure-level function with similar flexibility) or `histplot` (an axes-level function for histograms).\n  warnings.warn(msg, FutureWarning)\n"
     ]
    },
    {
     "output_type": "display_data",
     "data": {
      "text/plain": "<Figure size 720x720 with 1 Axes>",
      "image/svg+xml": "<?xml version=\"1.0\" encoding=\"utf-8\" standalone=\"no\"?>\r\n<!DOCTYPE svg PUBLIC \"-//W3C//DTD SVG 1.1//EN\"\r\n  \"http://www.w3.org/Graphics/SVG/1.1/DTD/svg11.dtd\">\r\n<svg height=\"589.79625pt\" version=\"1.1\" viewBox=\"0 0 621.70625 589.79625\" width=\"621.70625pt\" xmlns=\"http://www.w3.org/2000/svg\" xmlns:xlink=\"http://www.w3.org/1999/xlink\">\r\n <metadata>\r\n  <rdf:RDF xmlns:cc=\"http://creativecommons.org/ns#\" xmlns:dc=\"http://purl.org/dc/elements/1.1/\" xmlns:rdf=\"http://www.w3.org/1999/02/22-rdf-syntax-ns#\">\r\n   <cc:Work>\r\n    <dc:type rdf:resource=\"http://purl.org/dc/dcmitype/StillImage\"/>\r\n    <dc:date>2021-04-29T10:42:56.790258</dc:date>\r\n    <dc:format>image/svg+xml</dc:format>\r\n    <dc:creator>\r\n     <cc:Agent>\r\n      <dc:title>Matplotlib v3.4.1, https://matplotlib.org/</dc:title>\r\n     </cc:Agent>\r\n    </dc:creator>\r\n   </cc:Work>\r\n  </rdf:RDF>\r\n </metadata>\r\n <defs>\r\n  <style type=\"text/css\">*{stroke-linecap:butt;stroke-linejoin:round;}</style>\r\n </defs>\r\n <g id=\"figure_1\">\r\n  <g id=\"patch_1\">\r\n   <path d=\"M 0 589.79625 \r\nL 621.70625 589.79625 \r\nL 621.70625 0 \r\nL 0 0 \r\nz\r\n\" style=\"fill:none;\"/>\r\n  </g>\r\n  <g id=\"axes_1\">\r\n   <g id=\"patch_2\">\r\n    <path d=\"M 56.50625 565.918125 \r\nL 614.50625 565.918125 \r\nL 614.50625 22.318125 \r\nL 56.50625 22.318125 \r\nz\r\n\" style=\"fill:#ffffff;\"/>\r\n   </g>\r\n   <g id=\"patch_3\">\r\n    <path clip-path=\"url(#p9bf7f56cc3)\" d=\"M 98.890304 565.918125 \r\nL 108.354942 565.918125 \r\nL 108.354942 565.749845 \r\nL 98.890304 565.749845 \r\nz\r\n\" style=\"fill:#1f77b4;opacity:0.4;\"/>\r\n   </g>\r\n   <g id=\"patch_4\">\r\n    <path clip-path=\"url(#p9bf7f56cc3)\" d=\"M 108.354942 565.918125 \r\nL 117.81958 565.918125 \r\nL 117.81958 565.707775 \r\nL 108.354942 565.707775 \r\nz\r\n\" style=\"fill:#1f77b4;opacity:0.4;\"/>\r\n   </g>\r\n   <g id=\"patch_5\">\r\n    <path clip-path=\"url(#p9bf7f56cc3)\" d=\"M 117.81958 565.918125 \r\nL 127.284217 565.918125 \r\nL 127.284217 565.371214 \r\nL 117.81958 565.371214 \r\nz\r\n\" style=\"fill:#1f77b4;opacity:0.4;\"/>\r\n   </g>\r\n   <g id=\"patch_6\">\r\n    <path clip-path=\"url(#p9bf7f56cc3)\" d=\"M 127.284217 565.918125 \r\nL 136.748855 565.918125 \r\nL 136.748855 565.202934 \r\nL 127.284217 565.202934 \r\nz\r\n\" style=\"fill:#1f77b4;opacity:0.4;\"/>\r\n   </g>\r\n   <g id=\"patch_7\">\r\n    <path clip-path=\"url(#p9bf7f56cc3)\" d=\"M 136.748855 565.918125 \r\nL 146.213493 565.918125 \r\nL 146.213493 564.319462 \r\nL 136.748855 564.319462 \r\nz\r\n\" style=\"fill:#1f77b4;opacity:0.4;\"/>\r\n   </g>\r\n   <g id=\"patch_8\">\r\n    <path clip-path=\"url(#p9bf7f56cc3)\" d=\"M 146.213493 565.918125 \r\nL 155.678131 565.918125 \r\nL 155.678131 564.361532 \r\nL 146.213493 564.361532 \r\nz\r\n\" style=\"fill:#1f77b4;opacity:0.4;\"/>\r\n   </g>\r\n   <g id=\"patch_9\">\r\n    <path clip-path=\"url(#p9bf7f56cc3)\" d=\"M 155.678131 565.918125 \r\nL 165.142769 565.918125 \r\nL 165.142769 563.267711 \r\nL 155.678131 563.267711 \r\nz\r\n\" style=\"fill:#1f77b4;opacity:0.4;\"/>\r\n   </g>\r\n   <g id=\"patch_10\">\r\n    <path clip-path=\"url(#p9bf7f56cc3)\" d=\"M 165.142769 565.918125 \r\nL 174.607407 565.918125 \r\nL 174.607407 556.83099 \r\nL 165.142769 556.83099 \r\nz\r\n\" style=\"fill:#1f77b4;opacity:0.4;\"/>\r\n   </g>\r\n   <g id=\"patch_11\">\r\n    <path clip-path=\"url(#p9bf7f56cc3)\" d=\"M 174.607407 565.918125 \r\nL 184.072044 565.918125 \r\nL 184.072044 557.251691 \r\nL 174.607407 557.251691 \r\nz\r\n\" style=\"fill:#1f77b4;opacity:0.4;\"/>\r\n   </g>\r\n   <g id=\"patch_12\">\r\n    <path clip-path=\"url(#p9bf7f56cc3)\" d=\"M 184.072044 565.918125 \r\nL 193.536682 565.918125 \r\nL 193.536682 545.976912 \r\nL 184.072044 545.976912 \r\nz\r\n\" style=\"fill:#1f77b4;opacity:0.4;\"/>\r\n   </g>\r\n   <g id=\"patch_13\">\r\n    <path clip-path=\"url(#p9bf7f56cc3)\" d=\"M 193.536682 565.918125 \r\nL 203.00132 565.918125 \r\nL 203.00132 544.88309 \r\nL 193.536682 544.88309 \r\nz\r\n\" style=\"fill:#1f77b4;opacity:0.4;\"/>\r\n   </g>\r\n   <g id=\"patch_14\">\r\n    <path clip-path=\"url(#p9bf7f56cc3)\" d=\"M 203.00132 565.918125 \r\nL 212.465958 565.918125 \r\nL 212.465958 526.161909 \r\nL 203.00132 526.161909 \r\nz\r\n\" style=\"fill:#1f77b4;opacity:0.4;\"/>\r\n   </g>\r\n   <g id=\"patch_15\">\r\n    <path clip-path=\"url(#p9bf7f56cc3)\" d=\"M 212.465958 565.918125 \r\nL 221.930596 565.918125 \r\nL 221.930596 533.944872 \r\nL 212.465958 533.944872 \r\nz\r\n\" style=\"fill:#1f77b4;opacity:0.4;\"/>\r\n   </g>\r\n   <g id=\"patch_16\">\r\n    <path clip-path=\"url(#p9bf7f56cc3)\" d=\"M 221.930596 565.918125 \r\nL 231.395234 565.918125 \r\nL 231.395234 527.25573 \r\nL 221.930596 527.25573 \r\nz\r\n\" style=\"fill:#1f77b4;opacity:0.4;\"/>\r\n   </g>\r\n   <g id=\"patch_17\">\r\n    <path clip-path=\"url(#p9bf7f56cc3)\" d=\"M 231.395234 565.918125 \r\nL 240.859872 565.918125 \r\nL 240.859872 498.437732 \r\nL 231.395234 498.437732 \r\nz\r\n\" style=\"fill:#1f77b4;opacity:0.4;\"/>\r\n   </g>\r\n   <g id=\"patch_18\">\r\n    <path clip-path=\"url(#p9bf7f56cc3)\" d=\"M 240.859872 565.918125 \r\nL 250.324509 565.918125 \r\nL 250.324509 511.100823 \r\nL 240.859872 511.100823 \r\nz\r\n\" style=\"fill:#1f77b4;opacity:0.4;\"/>\r\n   </g>\r\n   <g id=\"patch_19\">\r\n    <path clip-path=\"url(#p9bf7f56cc3)\" d=\"M 250.324509 565.918125 \r\nL 259.789147 565.918125 \r\nL 259.789147 473.616391 \r\nL 250.324509 473.616391 \r\nz\r\n\" style=\"fill:#1f77b4;opacity:0.4;\"/>\r\n   </g>\r\n   <g id=\"patch_20\">\r\n    <path clip-path=\"url(#p9bf7f56cc3)\" d=\"M 259.789147 565.918125 \r\nL 269.253785 565.918125 \r\nL 269.253785 492.337572 \r\nL 259.789147 492.337572 \r\nz\r\n\" style=\"fill:#1f77b4;opacity:0.4;\"/>\r\n   </g>\r\n   <g id=\"patch_21\">\r\n    <path clip-path=\"url(#p9bf7f56cc3)\" d=\"M 269.253785 565.918125 \r\nL 278.718423 565.918125 \r\nL 278.718423 481.104863 \r\nL 269.253785 481.104863 \r\nz\r\n\" style=\"fill:#1f77b4;opacity:0.4;\"/>\r\n   </g>\r\n   <g id=\"patch_22\">\r\n    <path clip-path=\"url(#p9bf7f56cc3)\" d=\"M 278.718423 565.918125 \r\nL 288.183061 565.918125 \r\nL 288.183061 417.074216 \r\nL 278.718423 417.074216 \r\nz\r\n\" style=\"fill:#1f77b4;opacity:0.4;\"/>\r\n   </g>\r\n   <g id=\"patch_23\">\r\n    <path clip-path=\"url(#p9bf7f56cc3)\" d=\"M 288.183061 565.918125 \r\nL 297.647699 565.918125 \r\nL 297.647699 445.597724 \r\nL 288.183061 445.597724 \r\nz\r\n\" style=\"fill:#1f77b4;opacity:0.4;\"/>\r\n   </g>\r\n   <g id=\"patch_24\">\r\n    <path clip-path=\"url(#p9bf7f56cc3)\" d=\"M 297.647699 565.918125 \r\nL 307.112336 565.918125 \r\nL 307.112336 361.457583 \r\nL 297.647699 361.457583 \r\nz\r\n\" style=\"fill:#1f77b4;opacity:0.4;\"/>\r\n   </g>\r\n   <g id=\"patch_25\">\r\n    <path clip-path=\"url(#p9bf7f56cc3)\" d=\"M 307.112336 565.918125 \r\nL 316.576974 565.918125 \r\nL 316.576974 408.029151 \r\nL 307.112336 408.029151 \r\nz\r\n\" style=\"fill:#1f77b4;opacity:0.4;\"/>\r\n   </g>\r\n   <g id=\"patch_26\">\r\n    <path clip-path=\"url(#p9bf7f56cc3)\" d=\"M 316.576974 565.918125 \r\nL 326.041612 565.918125 \r\nL 326.041612 290.022604 \r\nL 316.576974 290.022604 \r\nz\r\n\" style=\"fill:#1f77b4;opacity:0.4;\"/>\r\n   </g>\r\n   <g id=\"patch_27\">\r\n    <path clip-path=\"url(#p9bf7f56cc3)\" d=\"M 326.041612 565.918125 \r\nL 335.50625 565.918125 \r\nL 335.50625 356.156754 \r\nL 326.041612 356.156754 \r\nz\r\n\" style=\"fill:#1f77b4;opacity:0.4;\"/>\r\n   </g>\r\n   <g id=\"patch_28\">\r\n    <path clip-path=\"url(#p9bf7f56cc3)\" d=\"M 335.50625 565.918125 \r\nL 344.970888 565.918125 \r\nL 344.970888 338.613535 \r\nL 335.50625 338.613535 \r\nz\r\n\" style=\"fill:#1f77b4;opacity:0.4;\"/>\r\n   </g>\r\n   <g id=\"patch_29\">\r\n    <path clip-path=\"url(#p9bf7f56cc3)\" d=\"M 344.970888 565.918125 \r\nL 354.435526 565.918125 \r\nL 354.435526 182.491504 \r\nL 344.970888 182.491504 \r\nz\r\n\" style=\"fill:#1f77b4;opacity:0.4;\"/>\r\n   </g>\r\n   <g id=\"patch_30\">\r\n    <path clip-path=\"url(#p9bf7f56cc3)\" d=\"M 354.435526 565.918125 \r\nL 363.900164 565.918125 \r\nL 363.900164 281.81894 \r\nL 354.435526 281.81894 \r\nz\r\n\" style=\"fill:#1f77b4;opacity:0.4;\"/>\r\n   </g>\r\n   <g id=\"patch_31\">\r\n    <path clip-path=\"url(#p9bf7f56cc3)\" d=\"M 363.900164 565.918125 \r\nL 373.364801 565.918125 \r\nL 373.364801 107.859199 \r\nL 363.900164 107.859199 \r\nz\r\n\" style=\"fill:#1f77b4;opacity:0.4;\"/>\r\n   </g>\r\n   <g id=\"patch_32\">\r\n    <path clip-path=\"url(#p9bf7f56cc3)\" d=\"M 373.364801 565.918125 \r\nL 382.829439 565.918125 \r\nL 382.829439 240.632341 \r\nL 373.364801 240.632341 \r\nz\r\n\" style=\"fill:#1f77b4;opacity:0.4;\"/>\r\n   </g>\r\n   <g id=\"patch_33\">\r\n    <path clip-path=\"url(#p9bf7f56cc3)\" d=\"M 382.829439 565.918125 \r\nL 392.294077 565.918125 \r\nL 392.294077 48.203839 \r\nL 382.829439 48.203839 \r\nz\r\n\" style=\"fill:#1f77b4;opacity:0.4;\"/>\r\n   </g>\r\n   <g id=\"patch_34\">\r\n    <path clip-path=\"url(#p9bf7f56cc3)\" d=\"M 392.294077 565.918125 \r\nL 401.758715 565.918125 \r\nL 401.758715 220.859408 \r\nL 392.294077 220.859408 \r\nz\r\n\" style=\"fill:#1f77b4;opacity:0.4;\"/>\r\n   </g>\r\n   <g id=\"patch_35\">\r\n    <path clip-path=\"url(#p9bf7f56cc3)\" d=\"M 401.758715 565.918125 \r\nL 411.223353 565.918125 \r\nL 411.223353 222.836701 \r\nL 401.758715 222.836701 \r\nz\r\n\" style=\"fill:#1f77b4;opacity:0.4;\"/>\r\n   </g>\r\n   <g id=\"patch_36\">\r\n    <path clip-path=\"url(#p9bf7f56cc3)\" d=\"M 411.223353 565.918125 \r\nL 420.687991 565.918125 \r\nL 420.687991 56.155083 \r\nL 411.223353 56.155083 \r\nz\r\n\" style=\"fill:#1f77b4;opacity:0.4;\"/>\r\n   </g>\r\n   <g id=\"patch_37\">\r\n    <path clip-path=\"url(#p9bf7f56cc3)\" d=\"M 420.687991 565.918125 \r\nL 430.152628 565.918125 \r\nL 430.152628 243.240685 \r\nL 420.687991 243.240685 \r\nz\r\n\" style=\"fill:#1f77b4;opacity:0.4;\"/>\r\n   </g>\r\n   <g id=\"patch_38\">\r\n    <path clip-path=\"url(#p9bf7f56cc3)\" d=\"M 430.152628 565.918125 \r\nL 439.617266 565.918125 \r\nL 439.617266 137.939299 \r\nL 430.152628 137.939299 \r\nz\r\n\" style=\"fill:#1f77b4;opacity:0.4;\"/>\r\n   </g>\r\n   <g id=\"patch_39\">\r\n    <path clip-path=\"url(#p9bf7f56cc3)\" d=\"M 439.617266 565.918125 \r\nL 449.081904 565.918125 \r\nL 449.081904 324.730412 \r\nL 439.617266 324.730412 \r\nz\r\n\" style=\"fill:#1f77b4;opacity:0.4;\"/>\r\n   </g>\r\n   <g id=\"patch_40\">\r\n    <path clip-path=\"url(#p9bf7f56cc3)\" d=\"M 449.081904 565.918125 \r\nL 458.546542 565.918125 \r\nL 458.546542 380.557395 \r\nL 449.081904 380.557395 \r\nz\r\n\" style=\"fill:#1f77b4;opacity:0.4;\"/>\r\n   </g>\r\n   <g id=\"patch_41\">\r\n    <path clip-path=\"url(#p9bf7f56cc3)\" d=\"M 458.546542 565.918125 \r\nL 468.01118 565.918125 \r\nL 468.01118 377.57042 \r\nL 458.546542 377.57042 \r\nz\r\n\" style=\"fill:#1f77b4;opacity:0.4;\"/>\r\n   </g>\r\n   <g id=\"patch_42\">\r\n    <path clip-path=\"url(#p9bf7f56cc3)\" d=\"M 468.01118 565.918125 \r\nL 477.475818 565.918125 \r\nL 477.475818 491.538241 \r\nL 468.01118 491.538241 \r\nz\r\n\" style=\"fill:#1f77b4;opacity:0.4;\"/>\r\n   </g>\r\n   <g id=\"patch_43\">\r\n    <path clip-path=\"url(#p9bf7f56cc3)\" d=\"M 477.475818 565.918125 \r\nL 486.940456 565.918125 \r\nL 486.940456 513.540887 \r\nL 477.475818 513.540887 \r\nz\r\n\" style=\"fill:#1f77b4;opacity:0.4;\"/>\r\n   </g>\r\n   <g id=\"patch_44\">\r\n    <path clip-path=\"url(#p9bf7f56cc3)\" d=\"M 486.940456 565.918125 \r\nL 496.405093 565.918125 \r\nL 496.405093 549.552868 \r\nL 486.940456 549.552868 \r\nz\r\n\" style=\"fill:#1f77b4;opacity:0.4;\"/>\r\n   </g>\r\n   <g id=\"patch_45\">\r\n    <path clip-path=\"url(#p9bf7f56cc3)\" d=\"M 496.405093 565.918125 \r\nL 505.869731 565.918125 \r\nL 505.869731 557.16755 \r\nL 496.405093 557.16755 \r\nz\r\n\" style=\"fill:#1f77b4;opacity:0.4;\"/>\r\n   </g>\r\n   <g id=\"patch_46\">\r\n    <path clip-path=\"url(#p9bf7f56cc3)\" d=\"M 505.869731 565.918125 \r\nL 515.334369 565.918125 \r\nL 515.334369 564.109112 \r\nL 505.869731 564.109112 \r\nz\r\n\" style=\"fill:#1f77b4;opacity:0.4;\"/>\r\n   </g>\r\n   <g id=\"patch_47\">\r\n    <path clip-path=\"url(#p9bf7f56cc3)\" d=\"M 515.334369 565.918125 \r\nL 524.799007 565.918125 \r\nL 524.799007 565.287074 \r\nL 515.334369 565.287074 \r\nz\r\n\" style=\"fill:#1f77b4;opacity:0.4;\"/>\r\n   </g>\r\n   <g id=\"patch_48\">\r\n    <path clip-path=\"url(#p9bf7f56cc3)\" d=\"M 524.799007 565.918125 \r\nL 534.263645 565.918125 \r\nL 534.263645 565.539494 \r\nL 524.799007 565.539494 \r\nz\r\n\" style=\"fill:#1f77b4;opacity:0.4;\"/>\r\n   </g>\r\n   <g id=\"patch_49\">\r\n    <path clip-path=\"url(#p9bf7f56cc3)\" d=\"M 534.263645 565.918125 \r\nL 543.728283 565.918125 \r\nL 543.728283 565.918125 \r\nL 534.263645 565.918125 \r\nz\r\n\" style=\"fill:#1f77b4;opacity:0.4;\"/>\r\n   </g>\r\n   <g id=\"patch_50\">\r\n    <path clip-path=\"url(#p9bf7f56cc3)\" d=\"M 543.728283 565.918125 \r\nL 553.19292 565.918125 \r\nL 553.19292 565.833985 \r\nL 543.728283 565.833985 \r\nz\r\n\" style=\"fill:#1f77b4;opacity:0.4;\"/>\r\n   </g>\r\n   <g id=\"patch_51\">\r\n    <path clip-path=\"url(#p9bf7f56cc3)\" d=\"M 553.19292 565.918125 \r\nL 562.657558 565.918125 \r\nL 562.657558 565.876055 \r\nL 553.19292 565.876055 \r\nz\r\n\" style=\"fill:#1f77b4;opacity:0.4;\"/>\r\n   </g>\r\n   <g id=\"patch_52\">\r\n    <path clip-path=\"url(#p9bf7f56cc3)\" d=\"M 562.657558 565.918125 \r\nL 572.122196 565.918125 \r\nL 572.122196 565.833985 \r\nL 562.657558 565.833985 \r\nz\r\n\" style=\"fill:#1f77b4;opacity:0.4;\"/>\r\n   </g>\r\n   <g id=\"matplotlib.axis_1\">\r\n    <g id=\"xtick_1\">\r\n     <g id=\"line2d_1\">\r\n      <defs>\r\n       <path d=\"M 0 0 \r\nL 0 3.5 \r\n\" id=\"m36ad6c1b3a\" style=\"stroke:#000000;stroke-width:0.8;\"/>\r\n      </defs>\r\n      <g>\r\n       <use style=\"stroke:#000000;stroke-width:0.8;\" x=\"94.979296\" xlink:href=\"#m36ad6c1b3a\" y=\"565.918125\"/>\r\n      </g>\r\n     </g>\r\n     <g id=\"text_1\">\r\n      <!-- 0 -->\r\n      <g transform=\"translate(91.798046 580.516562)scale(0.1 -0.1)\">\r\n       <defs>\r\n        <path d=\"M 2034 4250 \r\nQ 1547 4250 1301 3770 \r\nQ 1056 3291 1056 2328 \r\nQ 1056 1369 1301 889 \r\nQ 1547 409 2034 409 \r\nQ 2525 409 2770 889 \r\nQ 3016 1369 3016 2328 \r\nQ 3016 3291 2770 3770 \r\nQ 2525 4250 2034 4250 \r\nz\r\nM 2034 4750 \r\nQ 2819 4750 3233 4129 \r\nQ 3647 3509 3647 2328 \r\nQ 3647 1150 3233 529 \r\nQ 2819 -91 2034 -91 \r\nQ 1250 -91 836 529 \r\nQ 422 1150 422 2328 \r\nQ 422 3509 836 4129 \r\nQ 1250 4750 2034 4750 \r\nz\r\n\" id=\"DejaVuSans-30\" transform=\"scale(0.015625)\"/>\r\n       </defs>\r\n       <use xlink:href=\"#DejaVuSans-30\"/>\r\n      </g>\r\n     </g>\r\n    </g>\r\n    <g id=\"xtick_2\">\r\n     <g id=\"line2d_2\">\r\n      <g>\r\n       <use style=\"stroke:#000000;stroke-width:0.8;\" x=\"173.199444\" xlink:href=\"#m36ad6c1b3a\" y=\"565.918125\"/>\r\n      </g>\r\n     </g>\r\n     <g id=\"text_2\">\r\n      <!-- 20 -->\r\n      <g transform=\"translate(166.836944 580.516562)scale(0.1 -0.1)\">\r\n       <defs>\r\n        <path d=\"M 1228 531 \r\nL 3431 531 \r\nL 3431 0 \r\nL 469 0 \r\nL 469 531 \r\nQ 828 903 1448 1529 \r\nQ 2069 2156 2228 2338 \r\nQ 2531 2678 2651 2914 \r\nQ 2772 3150 2772 3378 \r\nQ 2772 3750 2511 3984 \r\nQ 2250 4219 1831 4219 \r\nQ 1534 4219 1204 4116 \r\nQ 875 4013 500 3803 \r\nL 500 4441 \r\nQ 881 4594 1212 4672 \r\nQ 1544 4750 1819 4750 \r\nQ 2544 4750 2975 4387 \r\nQ 3406 4025 3406 3419 \r\nQ 3406 3131 3298 2873 \r\nQ 3191 2616 2906 2266 \r\nQ 2828 2175 2409 1742 \r\nQ 1991 1309 1228 531 \r\nz\r\n\" id=\"DejaVuSans-32\" transform=\"scale(0.015625)\"/>\r\n       </defs>\r\n       <use xlink:href=\"#DejaVuSans-32\"/>\r\n       <use x=\"63.623047\" xlink:href=\"#DejaVuSans-30\"/>\r\n      </g>\r\n     </g>\r\n    </g>\r\n    <g id=\"xtick_3\">\r\n     <g id=\"line2d_3\">\r\n      <g>\r\n       <use style=\"stroke:#000000;stroke-width:0.8;\" x=\"251.419591\" xlink:href=\"#m36ad6c1b3a\" y=\"565.918125\"/>\r\n      </g>\r\n     </g>\r\n     <g id=\"text_3\">\r\n      <!-- 40 -->\r\n      <g transform=\"translate(245.057091 580.516562)scale(0.1 -0.1)\">\r\n       <defs>\r\n        <path d=\"M 2419 4116 \r\nL 825 1625 \r\nL 2419 1625 \r\nL 2419 4116 \r\nz\r\nM 2253 4666 \r\nL 3047 4666 \r\nL 3047 1625 \r\nL 3713 1625 \r\nL 3713 1100 \r\nL 3047 1100 \r\nL 3047 0 \r\nL 2419 0 \r\nL 2419 1100 \r\nL 313 1100 \r\nL 313 1709 \r\nL 2253 4666 \r\nz\r\n\" id=\"DejaVuSans-34\" transform=\"scale(0.015625)\"/>\r\n       </defs>\r\n       <use xlink:href=\"#DejaVuSans-34\"/>\r\n       <use x=\"63.623047\" xlink:href=\"#DejaVuSans-30\"/>\r\n      </g>\r\n     </g>\r\n    </g>\r\n    <g id=\"xtick_4\">\r\n     <g id=\"line2d_4\">\r\n      <g>\r\n       <use style=\"stroke:#000000;stroke-width:0.8;\" x=\"329.639739\" xlink:href=\"#m36ad6c1b3a\" y=\"565.918125\"/>\r\n      </g>\r\n     </g>\r\n     <g id=\"text_4\">\r\n      <!-- 60 -->\r\n      <g transform=\"translate(323.277239 580.516562)scale(0.1 -0.1)\">\r\n       <defs>\r\n        <path d=\"M 2113 2584 \r\nQ 1688 2584 1439 2293 \r\nQ 1191 2003 1191 1497 \r\nQ 1191 994 1439 701 \r\nQ 1688 409 2113 409 \r\nQ 2538 409 2786 701 \r\nQ 3034 994 3034 1497 \r\nQ 3034 2003 2786 2293 \r\nQ 2538 2584 2113 2584 \r\nz\r\nM 3366 4563 \r\nL 3366 3988 \r\nQ 3128 4100 2886 4159 \r\nQ 2644 4219 2406 4219 \r\nQ 1781 4219 1451 3797 \r\nQ 1122 3375 1075 2522 \r\nQ 1259 2794 1537 2939 \r\nQ 1816 3084 2150 3084 \r\nQ 2853 3084 3261 2657 \r\nQ 3669 2231 3669 1497 \r\nQ 3669 778 3244 343 \r\nQ 2819 -91 2113 -91 \r\nQ 1303 -91 875 529 \r\nQ 447 1150 447 2328 \r\nQ 447 3434 972 4092 \r\nQ 1497 4750 2381 4750 \r\nQ 2619 4750 2861 4703 \r\nQ 3103 4656 3366 4563 \r\nz\r\n\" id=\"DejaVuSans-36\" transform=\"scale(0.015625)\"/>\r\n       </defs>\r\n       <use xlink:href=\"#DejaVuSans-36\"/>\r\n       <use x=\"63.623047\" xlink:href=\"#DejaVuSans-30\"/>\r\n      </g>\r\n     </g>\r\n    </g>\r\n    <g id=\"xtick_5\">\r\n     <g id=\"line2d_5\">\r\n      <g>\r\n       <use style=\"stroke:#000000;stroke-width:0.8;\" x=\"407.859886\" xlink:href=\"#m36ad6c1b3a\" y=\"565.918125\"/>\r\n      </g>\r\n     </g>\r\n     <g id=\"text_5\">\r\n      <!-- 80 -->\r\n      <g transform=\"translate(401.497386 580.516562)scale(0.1 -0.1)\">\r\n       <defs>\r\n        <path d=\"M 2034 2216 \r\nQ 1584 2216 1326 1975 \r\nQ 1069 1734 1069 1313 \r\nQ 1069 891 1326 650 \r\nQ 1584 409 2034 409 \r\nQ 2484 409 2743 651 \r\nQ 3003 894 3003 1313 \r\nQ 3003 1734 2745 1975 \r\nQ 2488 2216 2034 2216 \r\nz\r\nM 1403 2484 \r\nQ 997 2584 770 2862 \r\nQ 544 3141 544 3541 \r\nQ 544 4100 942 4425 \r\nQ 1341 4750 2034 4750 \r\nQ 2731 4750 3128 4425 \r\nQ 3525 4100 3525 3541 \r\nQ 3525 3141 3298 2862 \r\nQ 3072 2584 2669 2484 \r\nQ 3125 2378 3379 2068 \r\nQ 3634 1759 3634 1313 \r\nQ 3634 634 3220 271 \r\nQ 2806 -91 2034 -91 \r\nQ 1263 -91 848 271 \r\nQ 434 634 434 1313 \r\nQ 434 1759 690 2068 \r\nQ 947 2378 1403 2484 \r\nz\r\nM 1172 3481 \r\nQ 1172 3119 1398 2916 \r\nQ 1625 2713 2034 2713 \r\nQ 2441 2713 2670 2916 \r\nQ 2900 3119 2900 3481 \r\nQ 2900 3844 2670 4047 \r\nQ 2441 4250 2034 4250 \r\nQ 1625 4250 1398 4047 \r\nQ 1172 3844 1172 3481 \r\nz\r\n\" id=\"DejaVuSans-38\" transform=\"scale(0.015625)\"/>\r\n       </defs>\r\n       <use xlink:href=\"#DejaVuSans-38\"/>\r\n       <use x=\"63.623047\" xlink:href=\"#DejaVuSans-30\"/>\r\n      </g>\r\n     </g>\r\n    </g>\r\n    <g id=\"xtick_6\">\r\n     <g id=\"line2d_6\">\r\n      <g>\r\n       <use style=\"stroke:#000000;stroke-width:0.8;\" x=\"486.080034\" xlink:href=\"#m36ad6c1b3a\" y=\"565.918125\"/>\r\n      </g>\r\n     </g>\r\n     <g id=\"text_6\">\r\n      <!-- 100 -->\r\n      <g transform=\"translate(476.536284 580.516562)scale(0.1 -0.1)\">\r\n       <defs>\r\n        <path d=\"M 794 531 \r\nL 1825 531 \r\nL 1825 4091 \r\nL 703 3866 \r\nL 703 4441 \r\nL 1819 4666 \r\nL 2450 4666 \r\nL 2450 531 \r\nL 3481 531 \r\nL 3481 0 \r\nL 794 0 \r\nL 794 531 \r\nz\r\n\" id=\"DejaVuSans-31\" transform=\"scale(0.015625)\"/>\r\n       </defs>\r\n       <use xlink:href=\"#DejaVuSans-31\"/>\r\n       <use x=\"63.623047\" xlink:href=\"#DejaVuSans-30\"/>\r\n       <use x=\"127.246094\" xlink:href=\"#DejaVuSans-30\"/>\r\n      </g>\r\n     </g>\r\n    </g>\r\n    <g id=\"xtick_7\">\r\n     <g id=\"line2d_7\">\r\n      <g>\r\n       <use style=\"stroke:#000000;stroke-width:0.8;\" x=\"564.300181\" xlink:href=\"#m36ad6c1b3a\" y=\"565.918125\"/>\r\n      </g>\r\n     </g>\r\n     <g id=\"text_7\">\r\n      <!-- 120 -->\r\n      <g transform=\"translate(554.756431 580.516562)scale(0.1 -0.1)\">\r\n       <use xlink:href=\"#DejaVuSans-31\"/>\r\n       <use x=\"63.623047\" xlink:href=\"#DejaVuSans-32\"/>\r\n       <use x=\"127.246094\" xlink:href=\"#DejaVuSans-30\"/>\r\n      </g>\r\n     </g>\r\n    </g>\r\n   </g>\r\n   <g id=\"matplotlib.axis_2\">\r\n    <g id=\"ytick_1\">\r\n     <g id=\"line2d_8\">\r\n      <defs>\r\n       <path d=\"M 0 0 \r\nL -3.5 0 \r\n\" id=\"m037e366562\" style=\"stroke:#000000;stroke-width:0.8;\"/>\r\n      </defs>\r\n      <g>\r\n       <use style=\"stroke:#000000;stroke-width:0.8;\" x=\"56.50625\" xlink:href=\"#m037e366562\" y=\"565.918125\"/>\r\n      </g>\r\n     </g>\r\n     <g id=\"text_8\">\r\n      <!-- 0.000 -->\r\n      <g transform=\"translate(20.878125 569.717344)scale(0.1 -0.1)\">\r\n       <defs>\r\n        <path d=\"M 684 794 \r\nL 1344 794 \r\nL 1344 0 \r\nL 684 0 \r\nL 684 794 \r\nz\r\n\" id=\"DejaVuSans-2e\" transform=\"scale(0.015625)\"/>\r\n       </defs>\r\n       <use xlink:href=\"#DejaVuSans-30\"/>\r\n       <use x=\"63.623047\" xlink:href=\"#DejaVuSans-2e\"/>\r\n       <use x=\"95.410156\" xlink:href=\"#DejaVuSans-30\"/>\r\n       <use x=\"159.033203\" xlink:href=\"#DejaVuSans-30\"/>\r\n       <use x=\"222.65625\" xlink:href=\"#DejaVuSans-30\"/>\r\n      </g>\r\n     </g>\r\n    </g>\r\n    <g id=\"ytick_2\">\r\n     <g id=\"line2d_9\">\r\n      <g>\r\n       <use style=\"stroke:#000000;stroke-width:0.8;\" x=\"56.50625\" xlink:href=\"#m037e366562\" y=\"486.288279\"/>\r\n      </g>\r\n     </g>\r\n     <g id=\"text_9\">\r\n      <!-- 0.005 -->\r\n      <g transform=\"translate(20.878125 490.087497)scale(0.1 -0.1)\">\r\n       <defs>\r\n        <path d=\"M 691 4666 \r\nL 3169 4666 \r\nL 3169 4134 \r\nL 1269 4134 \r\nL 1269 2991 \r\nQ 1406 3038 1543 3061 \r\nQ 1681 3084 1819 3084 \r\nQ 2600 3084 3056 2656 \r\nQ 3513 2228 3513 1497 \r\nQ 3513 744 3044 326 \r\nQ 2575 -91 1722 -91 \r\nQ 1428 -91 1123 -41 \r\nQ 819 9 494 109 \r\nL 494 744 \r\nQ 775 591 1075 516 \r\nQ 1375 441 1709 441 \r\nQ 2250 441 2565 725 \r\nQ 2881 1009 2881 1497 \r\nQ 2881 1984 2565 2268 \r\nQ 2250 2553 1709 2553 \r\nQ 1456 2553 1204 2497 \r\nQ 953 2441 691 2322 \r\nL 691 4666 \r\nz\r\n\" id=\"DejaVuSans-35\" transform=\"scale(0.015625)\"/>\r\n       </defs>\r\n       <use xlink:href=\"#DejaVuSans-30\"/>\r\n       <use x=\"63.623047\" xlink:href=\"#DejaVuSans-2e\"/>\r\n       <use x=\"95.410156\" xlink:href=\"#DejaVuSans-30\"/>\r\n       <use x=\"159.033203\" xlink:href=\"#DejaVuSans-30\"/>\r\n       <use x=\"222.65625\" xlink:href=\"#DejaVuSans-35\"/>\r\n      </g>\r\n     </g>\r\n    </g>\r\n    <g id=\"ytick_3\">\r\n     <g id=\"line2d_10\">\r\n      <g>\r\n       <use style=\"stroke:#000000;stroke-width:0.8;\" x=\"56.50625\" xlink:href=\"#m037e366562\" y=\"406.658432\"/>\r\n      </g>\r\n     </g>\r\n     <g id=\"text_10\">\r\n      <!-- 0.010 -->\r\n      <g transform=\"translate(20.878125 410.457651)scale(0.1 -0.1)\">\r\n       <use xlink:href=\"#DejaVuSans-30\"/>\r\n       <use x=\"63.623047\" xlink:href=\"#DejaVuSans-2e\"/>\r\n       <use x=\"95.410156\" xlink:href=\"#DejaVuSans-30\"/>\r\n       <use x=\"159.033203\" xlink:href=\"#DejaVuSans-31\"/>\r\n       <use x=\"222.65625\" xlink:href=\"#DejaVuSans-30\"/>\r\n      </g>\r\n     </g>\r\n    </g>\r\n    <g id=\"ytick_4\">\r\n     <g id=\"line2d_11\">\r\n      <g>\r\n       <use style=\"stroke:#000000;stroke-width:0.8;\" x=\"56.50625\" xlink:href=\"#m037e366562\" y=\"327.028586\"/>\r\n      </g>\r\n     </g>\r\n     <g id=\"text_11\">\r\n      <!-- 0.015 -->\r\n      <g transform=\"translate(20.878125 330.827805)scale(0.1 -0.1)\">\r\n       <use xlink:href=\"#DejaVuSans-30\"/>\r\n       <use x=\"63.623047\" xlink:href=\"#DejaVuSans-2e\"/>\r\n       <use x=\"95.410156\" xlink:href=\"#DejaVuSans-30\"/>\r\n       <use x=\"159.033203\" xlink:href=\"#DejaVuSans-31\"/>\r\n       <use x=\"222.65625\" xlink:href=\"#DejaVuSans-35\"/>\r\n      </g>\r\n     </g>\r\n    </g>\r\n    <g id=\"ytick_5\">\r\n     <g id=\"line2d_12\">\r\n      <g>\r\n       <use style=\"stroke:#000000;stroke-width:0.8;\" x=\"56.50625\" xlink:href=\"#m037e366562\" y=\"247.39874\"/>\r\n      </g>\r\n     </g>\r\n     <g id=\"text_12\">\r\n      <!-- 0.020 -->\r\n      <g transform=\"translate(20.878125 251.197958)scale(0.1 -0.1)\">\r\n       <use xlink:href=\"#DejaVuSans-30\"/>\r\n       <use x=\"63.623047\" xlink:href=\"#DejaVuSans-2e\"/>\r\n       <use x=\"95.410156\" xlink:href=\"#DejaVuSans-30\"/>\r\n       <use x=\"159.033203\" xlink:href=\"#DejaVuSans-32\"/>\r\n       <use x=\"222.65625\" xlink:href=\"#DejaVuSans-30\"/>\r\n      </g>\r\n     </g>\r\n    </g>\r\n    <g id=\"ytick_6\">\r\n     <g id=\"line2d_13\">\r\n      <g>\r\n       <use style=\"stroke:#000000;stroke-width:0.8;\" x=\"56.50625\" xlink:href=\"#m037e366562\" y=\"167.768893\"/>\r\n      </g>\r\n     </g>\r\n     <g id=\"text_13\">\r\n      <!-- 0.025 -->\r\n      <g transform=\"translate(20.878125 171.568112)scale(0.1 -0.1)\">\r\n       <use xlink:href=\"#DejaVuSans-30\"/>\r\n       <use x=\"63.623047\" xlink:href=\"#DejaVuSans-2e\"/>\r\n       <use x=\"95.410156\" xlink:href=\"#DejaVuSans-30\"/>\r\n       <use x=\"159.033203\" xlink:href=\"#DejaVuSans-32\"/>\r\n       <use x=\"222.65625\" xlink:href=\"#DejaVuSans-35\"/>\r\n      </g>\r\n     </g>\r\n    </g>\r\n    <g id=\"ytick_7\">\r\n     <g id=\"line2d_14\">\r\n      <g>\r\n       <use style=\"stroke:#000000;stroke-width:0.8;\" x=\"56.50625\" xlink:href=\"#m037e366562\" y=\"88.139047\"/>\r\n      </g>\r\n     </g>\r\n     <g id=\"text_14\">\r\n      <!-- 0.030 -->\r\n      <g transform=\"translate(20.878125 91.938266)scale(0.1 -0.1)\">\r\n       <defs>\r\n        <path d=\"M 2597 2516 \r\nQ 3050 2419 3304 2112 \r\nQ 3559 1806 3559 1356 \r\nQ 3559 666 3084 287 \r\nQ 2609 -91 1734 -91 \r\nQ 1441 -91 1130 -33 \r\nQ 819 25 488 141 \r\nL 488 750 \r\nQ 750 597 1062 519 \r\nQ 1375 441 1716 441 \r\nQ 2309 441 2620 675 \r\nQ 2931 909 2931 1356 \r\nQ 2931 1769 2642 2001 \r\nQ 2353 2234 1838 2234 \r\nL 1294 2234 \r\nL 1294 2753 \r\nL 1863 2753 \r\nQ 2328 2753 2575 2939 \r\nQ 2822 3125 2822 3475 \r\nQ 2822 3834 2567 4026 \r\nQ 2313 4219 1838 4219 \r\nQ 1578 4219 1281 4162 \r\nQ 984 4106 628 3988 \r\nL 628 4550 \r\nQ 988 4650 1302 4700 \r\nQ 1616 4750 1894 4750 \r\nQ 2613 4750 3031 4423 \r\nQ 3450 4097 3450 3541 \r\nQ 3450 3153 3228 2886 \r\nQ 3006 2619 2597 2516 \r\nz\r\n\" id=\"DejaVuSans-33\" transform=\"scale(0.015625)\"/>\r\n       </defs>\r\n       <use xlink:href=\"#DejaVuSans-30\"/>\r\n       <use x=\"63.623047\" xlink:href=\"#DejaVuSans-2e\"/>\r\n       <use x=\"95.410156\" xlink:href=\"#DejaVuSans-30\"/>\r\n       <use x=\"159.033203\" xlink:href=\"#DejaVuSans-33\"/>\r\n       <use x=\"222.65625\" xlink:href=\"#DejaVuSans-30\"/>\r\n      </g>\r\n     </g>\r\n    </g>\r\n    <g id=\"text_15\">\r\n     <!-- Density -->\r\n     <g transform=\"translate(14.798437 313.126719)rotate(-90)scale(0.1 -0.1)\">\r\n      <defs>\r\n       <path d=\"M 1259 4147 \r\nL 1259 519 \r\nL 2022 519 \r\nQ 2988 519 3436 956 \r\nQ 3884 1394 3884 2338 \r\nQ 3884 3275 3436 3711 \r\nQ 2988 4147 2022 4147 \r\nL 1259 4147 \r\nz\r\nM 628 4666 \r\nL 1925 4666 \r\nQ 3281 4666 3915 4102 \r\nQ 4550 3538 4550 2338 \r\nQ 4550 1131 3912 565 \r\nQ 3275 0 1925 0 \r\nL 628 0 \r\nL 628 4666 \r\nz\r\n\" id=\"DejaVuSans-44\" transform=\"scale(0.015625)\"/>\r\n       <path d=\"M 3597 1894 \r\nL 3597 1613 \r\nL 953 1613 \r\nQ 991 1019 1311 708 \r\nQ 1631 397 2203 397 \r\nQ 2534 397 2845 478 \r\nQ 3156 559 3463 722 \r\nL 3463 178 \r\nQ 3153 47 2828 -22 \r\nQ 2503 -91 2169 -91 \r\nQ 1331 -91 842 396 \r\nQ 353 884 353 1716 \r\nQ 353 2575 817 3079 \r\nQ 1281 3584 2069 3584 \r\nQ 2775 3584 3186 3129 \r\nQ 3597 2675 3597 1894 \r\nz\r\nM 3022 2063 \r\nQ 3016 2534 2758 2815 \r\nQ 2500 3097 2075 3097 \r\nQ 1594 3097 1305 2825 \r\nQ 1016 2553 972 2059 \r\nL 3022 2063 \r\nz\r\n\" id=\"DejaVuSans-65\" transform=\"scale(0.015625)\"/>\r\n       <path d=\"M 3513 2113 \r\nL 3513 0 \r\nL 2938 0 \r\nL 2938 2094 \r\nQ 2938 2591 2744 2837 \r\nQ 2550 3084 2163 3084 \r\nQ 1697 3084 1428 2787 \r\nQ 1159 2491 1159 1978 \r\nL 1159 0 \r\nL 581 0 \r\nL 581 3500 \r\nL 1159 3500 \r\nL 1159 2956 \r\nQ 1366 3272 1645 3428 \r\nQ 1925 3584 2291 3584 \r\nQ 2894 3584 3203 3211 \r\nQ 3513 2838 3513 2113 \r\nz\r\n\" id=\"DejaVuSans-6e\" transform=\"scale(0.015625)\"/>\r\n       <path d=\"M 2834 3397 \r\nL 2834 2853 \r\nQ 2591 2978 2328 3040 \r\nQ 2066 3103 1784 3103 \r\nQ 1356 3103 1142 2972 \r\nQ 928 2841 928 2578 \r\nQ 928 2378 1081 2264 \r\nQ 1234 2150 1697 2047 \r\nL 1894 2003 \r\nQ 2506 1872 2764 1633 \r\nQ 3022 1394 3022 966 \r\nQ 3022 478 2636 193 \r\nQ 2250 -91 1575 -91 \r\nQ 1294 -91 989 -36 \r\nQ 684 19 347 128 \r\nL 347 722 \r\nQ 666 556 975 473 \r\nQ 1284 391 1588 391 \r\nQ 1994 391 2212 530 \r\nQ 2431 669 2431 922 \r\nQ 2431 1156 2273 1281 \r\nQ 2116 1406 1581 1522 \r\nL 1381 1569 \r\nQ 847 1681 609 1914 \r\nQ 372 2147 372 2553 \r\nQ 372 3047 722 3315 \r\nQ 1072 3584 1716 3584 \r\nQ 2034 3584 2315 3537 \r\nQ 2597 3491 2834 3397 \r\nz\r\n\" id=\"DejaVuSans-73\" transform=\"scale(0.015625)\"/>\r\n       <path d=\"M 603 3500 \r\nL 1178 3500 \r\nL 1178 0 \r\nL 603 0 \r\nL 603 3500 \r\nz\r\nM 603 4863 \r\nL 1178 4863 \r\nL 1178 4134 \r\nL 603 4134 \r\nL 603 4863 \r\nz\r\n\" id=\"DejaVuSans-69\" transform=\"scale(0.015625)\"/>\r\n       <path d=\"M 1172 4494 \r\nL 1172 3500 \r\nL 2356 3500 \r\nL 2356 3053 \r\nL 1172 3053 \r\nL 1172 1153 \r\nQ 1172 725 1289 603 \r\nQ 1406 481 1766 481 \r\nL 2356 481 \r\nL 2356 0 \r\nL 1766 0 \r\nQ 1100 0 847 248 \r\nQ 594 497 594 1153 \r\nL 594 3053 \r\nL 172 3053 \r\nL 172 3500 \r\nL 594 3500 \r\nL 594 4494 \r\nL 1172 4494 \r\nz\r\n\" id=\"DejaVuSans-74\" transform=\"scale(0.015625)\"/>\r\n       <path d=\"M 2059 -325 \r\nQ 1816 -950 1584 -1140 \r\nQ 1353 -1331 966 -1331 \r\nL 506 -1331 \r\nL 506 -850 \r\nL 844 -850 \r\nQ 1081 -850 1212 -737 \r\nQ 1344 -625 1503 -206 \r\nL 1606 56 \r\nL 191 3500 \r\nL 800 3500 \r\nL 1894 763 \r\nL 2988 3500 \r\nL 3597 3500 \r\nL 2059 -325 \r\nz\r\n\" id=\"DejaVuSans-79\" transform=\"scale(0.015625)\"/>\r\n      </defs>\r\n      <use xlink:href=\"#DejaVuSans-44\"/>\r\n      <use x=\"77.001953\" xlink:href=\"#DejaVuSans-65\"/>\r\n      <use x=\"138.525391\" xlink:href=\"#DejaVuSans-6e\"/>\r\n      <use x=\"201.904297\" xlink:href=\"#DejaVuSans-73\"/>\r\n      <use x=\"254.003906\" xlink:href=\"#DejaVuSans-69\"/>\r\n      <use x=\"281.787109\" xlink:href=\"#DejaVuSans-74\"/>\r\n      <use x=\"320.996094\" xlink:href=\"#DejaVuSans-79\"/>\r\n     </g>\r\n    </g>\r\n   </g>\r\n   <g id=\"line2d_15\">\r\n    <path clip-path=\"url(#p9bf7f56cc3)\" d=\"M 81.869886 565.91747 \r\nL 102.26276 565.794061 \r\nL 117.557415 565.580961 \r\nL 127.753852 565.263148 \r\nL 143.048507 564.530042 \r\nL 150.695834 563.879589 \r\nL 155.794053 563.183431 \r\nL 158.343162 562.685003 \r\nL 160.892271 562.045019 \r\nL 163.44138 561.236371 \r\nL 168.539599 559.183634 \r\nL 173.637817 557.05077 \r\nL 178.736035 555.064619 \r\nL 181.285144 553.93381 \r\nL 183.834254 552.589096 \r\nL 186.383363 550.987988 \r\nL 188.932472 549.135589 \r\nL 194.03069 544.892349 \r\nL 199.128909 540.531029 \r\nL 201.678018 538.524451 \r\nL 206.776236 534.921601 \r\nL 214.423564 529.734475 \r\nL 216.972673 527.914623 \r\nL 219.521782 525.935201 \r\nL 222.070891 523.701753 \r\nL 232.267328 513.916751 \r\nL 237.365546 509.186044 \r\nL 239.914656 506.526276 \r\nL 247.561983 498.076434 \r\nL 252.660202 493.025931 \r\nL 255.209311 490.550794 \r\nL 257.75842 487.818053 \r\nL 260.307529 484.608007 \r\nL 262.856638 480.856171 \r\nL 267.954857 472.385901 \r\nL 275.602184 459.489985 \r\nL 278.151293 454.663387 \r\nL 280.700403 449.169815 \r\nL 285.798621 436.692042 \r\nL 288.34773 430.488003 \r\nL 290.896839 424.723005 \r\nL 301.093276 403.089786 \r\nL 303.642385 397.019227 \r\nL 306.191494 390.560244 \r\nL 308.740604 383.688591 \r\nL 311.289713 376.38871 \r\nL 316.387931 360.697791 \r\nL 324.035259 336.345299 \r\nL 329.133477 320.779394 \r\nL 336.780805 297.754288 \r\nL 341.879023 281.031407 \r\nL 354.624569 237.47032 \r\nL 359.722787 221.41598 \r\nL 362.271896 213.966295 \r\nL 364.821006 206.8995 \r\nL 369.919224 193.725647 \r\nL 375.017442 180.84066 \r\nL 382.66477 160.919143 \r\nL 385.213879 155.631053 \r\nL 387.762988 152.019523 \r\nL 390.312097 150.172075 \r\nL 392.861207 149.615058 \r\nL 403.057643 149.677263 \r\nL 405.606753 149.591809 \r\nL 408.155862 149.873221 \r\nL 410.704971 150.990192 \r\nL 413.25408 153.266299 \r\nL 415.803189 156.721875 \r\nL 418.352298 161.209598 \r\nL 420.901408 166.671254 \r\nL 423.450517 173.249185 \r\nL 425.999626 181.190431 \r\nL 428.548735 190.663491 \r\nL 431.097844 201.627359 \r\nL 433.646954 213.838088 \r\nL 436.196063 227.002551 \r\nL 438.745172 240.989144 \r\nL 441.294281 255.939827 \r\nL 443.84339 272.169079 \r\nL 446.392499 289.880866 \r\nL 451.490718 328.723335 \r\nL 456.588936 368.363016 \r\nL 461.687155 405.819939 \r\nL 464.236264 423.351773 \r\nL 466.785373 440.061664 \r\nL 469.334482 456.015399 \r\nL 471.883591 471.208613 \r\nL 474.4327 485.479523 \r\nL 476.98181 498.555924 \r\nL 479.530919 510.179436 \r\nL 482.080028 520.196637 \r\nL 484.629137 528.589988 \r\nL 487.178246 535.484681 \r\nL 489.727356 541.129916 \r\nL 492.276465 545.824593 \r\nL 494.825574 549.815165 \r\nL 497.374683 553.239478 \r\nL 499.923792 556.143367 \r\nL 502.472901 558.53259 \r\nL 505.022011 560.420413 \r\nL 507.57112 561.855202 \r\nL 510.120229 562.920271 \r\nL 512.669338 563.709231 \r\nL 515.218447 564.299157 \r\nL 517.767557 564.741389 \r\nL 522.865775 565.304299 \r\nL 527.963993 565.59459 \r\nL 535.611321 565.815213 \r\nL 545.807758 565.869882 \r\nL 568.74974 565.863556 \r\nL 589.142614 565.917783 \r\nL 589.142614 565.917783 \r\n\" style=\"fill:none;stroke:#1f77b4;stroke-linecap:square;stroke-width:1.5;\"/>\r\n   </g>\r\n   <g id=\"line2d_16\">\r\n    <path clip-path=\"url(#p9bf7f56cc3)\" d=\"M 388.30485 565.918125 \r\nL 388.30485 22.318125 \r\n\" style=\"fill:none;stroke:#ff0000;stroke-linecap:square;stroke-width:1.5;\"/>\r\n   </g>\r\n   <g id=\"line2d_17\">\r\n    <path clip-path=\"url(#p9bf7f56cc3)\" d=\"M 372.191499 565.918125 \r\nL 372.191499 22.318125 \r\n\" style=\"fill:none;stroke:#0000ff;stroke-linecap:square;stroke-width:1.5;\"/>\r\n   </g>\r\n   <g id=\"patch_53\">\r\n    <path d=\"M 56.50625 565.918125 \r\nL 56.50625 22.318125 \r\n\" style=\"fill:none;stroke:#000000;stroke-linecap:square;stroke-linejoin:miter;stroke-width:0.8;\"/>\r\n   </g>\r\n   <g id=\"patch_54\">\r\n    <path d=\"M 614.50625 565.918125 \r\nL 614.50625 22.318125 \r\n\" style=\"fill:none;stroke:#000000;stroke-linecap:square;stroke-linejoin:miter;stroke-width:0.8;\"/>\r\n   </g>\r\n   <g id=\"patch_55\">\r\n    <path d=\"M 56.50625 565.918125 \r\nL 614.50625 565.918125 \r\n\" style=\"fill:none;stroke:#000000;stroke-linecap:square;stroke-linejoin:miter;stroke-width:0.8;\"/>\r\n   </g>\r\n   <g id=\"patch_56\">\r\n    <path d=\"M 56.50625 22.318125 \r\nL 614.50625 22.318125 \r\n\" style=\"fill:none;stroke:#000000;stroke-linecap:square;stroke-linejoin:miter;stroke-width:0.8;\"/>\r\n   </g>\r\n   <g id=\"text_16\">\r\n    <!-- Mode=75 -->\r\n    <g transform=\"translate(395.903287 408.73812)rotate(-90)scale(0.1 -0.1)\">\r\n     <defs>\r\n      <path d=\"M 628 4666 \r\nL 1569 4666 \r\nL 2759 1491 \r\nL 3956 4666 \r\nL 4897 4666 \r\nL 4897 0 \r\nL 4281 0 \r\nL 4281 4097 \r\nL 3078 897 \r\nL 2444 897 \r\nL 1241 4097 \r\nL 1241 0 \r\nL 628 0 \r\nL 628 4666 \r\nz\r\n\" id=\"DejaVuSans-4d\" transform=\"scale(0.015625)\"/>\r\n      <path d=\"M 1959 3097 \r\nQ 1497 3097 1228 2736 \r\nQ 959 2375 959 1747 \r\nQ 959 1119 1226 758 \r\nQ 1494 397 1959 397 \r\nQ 2419 397 2687 759 \r\nQ 2956 1122 2956 1747 \r\nQ 2956 2369 2687 2733 \r\nQ 2419 3097 1959 3097 \r\nz\r\nM 1959 3584 \r\nQ 2709 3584 3137 3096 \r\nQ 3566 2609 3566 1747 \r\nQ 3566 888 3137 398 \r\nQ 2709 -91 1959 -91 \r\nQ 1206 -91 779 398 \r\nQ 353 888 353 1747 \r\nQ 353 2609 779 3096 \r\nQ 1206 3584 1959 3584 \r\nz\r\n\" id=\"DejaVuSans-6f\" transform=\"scale(0.015625)\"/>\r\n      <path d=\"M 2906 2969 \r\nL 2906 4863 \r\nL 3481 4863 \r\nL 3481 0 \r\nL 2906 0 \r\nL 2906 525 \r\nQ 2725 213 2448 61 \r\nQ 2172 -91 1784 -91 \r\nQ 1150 -91 751 415 \r\nQ 353 922 353 1747 \r\nQ 353 2572 751 3078 \r\nQ 1150 3584 1784 3584 \r\nQ 2172 3584 2448 3432 \r\nQ 2725 3281 2906 2969 \r\nz\r\nM 947 1747 \r\nQ 947 1113 1208 752 \r\nQ 1469 391 1925 391 \r\nQ 2381 391 2643 752 \r\nQ 2906 1113 2906 1747 \r\nQ 2906 2381 2643 2742 \r\nQ 2381 3103 1925 3103 \r\nQ 1469 3103 1208 2742 \r\nQ 947 2381 947 1747 \r\nz\r\n\" id=\"DejaVuSans-64\" transform=\"scale(0.015625)\"/>\r\n      <path d=\"M 678 2906 \r\nL 4684 2906 \r\nL 4684 2381 \r\nL 678 2381 \r\nL 678 2906 \r\nz\r\nM 678 1631 \r\nL 4684 1631 \r\nL 4684 1100 \r\nL 678 1100 \r\nL 678 1631 \r\nz\r\n\" id=\"DejaVuSans-3d\" transform=\"scale(0.015625)\"/>\r\n      <path d=\"M 525 4666 \r\nL 3525 4666 \r\nL 3525 4397 \r\nL 1831 0 \r\nL 1172 0 \r\nL 2766 4134 \r\nL 525 4134 \r\nL 525 4666 \r\nz\r\n\" id=\"DejaVuSans-37\" transform=\"scale(0.015625)\"/>\r\n     </defs>\r\n     <use xlink:href=\"#DejaVuSans-4d\"/>\r\n     <use x=\"86.279297\" xlink:href=\"#DejaVuSans-6f\"/>\r\n     <use x=\"147.460938\" xlink:href=\"#DejaVuSans-64\"/>\r\n     <use x=\"210.9375\" xlink:href=\"#DejaVuSans-65\"/>\r\n     <use x=\"272.460938\" xlink:href=\"#DejaVuSans-3d\"/>\r\n     <use x=\"356.25\" xlink:href=\"#DejaVuSans-37\"/>\r\n     <use x=\"419.873047\" xlink:href=\"#DejaVuSans-35\"/>\r\n    </g>\r\n   </g>\r\n   <g id=\"text_17\">\r\n    <!-- Mean=70 -->\r\n    <g transform=\"translate(379.789937 408.73812)rotate(-90)scale(0.1 -0.1)\">\r\n     <defs>\r\n      <path d=\"M 2194 1759 \r\nQ 1497 1759 1228 1600 \r\nQ 959 1441 959 1056 \r\nQ 959 750 1161 570 \r\nQ 1363 391 1709 391 \r\nQ 2188 391 2477 730 \r\nQ 2766 1069 2766 1631 \r\nL 2766 1759 \r\nL 2194 1759 \r\nz\r\nM 3341 1997 \r\nL 3341 0 \r\nL 2766 0 \r\nL 2766 531 \r\nQ 2569 213 2275 61 \r\nQ 1981 -91 1556 -91 \r\nQ 1019 -91 701 211 \r\nQ 384 513 384 1019 \r\nQ 384 1609 779 1909 \r\nQ 1175 2209 1959 2209 \r\nL 2766 2209 \r\nL 2766 2266 \r\nQ 2766 2663 2505 2880 \r\nQ 2244 3097 1772 3097 \r\nQ 1472 3097 1187 3025 \r\nQ 903 2953 641 2809 \r\nL 641 3341 \r\nQ 956 3463 1253 3523 \r\nQ 1550 3584 1831 3584 \r\nQ 2591 3584 2966 3190 \r\nQ 3341 2797 3341 1997 \r\nz\r\n\" id=\"DejaVuSans-61\" transform=\"scale(0.015625)\"/>\r\n     </defs>\r\n     <use xlink:href=\"#DejaVuSans-4d\"/>\r\n     <use x=\"86.279297\" xlink:href=\"#DejaVuSans-65\"/>\r\n     <use x=\"147.802734\" xlink:href=\"#DejaVuSans-61\"/>\r\n     <use x=\"209.082031\" xlink:href=\"#DejaVuSans-6e\"/>\r\n     <use x=\"272.460938\" xlink:href=\"#DejaVuSans-3d\"/>\r\n     <use x=\"356.25\" xlink:href=\"#DejaVuSans-37\"/>\r\n     <use x=\"419.873047\" xlink:href=\"#DejaVuSans-30\"/>\r\n    </g>\r\n   </g>\r\n   <g id=\"text_18\">\r\n    <!-- Esperance de vie -->\r\n    <g transform=\"translate(283.926875 16.318125)scale(0.12 -0.12)\">\r\n     <defs>\r\n      <path d=\"M 628 4666 \r\nL 3578 4666 \r\nL 3578 4134 \r\nL 1259 4134 \r\nL 1259 2753 \r\nL 3481 2753 \r\nL 3481 2222 \r\nL 1259 2222 \r\nL 1259 531 \r\nL 3634 531 \r\nL 3634 0 \r\nL 628 0 \r\nL 628 4666 \r\nz\r\n\" id=\"DejaVuSans-45\" transform=\"scale(0.015625)\"/>\r\n      <path d=\"M 1159 525 \r\nL 1159 -1331 \r\nL 581 -1331 \r\nL 581 3500 \r\nL 1159 3500 \r\nL 1159 2969 \r\nQ 1341 3281 1617 3432 \r\nQ 1894 3584 2278 3584 \r\nQ 2916 3584 3314 3078 \r\nQ 3713 2572 3713 1747 \r\nQ 3713 922 3314 415 \r\nQ 2916 -91 2278 -91 \r\nQ 1894 -91 1617 61 \r\nQ 1341 213 1159 525 \r\nz\r\nM 3116 1747 \r\nQ 3116 2381 2855 2742 \r\nQ 2594 3103 2138 3103 \r\nQ 1681 3103 1420 2742 \r\nQ 1159 2381 1159 1747 \r\nQ 1159 1113 1420 752 \r\nQ 1681 391 2138 391 \r\nQ 2594 391 2855 752 \r\nQ 3116 1113 3116 1747 \r\nz\r\n\" id=\"DejaVuSans-70\" transform=\"scale(0.015625)\"/>\r\n      <path d=\"M 2631 2963 \r\nQ 2534 3019 2420 3045 \r\nQ 2306 3072 2169 3072 \r\nQ 1681 3072 1420 2755 \r\nQ 1159 2438 1159 1844 \r\nL 1159 0 \r\nL 581 0 \r\nL 581 3500 \r\nL 1159 3500 \r\nL 1159 2956 \r\nQ 1341 3275 1631 3429 \r\nQ 1922 3584 2338 3584 \r\nQ 2397 3584 2469 3576 \r\nQ 2541 3569 2628 3553 \r\nL 2631 2963 \r\nz\r\n\" id=\"DejaVuSans-72\" transform=\"scale(0.015625)\"/>\r\n      <path d=\"M 3122 3366 \r\nL 3122 2828 \r\nQ 2878 2963 2633 3030 \r\nQ 2388 3097 2138 3097 \r\nQ 1578 3097 1268 2742 \r\nQ 959 2388 959 1747 \r\nQ 959 1106 1268 751 \r\nQ 1578 397 2138 397 \r\nQ 2388 397 2633 464 \r\nQ 2878 531 3122 666 \r\nL 3122 134 \r\nQ 2881 22 2623 -34 \r\nQ 2366 -91 2075 -91 \r\nQ 1284 -91 818 406 \r\nQ 353 903 353 1747 \r\nQ 353 2603 823 3093 \r\nQ 1294 3584 2113 3584 \r\nQ 2378 3584 2631 3529 \r\nQ 2884 3475 3122 3366 \r\nz\r\n\" id=\"DejaVuSans-63\" transform=\"scale(0.015625)\"/>\r\n      <path id=\"DejaVuSans-20\" transform=\"scale(0.015625)\"/>\r\n      <path d=\"M 191 3500 \r\nL 800 3500 \r\nL 1894 563 \r\nL 2988 3500 \r\nL 3597 3500 \r\nL 2284 0 \r\nL 1503 0 \r\nL 191 3500 \r\nz\r\n\" id=\"DejaVuSans-76\" transform=\"scale(0.015625)\"/>\r\n     </defs>\r\n     <use xlink:href=\"#DejaVuSans-45\"/>\r\n     <use x=\"63.183594\" xlink:href=\"#DejaVuSans-73\"/>\r\n     <use x=\"115.283203\" xlink:href=\"#DejaVuSans-70\"/>\r\n     <use x=\"178.759766\" xlink:href=\"#DejaVuSans-65\"/>\r\n     <use x=\"240.283203\" xlink:href=\"#DejaVuSans-72\"/>\r\n     <use x=\"281.396484\" xlink:href=\"#DejaVuSans-61\"/>\r\n     <use x=\"342.675781\" xlink:href=\"#DejaVuSans-6e\"/>\r\n     <use x=\"406.054688\" xlink:href=\"#DejaVuSans-63\"/>\r\n     <use x=\"461.035156\" xlink:href=\"#DejaVuSans-65\"/>\r\n     <use x=\"522.558594\" xlink:href=\"#DejaVuSans-20\"/>\r\n     <use x=\"554.345703\" xlink:href=\"#DejaVuSans-64\"/>\r\n     <use x=\"617.822266\" xlink:href=\"#DejaVuSans-65\"/>\r\n     <use x=\"679.345703\" xlink:href=\"#DejaVuSans-20\"/>\r\n     <use x=\"711.132812\" xlink:href=\"#DejaVuSans-76\"/>\r\n     <use x=\"770.3125\" xlink:href=\"#DejaVuSans-69\"/>\r\n     <use x=\"798.095703\" xlink:href=\"#DejaVuSans-65\"/>\r\n    </g>\r\n   </g>\r\n  </g>\r\n </g>\r\n <defs>\r\n  <clipPath id=\"p9bf7f56cc3\">\r\n   <rect height=\"543.6\" width=\"558\" x=\"56.50625\" y=\"22.318125\"/>\r\n  </clipPath>\r\n </defs>\r\n</svg>\r\n",
      "image/png": "[encoded data removed]"
     },
     "metadata": {
      "needs_background": "light"
     }
    }
   ],
   "source": [
    "fig, ax = plt.subplots(figsize=(10,10))\n",
    "ax1=sns.distplot(x=df_name_basics.esperance)\n",
    "plt.title('Esperance de vie')\n",
    "plt.axvline(75,0, color='r')\n",
    "plt.text(75,0.010,'Mode=75',rotation=90)\n",
    "plt.axvline(70.88, color='b')\n",
    "plt.text(70.88,0.010,'Mean=70',rotation=90)\n",
    "plt.show()"
   ]
  },
  {
   "source": [
    "fig, ax = plt.subplots(figsize=(10,10))\n",
    "sns.distplot(name_basics_no_nn,kde=False)\n",
    "plt.show()"
   ],
   "cell_type": "code",
   "metadata": {},
   "execution_count": 138,
   "outputs": [
    {
     "output_type": "stream",
     "name": "stderr",
     "text": [
      "C:\\Users\\simad\\AppData\\Local\\Programs\\Python\\Python39\\lib\\site-packages\\seaborn\\distributions.py:2557: FutureWarning: `distplot` is a deprecated function and will be removed in a future version. Please adapt your code to use either `displot` (a figure-level function with similar flexibility) or `histplot` (an axes-level function for histograms).\n  warnings.warn(msg, FutureWarning)\n"
     ]
    },
    {
     "output_type": "display_data",
     "data": {
      "text/plain": "<Figure size 720x720 with 1 Axes>",
      "image/svg+xml": "<?xml version=\"1.0\" encoding=\"utf-8\" standalone=\"no\"?>\r\n<!DOCTYPE svg PUBLIC \"-//W3C//DTD SVG 1.1//EN\"\r\n  \"http://www.w3.org/Graphics/SVG/1.1/DTD/svg11.dtd\">\r\n<svg height=\"588.35625pt\" version=\"1.1\" viewBox=\"0 0 617.575 588.35625\" width=\"617.575pt\" xmlns=\"http://www.w3.org/2000/svg\" xmlns:xlink=\"http://www.w3.org/1999/xlink\">\r\n <metadata>\r\n  <rdf:RDF xmlns:cc=\"http://creativecommons.org/ns#\" xmlns:dc=\"http://purl.org/dc/elements/1.1/\" xmlns:rdf=\"http://www.w3.org/1999/02/22-rdf-syntax-ns#\">\r\n   <cc:Work>\r\n    <dc:type rdf:resource=\"http://purl.org/dc/dcmitype/StillImage\"/>\r\n    <dc:date>2021-04-29T11:30:06.394836</dc:date>\r\n    <dc:format>image/svg+xml</dc:format>\r\n    <dc:creator>\r\n     <cc:Agent>\r\n      <dc:title>Matplotlib v3.4.1, https://matplotlib.org/</dc:title>\r\n     </cc:Agent>\r\n    </dc:creator>\r\n   </cc:Work>\r\n  </rdf:RDF>\r\n </metadata>\r\n <defs>\r\n  <style type=\"text/css\">*{stroke-linecap:butt;stroke-linejoin:round;}</style>\r\n </defs>\r\n <g id=\"figure_1\">\r\n  <g id=\"patch_1\">\r\n   <path d=\"M 0 588.35625 \r\nL 617.575 588.35625 \r\nL 617.575 0 \r\nL 0 0 \r\nz\r\n\" style=\"fill:none;\"/>\r\n  </g>\r\n  <g id=\"axes_1\">\r\n   <g id=\"patch_2\">\r\n    <path d=\"M 52.375 550.8 \r\nL 610.375 550.8 \r\nL 610.375 7.2 \r\nL 52.375 7.2 \r\nz\r\n\" style=\"fill:#ffffff;\"/>\r\n   </g>\r\n   <g id=\"patch_3\">\r\n    <path clip-path=\"url(#p37dd857455)\" d=\"M 77.738636 550.8 \r\nL 87.884091 550.8 \r\nL 87.884091 550.783031 \r\nL 77.738636 550.783031 \r\nz\r\n\" style=\"fill:#1f77b4;opacity:0.4;\"/>\r\n   </g>\r\n   <g id=\"patch_4\">\r\n    <path clip-path=\"url(#p37dd857455)\" d=\"M 87.884091 550.8 \r\nL 98.029545 550.8 \r\nL 98.029545 550.793636 \r\nL 87.884091 550.793636 \r\nz\r\n\" style=\"fill:#1f77b4;opacity:0.4;\"/>\r\n   </g>\r\n   <g id=\"patch_5\">\r\n    <path clip-path=\"url(#p37dd857455)\" d=\"M 98.029545 550.8 \r\nL 108.175 550.8 \r\nL 108.175 550.797879 \r\nL 98.029545 550.797879 \r\nz\r\n\" style=\"fill:#1f77b4;opacity:0.4;\"/>\r\n   </g>\r\n   <g id=\"patch_6\">\r\n    <path clip-path=\"url(#p37dd857455)\" d=\"M 108.175 550.8 \r\nL 118.320455 550.8 \r\nL 118.320455 550.797879 \r\nL 108.175 550.797879 \r\nz\r\n\" style=\"fill:#1f77b4;opacity:0.4;\"/>\r\n   </g>\r\n   <g id=\"patch_7\">\r\n    <path clip-path=\"url(#p37dd857455)\" d=\"M 118.320455 550.8 \r\nL 128.465909 550.8 \r\nL 128.465909 550.8 \r\nL 118.320455 550.8 \r\nz\r\n\" style=\"fill:#1f77b4;opacity:0.4;\"/>\r\n   </g>\r\n   <g id=\"patch_8\">\r\n    <path clip-path=\"url(#p37dd857455)\" d=\"M 128.465909 550.8 \r\nL 138.611364 550.8 \r\nL 138.611364 550.8 \r\nL 128.465909 550.8 \r\nz\r\n\" style=\"fill:#1f77b4;opacity:0.4;\"/>\r\n   </g>\r\n   <g id=\"patch_9\">\r\n    <path clip-path=\"url(#p37dd857455)\" d=\"M 138.611364 550.8 \r\nL 148.756818 550.8 \r\nL 148.756818 550.8 \r\nL 138.611364 550.8 \r\nz\r\n\" style=\"fill:#1f77b4;opacity:0.4;\"/>\r\n   </g>\r\n   <g id=\"patch_10\">\r\n    <path clip-path=\"url(#p37dd857455)\" d=\"M 148.756818 550.8 \r\nL 158.902273 550.8 \r\nL 158.902273 550.8 \r\nL 148.756818 550.8 \r\nz\r\n\" style=\"fill:#1f77b4;opacity:0.4;\"/>\r\n   </g>\r\n   <g id=\"patch_11\">\r\n    <path clip-path=\"url(#p37dd857455)\" d=\"M 158.902273 550.8 \r\nL 169.047727 550.8 \r\nL 169.047727 550.797879 \r\nL 158.902273 550.797879 \r\nz\r\n\" style=\"fill:#1f77b4;opacity:0.4;\"/>\r\n   </g>\r\n   <g id=\"patch_12\">\r\n    <path clip-path=\"url(#p37dd857455)\" d=\"M 169.047727 550.8 \r\nL 179.193182 550.8 \r\nL 179.193182 550.795758 \r\nL 169.047727 550.795758 \r\nz\r\n\" style=\"fill:#1f77b4;opacity:0.4;\"/>\r\n   </g>\r\n   <g id=\"patch_13\">\r\n    <path clip-path=\"url(#p37dd857455)\" d=\"M 179.193182 550.8 \r\nL 189.338636 550.8 \r\nL 189.338636 550.8 \r\nL 179.193182 550.8 \r\nz\r\n\" style=\"fill:#1f77b4;opacity:0.4;\"/>\r\n   </g>\r\n   <g id=\"patch_14\">\r\n    <path clip-path=\"url(#p37dd857455)\" d=\"M 189.338636 550.8 \r\nL 199.484091 550.8 \r\nL 199.484091 550.8 \r\nL 189.338636 550.8 \r\nz\r\n\" style=\"fill:#1f77b4;opacity:0.4;\"/>\r\n   </g>\r\n   <g id=\"patch_15\">\r\n    <path clip-path=\"url(#p37dd857455)\" d=\"M 199.484091 550.8 \r\nL 209.629545 550.8 \r\nL 209.629545 550.8 \r\nL 199.484091 550.8 \r\nz\r\n\" style=\"fill:#1f77b4;opacity:0.4;\"/>\r\n   </g>\r\n   <g id=\"patch_16\">\r\n    <path clip-path=\"url(#p37dd857455)\" d=\"M 209.629545 550.8 \r\nL 219.775 550.8 \r\nL 219.775 550.8 \r\nL 209.629545 550.8 \r\nz\r\n\" style=\"fill:#1f77b4;opacity:0.4;\"/>\r\n   </g>\r\n   <g id=\"patch_17\">\r\n    <path clip-path=\"url(#p37dd857455)\" d=\"M 219.775 550.8 \r\nL 229.920455 550.8 \r\nL 229.920455 550.797879 \r\nL 219.775 550.797879 \r\nz\r\n\" style=\"fill:#1f77b4;opacity:0.4;\"/>\r\n   </g>\r\n   <g id=\"patch_18\">\r\n    <path clip-path=\"url(#p37dd857455)\" d=\"M 229.920455 550.8 \r\nL 240.065909 550.8 \r\nL 240.065909 550.8 \r\nL 229.920455 550.8 \r\nz\r\n\" style=\"fill:#1f77b4;opacity:0.4;\"/>\r\n   </g>\r\n   <g id=\"patch_19\">\r\n    <path clip-path=\"url(#p37dd857455)\" d=\"M 240.065909 550.8 \r\nL 250.211364 550.8 \r\nL 250.211364 550.8 \r\nL 240.065909 550.8 \r\nz\r\n\" style=\"fill:#1f77b4;opacity:0.4;\"/>\r\n   </g>\r\n   <g id=\"patch_20\">\r\n    <path clip-path=\"url(#p37dd857455)\" d=\"M 250.211364 550.8 \r\nL 260.356818 550.8 \r\nL 260.356818 550.8 \r\nL 250.211364 550.8 \r\nz\r\n\" style=\"fill:#1f77b4;opacity:0.4;\"/>\r\n   </g>\r\n   <g id=\"patch_21\">\r\n    <path clip-path=\"url(#p37dd857455)\" d=\"M 260.356818 550.8 \r\nL 270.502273 550.8 \r\nL 270.502273 550.797879 \r\nL 260.356818 550.797879 \r\nz\r\n\" style=\"fill:#1f77b4;opacity:0.4;\"/>\r\n   </g>\r\n   <g id=\"patch_22\">\r\n    <path clip-path=\"url(#p37dd857455)\" d=\"M 270.502273 550.8 \r\nL 280.647727 550.8 \r\nL 280.647727 550.8 \r\nL 270.502273 550.8 \r\nz\r\n\" style=\"fill:#1f77b4;opacity:0.4;\"/>\r\n   </g>\r\n   <g id=\"patch_23\">\r\n    <path clip-path=\"url(#p37dd857455)\" d=\"M 280.647727 550.8 \r\nL 290.793182 550.8 \r\nL 290.793182 550.8 \r\nL 280.647727 550.8 \r\nz\r\n\" style=\"fill:#1f77b4;opacity:0.4;\"/>\r\n   </g>\r\n   <g id=\"patch_24\">\r\n    <path clip-path=\"url(#p37dd857455)\" d=\"M 290.793182 550.8 \r\nL 300.938636 550.8 \r\nL 300.938636 550.8 \r\nL 290.793182 550.8 \r\nz\r\n\" style=\"fill:#1f77b4;opacity:0.4;\"/>\r\n   </g>\r\n   <g id=\"patch_25\">\r\n    <path clip-path=\"url(#p37dd857455)\" d=\"M 300.938636 550.8 \r\nL 311.084091 550.8 \r\nL 311.084091 550.8 \r\nL 300.938636 550.8 \r\nz\r\n\" style=\"fill:#1f77b4;opacity:0.4;\"/>\r\n   </g>\r\n   <g id=\"patch_26\">\r\n    <path clip-path=\"url(#p37dd857455)\" d=\"M 311.084091 550.8 \r\nL 321.229545 550.8 \r\nL 321.229545 550.797879 \r\nL 311.084091 550.797879 \r\nz\r\n\" style=\"fill:#1f77b4;opacity:0.4;\"/>\r\n   </g>\r\n   <g id=\"patch_27\">\r\n    <path clip-path=\"url(#p37dd857455)\" d=\"M 321.229545 550.8 \r\nL 331.375 550.8 \r\nL 331.375 550.797879 \r\nL 321.229545 550.797879 \r\nz\r\n\" style=\"fill:#1f77b4;opacity:0.4;\"/>\r\n   </g>\r\n   <g id=\"patch_28\">\r\n    <path clip-path=\"url(#p37dd857455)\" d=\"M 331.375 550.8 \r\nL 341.520455 550.8 \r\nL 341.520455 550.797879 \r\nL 331.375 550.797879 \r\nz\r\n\" style=\"fill:#1f77b4;opacity:0.4;\"/>\r\n   </g>\r\n   <g id=\"patch_29\">\r\n    <path clip-path=\"url(#p37dd857455)\" d=\"M 341.520455 550.8 \r\nL 351.665909 550.8 \r\nL 351.665909 550.797879 \r\nL 341.520455 550.797879 \r\nz\r\n\" style=\"fill:#1f77b4;opacity:0.4;\"/>\r\n   </g>\r\n   <g id=\"patch_30\">\r\n    <path clip-path=\"url(#p37dd857455)\" d=\"M 351.665909 550.8 \r\nL 361.811364 550.8 \r\nL 361.811364 550.793636 \r\nL 351.665909 550.793636 \r\nz\r\n\" style=\"fill:#1f77b4;opacity:0.4;\"/>\r\n   </g>\r\n   <g id=\"patch_31\">\r\n    <path clip-path=\"url(#p37dd857455)\" d=\"M 361.811364 550.8 \r\nL 371.956818 550.8 \r\nL 371.956818 550.795758 \r\nL 361.811364 550.795758 \r\nz\r\n\" style=\"fill:#1f77b4;opacity:0.4;\"/>\r\n   </g>\r\n   <g id=\"patch_32\">\r\n    <path clip-path=\"url(#p37dd857455)\" d=\"M 371.956818 550.8 \r\nL 382.102273 550.8 \r\nL 382.102273 550.793636 \r\nL 371.956818 550.793636 \r\nz\r\n\" style=\"fill:#1f77b4;opacity:0.4;\"/>\r\n   </g>\r\n   <g id=\"patch_33\">\r\n    <path clip-path=\"url(#p37dd857455)\" d=\"M 382.102273 550.8 \r\nL 392.247727 550.8 \r\nL 392.247727 550.797879 \r\nL 382.102273 550.797879 \r\nz\r\n\" style=\"fill:#1f77b4;opacity:0.4;\"/>\r\n   </g>\r\n   <g id=\"patch_34\">\r\n    <path clip-path=\"url(#p37dd857455)\" d=\"M 392.247727 550.8 \r\nL 402.393182 550.8 \r\nL 402.393182 550.793636 \r\nL 392.247727 550.793636 \r\nz\r\n\" style=\"fill:#1f77b4;opacity:0.4;\"/>\r\n   </g>\r\n   <g id=\"patch_35\">\r\n    <path clip-path=\"url(#p37dd857455)\" d=\"M 402.393182 550.8 \r\nL 412.538636 550.8 \r\nL 412.538636 550.791515 \r\nL 402.393182 550.791515 \r\nz\r\n\" style=\"fill:#1f77b4;opacity:0.4;\"/>\r\n   </g>\r\n   <g id=\"patch_36\">\r\n    <path clip-path=\"url(#p37dd857455)\" d=\"M 412.538636 550.8 \r\nL 422.684091 550.8 \r\nL 422.684091 550.797879 \r\nL 412.538636 550.797879 \r\nz\r\n\" style=\"fill:#1f77b4;opacity:0.4;\"/>\r\n   </g>\r\n   <g id=\"patch_37\">\r\n    <path clip-path=\"url(#p37dd857455)\" d=\"M 422.684091 550.8 \r\nL 432.829545 550.8 \r\nL 432.829545 550.787273 \r\nL 422.684091 550.787273 \r\nz\r\n\" style=\"fill:#1f77b4;opacity:0.4;\"/>\r\n   </g>\r\n   <g id=\"patch_38\">\r\n    <path clip-path=\"url(#p37dd857455)\" d=\"M 432.829545 550.8 \r\nL 442.975 550.8 \r\nL 442.975 550.776667 \r\nL 432.829545 550.776667 \r\nz\r\n\" style=\"fill:#1f77b4;opacity:0.4;\"/>\r\n   </g>\r\n   <g id=\"patch_39\">\r\n    <path clip-path=\"url(#p37dd857455)\" d=\"M 442.975 550.8 \r\nL 453.120455 550.8 \r\nL 453.120455 550.759698 \r\nL 442.975 550.759698 \r\nz\r\n\" style=\"fill:#1f77b4;opacity:0.4;\"/>\r\n   </g>\r\n   <g id=\"patch_40\">\r\n    <path clip-path=\"url(#p37dd857455)\" d=\"M 453.120455 550.8 \r\nL 463.265909 550.8 \r\nL 463.265909 550.746971 \r\nL 453.120455 550.746971 \r\nz\r\n\" style=\"fill:#1f77b4;opacity:0.4;\"/>\r\n   </g>\r\n   <g id=\"patch_41\">\r\n    <path clip-path=\"url(#p37dd857455)\" d=\"M 463.265909 550.8 \r\nL 473.411364 550.8 \r\nL 473.411364 550.723638 \r\nL 463.265909 550.723638 \r\nz\r\n\" style=\"fill:#1f77b4;opacity:0.4;\"/>\r\n   </g>\r\n   <g id=\"patch_42\">\r\n    <path clip-path=\"url(#p37dd857455)\" d=\"M 473.411364 550.8 \r\nL 483.556818 550.8 \r\nL 483.556818 550.721517 \r\nL 473.411364 550.721517 \r\nz\r\n\" style=\"fill:#1f77b4;opacity:0.4;\"/>\r\n   </g>\r\n   <g id=\"patch_43\">\r\n    <path clip-path=\"url(#p37dd857455)\" d=\"M 483.556818 550.8 \r\nL 493.702273 550.8 \r\nL 493.702273 550.702426 \r\nL 483.556818 550.702426 \r\nz\r\n\" style=\"fill:#1f77b4;opacity:0.4;\"/>\r\n   </g>\r\n   <g id=\"patch_44\">\r\n    <path clip-path=\"url(#p37dd857455)\" d=\"M 493.702273 550.8 \r\nL 503.847727 550.8 \r\nL 503.847727 550.693941 \r\nL 493.702273 550.693941 \r\nz\r\n\" style=\"fill:#1f77b4;opacity:0.4;\"/>\r\n   </g>\r\n   <g id=\"patch_45\">\r\n    <path clip-path=\"url(#p37dd857455)\" d=\"M 503.847727 550.8 \r\nL 513.993182 550.8 \r\nL 513.993182 550.621822 \r\nL 503.847727 550.621822 \r\nz\r\n\" style=\"fill:#1f77b4;opacity:0.4;\"/>\r\n   </g>\r\n   <g id=\"patch_46\">\r\n    <path clip-path=\"url(#p37dd857455)\" d=\"M 513.993182 550.8 \r\nL 524.138636 550.8 \r\nL 524.138636 550.507278 \r\nL 513.993182 550.507278 \r\nz\r\n\" style=\"fill:#1f77b4;opacity:0.4;\"/>\r\n   </g>\r\n   <g id=\"patch_47\">\r\n    <path clip-path=\"url(#p37dd857455)\" d=\"M 524.138636 550.8 \r\nL 534.284091 550.8 \r\nL 534.284091 549.892139 \r\nL 524.138636 549.892139 \r\nz\r\n\" style=\"fill:#1f77b4;opacity:0.4;\"/>\r\n   </g>\r\n   <g id=\"patch_48\">\r\n    <path clip-path=\"url(#p37dd857455)\" d=\"M 534.284091 550.8 \r\nL 544.429545 550.8 \r\nL 544.429545 545.692219 \r\nL 534.284091 545.692219 \r\nz\r\n\" style=\"fill:#1f77b4;opacity:0.4;\"/>\r\n   </g>\r\n   <g id=\"patch_49\">\r\n    <path clip-path=\"url(#p37dd857455)\" d=\"M 544.429545 550.8 \r\nL 554.575 550.8 \r\nL 554.575 475.803867 \r\nL 544.429545 475.803867 \r\nz\r\n\" style=\"fill:#1f77b4;opacity:0.4;\"/>\r\n   </g>\r\n   <g id=\"patch_50\">\r\n    <path clip-path=\"url(#p37dd857455)\" d=\"M 554.575 550.8 \r\nL 564.720455 550.8 \r\nL 564.720455 259.732871 \r\nL 554.575 259.732871 \r\nz\r\n\" style=\"fill:#1f77b4;opacity:0.4;\"/>\r\n   </g>\r\n   <g id=\"patch_51\">\r\n    <path clip-path=\"url(#p37dd857455)\" d=\"M 564.720455 550.8 \r\nL 574.865909 550.8 \r\nL 574.865909 33.085714 \r\nL 564.720455 33.085714 \r\nz\r\n\" style=\"fill:#1f77b4;opacity:0.4;\"/>\r\n   </g>\r\n   <g id=\"patch_52\">\r\n    <path clip-path=\"url(#p37dd857455)\" d=\"M 574.865909 550.8 \r\nL 585.011364 550.8 \r\nL 585.011364 333.210245 \r\nL 574.865909 333.210245 \r\nz\r\n\" style=\"fill:#1f77b4;opacity:0.4;\"/>\r\n   </g>\r\n   <g id=\"matplotlib.axis_1\">\r\n    <g id=\"xtick_1\">\r\n     <g id=\"line2d_1\">\r\n      <defs>\r\n       <path d=\"M 0 0 \r\nL 0 3.5 \r\n\" id=\"mc654bcac29\" style=\"stroke:#000000;stroke-width:0.8;\"/>\r\n      </defs>\r\n      <g>\r\n       <use style=\"stroke:#000000;stroke-width:0.8;\" x=\"76.732642\" xlink:href=\"#mc654bcac29\" y=\"550.8\"/>\r\n      </g>\r\n     </g>\r\n     <g id=\"text_1\">\r\n      <!-- 0 -->\r\n      <g transform=\"translate(73.551392 565.398438)scale(0.1 -0.1)\">\r\n       <defs>\r\n        <path d=\"M 2034 4250 \r\nQ 1547 4250 1301 3770 \r\nQ 1056 3291 1056 2328 \r\nQ 1056 1369 1301 889 \r\nQ 1547 409 2034 409 \r\nQ 2525 409 2770 889 \r\nQ 3016 1369 3016 2328 \r\nQ 3016 3291 2770 3770 \r\nQ 2525 4250 2034 4250 \r\nz\r\nM 2034 4750 \r\nQ 2819 4750 3233 4129 \r\nQ 3647 3509 3647 2328 \r\nQ 3647 1150 3233 529 \r\nQ 2819 -91 2034 -91 \r\nQ 1250 -91 836 529 \r\nQ 422 1150 422 2328 \r\nQ 422 3509 836 4129 \r\nQ 1250 4750 2034 4750 \r\nz\r\n\" id=\"DejaVuSans-30\" transform=\"scale(0.015625)\"/>\r\n       </defs>\r\n       <use xlink:href=\"#DejaVuSans-30\"/>\r\n      </g>\r\n     </g>\r\n    </g>\r\n    <g id=\"xtick_2\">\r\n     <g id=\"line2d_2\">\r\n      <g>\r\n       <use style=\"stroke:#000000;stroke-width:0.8;\" x=\"139.607298\" xlink:href=\"#mc654bcac29\" y=\"550.8\"/>\r\n      </g>\r\n     </g>\r\n     <g id=\"text_2\">\r\n      <!-- 250 -->\r\n      <g transform=\"translate(130.063548 565.398438)scale(0.1 -0.1)\">\r\n       <defs>\r\n        <path d=\"M 1228 531 \r\nL 3431 531 \r\nL 3431 0 \r\nL 469 0 \r\nL 469 531 \r\nQ 828 903 1448 1529 \r\nQ 2069 2156 2228 2338 \r\nQ 2531 2678 2651 2914 \r\nQ 2772 3150 2772 3378 \r\nQ 2772 3750 2511 3984 \r\nQ 2250 4219 1831 4219 \r\nQ 1534 4219 1204 4116 \r\nQ 875 4013 500 3803 \r\nL 500 4441 \r\nQ 881 4594 1212 4672 \r\nQ 1544 4750 1819 4750 \r\nQ 2544 4750 2975 4387 \r\nQ 3406 4025 3406 3419 \r\nQ 3406 3131 3298 2873 \r\nQ 3191 2616 2906 2266 \r\nQ 2828 2175 2409 1742 \r\nQ 1991 1309 1228 531 \r\nz\r\n\" id=\"DejaVuSans-32\" transform=\"scale(0.015625)\"/>\r\n        <path d=\"M 691 4666 \r\nL 3169 4666 \r\nL 3169 4134 \r\nL 1269 4134 \r\nL 1269 2991 \r\nQ 1406 3038 1543 3061 \r\nQ 1681 3084 1819 3084 \r\nQ 2600 3084 3056 2656 \r\nQ 3513 2228 3513 1497 \r\nQ 3513 744 3044 326 \r\nQ 2575 -91 1722 -91 \r\nQ 1428 -91 1123 -41 \r\nQ 819 9 494 109 \r\nL 494 744 \r\nQ 775 591 1075 516 \r\nQ 1375 441 1709 441 \r\nQ 2250 441 2565 725 \r\nQ 2881 1009 2881 1497 \r\nQ 2881 1984 2565 2268 \r\nQ 2250 2553 1709 2553 \r\nQ 1456 2553 1204 2497 \r\nQ 953 2441 691 2322 \r\nL 691 4666 \r\nz\r\n\" id=\"DejaVuSans-35\" transform=\"scale(0.015625)\"/>\r\n       </defs>\r\n       <use xlink:href=\"#DejaVuSans-32\"/>\r\n       <use x=\"63.623047\" xlink:href=\"#DejaVuSans-35\"/>\r\n       <use x=\"127.246094\" xlink:href=\"#DejaVuSans-30\"/>\r\n      </g>\r\n     </g>\r\n    </g>\r\n    <g id=\"xtick_3\">\r\n     <g id=\"line2d_3\">\r\n      <g>\r\n       <use style=\"stroke:#000000;stroke-width:0.8;\" x=\"202.481955\" xlink:href=\"#mc654bcac29\" y=\"550.8\"/>\r\n      </g>\r\n     </g>\r\n     <g id=\"text_3\">\r\n      <!-- 500 -->\r\n      <g transform=\"translate(192.938205 565.398438)scale(0.1 -0.1)\">\r\n       <use xlink:href=\"#DejaVuSans-35\"/>\r\n       <use x=\"63.623047\" xlink:href=\"#DejaVuSans-30\"/>\r\n       <use x=\"127.246094\" xlink:href=\"#DejaVuSans-30\"/>\r\n      </g>\r\n     </g>\r\n    </g>\r\n    <g id=\"xtick_4\">\r\n     <g id=\"line2d_4\">\r\n      <g>\r\n       <use style=\"stroke:#000000;stroke-width:0.8;\" x=\"265.356611\" xlink:href=\"#mc654bcac29\" y=\"550.8\"/>\r\n      </g>\r\n     </g>\r\n     <g id=\"text_4\">\r\n      <!-- 750 -->\r\n      <g transform=\"translate(255.812861 565.398438)scale(0.1 -0.1)\">\r\n       <defs>\r\n        <path d=\"M 525 4666 \r\nL 3525 4666 \r\nL 3525 4397 \r\nL 1831 0 \r\nL 1172 0 \r\nL 2766 4134 \r\nL 525 4134 \r\nL 525 4666 \r\nz\r\n\" id=\"DejaVuSans-37\" transform=\"scale(0.015625)\"/>\r\n       </defs>\r\n       <use xlink:href=\"#DejaVuSans-37\"/>\r\n       <use x=\"63.623047\" xlink:href=\"#DejaVuSans-35\"/>\r\n       <use x=\"127.246094\" xlink:href=\"#DejaVuSans-30\"/>\r\n      </g>\r\n     </g>\r\n    </g>\r\n    <g id=\"xtick_5\">\r\n     <g id=\"line2d_5\">\r\n      <g>\r\n       <use style=\"stroke:#000000;stroke-width:0.8;\" x=\"328.231267\" xlink:href=\"#mc654bcac29\" y=\"550.8\"/>\r\n      </g>\r\n     </g>\r\n     <g id=\"text_5\">\r\n      <!-- 1000 -->\r\n      <g transform=\"translate(315.506267 565.398438)scale(0.1 -0.1)\">\r\n       <defs>\r\n        <path d=\"M 794 531 \r\nL 1825 531 \r\nL 1825 4091 \r\nL 703 3866 \r\nL 703 4441 \r\nL 1819 4666 \r\nL 2450 4666 \r\nL 2450 531 \r\nL 3481 531 \r\nL 3481 0 \r\nL 794 0 \r\nL 794 531 \r\nz\r\n\" id=\"DejaVuSans-31\" transform=\"scale(0.015625)\"/>\r\n       </defs>\r\n       <use xlink:href=\"#DejaVuSans-31\"/>\r\n       <use x=\"63.623047\" xlink:href=\"#DejaVuSans-30\"/>\r\n       <use x=\"127.246094\" xlink:href=\"#DejaVuSans-30\"/>\r\n       <use x=\"190.869141\" xlink:href=\"#DejaVuSans-30\"/>\r\n      </g>\r\n     </g>\r\n    </g>\r\n    <g id=\"xtick_6\">\r\n     <g id=\"line2d_6\">\r\n      <g>\r\n       <use style=\"stroke:#000000;stroke-width:0.8;\" x=\"391.105924\" xlink:href=\"#mc654bcac29\" y=\"550.8\"/>\r\n      </g>\r\n     </g>\r\n     <g id=\"text_6\">\r\n      <!-- 1250 -->\r\n      <g transform=\"translate(378.380924 565.398438)scale(0.1 -0.1)\">\r\n       <use xlink:href=\"#DejaVuSans-31\"/>\r\n       <use x=\"63.623047\" xlink:href=\"#DejaVuSans-32\"/>\r\n       <use x=\"127.246094\" xlink:href=\"#DejaVuSans-35\"/>\r\n       <use x=\"190.869141\" xlink:href=\"#DejaVuSans-30\"/>\r\n      </g>\r\n     </g>\r\n    </g>\r\n    <g id=\"xtick_7\">\r\n     <g id=\"line2d_7\">\r\n      <g>\r\n       <use style=\"stroke:#000000;stroke-width:0.8;\" x=\"453.98058\" xlink:href=\"#mc654bcac29\" y=\"550.8\"/>\r\n      </g>\r\n     </g>\r\n     <g id=\"text_7\">\r\n      <!-- 1500 -->\r\n      <g transform=\"translate(441.25558 565.398438)scale(0.1 -0.1)\">\r\n       <use xlink:href=\"#DejaVuSans-31\"/>\r\n       <use x=\"63.623047\" xlink:href=\"#DejaVuSans-35\"/>\r\n       <use x=\"127.246094\" xlink:href=\"#DejaVuSans-30\"/>\r\n       <use x=\"190.869141\" xlink:href=\"#DejaVuSans-30\"/>\r\n      </g>\r\n     </g>\r\n    </g>\r\n    <g id=\"xtick_8\">\r\n     <g id=\"line2d_8\">\r\n      <g>\r\n       <use style=\"stroke:#000000;stroke-width:0.8;\" x=\"516.855236\" xlink:href=\"#mc654bcac29\" y=\"550.8\"/>\r\n      </g>\r\n     </g>\r\n     <g id=\"text_8\">\r\n      <!-- 1750 -->\r\n      <g transform=\"translate(504.130236 565.398438)scale(0.1 -0.1)\">\r\n       <use xlink:href=\"#DejaVuSans-31\"/>\r\n       <use x=\"63.623047\" xlink:href=\"#DejaVuSans-37\"/>\r\n       <use x=\"127.246094\" xlink:href=\"#DejaVuSans-35\"/>\r\n       <use x=\"190.869141\" xlink:href=\"#DejaVuSans-30\"/>\r\n      </g>\r\n     </g>\r\n    </g>\r\n    <g id=\"xtick_9\">\r\n     <g id=\"line2d_9\">\r\n      <g>\r\n       <use style=\"stroke:#000000;stroke-width:0.8;\" x=\"579.729893\" xlink:href=\"#mc654bcac29\" y=\"550.8\"/>\r\n      </g>\r\n     </g>\r\n     <g id=\"text_9\">\r\n      <!-- 2000 -->\r\n      <g transform=\"translate(567.004893 565.398438)scale(0.1 -0.1)\">\r\n       <use xlink:href=\"#DejaVuSans-32\"/>\r\n       <use x=\"63.623047\" xlink:href=\"#DejaVuSans-30\"/>\r\n       <use x=\"127.246094\" xlink:href=\"#DejaVuSans-30\"/>\r\n       <use x=\"190.869141\" xlink:href=\"#DejaVuSans-30\"/>\r\n      </g>\r\n     </g>\r\n    </g>\r\n    <g id=\"text_10\">\r\n     <!-- birthYear -->\r\n     <g transform=\"translate(309.039844 579.076563)scale(0.1 -0.1)\">\r\n      <defs>\r\n       <path d=\"M 3116 1747 \r\nQ 3116 2381 2855 2742 \r\nQ 2594 3103 2138 3103 \r\nQ 1681 3103 1420 2742 \r\nQ 1159 2381 1159 1747 \r\nQ 1159 1113 1420 752 \r\nQ 1681 391 2138 391 \r\nQ 2594 391 2855 752 \r\nQ 3116 1113 3116 1747 \r\nz\r\nM 1159 2969 \r\nQ 1341 3281 1617 3432 \r\nQ 1894 3584 2278 3584 \r\nQ 2916 3584 3314 3078 \r\nQ 3713 2572 3713 1747 \r\nQ 3713 922 3314 415 \r\nQ 2916 -91 2278 -91 \r\nQ 1894 -91 1617 61 \r\nQ 1341 213 1159 525 \r\nL 1159 0 \r\nL 581 0 \r\nL 581 4863 \r\nL 1159 4863 \r\nL 1159 2969 \r\nz\r\n\" id=\"DejaVuSans-62\" transform=\"scale(0.015625)\"/>\r\n       <path d=\"M 603 3500 \r\nL 1178 3500 \r\nL 1178 0 \r\nL 603 0 \r\nL 603 3500 \r\nz\r\nM 603 4863 \r\nL 1178 4863 \r\nL 1178 4134 \r\nL 603 4134 \r\nL 603 4863 \r\nz\r\n\" id=\"DejaVuSans-69\" transform=\"scale(0.015625)\"/>\r\n       <path d=\"M 2631 2963 \r\nQ 2534 3019 2420 3045 \r\nQ 2306 3072 2169 3072 \r\nQ 1681 3072 1420 2755 \r\nQ 1159 2438 1159 1844 \r\nL 1159 0 \r\nL 581 0 \r\nL 581 3500 \r\nL 1159 3500 \r\nL 1159 2956 \r\nQ 1341 3275 1631 3429 \r\nQ 1922 3584 2338 3584 \r\nQ 2397 3584 2469 3576 \r\nQ 2541 3569 2628 3553 \r\nL 2631 2963 \r\nz\r\n\" id=\"DejaVuSans-72\" transform=\"scale(0.015625)\"/>\r\n       <path d=\"M 1172 4494 \r\nL 1172 3500 \r\nL 2356 3500 \r\nL 2356 3053 \r\nL 1172 3053 \r\nL 1172 1153 \r\nQ 1172 725 1289 603 \r\nQ 1406 481 1766 481 \r\nL 2356 481 \r\nL 2356 0 \r\nL 1766 0 \r\nQ 1100 0 847 248 \r\nQ 594 497 594 1153 \r\nL 594 3053 \r\nL 172 3053 \r\nL 172 3500 \r\nL 594 3500 \r\nL 594 4494 \r\nL 1172 4494 \r\nz\r\n\" id=\"DejaVuSans-74\" transform=\"scale(0.015625)\"/>\r\n       <path d=\"M 3513 2113 \r\nL 3513 0 \r\nL 2938 0 \r\nL 2938 2094 \r\nQ 2938 2591 2744 2837 \r\nQ 2550 3084 2163 3084 \r\nQ 1697 3084 1428 2787 \r\nQ 1159 2491 1159 1978 \r\nL 1159 0 \r\nL 581 0 \r\nL 581 4863 \r\nL 1159 4863 \r\nL 1159 2956 \r\nQ 1366 3272 1645 3428 \r\nQ 1925 3584 2291 3584 \r\nQ 2894 3584 3203 3211 \r\nQ 3513 2838 3513 2113 \r\nz\r\n\" id=\"DejaVuSans-68\" transform=\"scale(0.015625)\"/>\r\n       <path d=\"M -13 4666 \r\nL 666 4666 \r\nL 1959 2747 \r\nL 3244 4666 \r\nL 3922 4666 \r\nL 2272 2222 \r\nL 2272 0 \r\nL 1638 0 \r\nL 1638 2222 \r\nL -13 4666 \r\nz\r\n\" id=\"DejaVuSans-59\" transform=\"scale(0.015625)\"/>\r\n       <path d=\"M 3597 1894 \r\nL 3597 1613 \r\nL 953 1613 \r\nQ 991 1019 1311 708 \r\nQ 1631 397 2203 397 \r\nQ 2534 397 2845 478 \r\nQ 3156 559 3463 722 \r\nL 3463 178 \r\nQ 3153 47 2828 -22 \r\nQ 2503 -91 2169 -91 \r\nQ 1331 -91 842 396 \r\nQ 353 884 353 1716 \r\nQ 353 2575 817 3079 \r\nQ 1281 3584 2069 3584 \r\nQ 2775 3584 3186 3129 \r\nQ 3597 2675 3597 1894 \r\nz\r\nM 3022 2063 \r\nQ 3016 2534 2758 2815 \r\nQ 2500 3097 2075 3097 \r\nQ 1594 3097 1305 2825 \r\nQ 1016 2553 972 2059 \r\nL 3022 2063 \r\nz\r\n\" id=\"DejaVuSans-65\" transform=\"scale(0.015625)\"/>\r\n       <path d=\"M 2194 1759 \r\nQ 1497 1759 1228 1600 \r\nQ 959 1441 959 1056 \r\nQ 959 750 1161 570 \r\nQ 1363 391 1709 391 \r\nQ 2188 391 2477 730 \r\nQ 2766 1069 2766 1631 \r\nL 2766 1759 \r\nL 2194 1759 \r\nz\r\nM 3341 1997 \r\nL 3341 0 \r\nL 2766 0 \r\nL 2766 531 \r\nQ 2569 213 2275 61 \r\nQ 1981 -91 1556 -91 \r\nQ 1019 -91 701 211 \r\nQ 384 513 384 1019 \r\nQ 384 1609 779 1909 \r\nQ 1175 2209 1959 2209 \r\nL 2766 2209 \r\nL 2766 2266 \r\nQ 2766 2663 2505 2880 \r\nQ 2244 3097 1772 3097 \r\nQ 1472 3097 1187 3025 \r\nQ 903 2953 641 2809 \r\nL 641 3341 \r\nQ 956 3463 1253 3523 \r\nQ 1550 3584 1831 3584 \r\nQ 2591 3584 2966 3190 \r\nQ 3341 2797 3341 1997 \r\nz\r\n\" id=\"DejaVuSans-61\" transform=\"scale(0.015625)\"/>\r\n      </defs>\r\n      <use xlink:href=\"#DejaVuSans-62\"/>\r\n      <use x=\"63.476562\" xlink:href=\"#DejaVuSans-69\"/>\r\n      <use x=\"91.259766\" xlink:href=\"#DejaVuSans-72\"/>\r\n      <use x=\"132.373047\" xlink:href=\"#DejaVuSans-74\"/>\r\n      <use x=\"171.582031\" xlink:href=\"#DejaVuSans-68\"/>\r\n      <use x=\"234.960938\" xlink:href=\"#DejaVuSans-59\"/>\r\n      <use x=\"282.794922\" xlink:href=\"#DejaVuSans-65\"/>\r\n      <use x=\"344.318359\" xlink:href=\"#DejaVuSans-61\"/>\r\n      <use x=\"405.597656\" xlink:href=\"#DejaVuSans-72\"/>\r\n     </g>\r\n    </g>\r\n   </g>\r\n   <g id=\"matplotlib.axis_2\">\r\n    <g id=\"ytick_1\">\r\n     <g id=\"line2d_10\">\r\n      <defs>\r\n       <path d=\"M 0 0 \r\nL -3.5 0 \r\n\" id=\"m1d3d0022a8\" style=\"stroke:#000000;stroke-width:0.8;\"/>\r\n      </defs>\r\n      <g>\r\n       <use style=\"stroke:#000000;stroke-width:0.8;\" x=\"52.375\" xlink:href=\"#m1d3d0022a8\" y=\"550.8\"/>\r\n      </g>\r\n     </g>\r\n     <g id=\"text_11\">\r\n      <!-- 0 -->\r\n      <g transform=\"translate(39.0125 554.599219)scale(0.1 -0.1)\">\r\n       <use xlink:href=\"#DejaVuSans-30\"/>\r\n      </g>\r\n     </g>\r\n    </g>\r\n    <g id=\"ytick_2\">\r\n     <g id=\"line2d_11\">\r\n      <g>\r\n       <use style=\"stroke:#000000;stroke-width:0.8;\" x=\"52.375\" xlink:href=\"#m1d3d0022a8\" y=\"444.741434\"/>\r\n      </g>\r\n     </g>\r\n     <g id=\"text_12\">\r\n      <!-- 50000 -->\r\n      <g transform=\"translate(13.5625 448.540652)scale(0.1 -0.1)\">\r\n       <use xlink:href=\"#DejaVuSans-35\"/>\r\n       <use x=\"63.623047\" xlink:href=\"#DejaVuSans-30\"/>\r\n       <use x=\"127.246094\" xlink:href=\"#DejaVuSans-30\"/>\r\n       <use x=\"190.869141\" xlink:href=\"#DejaVuSans-30\"/>\r\n       <use x=\"254.492188\" xlink:href=\"#DejaVuSans-30\"/>\r\n      </g>\r\n     </g>\r\n    </g>\r\n    <g id=\"ytick_3\">\r\n     <g id=\"line2d_12\">\r\n      <g>\r\n       <use style=\"stroke:#000000;stroke-width:0.8;\" x=\"52.375\" xlink:href=\"#m1d3d0022a8\" y=\"338.682867\"/>\r\n      </g>\r\n     </g>\r\n     <g id=\"text_13\">\r\n      <!-- 100000 -->\r\n      <g transform=\"translate(7.2 342.482086)scale(0.1 -0.1)\">\r\n       <use xlink:href=\"#DejaVuSans-31\"/>\r\n       <use x=\"63.623047\" xlink:href=\"#DejaVuSans-30\"/>\r\n       <use x=\"127.246094\" xlink:href=\"#DejaVuSans-30\"/>\r\n       <use x=\"190.869141\" xlink:href=\"#DejaVuSans-30\"/>\r\n       <use x=\"254.492188\" xlink:href=\"#DejaVuSans-30\"/>\r\n       <use x=\"318.115234\" xlink:href=\"#DejaVuSans-30\"/>\r\n      </g>\r\n     </g>\r\n    </g>\r\n    <g id=\"ytick_4\">\r\n     <g id=\"line2d_13\">\r\n      <g>\r\n       <use style=\"stroke:#000000;stroke-width:0.8;\" x=\"52.375\" xlink:href=\"#m1d3d0022a8\" y=\"232.624301\"/>\r\n      </g>\r\n     </g>\r\n     <g id=\"text_14\">\r\n      <!-- 150000 -->\r\n      <g transform=\"translate(7.2 236.42352)scale(0.1 -0.1)\">\r\n       <use xlink:href=\"#DejaVuSans-31\"/>\r\n       <use x=\"63.623047\" xlink:href=\"#DejaVuSans-35\"/>\r\n       <use x=\"127.246094\" xlink:href=\"#DejaVuSans-30\"/>\r\n       <use x=\"190.869141\" xlink:href=\"#DejaVuSans-30\"/>\r\n       <use x=\"254.492188\" xlink:href=\"#DejaVuSans-30\"/>\r\n       <use x=\"318.115234\" xlink:href=\"#DejaVuSans-30\"/>\r\n      </g>\r\n     </g>\r\n    </g>\r\n    <g id=\"ytick_5\">\r\n     <g id=\"line2d_14\">\r\n      <g>\r\n       <use style=\"stroke:#000000;stroke-width:0.8;\" x=\"52.375\" xlink:href=\"#m1d3d0022a8\" y=\"126.565735\"/>\r\n      </g>\r\n     </g>\r\n     <g id=\"text_15\">\r\n      <!-- 200000 -->\r\n      <g transform=\"translate(7.2 130.364953)scale(0.1 -0.1)\">\r\n       <use xlink:href=\"#DejaVuSans-32\"/>\r\n       <use x=\"63.623047\" xlink:href=\"#DejaVuSans-30\"/>\r\n       <use x=\"127.246094\" xlink:href=\"#DejaVuSans-30\"/>\r\n       <use x=\"190.869141\" xlink:href=\"#DejaVuSans-30\"/>\r\n       <use x=\"254.492188\" xlink:href=\"#DejaVuSans-30\"/>\r\n       <use x=\"318.115234\" xlink:href=\"#DejaVuSans-30\"/>\r\n      </g>\r\n     </g>\r\n    </g>\r\n    <g id=\"ytick_6\">\r\n     <g id=\"line2d_15\">\r\n      <g>\r\n       <use style=\"stroke:#000000;stroke-width:0.8;\" x=\"52.375\" xlink:href=\"#m1d3d0022a8\" y=\"20.507168\"/>\r\n      </g>\r\n     </g>\r\n     <g id=\"text_16\">\r\n      <!-- 250000 -->\r\n      <g transform=\"translate(7.2 24.306387)scale(0.1 -0.1)\">\r\n       <use xlink:href=\"#DejaVuSans-32\"/>\r\n       <use x=\"63.623047\" xlink:href=\"#DejaVuSans-35\"/>\r\n       <use x=\"127.246094\" xlink:href=\"#DejaVuSans-30\"/>\r\n       <use x=\"190.869141\" xlink:href=\"#DejaVuSans-30\"/>\r\n       <use x=\"254.492188\" xlink:href=\"#DejaVuSans-30\"/>\r\n       <use x=\"318.115234\" xlink:href=\"#DejaVuSans-30\"/>\r\n      </g>\r\n     </g>\r\n    </g>\r\n   </g>\r\n   <g id=\"patch_53\">\r\n    <path d=\"M 52.375 550.8 \r\nL 52.375 7.2 \r\n\" style=\"fill:none;stroke:#000000;stroke-linecap:square;stroke-linejoin:miter;stroke-width:0.8;\"/>\r\n   </g>\r\n   <g id=\"patch_54\">\r\n    <path d=\"M 610.375 550.8 \r\nL 610.375 7.2 \r\n\" style=\"fill:none;stroke:#000000;stroke-linecap:square;stroke-linejoin:miter;stroke-width:0.8;\"/>\r\n   </g>\r\n   <g id=\"patch_55\">\r\n    <path d=\"M 52.375 550.8 \r\nL 610.375 550.8 \r\n\" style=\"fill:none;stroke:#000000;stroke-linecap:square;stroke-linejoin:miter;stroke-width:0.8;\"/>\r\n   </g>\r\n   <g id=\"patch_56\">\r\n    <path d=\"M 52.375 7.2 \r\nL 610.375 7.2 \r\n\" style=\"fill:none;stroke:#000000;stroke-linecap:square;stroke-linejoin:miter;stroke-width:0.8;\"/>\r\n   </g>\r\n  </g>\r\n </g>\r\n <defs>\r\n  <clipPath id=\"p37dd857455\">\r\n   <rect height=\"543.6\" width=\"558\" x=\"52.375\" y=\"7.2\"/>\r\n  </clipPath>\r\n </defs>\r\n</svg>\r\n",
      "image/png": "[encoded data removed]"
     },
     "metadata": {
      "needs_background": "light"
     }
    }
   ]
  },
  {
   "source": [
    "## Je lis les donnés de ma table pour trouver les quarties"
   ],
   "cell_type": "markdown",
   "metadata": {}
  },
  {
   "cell_type": "code",
   "execution_count": 14,
   "metadata": {},
   "outputs": [
    {
     "output_type": "execute_result",
     "data": {
      "text/plain": [
       "       averageRating      numVotes\n",
       "count   3.434119e+06  3.434119e+06\n",
       "mean    6.636495e+00  1.103767e+04\n",
       "std     1.355231e+00  6.472926e+04\n",
       "min     1.000000e+00  5.000000e+00\n",
       "25%     5.900000e+00  1.300000e+01\n",
       "50%     6.700000e+00  7.900000e+01\n",
       "75%     7.500000e+00  9.520000e+02\n",
       "max     1.000000e+01  2.371061e+06"
      ],
      "text/html": "<div>\n<style scoped>\n    .dataframe tbody tr th:only-of-type {\n        vertical-align: middle;\n    }\n\n    .dataframe tbody tr th {\n        vertical-align: top;\n    }\n\n    .dataframe thead th {\n        text-align: right;\n    }\n</style>\n<table border=\"1\" class=\"dataframe\">\n  <thead>\n    <tr style=\"text-align: right;\">\n      <th></th>\n      <th>averageRating</th>\n      <th>numVotes</th>\n    </tr>\n  </thead>\n  <tbody>\n    <tr>\n      <th>count</th>\n      <td>3.434119e+06</td>\n      <td>3.434119e+06</td>\n    </tr>\n    <tr>\n      <th>mean</th>\n      <td>6.636495e+00</td>\n      <td>1.103767e+04</td>\n    </tr>\n    <tr>\n      <th>std</th>\n      <td>1.355231e+00</td>\n      <td>6.472926e+04</td>\n    </tr>\n    <tr>\n      <th>min</th>\n      <td>1.000000e+00</td>\n      <td>5.000000e+00</td>\n    </tr>\n    <tr>\n      <th>25%</th>\n      <td>5.900000e+00</td>\n      <td>1.300000e+01</td>\n    </tr>\n    <tr>\n      <th>50%</th>\n      <td>6.700000e+00</td>\n      <td>7.900000e+01</td>\n    </tr>\n    <tr>\n      <th>75%</th>\n      <td>7.500000e+00</td>\n      <td>9.520000e+02</td>\n    </tr>\n    <tr>\n      <th>max</th>\n      <td>1.000000e+01</td>\n      <td>2.371061e+06</td>\n    </tr>\n  </tbody>\n</table>\n</div>"
     },
     "metadata": {},
     "execution_count": 14
    }
   ],
   "source": [
    "table_Film_Rating_title[[\"averageRating\", \"numVotes\"]].describe()"
   ]
  },
  {
   "cell_type": "code",
   "execution_count": 15,
   "metadata": {},
   "outputs": [
    {
     "output_type": "execute_result",
     "data": {
      "text/plain": [
       "FR    3189116\n",
       "JP    3180582\n",
       "DE    3144568\n",
       "ES    3117840\n",
       "IT    3101459\n",
       "IN    3098368\n",
       "PT    3045760\n",
       "US    1182736\n",
       "\\N     616644\n",
       "GB     320701\n",
       "Name: region, dtype: int64"
      ]
     },
     "metadata": {},
     "execution_count": 15
    }
   ],
   "source": [
    "title_akas['region'].value_counts().head(10)"
   ]
  },
  {
   "source": [
    "# un gros filtre region france, nm de vote 1500, rating supérieur à 6 et langues francaise\n",
    "# (table_Film_Rating_title['language']=='en')\n",
    "# (~table_film['genres'].str.contains(\"Adult\"))] toute les collones qui ne contient pas adult"
   ],
   "cell_type": "markdown",
   "metadata": {}
  },
  {
   "cell_type": "code",
   "execution_count": 17,
   "metadata": {},
   "outputs": [
    {
     "output_type": "error",
     "ename": "TypeError",
     "evalue": "bad operand type for unary ~: 'float'",
     "traceback": [
      "\u001b[1;31m---------------------------------------------------------------------------\u001b[0m",
      "\u001b[1;31mTypeError\u001b[0m                                 Traceback (most recent call last)",
      "\u001b[1;32m<ipython-input-17-b5b388ceb8b9>\u001b[0m in \u001b[0;36m<module>\u001b[1;34m\u001b[0m\n\u001b[0;32m      2\u001b[0m \u001b[1;31m#& (table_Film_Rating_title['language']=='en')\u001b[0m\u001b[1;33m\u001b[0m\u001b[1;33m\u001b[0m\u001b[1;33m\u001b[0m\u001b[0m\n\u001b[0;32m      3\u001b[0m \u001b[1;31m#(~table_film['genres'].str.contains(\"Adult\"))] toute les collones qui ne contient pas adult\u001b[0m\u001b[1;33m\u001b[0m\u001b[1;33m\u001b[0m\u001b[1;33m\u001b[0m\u001b[0m\n\u001b[1;32m----> 4\u001b[1;33m \u001b[0mtable_film\u001b[0m\u001b[1;33m=\u001b[0m\u001b[0mtable_Film_Rating_title\u001b[0m\u001b[1;33m[\u001b[0m\u001b[1;33m(\u001b[0m\u001b[0mtable_Film_Rating_title\u001b[0m\u001b[1;33m[\u001b[0m\u001b[1;34m'region'\u001b[0m\u001b[1;33m]\u001b[0m\u001b[1;33m==\u001b[0m\u001b[1;34m'FR'\u001b[0m\u001b[1;33m)\u001b[0m \u001b[1;33m&\u001b[0m \u001b[1;33m(\u001b[0m\u001b[0mtable_Film_Rating_title\u001b[0m\u001b[1;33m[\u001b[0m\u001b[1;34m'numVotes'\u001b[0m\u001b[1;33m]\u001b[0m\u001b[1;33m>\u001b[0m\u001b[1;36m1500\u001b[0m\u001b[1;33m)\u001b[0m \u001b[1;33m&\u001b[0m \u001b[1;33m(\u001b[0m\u001b[0mtable_Film_Rating_title\u001b[0m\u001b[1;33m[\u001b[0m\u001b[1;34m'titleType'\u001b[0m\u001b[1;33m]\u001b[0m\u001b[1;33m==\u001b[0m\u001b[1;34m\"movie\"\u001b[0m\u001b[1;33m)\u001b[0m \u001b[1;33m&\u001b[0m \u001b[1;33m(\u001b[0m\u001b[0mtable_Film_Rating_title\u001b[0m\u001b[1;33m[\u001b[0m\u001b[1;34m'averageRating'\u001b[0m\u001b[1;33m]\u001b[0m\u001b[1;33m>\u001b[0m\u001b[1;36m7\u001b[0m\u001b[1;33m)\u001b[0m \u001b[1;33m&\u001b[0m \u001b[1;33m(\u001b[0m\u001b[1;33m~\u001b[0m\u001b[0mtable_Film_Rating_title\u001b[0m\u001b[1;33m[\u001b[0m\u001b[1;34m'genres'\u001b[0m\u001b[1;33m]\u001b[0m\u001b[1;33m.\u001b[0m\u001b[0mstr\u001b[0m\u001b[1;33m.\u001b[0m\u001b[0mcontains\u001b[0m\u001b[1;33m(\u001b[0m\u001b[1;34m\"Adult\"\u001b[0m\u001b[1;33m)\u001b[0m\u001b[1;33m)\u001b[0m\u001b[1;33m]\u001b[0m\u001b[1;33m\u001b[0m\u001b[1;33m\u001b[0m\u001b[0m\n\u001b[0m",
      "\u001b[1;32m~\\AppData\\Local\\Programs\\Python\\Python39\\lib\\site-packages\\pandas\\core\\generic.py\u001b[0m in \u001b[0;36m__invert__\u001b[1;34m(self)\u001b[0m\n\u001b[0;32m   1434\u001b[0m             \u001b[1;32mreturn\u001b[0m \u001b[0mself\u001b[0m\u001b[1;33m\u001b[0m\u001b[1;33m\u001b[0m\u001b[0m\n\u001b[0;32m   1435\u001b[0m \u001b[1;33m\u001b[0m\u001b[0m\n\u001b[1;32m-> 1436\u001b[1;33m         \u001b[0mnew_data\u001b[0m \u001b[1;33m=\u001b[0m \u001b[0mself\u001b[0m\u001b[1;33m.\u001b[0m\u001b[0m_mgr\u001b[0m\u001b[1;33m.\u001b[0m\u001b[0mapply\u001b[0m\u001b[1;33m(\u001b[0m\u001b[0moperator\u001b[0m\u001b[1;33m.\u001b[0m\u001b[0minvert\u001b[0m\u001b[1;33m)\u001b[0m\u001b[1;33m\u001b[0m\u001b[1;33m\u001b[0m\u001b[0m\n\u001b[0m\u001b[0;32m   1437\u001b[0m         \u001b[0mresult\u001b[0m \u001b[1;33m=\u001b[0m \u001b[0mself\u001b[0m\u001b[1;33m.\u001b[0m\u001b[0m_constructor\u001b[0m\u001b[1;33m(\u001b[0m\u001b[0mnew_data\u001b[0m\u001b[1;33m)\u001b[0m\u001b[1;33m.\u001b[0m\u001b[0m__finalize__\u001b[0m\u001b[1;33m(\u001b[0m\u001b[0mself\u001b[0m\u001b[1;33m,\u001b[0m \u001b[0mmethod\u001b[0m\u001b[1;33m=\u001b[0m\u001b[1;34m\"__invert__\"\u001b[0m\u001b[1;33m)\u001b[0m\u001b[1;33m\u001b[0m\u001b[1;33m\u001b[0m\u001b[0m\n\u001b[0;32m   1438\u001b[0m         \u001b[1;32mreturn\u001b[0m \u001b[0mresult\u001b[0m\u001b[1;33m\u001b[0m\u001b[1;33m\u001b[0m\u001b[0m\n",
      "\u001b[1;32m~\\AppData\\Local\\Programs\\Python\\Python39\\lib\\site-packages\\pandas\\core\\internals\\managers.py\u001b[0m in \u001b[0;36mapply\u001b[1;34m(self, f, align_keys, ignore_failures, **kwargs)\u001b[0m\n\u001b[0;32m    423\u001b[0m             \u001b[1;32mtry\u001b[0m\u001b[1;33m:\u001b[0m\u001b[1;33m\u001b[0m\u001b[1;33m\u001b[0m\u001b[0m\n\u001b[0;32m    424\u001b[0m                 \u001b[1;32mif\u001b[0m \u001b[0mcallable\u001b[0m\u001b[1;33m(\u001b[0m\u001b[0mf\u001b[0m\u001b[1;33m)\u001b[0m\u001b[1;33m:\u001b[0m\u001b[1;33m\u001b[0m\u001b[1;33m\u001b[0m\u001b[0m\n\u001b[1;32m--> 425\u001b[1;33m                     \u001b[0mapplied\u001b[0m \u001b[1;33m=\u001b[0m \u001b[0mb\u001b[0m\u001b[1;33m.\u001b[0m\u001b[0mapply\u001b[0m\u001b[1;33m(\u001b[0m\u001b[0mf\u001b[0m\u001b[1;33m,\u001b[0m \u001b[1;33m**\u001b[0m\u001b[0mkwargs\u001b[0m\u001b[1;33m)\u001b[0m\u001b[1;33m\u001b[0m\u001b[1;33m\u001b[0m\u001b[0m\n\u001b[0m\u001b[0;32m    426\u001b[0m                 \u001b[1;32melse\u001b[0m\u001b[1;33m:\u001b[0m\u001b[1;33m\u001b[0m\u001b[1;33m\u001b[0m\u001b[0m\n\u001b[0;32m    427\u001b[0m                     \u001b[0mapplied\u001b[0m \u001b[1;33m=\u001b[0m \u001b[0mgetattr\u001b[0m\u001b[1;33m(\u001b[0m\u001b[0mb\u001b[0m\u001b[1;33m,\u001b[0m \u001b[0mf\u001b[0m\u001b[1;33m)\u001b[0m\u001b[1;33m(\u001b[0m\u001b[1;33m**\u001b[0m\u001b[0mkwargs\u001b[0m\u001b[1;33m)\u001b[0m\u001b[1;33m\u001b[0m\u001b[1;33m\u001b[0m\u001b[0m\n",
      "\u001b[1;32m~\\AppData\\Local\\Programs\\Python\\Python39\\lib\\site-packages\\pandas\\core\\internals\\blocks.py\u001b[0m in \u001b[0;36mapply\u001b[1;34m(self, func, **kwargs)\u001b[0m\n\u001b[0;32m    376\u001b[0m         \"\"\"\n\u001b[0;32m    377\u001b[0m         \u001b[1;32mwith\u001b[0m \u001b[0mnp\u001b[0m\u001b[1;33m.\u001b[0m\u001b[0merrstate\u001b[0m\u001b[1;33m(\u001b[0m\u001b[0mall\u001b[0m\u001b[1;33m=\u001b[0m\u001b[1;34m\"ignore\"\u001b[0m\u001b[1;33m)\u001b[0m\u001b[1;33m:\u001b[0m\u001b[1;33m\u001b[0m\u001b[1;33m\u001b[0m\u001b[0m\n\u001b[1;32m--> 378\u001b[1;33m             \u001b[0mresult\u001b[0m \u001b[1;33m=\u001b[0m \u001b[0mfunc\u001b[0m\u001b[1;33m(\u001b[0m\u001b[0mself\u001b[0m\u001b[1;33m.\u001b[0m\u001b[0mvalues\u001b[0m\u001b[1;33m,\u001b[0m \u001b[1;33m**\u001b[0m\u001b[0mkwargs\u001b[0m\u001b[1;33m)\u001b[0m\u001b[1;33m\u001b[0m\u001b[1;33m\u001b[0m\u001b[0m\n\u001b[0m\u001b[0;32m    379\u001b[0m \u001b[1;33m\u001b[0m\u001b[0m\n\u001b[0;32m    380\u001b[0m         \u001b[1;32mreturn\u001b[0m \u001b[0mself\u001b[0m\u001b[1;33m.\u001b[0m\u001b[0m_split_op_result\u001b[0m\u001b[1;33m(\u001b[0m\u001b[0mresult\u001b[0m\u001b[1;33m)\u001b[0m\u001b[1;33m\u001b[0m\u001b[1;33m\u001b[0m\u001b[0m\n",
      "\u001b[1;31mTypeError\u001b[0m: bad operand type for unary ~: 'float'"
     ]
    }
   ],
   "source": [
    "#On filtre sur region france, nm de vote 1500, rating supérieur à 6 et langues francaise\n",
    "#& (table_Film_Rating_title['language']=='en')\n",
    "#(~table_film['genres'].str.contains(\"Adult\"))] toute les collones qui ne contient pas adult\n",
    "table_film=table_Film_Rating_title[(table_Film_Rating_title['region']=='FR') & (table_Film_Rating_title['numVotes']>1500) & (table_Film_Rating_title['titleType']==\"movie\") & (table_Film_Rating_title['averageRating']>7) & (~table_Film_Rating_title['genres'].str.contains(\"Adult\"))] "
   ]
  },
  {
   "cell_type": "code",
   "execution_count": 33,
   "metadata": {},
   "outputs": [
    {
     "output_type": "error",
     "ename": "NameError",
     "evalue": "name 'table_film' is not defined",
     "traceback": [
      "\u001b[1;31m---------------------------------------------------------------------------\u001b[0m",
      "\u001b[1;31mNameError\u001b[0m                                 Traceback (most recent call last)",
      "\u001b[1;32m<ipython-input-33-2078b48a7071>\u001b[0m in \u001b[0;36m<module>\u001b[1;34m\u001b[0m\n\u001b[1;32m----> 1\u001b[1;33m \u001b[0mtable_film\u001b[0m\u001b[1;33m.\u001b[0m\u001b[0msort_values\u001b[0m\u001b[1;33m(\u001b[0m\u001b[1;34m'averageRating'\u001b[0m\u001b[1;33m,\u001b[0m \u001b[0mascending\u001b[0m\u001b[1;33m=\u001b[0m\u001b[1;32mFalse\u001b[0m\u001b[1;33m)\u001b[0m\u001b[1;33m\u001b[0m\u001b[1;33m\u001b[0m\u001b[0m\n\u001b[0m",
      "\u001b[1;31mNameError\u001b[0m: name 'table_film' is not defined"
     ]
    }
   ],
   "source": [
    "table_film.sort_values('averageRating', ascending=False)"
   ]
  },
  {
   "cell_type": "code",
   "execution_count": 32,
   "metadata": {},
   "outputs": [
    {
     "output_type": "error",
     "ename": "NameError",
     "evalue": "name 'table_Film_Rating_title' is not defined",
     "traceback": [
      "\u001b[1;31m---------------------------------------------------------------------------\u001b[0m",
      "\u001b[1;31mNameError\u001b[0m                                 Traceback (most recent call last)",
      "\u001b[1;32m<ipython-input-32-9e7fb348181c>\u001b[0m in \u001b[0;36m<module>\u001b[1;34m\u001b[0m\n\u001b[1;32m----> 1\u001b[1;33m \u001b[0mtable_film2\u001b[0m\u001b[1;33m=\u001b[0m\u001b[0mtable_film\u001b[0m\u001b[1;33m=\u001b[0m\u001b[0mtable_Film_Rating_title\u001b[0m\u001b[1;33m[\u001b[0m\u001b[1;33m(\u001b[0m\u001b[0mtable_Film_Rating_title\u001b[0m\u001b[1;33m[\u001b[0m\u001b[1;34m'region'\u001b[0m\u001b[1;33m]\u001b[0m\u001b[1;33m==\u001b[0m\u001b[1;34m'FR'\u001b[0m\u001b[1;33m)\u001b[0m  \u001b[1;33m&\u001b[0m \u001b[1;33m(\u001b[0m\u001b[0mtable_Film_Rating_title\u001b[0m\u001b[1;33m[\u001b[0m\u001b[1;34m'titleType'\u001b[0m\u001b[1;33m]\u001b[0m\u001b[1;33m==\u001b[0m\u001b[1;34m\"movie\"\u001b[0m\u001b[1;33m)\u001b[0m \u001b[1;33m&\u001b[0m \u001b[1;33m(\u001b[0m\u001b[0mtable_Film_Rating_title\u001b[0m\u001b[1;33m[\u001b[0m\u001b[1;34m'averageRating'\u001b[0m\u001b[1;33m]\u001b[0m\u001b[1;33m>\u001b[0m\u001b[1;36m7\u001b[0m\u001b[1;33m)\u001b[0m \u001b[1;33m&\u001b[0m \u001b[1;33m(\u001b[0m\u001b[1;33m~\u001b[0m\u001b[0mtable_film\u001b[0m\u001b[1;33m[\u001b[0m\u001b[1;34m'genres'\u001b[0m\u001b[1;33m]\u001b[0m\u001b[1;33m.\u001b[0m\u001b[0mstr\u001b[0m\u001b[1;33m.\u001b[0m\u001b[0mcontains\u001b[0m\u001b[1;33m(\u001b[0m\u001b[1;34m\"Adult\"\u001b[0m\u001b[1;33m)\u001b[0m\u001b[1;33m)\u001b[0m\u001b[1;33m]\u001b[0m\u001b[1;33m\u001b[0m\u001b[1;33m\u001b[0m\u001b[0m\n\u001b[0m",
      "\u001b[1;31mNameError\u001b[0m: name 'table_Film_Rating_title' is not defined"
     ]
    }
   ],
   "source": [
    "table_film2=table_film=table_Film_Rating_title[(table_Film_Rating_title['region']=='FR')  & (table_Film_Rating_title['titleType']==\"movie\") & (table_Film_Rating_title['averageRating']>7) & (~table_film['genres'].str.contains(\"Adult\"))] \n"
   ]
  },
  {
   "cell_type": "code",
   "execution_count": 82,
   "metadata": {},
   "outputs": [],
   "source": [
    "Copy_table_film=table_film.copy()"
   ]
  },
  {
   "cell_type": "code",
   "execution_count": 83,
   "metadata": {},
   "outputs": [],
   "source": [
    "Copy_table_film.drop_duplicates(subset =\"tconst\", inplace = True)"
   ]
  },
  {
   "cell_type": "code",
   "execution_count": 84,
   "metadata": {},
   "outputs": [
    {
     "output_type": "execute_result",
     "data": {
      "text/plain": [
       "             tconst titleType                              primaryTitle  \\\n",
       "814371    tt0111161     movie                  The Shawshank Redemption   \n",
       "473211    tt0068646     movie                             The Godfather   \n",
       "7799546  tt11989890     movie  David Attenborough: A Life on Our Planet   \n",
       "297588    tt0050083     movie                              12 Angry Men   \n",
       "499283    tt0071562     movie                    The Godfather: Part II   \n",
       "...             ...       ...                                       ...   \n",
       "258144    tt0045883     movie                                     Hondo   \n",
       "258243    tt0045888     movie                              House of Wax   \n",
       "2818283   tt0896872     movie                         The Whistleblower   \n",
       "2794038   tt0889652     movie                             Roman de gare   \n",
       "4929      tt0002130     movie                           Dante's Inferno   \n",
       "\n",
       "                                    originalTitle isAdult startYear endYear  \\\n",
       "814371                   The Shawshank Redemption       0      1994      \\N   \n",
       "473211                              The Godfather       0      1972      \\N   \n",
       "7799546  David Attenborough: A Life on Our Planet       0      2020      \\N   \n",
       "297588                               12 Angry Men       0      1957      \\N   \n",
       "499283                     The Godfather: Part II       0      1974      \\N   \n",
       "...                                           ...     ...       ...     ...   \n",
       "258144                                      Hondo       0      1953      \\N   \n",
       "258243                               House of Wax       0      1953      \\N   \n",
       "2818283                         The Whistleblower       0      2010      \\N   \n",
       "2794038                             Roman de gare       0      2007      \\N   \n",
       "4929                                    L'Inferno       0      1911      \\N   \n",
       "\n",
       "        runtimeMinutes                   genres  averageRating   numVotes  \\\n",
       "814371             142                    Drama            9.3  2371061.0   \n",
       "473211             175              Crime,Drama            9.2  1641939.0   \n",
       "7799546             83    Biography,Documentary            9.0    25983.0   \n",
       "297588              96              Crime,Drama            9.0   699696.0   \n",
       "499283             202              Crime,Drama            9.0  1143612.0   \n",
       "...                ...                      ...            ...        ...   \n",
       "258144              83        Drama,Romance,War            7.1     9739.0   \n",
       "258243              88                   Horror            7.1    16405.0   \n",
       "2818283            112    Biography,Crime,Drama            7.1    31974.0   \n",
       "2794038            103                    Drama            7.1     2411.0   \n",
       "4929                71  Adventure,Drama,Fantasy            7.1     2425.0   \n",
       "\n",
       "            titleId  ordering                                          title  \\\n",
       "814371    tt0111161      12.0                                     Les Évadés   \n",
       "473211    tt0068646      50.0                                     Le parrain   \n",
       "7799546  tt11989890      21.0  David Attenborough: Une vie sur notre planète   \n",
       "297588    tt0050083      16.0                         Douze hommes en colère   \n",
       "499283    tt0071562      69.0                        Le parrain, 2ème partie   \n",
       "...             ...       ...                                            ...   \n",
       "258144    tt0045883      10.0                                          Hondo   \n",
       "258243    tt0045888      39.0                      L'Homme au masque de cire   \n",
       "2818283   tt0896872      32.0                              Seule contre tous   \n",
       "2794038   tt0889652      12.0                                  Roman de gare   \n",
       "4929      tt0002130       3.0                                        L'enfer   \n",
       "\n",
       "        region language        types            attributes isOriginalTitle  \n",
       "814371      FR       \\N  imdbDisplay                    \\N               0  \n",
       "473211      FR       \\N  imdbDisplay                    \\N               0  \n",
       "7799546     FR       \\N  imdbDisplay                    \\N               0  \n",
       "297588      FR       \\N           \\N  alternative spelling               0  \n",
       "499283      FR       \\N  imdbDisplay                    \\N               0  \n",
       "...        ...      ...          ...                   ...             ...  \n",
       "258144      FR       \\N           \\N         DVD box title               0  \n",
       "258243      FR       \\N  imdbDisplay                    \\N               0  \n",
       "2818283     FR       \\N  imdbDisplay                    \\N               0  \n",
       "2794038     FR       \\N           \\N                    \\N               0  \n",
       "4929        FR       \\N           \\N                    \\N               0  \n",
       "\n",
       "[6129 rows x 19 columns]"
      ],
      "text/html": "<div>\n<style scoped>\n    .dataframe tbody tr th:only-of-type {\n        vertical-align: middle;\n    }\n\n    .dataframe tbody tr th {\n        vertical-align: top;\n    }\n\n    .dataframe thead th {\n        text-align: right;\n    }\n</style>\n<table border=\"1\" class=\"dataframe\">\n  <thead>\n    <tr style=\"text-align: right;\">\n      <th></th>\n      <th>tconst</th>\n      <th>titleType</th>\n      <th>primaryTitle</th>\n      <th>originalTitle</th>\n      <th>isAdult</th>\n      <th>startYear</th>\n      <th>endYear</th>\n      <th>runtimeMinutes</th>\n      <th>genres</th>\n      <th>averageRating</th>\n      <th>numVotes</th>\n      <th>titleId</th>\n      <th>ordering</th>\n      <th>title</th>\n      <th>region</th>\n      <th>language</th>\n      <th>types</th>\n      <th>attributes</th>\n      <th>isOriginalTitle</th>\n    </tr>\n  </thead>\n  <tbody>\n    <tr>\n      <th>814371</th>\n      <td>tt0111161</td>\n      <td>movie</td>\n      <td>The Shawshank Redemption</td>\n      <td>The Shawshank Redemption</td>\n      <td>0</td>\n      <td>1994</td>\n      <td>\\N</td>\n      <td>142</td>\n      <td>Drama</td>\n      <td>9.3</td>\n      <td>2371061.0</td>\n      <td>tt0111161</td>\n      <td>12.0</td>\n      <td>Les Évadés</td>\n      <td>FR</td>\n      <td>\\N</td>\n      <td>imdbDisplay</td>\n      <td>\\N</td>\n      <td>0</td>\n    </tr>\n    <tr>\n      <th>473211</th>\n      <td>tt0068646</td>\n      <td>movie</td>\n      <td>The Godfather</td>\n      <td>The Godfather</td>\n      <td>0</td>\n      <td>1972</td>\n      <td>\\N</td>\n      <td>175</td>\n      <td>Crime,Drama</td>\n      <td>9.2</td>\n      <td>1641939.0</td>\n      <td>tt0068646</td>\n      <td>50.0</td>\n      <td>Le parrain</td>\n      <td>FR</td>\n      <td>\\N</td>\n      <td>imdbDisplay</td>\n      <td>\\N</td>\n      <td>0</td>\n    </tr>\n    <tr>\n      <th>7799546</th>\n      <td>tt11989890</td>\n      <td>movie</td>\n      <td>David Attenborough: A Life on Our Planet</td>\n      <td>David Attenborough: A Life on Our Planet</td>\n      <td>0</td>\n      <td>2020</td>\n      <td>\\N</td>\n      <td>83</td>\n      <td>Biography,Documentary</td>\n      <td>9.0</td>\n      <td>25983.0</td>\n      <td>tt11989890</td>\n      <td>21.0</td>\n      <td>David Attenborough: Une vie sur notre planète</td>\n      <td>FR</td>\n      <td>\\N</td>\n      <td>imdbDisplay</td>\n      <td>\\N</td>\n      <td>0</td>\n    </tr>\n    <tr>\n      <th>297588</th>\n      <td>tt0050083</td>\n      <td>movie</td>\n      <td>12 Angry Men</td>\n      <td>12 Angry Men</td>\n      <td>0</td>\n      <td>1957</td>\n      <td>\\N</td>\n      <td>96</td>\n      <td>Crime,Drama</td>\n      <td>9.0</td>\n      <td>699696.0</td>\n      <td>tt0050083</td>\n      <td>16.0</td>\n      <td>Douze hommes en colère</td>\n      <td>FR</td>\n      <td>\\N</td>\n      <td>\\N</td>\n      <td>alternative spelling</td>\n      <td>0</td>\n    </tr>\n    <tr>\n      <th>499283</th>\n      <td>tt0071562</td>\n      <td>movie</td>\n      <td>The Godfather: Part II</td>\n      <td>The Godfather: Part II</td>\n      <td>0</td>\n      <td>1974</td>\n      <td>\\N</td>\n      <td>202</td>\n      <td>Crime,Drama</td>\n      <td>9.0</td>\n      <td>1143612.0</td>\n      <td>tt0071562</td>\n      <td>69.0</td>\n      <td>Le parrain, 2ème partie</td>\n      <td>FR</td>\n      <td>\\N</td>\n      <td>imdbDisplay</td>\n      <td>\\N</td>\n      <td>0</td>\n    </tr>\n    <tr>\n      <th>...</th>\n      <td>...</td>\n      <td>...</td>\n      <td>...</td>\n      <td>...</td>\n      <td>...</td>\n      <td>...</td>\n      <td>...</td>\n      <td>...</td>\n      <td>...</td>\n      <td>...</td>\n      <td>...</td>\n      <td>...</td>\n      <td>...</td>\n      <td>...</td>\n      <td>...</td>\n      <td>...</td>\n      <td>...</td>\n      <td>...</td>\n      <td>...</td>\n    </tr>\n    <tr>\n      <th>258144</th>\n      <td>tt0045883</td>\n      <td>movie</td>\n      <td>Hondo</td>\n      <td>Hondo</td>\n      <td>0</td>\n      <td>1953</td>\n      <td>\\N</td>\n      <td>83</td>\n      <td>Drama,Romance,War</td>\n      <td>7.1</td>\n      <td>9739.0</td>\n      <td>tt0045883</td>\n      <td>10.0</td>\n      <td>Hondo</td>\n      <td>FR</td>\n      <td>\\N</td>\n      <td>\\N</td>\n      <td>DVD box title</td>\n      <td>0</td>\n    </tr>\n    <tr>\n      <th>258243</th>\n      <td>tt0045888</td>\n      <td>movie</td>\n      <td>House of Wax</td>\n      <td>House of Wax</td>\n      <td>0</td>\n      <td>1953</td>\n      <td>\\N</td>\n      <td>88</td>\n      <td>Horror</td>\n      <td>7.1</td>\n      <td>16405.0</td>\n      <td>tt0045888</td>\n      <td>39.0</td>\n      <td>L'Homme au masque de cire</td>\n      <td>FR</td>\n      <td>\\N</td>\n      <td>imdbDisplay</td>\n      <td>\\N</td>\n      <td>0</td>\n    </tr>\n    <tr>\n      <th>2818283</th>\n      <td>tt0896872</td>\n      <td>movie</td>\n      <td>The Whistleblower</td>\n      <td>The Whistleblower</td>\n      <td>0</td>\n      <td>2010</td>\n      <td>\\N</td>\n      <td>112</td>\n      <td>Biography,Crime,Drama</td>\n      <td>7.1</td>\n      <td>31974.0</td>\n      <td>tt0896872</td>\n      <td>32.0</td>\n      <td>Seule contre tous</td>\n      <td>FR</td>\n      <td>\\N</td>\n      <td>imdbDisplay</td>\n      <td>\\N</td>\n      <td>0</td>\n    </tr>\n    <tr>\n      <th>2794038</th>\n      <td>tt0889652</td>\n      <td>movie</td>\n      <td>Roman de gare</td>\n      <td>Roman de gare</td>\n      <td>0</td>\n      <td>2007</td>\n      <td>\\N</td>\n      <td>103</td>\n      <td>Drama</td>\n      <td>7.1</td>\n      <td>2411.0</td>\n      <td>tt0889652</td>\n      <td>12.0</td>\n      <td>Roman de gare</td>\n      <td>FR</td>\n      <td>\\N</td>\n      <td>\\N</td>\n      <td>\\N</td>\n      <td>0</td>\n    </tr>\n    <tr>\n      <th>4929</th>\n      <td>tt0002130</td>\n      <td>movie</td>\n      <td>Dante's Inferno</td>\n      <td>L'Inferno</td>\n      <td>0</td>\n      <td>1911</td>\n      <td>\\N</td>\n      <td>71</td>\n      <td>Adventure,Drama,Fantasy</td>\n      <td>7.1</td>\n      <td>2425.0</td>\n      <td>tt0002130</td>\n      <td>3.0</td>\n      <td>L'enfer</td>\n      <td>FR</td>\n      <td>\\N</td>\n      <td>\\N</td>\n      <td>\\N</td>\n      <td>0</td>\n    </tr>\n  </tbody>\n</table>\n<p>6129 rows × 19 columns</p>\n</div>"
     },
     "metadata": {},
     "execution_count": 84
    }
   ],
   "source": [
    "Copy_table_film.sort_values('averageRating', ascending=False)"
   ]
  },
  {
   "cell_type": "code",
   "execution_count": 69,
   "metadata": {},
   "outputs": [
    {
     "output_type": "execute_result",
     "data": {
      "text/plain": [
       "Empty DataFrame\n",
       "Columns: [tconst, titleType, primaryTitle, originalTitle, isAdult, startYear, endYear, runtimeMinutes, genres, averageRating, numVotes, titleId, ordering, title, region, language, types, attributes, isOriginalTitle]\n",
       "Index: []"
      ],
      "text/html": "<div>\n<style scoped>\n    .dataframe tbody tr th:only-of-type {\n        vertical-align: middle;\n    }\n\n    .dataframe tbody tr th {\n        vertical-align: top;\n    }\n\n    .dataframe thead th {\n        text-align: right;\n    }\n</style>\n<table border=\"1\" class=\"dataframe\">\n  <thead>\n    <tr style=\"text-align: right;\">\n      <th></th>\n      <th>tconst</th>\n      <th>titleType</th>\n      <th>primaryTitle</th>\n      <th>originalTitle</th>\n      <th>isAdult</th>\n      <th>startYear</th>\n      <th>endYear</th>\n      <th>runtimeMinutes</th>\n      <th>genres</th>\n      <th>averageRating</th>\n      <th>numVotes</th>\n      <th>titleId</th>\n      <th>ordering</th>\n      <th>title</th>\n      <th>region</th>\n      <th>language</th>\n      <th>types</th>\n      <th>attributes</th>\n      <th>isOriginalTitle</th>\n    </tr>\n  </thead>\n  <tbody>\n  </tbody>\n</table>\n</div>"
     },
     "metadata": {},
     "execution_count": 69
    }
   ],
   "source": [
    "Copy_table_film[(Copy_table_film['startYear']=='\\\\N')]"
   ]
  },
  {
   "cell_type": "code",
   "execution_count": 30,
   "metadata": {},
   "outputs": [
    {
     "output_type": "execute_result",
     "data": {
      "text/plain": [
       "          tconst titleType                                       primaryTitle  \\\n",
       "3049   tt0111161     movie                           The Shawshank Redemption   \n",
       "1853   tt0068646     movie                                      The Godfather   \n",
       "4698  tt11989890     movie           David Attenborough: A Life on Our Planet   \n",
       "1037   tt0050083     movie                                       12 Angry Men   \n",
       "1962   tt0071562     movie                             The Godfather: Part II   \n",
       "4267   tt0468569     movie                                    The Dark Knight   \n",
       "2971   tt0108052     movie                                   Schindler's List   \n",
       "2416   tt0087349     movie              Blue Mountains, or Unbelievable Story   \n",
       "3471   tt0167260     movie      The Lord of the Rings: The Return of the King   \n",
       "3041   tt0110912     movie                                       Pulp Fiction   \n",
       "2110   tt0076276     movie                          Who's Singin' Over There?   \n",
       "3313   tt0120737     movie  The Lord of the Rings: The Fellowship of the Ring   \n",
       "6082   tt9151704     movie                          Burn the Stage: The Movie   \n",
       "5027   tt1754109     movie    Les Misérables in Concert: The 25th Anniversary   \n",
       "3015   tt0109830     movie                                       Forrest Gump   \n",
       "4822   tt1375666     movie                                          Inception   \n",
       "6116   tt9708358     movie                                          Uncle Tom   \n",
       "3377   tt0137523     movie                                         Fight Club   \n",
       "1520   tt0060196     movie                     The Good, the Bad and the Ugly   \n",
       "5792   tt5813916     movie                                    The Mountain II   \n",
       "\n",
       "                                          originalTitle  isAdult  startYear  \\\n",
       "3049                           The Shawshank Redemption        0       1994   \n",
       "1853                                      The Godfather        0       1972   \n",
       "4698           David Attenborough: A Life on Our Planet        0       2020   \n",
       "1037                                       12 Angry Men        0       1957   \n",
       "1962                             The Godfather: Part II        0       1974   \n",
       "4267                                    The Dark Knight        0       2008   \n",
       "2971                                   Schindler's List        0       1993   \n",
       "2416              Tsisperi mtebi anu daujerebeli ambavi        0       1983   \n",
       "3471      The Lord of the Rings: The Return of the King        0       2003   \n",
       "3041                                       Pulp Fiction        0       1994   \n",
       "2110                                    Ko to tamo peva        0       1980   \n",
       "3313  The Lord of the Rings: The Fellowship of the Ring        0       2001   \n",
       "6082                          Burn the Stage: The Movie        0       2018   \n",
       "5027    Les Misérables in Concert: The 25th Anniversary        0       2010   \n",
       "3015                                       Forrest Gump        0       1994   \n",
       "4822                                          Inception        0       2010   \n",
       "6116                                          Uncle Tom        0       2020   \n",
       "3377                                         Fight Club        0       1999   \n",
       "1520                    Il buono, il brutto, il cattivo        0       1966   \n",
       "5792                                             Dag II        0       2016   \n",
       "\n",
       "     endYear  runtimeMinutes                   genres  averageRating  \\\n",
       "3049      \\N             142                    Drama            9.3   \n",
       "1853      \\N             175              Crime,Drama            9.2   \n",
       "4698      \\N              83    Biography,Documentary            9.0   \n",
       "1037      \\N              96              Crime,Drama            9.0   \n",
       "1962      \\N             202              Crime,Drama            9.0   \n",
       "4267      \\N             152       Action,Crime,Drama            9.0   \n",
       "2971      \\N             195  Biography,Drama,History            8.9   \n",
       "2416      \\N              97             Comedy,Drama            8.9   \n",
       "3471      \\N             201   Action,Adventure,Drama            8.9   \n",
       "3041      \\N             154              Crime,Drama            8.9   \n",
       "2110      \\N              86   Adventure,Comedy,Drama            8.9   \n",
       "3313      \\N             178   Action,Adventure,Drama            8.8   \n",
       "6082      \\N              84        Documentary,Music            8.8   \n",
       "5027      \\N             178      Drama,Music,Musical            8.8   \n",
       "3015      \\N             142            Drama,Romance            8.8   \n",
       "4822      \\N             148  Action,Adventure,Sci-Fi            8.8   \n",
       "6116      \\N             106              Documentary            8.8   \n",
       "3377      \\N             139                    Drama            8.8   \n",
       "1520      \\N             161                  Western            8.8   \n",
       "5792      \\N             135         Action,Drama,War            8.8   \n",
       "\n",
       "       numVotes     titleId  ordering  \\\n",
       "3049  2371061.0   tt0111161      12.0   \n",
       "1853  1641939.0   tt0068646      50.0   \n",
       "4698    25983.0  tt11989890      21.0   \n",
       "1037   699696.0   tt0050083      16.0   \n",
       "1962  1143612.0   tt0071562      69.0   \n",
       "4267  2334544.0   tt0468569      38.0   \n",
       "2971  1226169.0   tt0108052       6.0   \n",
       "2416     1734.0   tt0087349      15.0   \n",
       "3471  1660071.0   tt0167260      27.0   \n",
       "3041  1847449.0   tt0110912      15.0   \n",
       "2110    14275.0   tt0076276      21.0   \n",
       "3313  1679924.0   tt0120737      45.0   \n",
       "6082     2592.0   tt9151704      10.0   \n",
       "5027     5545.0   tt1754109       1.0   \n",
       "3015  1833371.0   tt0109830      34.0   \n",
       "4822  2094100.0   tt1375666      15.0   \n",
       "6116     5352.0   tt9708358       8.0   \n",
       "3377  1876507.0   tt0137523      30.0   \n",
       "1520   695506.0   tt0060196      33.0   \n",
       "5792   105614.0   tt5813916      11.0   \n",
       "\n",
       "                                                  title region language  \\\n",
       "3049                                         Les Évadés     FR       \\N   \n",
       "1853                                         Le parrain     FR       \\N   \n",
       "4698      David Attenborough: Une vie sur notre planète     FR       \\N   \n",
       "1037                             Douze hommes en colère     FR       \\N   \n",
       "1962                            Le parrain, 2ème partie     FR       \\N   \n",
       "4267                The Dark Knight : Le Chevalier noir     FR       \\N   \n",
       "2971                              La liste de Schindler     FR       \\N   \n",
       "2416                               Les montagnes bleues     FR       \\N   \n",
       "3471         Le Seigneur des anneaux : Le Retour du roi     FR       \\N   \n",
       "3041                                       Pulp Fiction     FR       \\N   \n",
       "2110                                Qui chante là-bas ?     FR       \\N   \n",
       "3313  Le Seigneur des anneaux : La Communauté de l'a...     FR       \\N   \n",
       "6082                          Burn the Stage: The Movie     FR       \\N   \n",
       "5027    Les Misérables in Concert: The 25th Anniversary     FR       \\N   \n",
       "3015                                       Forrest Gump     FR       \\N   \n",
       "4822                                          Inception     FR       \\N   \n",
       "6116                                          Uncle Tom     FR       \\N   \n",
       "3377                                         Fight Club     FR       \\N   \n",
       "1520                      Le Bon, la brute et le truand     FR       \\N   \n",
       "5792                                        Montagne II     FR       \\N   \n",
       "\n",
       "            types            attributes  isOriginalTitle  \n",
       "3049  imdbDisplay                    \\N                0  \n",
       "1853  imdbDisplay                    \\N                0  \n",
       "4698  imdbDisplay                    \\N                0  \n",
       "1037           \\N  alternative spelling                0  \n",
       "1962  imdbDisplay                    \\N                0  \n",
       "4267  imdbDisplay                    \\N                0  \n",
       "2971  imdbDisplay                    \\N                0  \n",
       "2416  imdbDisplay                    \\N                0  \n",
       "3471  imdbDisplay                    \\N                0  \n",
       "3041  imdbDisplay                    \\N                0  \n",
       "2110  imdbDisplay                    \\N                0  \n",
       "3313  imdbDisplay                    \\N                0  \n",
       "6082  imdbDisplay                    \\N                0  \n",
       "5027  imdbDisplay                    \\N                0  \n",
       "3015  imdbDisplay                    \\N                0  \n",
       "4822  imdbDisplay                    \\N                0  \n",
       "6116  imdbDisplay                    \\N                0  \n",
       "3377  imdbDisplay                    \\N                0  \n",
       "1520           \\N         reissue title                0  \n",
       "5792           \\N             new title                0  "
      ],
      "text/html": "<div>\n<style scoped>\n    .dataframe tbody tr th:only-of-type {\n        vertical-align: middle;\n    }\n\n    .dataframe tbody tr th {\n        vertical-align: top;\n    }\n\n    .dataframe thead th {\n        text-align: right;\n    }\n</style>\n<table border=\"1\" class=\"dataframe\">\n  <thead>\n    <tr style=\"text-align: right;\">\n      <th></th>\n      <th>tconst</th>\n      <th>titleType</th>\n      <th>primaryTitle</th>\n      <th>originalTitle</th>\n      <th>isAdult</th>\n      <th>startYear</th>\n      <th>endYear</th>\n      <th>runtimeMinutes</th>\n      <th>genres</th>\n      <th>averageRating</th>\n      <th>numVotes</th>\n      <th>titleId</th>\n      <th>ordering</th>\n      <th>title</th>\n      <th>region</th>\n      <th>language</th>\n      <th>types</th>\n      <th>attributes</th>\n      <th>isOriginalTitle</th>\n    </tr>\n  </thead>\n  <tbody>\n    <tr>\n      <th>3049</th>\n      <td>tt0111161</td>\n      <td>movie</td>\n      <td>The Shawshank Redemption</td>\n      <td>The Shawshank Redemption</td>\n      <td>0</td>\n      <td>1994</td>\n      <td>\\N</td>\n      <td>142</td>\n      <td>Drama</td>\n      <td>9.3</td>\n      <td>2371061.0</td>\n      <td>tt0111161</td>\n      <td>12.0</td>\n      <td>Les Évadés</td>\n      <td>FR</td>\n      <td>\\N</td>\n      <td>imdbDisplay</td>\n      <td>\\N</td>\n      <td>0</td>\n    </tr>\n    <tr>\n      <th>1853</th>\n      <td>tt0068646</td>\n      <td>movie</td>\n      <td>The Godfather</td>\n      <td>The Godfather</td>\n      <td>0</td>\n      <td>1972</td>\n      <td>\\N</td>\n      <td>175</td>\n      <td>Crime,Drama</td>\n      <td>9.2</td>\n      <td>1641939.0</td>\n      <td>tt0068646</td>\n      <td>50.0</td>\n      <td>Le parrain</td>\n      <td>FR</td>\n      <td>\\N</td>\n      <td>imdbDisplay</td>\n      <td>\\N</td>\n      <td>0</td>\n    </tr>\n    <tr>\n      <th>4698</th>\n      <td>tt11989890</td>\n      <td>movie</td>\n      <td>David Attenborough: A Life on Our Planet</td>\n      <td>David Attenborough: A Life on Our Planet</td>\n      <td>0</td>\n      <td>2020</td>\n      <td>\\N</td>\n      <td>83</td>\n      <td>Biography,Documentary</td>\n      <td>9.0</td>\n      <td>25983.0</td>\n      <td>tt11989890</td>\n      <td>21.0</td>\n      <td>David Attenborough: Une vie sur notre planète</td>\n      <td>FR</td>\n      <td>\\N</td>\n      <td>imdbDisplay</td>\n      <td>\\N</td>\n      <td>0</td>\n    </tr>\n    <tr>\n      <th>1037</th>\n      <td>tt0050083</td>\n      <td>movie</td>\n      <td>12 Angry Men</td>\n      <td>12 Angry Men</td>\n      <td>0</td>\n      <td>1957</td>\n      <td>\\N</td>\n      <td>96</td>\n      <td>Crime,Drama</td>\n      <td>9.0</td>\n      <td>699696.0</td>\n      <td>tt0050083</td>\n      <td>16.0</td>\n      <td>Douze hommes en colère</td>\n      <td>FR</td>\n      <td>\\N</td>\n      <td>\\N</td>\n      <td>alternative spelling</td>\n      <td>0</td>\n    </tr>\n    <tr>\n      <th>1962</th>\n      <td>tt0071562</td>\n      <td>movie</td>\n      <td>The Godfather: Part II</td>\n      <td>The Godfather: Part II</td>\n      <td>0</td>\n      <td>1974</td>\n      <td>\\N</td>\n      <td>202</td>\n      <td>Crime,Drama</td>\n      <td>9.0</td>\n      <td>1143612.0</td>\n      <td>tt0071562</td>\n      <td>69.0</td>\n      <td>Le parrain, 2ème partie</td>\n      <td>FR</td>\n      <td>\\N</td>\n      <td>imdbDisplay</td>\n      <td>\\N</td>\n      <td>0</td>\n    </tr>\n    <tr>\n      <th>4267</th>\n      <td>tt0468569</td>\n      <td>movie</td>\n      <td>The Dark Knight</td>\n      <td>The Dark Knight</td>\n      <td>0</td>\n      <td>2008</td>\n      <td>\\N</td>\n      <td>152</td>\n      <td>Action,Crime,Drama</td>\n      <td>9.0</td>\n      <td>2334544.0</td>\n      <td>tt0468569</td>\n      <td>38.0</td>\n      <td>The Dark Knight : Le Chevalier noir</td>\n      <td>FR</td>\n      <td>\\N</td>\n      <td>imdbDisplay</td>\n      <td>\\N</td>\n      <td>0</td>\n    </tr>\n    <tr>\n      <th>2971</th>\n      <td>tt0108052</td>\n      <td>movie</td>\n      <td>Schindler's List</td>\n      <td>Schindler's List</td>\n      <td>0</td>\n      <td>1993</td>\n      <td>\\N</td>\n      <td>195</td>\n      <td>Biography,Drama,History</td>\n      <td>8.9</td>\n      <td>1226169.0</td>\n      <td>tt0108052</td>\n      <td>6.0</td>\n      <td>La liste de Schindler</td>\n      <td>FR</td>\n      <td>\\N</td>\n      <td>imdbDisplay</td>\n      <td>\\N</td>\n      <td>0</td>\n    </tr>\n    <tr>\n      <th>2416</th>\n      <td>tt0087349</td>\n      <td>movie</td>\n      <td>Blue Mountains, or Unbelievable Story</td>\n      <td>Tsisperi mtebi anu daujerebeli ambavi</td>\n      <td>0</td>\n      <td>1983</td>\n      <td>\\N</td>\n      <td>97</td>\n      <td>Comedy,Drama</td>\n      <td>8.9</td>\n      <td>1734.0</td>\n      <td>tt0087349</td>\n      <td>15.0</td>\n      <td>Les montagnes bleues</td>\n      <td>FR</td>\n      <td>\\N</td>\n      <td>imdbDisplay</td>\n      <td>\\N</td>\n      <td>0</td>\n    </tr>\n    <tr>\n      <th>3471</th>\n      <td>tt0167260</td>\n      <td>movie</td>\n      <td>The Lord of the Rings: The Return of the King</td>\n      <td>The Lord of the Rings: The Return of the King</td>\n      <td>0</td>\n      <td>2003</td>\n      <td>\\N</td>\n      <td>201</td>\n      <td>Action,Adventure,Drama</td>\n      <td>8.9</td>\n      <td>1660071.0</td>\n      <td>tt0167260</td>\n      <td>27.0</td>\n      <td>Le Seigneur des anneaux : Le Retour du roi</td>\n      <td>FR</td>\n      <td>\\N</td>\n      <td>imdbDisplay</td>\n      <td>\\N</td>\n      <td>0</td>\n    </tr>\n    <tr>\n      <th>3041</th>\n      <td>tt0110912</td>\n      <td>movie</td>\n      <td>Pulp Fiction</td>\n      <td>Pulp Fiction</td>\n      <td>0</td>\n      <td>1994</td>\n      <td>\\N</td>\n      <td>154</td>\n      <td>Crime,Drama</td>\n      <td>8.9</td>\n      <td>1847449.0</td>\n      <td>tt0110912</td>\n      <td>15.0</td>\n      <td>Pulp Fiction</td>\n      <td>FR</td>\n      <td>\\N</td>\n      <td>imdbDisplay</td>\n      <td>\\N</td>\n      <td>0</td>\n    </tr>\n    <tr>\n      <th>2110</th>\n      <td>tt0076276</td>\n      <td>movie</td>\n      <td>Who's Singin' Over There?</td>\n      <td>Ko to tamo peva</td>\n      <td>0</td>\n      <td>1980</td>\n      <td>\\N</td>\n      <td>86</td>\n      <td>Adventure,Comedy,Drama</td>\n      <td>8.9</td>\n      <td>14275.0</td>\n      <td>tt0076276</td>\n      <td>21.0</td>\n      <td>Qui chante là-bas ?</td>\n      <td>FR</td>\n      <td>\\N</td>\n      <td>imdbDisplay</td>\n      <td>\\N</td>\n      <td>0</td>\n    </tr>\n    <tr>\n      <th>3313</th>\n      <td>tt0120737</td>\n      <td>movie</td>\n      <td>The Lord of the Rings: The Fellowship of the Ring</td>\n      <td>The Lord of the Rings: The Fellowship of the Ring</td>\n      <td>0</td>\n      <td>2001</td>\n      <td>\\N</td>\n      <td>178</td>\n      <td>Action,Adventure,Drama</td>\n      <td>8.8</td>\n      <td>1679924.0</td>\n      <td>tt0120737</td>\n      <td>45.0</td>\n      <td>Le Seigneur des anneaux : La Communauté de l'a...</td>\n      <td>FR</td>\n      <td>\\N</td>\n      <td>imdbDisplay</td>\n      <td>\\N</td>\n      <td>0</td>\n    </tr>\n    <tr>\n      <th>6082</th>\n      <td>tt9151704</td>\n      <td>movie</td>\n      <td>Burn the Stage: The Movie</td>\n      <td>Burn the Stage: The Movie</td>\n      <td>0</td>\n      <td>2018</td>\n      <td>\\N</td>\n      <td>84</td>\n      <td>Documentary,Music</td>\n      <td>8.8</td>\n      <td>2592.0</td>\n      <td>tt9151704</td>\n      <td>10.0</td>\n      <td>Burn the Stage: The Movie</td>\n      <td>FR</td>\n      <td>\\N</td>\n      <td>imdbDisplay</td>\n      <td>\\N</td>\n      <td>0</td>\n    </tr>\n    <tr>\n      <th>5027</th>\n      <td>tt1754109</td>\n      <td>movie</td>\n      <td>Les Misérables in Concert: The 25th Anniversary</td>\n      <td>Les Misérables in Concert: The 25th Anniversary</td>\n      <td>0</td>\n      <td>2010</td>\n      <td>\\N</td>\n      <td>178</td>\n      <td>Drama,Music,Musical</td>\n      <td>8.8</td>\n      <td>5545.0</td>\n      <td>tt1754109</td>\n      <td>1.0</td>\n      <td>Les Misérables in Concert: The 25th Anniversary</td>\n      <td>FR</td>\n      <td>\\N</td>\n      <td>imdbDisplay</td>\n      <td>\\N</td>\n      <td>0</td>\n    </tr>\n    <tr>\n      <th>3015</th>\n      <td>tt0109830</td>\n      <td>movie</td>\n      <td>Forrest Gump</td>\n      <td>Forrest Gump</td>\n      <td>0</td>\n      <td>1994</td>\n      <td>\\N</td>\n      <td>142</td>\n      <td>Drama,Romance</td>\n      <td>8.8</td>\n      <td>1833371.0</td>\n      <td>tt0109830</td>\n      <td>34.0</td>\n      <td>Forrest Gump</td>\n      <td>FR</td>\n      <td>\\N</td>\n      <td>imdbDisplay</td>\n      <td>\\N</td>\n      <td>0</td>\n    </tr>\n    <tr>\n      <th>4822</th>\n      <td>tt1375666</td>\n      <td>movie</td>\n      <td>Inception</td>\n      <td>Inception</td>\n      <td>0</td>\n      <td>2010</td>\n      <td>\\N</td>\n      <td>148</td>\n      <td>Action,Adventure,Sci-Fi</td>\n      <td>8.8</td>\n      <td>2094100.0</td>\n      <td>tt1375666</td>\n      <td>15.0</td>\n      <td>Inception</td>\n      <td>FR</td>\n      <td>\\N</td>\n      <td>imdbDisplay</td>\n      <td>\\N</td>\n      <td>0</td>\n    </tr>\n    <tr>\n      <th>6116</th>\n      <td>tt9708358</td>\n      <td>movie</td>\n      <td>Uncle Tom</td>\n      <td>Uncle Tom</td>\n      <td>0</td>\n      <td>2020</td>\n      <td>\\N</td>\n      <td>106</td>\n      <td>Documentary</td>\n      <td>8.8</td>\n      <td>5352.0</td>\n      <td>tt9708358</td>\n      <td>8.0</td>\n      <td>Uncle Tom</td>\n      <td>FR</td>\n      <td>\\N</td>\n      <td>imdbDisplay</td>\n      <td>\\N</td>\n      <td>0</td>\n    </tr>\n    <tr>\n      <th>3377</th>\n      <td>tt0137523</td>\n      <td>movie</td>\n      <td>Fight Club</td>\n      <td>Fight Club</td>\n      <td>0</td>\n      <td>1999</td>\n      <td>\\N</td>\n      <td>139</td>\n      <td>Drama</td>\n      <td>8.8</td>\n      <td>1876507.0</td>\n      <td>tt0137523</td>\n      <td>30.0</td>\n      <td>Fight Club</td>\n      <td>FR</td>\n      <td>\\N</td>\n      <td>imdbDisplay</td>\n      <td>\\N</td>\n      <td>0</td>\n    </tr>\n    <tr>\n      <th>1520</th>\n      <td>tt0060196</td>\n      <td>movie</td>\n      <td>The Good, the Bad and the Ugly</td>\n      <td>Il buono, il brutto, il cattivo</td>\n      <td>0</td>\n      <td>1966</td>\n      <td>\\N</td>\n      <td>161</td>\n      <td>Western</td>\n      <td>8.8</td>\n      <td>695506.0</td>\n      <td>tt0060196</td>\n      <td>33.0</td>\n      <td>Le Bon, la brute et le truand</td>\n      <td>FR</td>\n      <td>\\N</td>\n      <td>\\N</td>\n      <td>reissue title</td>\n      <td>0</td>\n    </tr>\n    <tr>\n      <th>5792</th>\n      <td>tt5813916</td>\n      <td>movie</td>\n      <td>The Mountain II</td>\n      <td>Dag II</td>\n      <td>0</td>\n      <td>2016</td>\n      <td>\\N</td>\n      <td>135</td>\n      <td>Action,Drama,War</td>\n      <td>8.8</td>\n      <td>105614.0</td>\n      <td>tt5813916</td>\n      <td>11.0</td>\n      <td>Montagne II</td>\n      <td>FR</td>\n      <td>\\N</td>\n      <td>\\N</td>\n      <td>new title</td>\n      <td>0</td>\n    </tr>\n  </tbody>\n</table>\n</div>"
     },
     "metadata": {},
     "execution_count": 30
    }
   ],
   "source": [
    "Copy_table_film.sort_values('averageRating', ascending=False).head(20)"
   ]
  },
  {
   "cell_type": "code",
   "execution_count": 66,
   "metadata": {},
   "outputs": [],
   "source": [
    "Copy_table_film.to_csv(\"Copy_table_film.csv\", index=False)\n"
   ]
  },
  {
   "source": [
    "# j'archive le dataset pour le charger plus vite\n"
   ],
   "cell_type": "markdown",
   "metadata": {}
  },
  {
   "cell_type": "code",
   "execution_count": 2,
   "metadata": {},
   "outputs": [
    {
     "output_type": "execute_result",
     "data": {
      "text/plain": [
       "      tconst titleType                                      primaryTitle  \\\n",
       "0  tt0002130     movie                                   Dante's Inferno   \n",
       "1  tt0003740     movie                                           Cabiria   \n",
       "2  tt0006206     movie                                      Les vampires   \n",
       "3  tt0006864     movie  Intolerance: Love's Struggle Throughout the Ages   \n",
       "4  tt0008879     movie                           The Outlaw and His Wife   \n",
       "\n",
       "                                      originalTitle  isAdult  startYear  \\\n",
       "0                                         L'Inferno        0       1911   \n",
       "1                                           Cabiria        0       1914   \n",
       "2                                      Les vampires        0       1915   \n",
       "3  Intolerance: Love's Struggle Throughout the Ages        0       1916   \n",
       "4                       Berg-Ejvind och hans hustru        0       1918   \n",
       "\n",
       "  endYear  runtimeMinutes                   genres  averageRating  numVotes  \\\n",
       "0      \\N              71  Adventure,Drama,Fantasy            7.1    2425.0   \n",
       "1      \\N             148  Adventure,Drama,History            7.1    3224.0   \n",
       "2      \\N             421   Action,Adventure,Crime            7.3    4330.0   \n",
       "3      \\N             163            Drama,History            7.7   14377.0   \n",
       "4      \\N             136                    Drama            7.2    1577.0   \n",
       "\n",
       "     titleId  ordering          title region language        types attributes  \\\n",
       "0  tt0002130       3.0        L'enfer     FR       \\N           \\N         \\N   \n",
       "1  tt0003740      17.0        Cabiria     FR       \\N  imdbDisplay         \\N   \n",
       "2  tt0006206       1.0   Les vampires     FR       \\N  imdbDisplay         \\N   \n",
       "3  tt0006864      27.0    Intolérance     FR       \\N           \\N         \\N   \n",
       "4  tt0008879      12.0  Les proscrits     FR       \\N           \\N         \\N   \n",
       "\n",
       "   isOriginalTitle  \n",
       "0                0  \n",
       "1                0  \n",
       "2                0  \n",
       "3                0  \n",
       "4                0  "
      ],
      "text/html": "<div>\n<style scoped>\n    .dataframe tbody tr th:only-of-type {\n        vertical-align: middle;\n    }\n\n    .dataframe tbody tr th {\n        vertical-align: top;\n    }\n\n    .dataframe thead th {\n        text-align: right;\n    }\n</style>\n<table border=\"1\" class=\"dataframe\">\n  <thead>\n    <tr style=\"text-align: right;\">\n      <th></th>\n      <th>tconst</th>\n      <th>titleType</th>\n      <th>primaryTitle</th>\n      <th>originalTitle</th>\n      <th>isAdult</th>\n      <th>startYear</th>\n      <th>endYear</th>\n      <th>runtimeMinutes</th>\n      <th>genres</th>\n      <th>averageRating</th>\n      <th>numVotes</th>\n      <th>titleId</th>\n      <th>ordering</th>\n      <th>title</th>\n      <th>region</th>\n      <th>language</th>\n      <th>types</th>\n      <th>attributes</th>\n      <th>isOriginalTitle</th>\n    </tr>\n  </thead>\n  <tbody>\n    <tr>\n      <th>0</th>\n      <td>tt0002130</td>\n      <td>movie</td>\n      <td>Dante's Inferno</td>\n      <td>L'Inferno</td>\n      <td>0</td>\n      <td>1911</td>\n      <td>\\N</td>\n      <td>71</td>\n      <td>Adventure,Drama,Fantasy</td>\n      <td>7.1</td>\n      <td>2425.0</td>\n      <td>tt0002130</td>\n      <td>3.0</td>\n      <td>L'enfer</td>\n      <td>FR</td>\n      <td>\\N</td>\n      <td>\\N</td>\n      <td>\\N</td>\n      <td>0</td>\n    </tr>\n    <tr>\n      <th>1</th>\n      <td>tt0003740</td>\n      <td>movie</td>\n      <td>Cabiria</td>\n      <td>Cabiria</td>\n      <td>0</td>\n      <td>1914</td>\n      <td>\\N</td>\n      <td>148</td>\n      <td>Adventure,Drama,History</td>\n      <td>7.1</td>\n      <td>3224.0</td>\n      <td>tt0003740</td>\n      <td>17.0</td>\n      <td>Cabiria</td>\n      <td>FR</td>\n      <td>\\N</td>\n      <td>imdbDisplay</td>\n      <td>\\N</td>\n      <td>0</td>\n    </tr>\n    <tr>\n      <th>2</th>\n      <td>tt0006206</td>\n      <td>movie</td>\n      <td>Les vampires</td>\n      <td>Les vampires</td>\n      <td>0</td>\n      <td>1915</td>\n      <td>\\N</td>\n      <td>421</td>\n      <td>Action,Adventure,Crime</td>\n      <td>7.3</td>\n      <td>4330.0</td>\n      <td>tt0006206</td>\n      <td>1.0</td>\n      <td>Les vampires</td>\n      <td>FR</td>\n      <td>\\N</td>\n      <td>imdbDisplay</td>\n      <td>\\N</td>\n      <td>0</td>\n    </tr>\n    <tr>\n      <th>3</th>\n      <td>tt0006864</td>\n      <td>movie</td>\n      <td>Intolerance: Love's Struggle Throughout the Ages</td>\n      <td>Intolerance: Love's Struggle Throughout the Ages</td>\n      <td>0</td>\n      <td>1916</td>\n      <td>\\N</td>\n      <td>163</td>\n      <td>Drama,History</td>\n      <td>7.7</td>\n      <td>14377.0</td>\n      <td>tt0006864</td>\n      <td>27.0</td>\n      <td>Intolérance</td>\n      <td>FR</td>\n      <td>\\N</td>\n      <td>\\N</td>\n      <td>\\N</td>\n      <td>0</td>\n    </tr>\n    <tr>\n      <th>4</th>\n      <td>tt0008879</td>\n      <td>movie</td>\n      <td>The Outlaw and His Wife</td>\n      <td>Berg-Ejvind och hans hustru</td>\n      <td>0</td>\n      <td>1918</td>\n      <td>\\N</td>\n      <td>136</td>\n      <td>Drama</td>\n      <td>7.2</td>\n      <td>1577.0</td>\n      <td>tt0008879</td>\n      <td>12.0</td>\n      <td>Les proscrits</td>\n      <td>FR</td>\n      <td>\\N</td>\n      <td>\\N</td>\n      <td>\\N</td>\n      <td>0</td>\n    </tr>\n  </tbody>\n</table>\n</div>"
     },
     "metadata": {},
     "execution_count": 2
    }
   ],
   "source": [
    "Copy_table_film=pd.read_csv(\"Copy_table_film.csv\")\n",
    "Copy_table_film.head(5)"
   ]
  },
  {
   "cell_type": "code",
   "execution_count": 3,
   "metadata": {},
   "outputs": [
    {
     "output_type": "execute_result",
     "data": {
      "text/plain": [
       "(6129, 19)"
      ]
     },
     "metadata": {},
     "execution_count": 3
    }
   ],
   "source": [
    "Copy_table_film.shape"
   ]
  },
  {
   "source": [
    "# je dois télécharger le dataset netflix et le retirer de ma liste"
   ],
   "cell_type": "markdown",
   "metadata": {}
  },
  {
   "cell_type": "code",
   "execution_count": 103,
   "metadata": {},
   "outputs": [
    {
     "output_type": "stream",
     "name": "stdout",
     "text": [
      "Collecting pip\n  Downloading pip-21.0.1-py3-none-any.whl (1.5 MB)\nInstalling collected packages: pip\n  Attempting uninstall: pip\n    Found existing installation: pip 20.2.3\n    Uninstalling pip-20.2.3:\n      Successfully uninstalled pip-20.2.3\nSuccessfully installed pip-21.0.1\nNote: you may need to restart the kernel to use updated packages.\n"
     ]
    }
   ],
   "source": [
    "pip install --upgrade pip"
   ]
  },
  {
   "cell_type": "code",
   "execution_count": 104,
   "metadata": {},
   "outputs": [
    {
     "output_type": "stream",
     "name": "stdout",
     "text": [
      "Requirement already satisfied: lxml in c:\\users\\simad\\appdata\\local\\programs\\python\\python39\\lib\\site-packages (4.6.3)\nNote: you may need to restart the kernel to use updated packages.\n"
     ]
    }
   ],
   "source": [
    "pip install lxml"
   ]
  },
  {
   "cell_type": "code",
   "execution_count": 6,
   "metadata": {},
   "outputs": [],
   "source": [
    "df_netflix_2018=pd.read_html('https://en.wikipedia.org/wiki/List_of_Netflix_original_films_(2018)', header=0)[0]\n",
    "df_netflix_2019=pd.read_html('https://en.wikipedia.org/wiki/List_of_Netflix_original_films_(2019)', header=0)[0]\n",
    "df_netflix_2020=pd.read_html('https://en.wikipedia.org/wiki/List_of_Netflix_original_films_(2020)', header=0)[0]\n",
    "df_netflix_2015_2017=pd.read_html('https://en.wikipedia.org/wiki/List_of_Netflix_original_films_(2015%E2%80%932017)', header=0)[0]"
   ]
  },
  {
   "cell_type": "code",
   "execution_count": 7,
   "metadata": {},
   "outputs": [
    {
     "output_type": "execute_result",
     "data": {
      "text/plain": [
       "                                            Title                     Genre  \\\n",
       "0                             Beasts of No Nation                 War drama   \n",
       "1                                The Ridiculous 6                   Western   \n",
       "2                           Pee-wee's Big Holiday                 Adventure   \n",
       "3                          Special Correspondents                    Satire   \n",
       "4                                     The Do-Over             Action comedy   \n",
       "5                      The Fundamentals of Caring              Comedy-drama   \n",
       "6                                   Brahman Naman                    Comedy   \n",
       "7                                         Rebirth                  Thriller   \n",
       "8                                        Tallulah              Comedy-drama   \n",
       "9                                            XOXO                     Drama   \n",
       "10                                            ARQ  Science fiction/Thriller   \n",
       "11                        The Siege of Jadotville                       War   \n",
       "12                                        Mascots              Mockumentary   \n",
       "13  I Am the Pretty Thing That Lives in the House                    Horror   \n",
       "14                                         7 años                     Drama   \n",
       "15      True Memoirs of an International Assassin             Action comedy   \n",
       "16                                          Mercy                  Thriller   \n",
       "17                                       Spectral    Science fiction/Action   \n",
       "18                                          Barry                    Biopic   \n",
       "19                                     Coin Heist                     Heist   \n",
       "20                                       Clinical                  Thriller   \n",
       "21                                    Take the 10                    Comedy   \n",
       "22                                           iBoy  Science fiction/Thriller   \n",
       "23                                Imperial Dreams                     Drama   \n",
       "24                               Girlfriend's Day                    Comedy   \n",
       "25     I Don't Feel at Home in This World Anymore                     Drama   \n",
       "26                                  Burning Sands                     Drama   \n",
       "27                     Deidra & Laney Rob a Train                     Drama   \n",
       "28                The Most Hated Woman in America                    Biopic   \n",
       "29                                  The Discovery     Science fiction/Drama   \n",
       "30                                     Win It All                    Comedy   \n",
       "31                                   Sandy Wexler                    Comedy   \n",
       "32                                    Sand Castle                       War   \n",
       "33                                         Tramps                   Romance   \n",
       "34                                   Small Crimes               Dark comedy   \n",
       "35              Handsome: A Netflix Mystery Movie                    Comedy   \n",
       "36                                         Blame!     Anime/Science fiction   \n",
       "37                                    War Machine                War-Comedy   \n",
       "38                                   Shimmer Lake            Crime thriller   \n",
       "39                                           Okja          Action-adventure   \n",
       "40                                    To the Bone                     Drama   \n",
       "41                   The Incredible Jessica James                    Comedy   \n",
       "42                                          Naked                    Comedy   \n",
       "43                                     Death Note           Horror thriller   \n",
       "44                                    Little Evil             Comedy horror   \n",
       "45                                   #REALITYHIGH                    Comedy   \n",
       "46                    First They Killed My Father                     Drama   \n",
       "47                                  Gerald's Game           Horror thriller   \n",
       "48                             Our Souls at Night                   Romance   \n",
       "49                                    Bomb Scared              Black comedy   \n",
       "50                                 The Babysitter        Teen comedy horror   \n",
       "51      The Meyerowitz Stories (New and Selected)              Comedy-drama   \n",
       "52                                           1922        Horror/Crime drama   \n",
       "53                                       Wheelman           Action thriller   \n",
       "54                                     The Killer                   Western   \n",
       "55                             A Christmas Prince           Romantic comedy   \n",
       "56                            El Camino Christmas               Dark comedy   \n",
       "57                          Christmas Inheritance            Romantic drama   \n",
       "58                                         Bright             Urban fantasy   \n",
       "\n",
       "              Premiere           Runtime              Language  \n",
       "0     October 16, 2015  2 hours, 16 min.          English/Akan  \n",
       "1    December 11, 2015   1 hour, 59 min.               English  \n",
       "2       March 18, 2016   1 hour, 29 min.               English  \n",
       "3       April 29, 2016   1 hour, 40 min.               English  \n",
       "4         May 27, 2016   1 hour, 48 min.               English  \n",
       "5        June 24, 2016   1 hour, 37 min.               English  \n",
       "6         July 7, 2016   1 hour, 35 min.               English  \n",
       "7        July 15, 2016   1 hour, 40 min.               English  \n",
       "8        July 29, 2016   1 hour, 51 min.               English  \n",
       "9      August 26, 2016   1 hour, 32 min.               English  \n",
       "10  September 16, 2016   1 hour, 28 min.               English  \n",
       "11     October 7, 2016   1 hour, 48 min.               English  \n",
       "12    October 13, 2016   1 hour, 35 min.               English  \n",
       "13    October 28, 2016   1 hour, 29 min.               English  \n",
       "14    October 28, 2016   1 hour, 16 min.               Spanish  \n",
       "15   November 11, 2016   1 hour, 38 min.               English  \n",
       "16   November 22, 2016   1 hour, 30 min.               English  \n",
       "17    December 9, 2016   1 hour, 48 min.               English  \n",
       "18   December 16, 2016   1 hour, 44 min.               English  \n",
       "19     January 6, 2017   1 hour, 37 min.               English  \n",
       "20    January 13, 2017   1 hour, 44 min.               English  \n",
       "21    January 20, 2017   1 hour, 20 min.               English  \n",
       "22    January 27, 2017   1 hour, 30 min.               English  \n",
       "23    February 3, 2017   1 hour, 27 min.               English  \n",
       "24   February 14, 2017   1 hour, 10 min.               English  \n",
       "25   February 24, 2017   1 hour, 36 min.               English  \n",
       "26      March 10, 2017   1 hour, 42 min.               English  \n",
       "27      March 17, 2017   1 hour, 34 min.               English  \n",
       "28      March 24, 2017   1 hour, 32 min.               English  \n",
       "29      March 31, 2017   1 hour, 42 min.               English  \n",
       "30       April 7, 2017   1 hour, 28 min.               English  \n",
       "31      April 14, 2017  2 hours, 11 min.               English  \n",
       "32      April 21, 2017   1 hour, 53 min.               English  \n",
       "33      April 21, 2017   1 hour, 23 min.               English  \n",
       "34      April 28, 2017   1 hour, 35 min.               English  \n",
       "35         May 5, 2017   1 hour, 21 min.               English  \n",
       "36        May 20, 2017   1 hour, 46 min.              Japanese  \n",
       "37        May 26, 2017   2 hours, 2 min.               English  \n",
       "38        June 9, 2017   1 hour, 26 min.               English  \n",
       "39       June 28, 2017   2 hours, 1 min.        English/Korean  \n",
       "40       July 14, 2017   1 hour, 47 min.               English  \n",
       "41       July 28, 2017   1 hour, 23 min.               English  \n",
       "42     August 11, 2017   1 hour, 36 min.               English  \n",
       "43     August 25, 2017   1 hour, 40 min.               English  \n",
       "44   September 1, 2017   1 hour, 34 min.               English  \n",
       "45   September 8, 2017   1 hour, 39 min.               English  \n",
       "46  September 15, 2017  2 hours, 16 min.  Khmer/English/French  \n",
       "47  September 29, 2017   1 hour, 43 min.               English  \n",
       "48  September 29, 2017   1 hour, 43 min.               English  \n",
       "49    October 12, 2017   1 hour, 29 min.        Spanish/Basque  \n",
       "50    October 13, 2017   1 hour, 25 min.               English  \n",
       "51    October 13, 2017   1 hour, 52 min.               English  \n",
       "52    October 20, 2017   1 hour, 42 min.               English  \n",
       "53    October 20, 2017   1 hour, 22 min.               English  \n",
       "54   November 10, 2017   1 hour, 39 min.            Portuguese  \n",
       "55   November 17, 2017   1 hour, 32 min.               English  \n",
       "56    December 8, 2017   1 hour, 29 min.               English  \n",
       "57   December 15, 2017   1 hour, 44 min.               English  \n",
       "58   December 22, 2017   1 hour, 57 min.               English  "
      ],
      "text/html": "<div>\n<style scoped>\n    .dataframe tbody tr th:only-of-type {\n        vertical-align: middle;\n    }\n\n    .dataframe tbody tr th {\n        vertical-align: top;\n    }\n\n    .dataframe thead th {\n        text-align: right;\n    }\n</style>\n<table border=\"1\" class=\"dataframe\">\n  <thead>\n    <tr style=\"text-align: right;\">\n      <th></th>\n      <th>Title</th>\n      <th>Genre</th>\n      <th>Premiere</th>\n      <th>Runtime</th>\n      <th>Language</th>\n    </tr>\n  </thead>\n  <tbody>\n    <tr>\n      <th>0</th>\n      <td>Beasts of No Nation</td>\n      <td>War drama</td>\n      <td>October 16, 2015</td>\n      <td>2 hours, 16 min.</td>\n      <td>English/Akan</td>\n    </tr>\n    <tr>\n      <th>1</th>\n      <td>The Ridiculous 6</td>\n      <td>Western</td>\n      <td>December 11, 2015</td>\n      <td>1 hour, 59 min.</td>\n      <td>English</td>\n    </tr>\n    <tr>\n      <th>2</th>\n      <td>Pee-wee's Big Holiday</td>\n      <td>Adventure</td>\n      <td>March 18, 2016</td>\n      <td>1 hour, 29 min.</td>\n      <td>English</td>\n    </tr>\n    <tr>\n      <th>3</th>\n      <td>Special Correspondents</td>\n      <td>Satire</td>\n      <td>April 29, 2016</td>\n      <td>1 hour, 40 min.</td>\n      <td>English</td>\n    </tr>\n    <tr>\n      <th>4</th>\n      <td>The Do-Over</td>\n      <td>Action comedy</td>\n      <td>May 27, 2016</td>\n      <td>1 hour, 48 min.</td>\n      <td>English</td>\n    </tr>\n    <tr>\n      <th>5</th>\n      <td>The Fundamentals of Caring</td>\n      <td>Comedy-drama</td>\n      <td>June 24, 2016</td>\n      <td>1 hour, 37 min.</td>\n      <td>English</td>\n    </tr>\n    <tr>\n      <th>6</th>\n      <td>Brahman Naman</td>\n      <td>Comedy</td>\n      <td>July 7, 2016</td>\n      <td>1 hour, 35 min.</td>\n      <td>English</td>\n    </tr>\n    <tr>\n      <th>7</th>\n      <td>Rebirth</td>\n      <td>Thriller</td>\n      <td>July 15, 2016</td>\n      <td>1 hour, 40 min.</td>\n      <td>English</td>\n    </tr>\n    <tr>\n      <th>8</th>\n      <td>Tallulah</td>\n      <td>Comedy-drama</td>\n      <td>July 29, 2016</td>\n      <td>1 hour, 51 min.</td>\n      <td>English</td>\n    </tr>\n    <tr>\n      <th>9</th>\n      <td>XOXO</td>\n      <td>Drama</td>\n      <td>August 26, 2016</td>\n      <td>1 hour, 32 min.</td>\n      <td>English</td>\n    </tr>\n    <tr>\n      <th>10</th>\n      <td>ARQ</td>\n      <td>Science fiction/Thriller</td>\n      <td>September 16, 2016</td>\n      <td>1 hour, 28 min.</td>\n      <td>English</td>\n    </tr>\n    <tr>\n      <th>11</th>\n      <td>The Siege of Jadotville</td>\n      <td>War</td>\n      <td>October 7, 2016</td>\n      <td>1 hour, 48 min.</td>\n      <td>English</td>\n    </tr>\n    <tr>\n      <th>12</th>\n      <td>Mascots</td>\n      <td>Mockumentary</td>\n      <td>October 13, 2016</td>\n      <td>1 hour, 35 min.</td>\n      <td>English</td>\n    </tr>\n    <tr>\n      <th>13</th>\n      <td>I Am the Pretty Thing That Lives in the House</td>\n      <td>Horror</td>\n      <td>October 28, 2016</td>\n      <td>1 hour, 29 min.</td>\n      <td>English</td>\n    </tr>\n    <tr>\n      <th>14</th>\n      <td>7 años</td>\n      <td>Drama</td>\n      <td>October 28, 2016</td>\n      <td>1 hour, 16 min.</td>\n      <td>Spanish</td>\n    </tr>\n    <tr>\n      <th>15</th>\n      <td>True Memoirs of an International Assassin</td>\n      <td>Action comedy</td>\n      <td>November 11, 2016</td>\n      <td>1 hour, 38 min.</td>\n      <td>English</td>\n    </tr>\n    <tr>\n      <th>16</th>\n      <td>Mercy</td>\n      <td>Thriller</td>\n      <td>November 22, 2016</td>\n      <td>1 hour, 30 min.</td>\n      <td>English</td>\n    </tr>\n    <tr>\n      <th>17</th>\n      <td>Spectral</td>\n      <td>Science fiction/Action</td>\n      <td>December 9, 2016</td>\n      <td>1 hour, 48 min.</td>\n      <td>English</td>\n    </tr>\n    <tr>\n      <th>18</th>\n      <td>Barry</td>\n      <td>Biopic</td>\n      <td>December 16, 2016</td>\n      <td>1 hour, 44 min.</td>\n      <td>English</td>\n    </tr>\n    <tr>\n      <th>19</th>\n      <td>Coin Heist</td>\n      <td>Heist</td>\n      <td>January 6, 2017</td>\n      <td>1 hour, 37 min.</td>\n      <td>English</td>\n    </tr>\n    <tr>\n      <th>20</th>\n      <td>Clinical</td>\n      <td>Thriller</td>\n      <td>January 13, 2017</td>\n      <td>1 hour, 44 min.</td>\n      <td>English</td>\n    </tr>\n    <tr>\n      <th>21</th>\n      <td>Take the 10</td>\n      <td>Comedy</td>\n      <td>January 20, 2017</td>\n      <td>1 hour, 20 min.</td>\n      <td>English</td>\n    </tr>\n    <tr>\n      <th>22</th>\n      <td>iBoy</td>\n      <td>Science fiction/Thriller</td>\n      <td>January 27, 2017</td>\n      <td>1 hour, 30 min.</td>\n      <td>English</td>\n    </tr>\n    <tr>\n      <th>23</th>\n      <td>Imperial Dreams</td>\n      <td>Drama</td>\n      <td>February 3, 2017</td>\n      <td>1 hour, 27 min.</td>\n      <td>English</td>\n    </tr>\n    <tr>\n      <th>24</th>\n      <td>Girlfriend's Day</td>\n      <td>Comedy</td>\n      <td>February 14, 2017</td>\n      <td>1 hour, 10 min.</td>\n      <td>English</td>\n    </tr>\n    <tr>\n      <th>25</th>\n      <td>I Don't Feel at Home in This World Anymore</td>\n      <td>Drama</td>\n      <td>February 24, 2017</td>\n      <td>1 hour, 36 min.</td>\n      <td>English</td>\n    </tr>\n    <tr>\n      <th>26</th>\n      <td>Burning Sands</td>\n      <td>Drama</td>\n      <td>March 10, 2017</td>\n      <td>1 hour, 42 min.</td>\n      <td>English</td>\n    </tr>\n    <tr>\n      <th>27</th>\n      <td>Deidra &amp; Laney Rob a Train</td>\n      <td>Drama</td>\n      <td>March 17, 2017</td>\n      <td>1 hour, 34 min.</td>\n      <td>English</td>\n    </tr>\n    <tr>\n      <th>28</th>\n      <td>The Most Hated Woman in America</td>\n      <td>Biopic</td>\n      <td>March 24, 2017</td>\n      <td>1 hour, 32 min.</td>\n      <td>English</td>\n    </tr>\n    <tr>\n      <th>29</th>\n      <td>The Discovery</td>\n      <td>Science fiction/Drama</td>\n      <td>March 31, 2017</td>\n      <td>1 hour, 42 min.</td>\n      <td>English</td>\n    </tr>\n    <tr>\n      <th>30</th>\n      <td>Win It All</td>\n      <td>Comedy</td>\n      <td>April 7, 2017</td>\n      <td>1 hour, 28 min.</td>\n      <td>English</td>\n    </tr>\n    <tr>\n      <th>31</th>\n      <td>Sandy Wexler</td>\n      <td>Comedy</td>\n      <td>April 14, 2017</td>\n      <td>2 hours, 11 min.</td>\n      <td>English</td>\n    </tr>\n    <tr>\n      <th>32</th>\n      <td>Sand Castle</td>\n      <td>War</td>\n      <td>April 21, 2017</td>\n      <td>1 hour, 53 min.</td>\n      <td>English</td>\n    </tr>\n    <tr>\n      <th>33</th>\n      <td>Tramps</td>\n      <td>Romance</td>\n      <td>April 21, 2017</td>\n      <td>1 hour, 23 min.</td>\n      <td>English</td>\n    </tr>\n    <tr>\n      <th>34</th>\n      <td>Small Crimes</td>\n      <td>Dark comedy</td>\n      <td>April 28, 2017</td>\n      <td>1 hour, 35 min.</td>\n      <td>English</td>\n    </tr>\n    <tr>\n      <th>35</th>\n      <td>Handsome: A Netflix Mystery Movie</td>\n      <td>Comedy</td>\n      <td>May 5, 2017</td>\n      <td>1 hour, 21 min.</td>\n      <td>English</td>\n    </tr>\n    <tr>\n      <th>36</th>\n      <td>Blame!</td>\n      <td>Anime/Science fiction</td>\n      <td>May 20, 2017</td>\n      <td>1 hour, 46 min.</td>\n      <td>Japanese</td>\n    </tr>\n    <tr>\n      <th>37</th>\n      <td>War Machine</td>\n      <td>War-Comedy</td>\n      <td>May 26, 2017</td>\n      <td>2 hours, 2 min.</td>\n      <td>English</td>\n    </tr>\n    <tr>\n      <th>38</th>\n      <td>Shimmer Lake</td>\n      <td>Crime thriller</td>\n      <td>June 9, 2017</td>\n      <td>1 hour, 26 min.</td>\n      <td>English</td>\n    </tr>\n    <tr>\n      <th>39</th>\n      <td>Okja</td>\n      <td>Action-adventure</td>\n      <td>June 28, 2017</td>\n      <td>2 hours, 1 min.</td>\n      <td>English/Korean</td>\n    </tr>\n    <tr>\n      <th>40</th>\n      <td>To the Bone</td>\n      <td>Drama</td>\n      <td>July 14, 2017</td>\n      <td>1 hour, 47 min.</td>\n      <td>English</td>\n    </tr>\n    <tr>\n      <th>41</th>\n      <td>The Incredible Jessica James</td>\n      <td>Comedy</td>\n      <td>July 28, 2017</td>\n      <td>1 hour, 23 min.</td>\n      <td>English</td>\n    </tr>\n    <tr>\n      <th>42</th>\n      <td>Naked</td>\n      <td>Comedy</td>\n      <td>August 11, 2017</td>\n      <td>1 hour, 36 min.</td>\n      <td>English</td>\n    </tr>\n    <tr>\n      <th>43</th>\n      <td>Death Note</td>\n      <td>Horror thriller</td>\n      <td>August 25, 2017</td>\n      <td>1 hour, 40 min.</td>\n      <td>English</td>\n    </tr>\n    <tr>\n      <th>44</th>\n      <td>Little Evil</td>\n      <td>Comedy horror</td>\n      <td>September 1, 2017</td>\n      <td>1 hour, 34 min.</td>\n      <td>English</td>\n    </tr>\n    <tr>\n      <th>45</th>\n      <td>#REALITYHIGH</td>\n      <td>Comedy</td>\n      <td>September 8, 2017</td>\n      <td>1 hour, 39 min.</td>\n      <td>English</td>\n    </tr>\n    <tr>\n      <th>46</th>\n      <td>First They Killed My Father</td>\n      <td>Drama</td>\n      <td>September 15, 2017</td>\n      <td>2 hours, 16 min.</td>\n      <td>Khmer/English/French</td>\n    </tr>\n    <tr>\n      <th>47</th>\n      <td>Gerald's Game</td>\n      <td>Horror thriller</td>\n      <td>September 29, 2017</td>\n      <td>1 hour, 43 min.</td>\n      <td>English</td>\n    </tr>\n    <tr>\n      <th>48</th>\n      <td>Our Souls at Night</td>\n      <td>Romance</td>\n      <td>September 29, 2017</td>\n      <td>1 hour, 43 min.</td>\n      <td>English</td>\n    </tr>\n    <tr>\n      <th>49</th>\n      <td>Bomb Scared</td>\n      <td>Black comedy</td>\n      <td>October 12, 2017</td>\n      <td>1 hour, 29 min.</td>\n      <td>Spanish/Basque</td>\n    </tr>\n    <tr>\n      <th>50</th>\n      <td>The Babysitter</td>\n      <td>Teen comedy horror</td>\n      <td>October 13, 2017</td>\n      <td>1 hour, 25 min.</td>\n      <td>English</td>\n    </tr>\n    <tr>\n      <th>51</th>\n      <td>The Meyerowitz Stories (New and Selected)</td>\n      <td>Comedy-drama</td>\n      <td>October 13, 2017</td>\n      <td>1 hour, 52 min.</td>\n      <td>English</td>\n    </tr>\n    <tr>\n      <th>52</th>\n      <td>1922</td>\n      <td>Horror/Crime drama</td>\n      <td>October 20, 2017</td>\n      <td>1 hour, 42 min.</td>\n      <td>English</td>\n    </tr>\n    <tr>\n      <th>53</th>\n      <td>Wheelman</td>\n      <td>Action thriller</td>\n      <td>October 20, 2017</td>\n      <td>1 hour, 22 min.</td>\n      <td>English</td>\n    </tr>\n    <tr>\n      <th>54</th>\n      <td>The Killer</td>\n      <td>Western</td>\n      <td>November 10, 2017</td>\n      <td>1 hour, 39 min.</td>\n      <td>Portuguese</td>\n    </tr>\n    <tr>\n      <th>55</th>\n      <td>A Christmas Prince</td>\n      <td>Romantic comedy</td>\n      <td>November 17, 2017</td>\n      <td>1 hour, 32 min.</td>\n      <td>English</td>\n    </tr>\n    <tr>\n      <th>56</th>\n      <td>El Camino Christmas</td>\n      <td>Dark comedy</td>\n      <td>December 8, 2017</td>\n      <td>1 hour, 29 min.</td>\n      <td>English</td>\n    </tr>\n    <tr>\n      <th>57</th>\n      <td>Christmas Inheritance</td>\n      <td>Romantic drama</td>\n      <td>December 15, 2017</td>\n      <td>1 hour, 44 min.</td>\n      <td>English</td>\n    </tr>\n    <tr>\n      <th>58</th>\n      <td>Bright</td>\n      <td>Urban fantasy</td>\n      <td>December 22, 2017</td>\n      <td>1 hour, 57 min.</td>\n      <td>English</td>\n    </tr>\n  </tbody>\n</table>\n</div>"
     },
     "metadata": {},
     "execution_count": 7
    }
   ],
   "source": [
    "df_netflix_2015_2017"
   ]
  },
  {
   "cell_type": "code",
   "execution_count": 8,
   "metadata": {},
   "outputs": [],
   "source": [
    "dfnetflix=pd.concat([df_netflix_2018,df_netflix_2019, df_netflix_2015_2017])"
   ]
  },
  {
   "cell_type": "code",
   "execution_count": 9,
   "metadata": {},
   "outputs": [
    {
     "output_type": "execute_result",
     "data": {
      "text/plain": [
       "                          Title                Genre           Premiere  \\\n",
       "0                The Polka King         Comedy-drama   January 12, 2018   \n",
       "1                  Step Sisters               Comedy   January 19, 2018   \n",
       "2                The Open House      Horror thriller   January 19, 2018   \n",
       "3   A Futile and Stupid Gesture  Biographical/Comedy   January 26, 2018   \n",
       "4       The Cloverfield Paradox      Science fiction   February 4, 2018   \n",
       "..                          ...                  ...                ...   \n",
       "54                   The Killer              Western  November 10, 2017   \n",
       "55           A Christmas Prince      Romantic comedy  November 17, 2017   \n",
       "56          El Camino Christmas          Dark comedy   December 8, 2017   \n",
       "57        Christmas Inheritance       Romantic drama  December 15, 2017   \n",
       "58                       Bright        Urban fantasy  December 22, 2017   \n",
       "\n",
       "            Runtime    Language  \n",
       "0   1 hour, 35 min.     English  \n",
       "1   1 hour, 48 min.     English  \n",
       "2   1 hour, 34 min.     English  \n",
       "3   1 hour, 41 min.     English  \n",
       "4   1 hour, 42 min.     English  \n",
       "..              ...         ...  \n",
       "54  1 hour, 39 min.  Portuguese  \n",
       "55  1 hour, 32 min.     English  \n",
       "56  1 hour, 29 min.     English  \n",
       "57  1 hour, 44 min.     English  \n",
       "58  1 hour, 57 min.     English  \n",
       "\n",
       "[199 rows x 5 columns]"
      ],
      "text/html": "<div>\n<style scoped>\n    .dataframe tbody tr th:only-of-type {\n        vertical-align: middle;\n    }\n\n    .dataframe tbody tr th {\n        vertical-align: top;\n    }\n\n    .dataframe thead th {\n        text-align: right;\n    }\n</style>\n<table border=\"1\" class=\"dataframe\">\n  <thead>\n    <tr style=\"text-align: right;\">\n      <th></th>\n      <th>Title</th>\n      <th>Genre</th>\n      <th>Premiere</th>\n      <th>Runtime</th>\n      <th>Language</th>\n    </tr>\n  </thead>\n  <tbody>\n    <tr>\n      <th>0</th>\n      <td>The Polka King</td>\n      <td>Comedy-drama</td>\n      <td>January 12, 2018</td>\n      <td>1 hour, 35 min.</td>\n      <td>English</td>\n    </tr>\n    <tr>\n      <th>1</th>\n      <td>Step Sisters</td>\n      <td>Comedy</td>\n      <td>January 19, 2018</td>\n      <td>1 hour, 48 min.</td>\n      <td>English</td>\n    </tr>\n    <tr>\n      <th>2</th>\n      <td>The Open House</td>\n      <td>Horror thriller</td>\n      <td>January 19, 2018</td>\n      <td>1 hour, 34 min.</td>\n      <td>English</td>\n    </tr>\n    <tr>\n      <th>3</th>\n      <td>A Futile and Stupid Gesture</td>\n      <td>Biographical/Comedy</td>\n      <td>January 26, 2018</td>\n      <td>1 hour, 41 min.</td>\n      <td>English</td>\n    </tr>\n    <tr>\n      <th>4</th>\n      <td>The Cloverfield Paradox</td>\n      <td>Science fiction</td>\n      <td>February 4, 2018</td>\n      <td>1 hour, 42 min.</td>\n      <td>English</td>\n    </tr>\n    <tr>\n      <th>...</th>\n      <td>...</td>\n      <td>...</td>\n      <td>...</td>\n      <td>...</td>\n      <td>...</td>\n    </tr>\n    <tr>\n      <th>54</th>\n      <td>The Killer</td>\n      <td>Western</td>\n      <td>November 10, 2017</td>\n      <td>1 hour, 39 min.</td>\n      <td>Portuguese</td>\n    </tr>\n    <tr>\n      <th>55</th>\n      <td>A Christmas Prince</td>\n      <td>Romantic comedy</td>\n      <td>November 17, 2017</td>\n      <td>1 hour, 32 min.</td>\n      <td>English</td>\n    </tr>\n    <tr>\n      <th>56</th>\n      <td>El Camino Christmas</td>\n      <td>Dark comedy</td>\n      <td>December 8, 2017</td>\n      <td>1 hour, 29 min.</td>\n      <td>English</td>\n    </tr>\n    <tr>\n      <th>57</th>\n      <td>Christmas Inheritance</td>\n      <td>Romantic drama</td>\n      <td>December 15, 2017</td>\n      <td>1 hour, 44 min.</td>\n      <td>English</td>\n    </tr>\n    <tr>\n      <th>58</th>\n      <td>Bright</td>\n      <td>Urban fantasy</td>\n      <td>December 22, 2017</td>\n      <td>1 hour, 57 min.</td>\n      <td>English</td>\n    </tr>\n  </tbody>\n</table>\n<p>199 rows × 5 columns</p>\n</div>"
     },
     "metadata": {},
     "execution_count": 9
    }
   ],
   "source": [
    "dfnetflix"
   ]
  },
  {
   "cell_type": "code",
   "execution_count": 135,
   "metadata": {},
   "outputs": [
    {
     "output_type": "execute_result",
     "data": {
      "text/plain": [
       "         tconst titleType       primaryTitle      originalTitle  isAdult  \\\n",
       "4771  tt1302006     movie       The Irishman       The Irishman        0   \n",
       "4847  tt1416801     movie  Kill the Irishman  Kill the Irishman        0   \n",
       "\n",
       "      startYear endYear  runtimeMinutes                 genres  averageRating  \\\n",
       "4771       2019      \\N             209  Biography,Crime,Drama            7.8   \n",
       "4847       2011      \\N             106  Biography,Crime,Drama            7.1   \n",
       "\n",
       "      numVotes    titleId  ordering           title region language  \\\n",
       "4771  332899.0  tt1302006      39.0    The Irishman     FR       \\N   \n",
       "4847   46235.0  tt1416801      23.0  Irish Gangster     FR       \\N   \n",
       "\n",
       "            types attributes  isOriginalTitle  \n",
       "4771  imdbDisplay         \\N                0  \n",
       "4847  alternative         \\N                0  "
      ],
      "text/html": "<div>\n<style scoped>\n    .dataframe tbody tr th:only-of-type {\n        vertical-align: middle;\n    }\n\n    .dataframe tbody tr th {\n        vertical-align: top;\n    }\n\n    .dataframe thead th {\n        text-align: right;\n    }\n</style>\n<table border=\"1\" class=\"dataframe\">\n  <thead>\n    <tr style=\"text-align: right;\">\n      <th></th>\n      <th>tconst</th>\n      <th>titleType</th>\n      <th>primaryTitle</th>\n      <th>originalTitle</th>\n      <th>isAdult</th>\n      <th>startYear</th>\n      <th>endYear</th>\n      <th>runtimeMinutes</th>\n      <th>genres</th>\n      <th>averageRating</th>\n      <th>numVotes</th>\n      <th>titleId</th>\n      <th>ordering</th>\n      <th>title</th>\n      <th>region</th>\n      <th>language</th>\n      <th>types</th>\n      <th>attributes</th>\n      <th>isOriginalTitle</th>\n    </tr>\n  </thead>\n  <tbody>\n    <tr>\n      <th>4771</th>\n      <td>tt1302006</td>\n      <td>movie</td>\n      <td>The Irishman</td>\n      <td>The Irishman</td>\n      <td>0</td>\n      <td>2019</td>\n      <td>\\N</td>\n      <td>209</td>\n      <td>Biography,Crime,Drama</td>\n      <td>7.8</td>\n      <td>332899.0</td>\n      <td>tt1302006</td>\n      <td>39.0</td>\n      <td>The Irishman</td>\n      <td>FR</td>\n      <td>\\N</td>\n      <td>imdbDisplay</td>\n      <td>\\N</td>\n      <td>0</td>\n    </tr>\n    <tr>\n      <th>4847</th>\n      <td>tt1416801</td>\n      <td>movie</td>\n      <td>Kill the Irishman</td>\n      <td>Kill the Irishman</td>\n      <td>0</td>\n      <td>2011</td>\n      <td>\\N</td>\n      <td>106</td>\n      <td>Biography,Crime,Drama</td>\n      <td>7.1</td>\n      <td>46235.0</td>\n      <td>tt1416801</td>\n      <td>23.0</td>\n      <td>Irish Gangster</td>\n      <td>FR</td>\n      <td>\\N</td>\n      <td>alternative</td>\n      <td>\\N</td>\n      <td>0</td>\n    </tr>\n  </tbody>\n</table>\n</div>"
     },
     "metadata": {},
     "execution_count": 135
    }
   ],
   "source": [
    "Copy_table_film[Copy_table_film['originalTitle'].str.contains('Irishman', case=True)]"
   ]
  },
  {
   "source": [
    "# je drop les colone en double et les colone dont je ne veux pas\n"
   ],
   "cell_type": "markdown",
   "metadata": {}
  },
  {
   "cell_type": "code",
   "execution_count": 10,
   "metadata": {},
   "outputs": [],
   "source": [
    "copyDfNetflix=dfnetflix.copy()"
   ]
  },
  {
   "cell_type": "code",
   "execution_count": 25,
   "metadata": {},
   "outputs": [],
   "source": [
    "copyDfNetflix.rename({'Title':'title', 'YEAR':'startYear' }, axis=1, inplace=True)\n"
   ]
  },
  {
   "cell_type": "code",
   "execution_count": 284,
   "metadata": {},
   "outputs": [
    {
     "output_type": "execute_result",
     "data": {
      "text/plain": [
       "                          title                Genre           Premiere  \\\n",
       "0                The Polka King         Comedy-drama   January 12, 2018   \n",
       "1                  Step Sisters               Comedy   January 19, 2018   \n",
       "2                The Open House      Horror thriller   January 19, 2018   \n",
       "3   A Futile and Stupid Gesture  Biographical/Comedy   January 26, 2018   \n",
       "4       The Cloverfield Paradox      Science fiction   February 4, 2018   \n",
       "..                          ...                  ...                ...   \n",
       "54                   The Killer              Western  November 10, 2017   \n",
       "55           A Christmas Prince      Romantic comedy  November 17, 2017   \n",
       "56          El Camino Christmas          Dark comedy   December 8, 2017   \n",
       "57        Christmas Inheritance       Romantic drama  December 15, 2017   \n",
       "58                       Bright        Urban fantasy  December 22, 2017   \n",
       "\n",
       "            Runtime    Language  \n",
       "0   1 hour, 35 min.     English  \n",
       "1   1 hour, 48 min.     English  \n",
       "2   1 hour, 34 min.     English  \n",
       "3   1 hour, 41 min.     English  \n",
       "4   1 hour, 42 min.     English  \n",
       "..              ...         ...  \n",
       "54  1 hour, 39 min.  Portuguese  \n",
       "55  1 hour, 32 min.     English  \n",
       "56  1 hour, 29 min.     English  \n",
       "57  1 hour, 44 min.     English  \n",
       "58  1 hour, 57 min.     English  \n",
       "\n",
       "[199 rows x 5 columns]"
      ],
      "text/html": "<div>\n<style scoped>\n    .dataframe tbody tr th:only-of-type {\n        vertical-align: middle;\n    }\n\n    .dataframe tbody tr th {\n        vertical-align: top;\n    }\n\n    .dataframe thead th {\n        text-align: right;\n    }\n</style>\n<table border=\"1\" class=\"dataframe\">\n  <thead>\n    <tr style=\"text-align: right;\">\n      <th></th>\n      <th>title</th>\n      <th>Genre</th>\n      <th>Premiere</th>\n      <th>Runtime</th>\n      <th>Language</th>\n    </tr>\n  </thead>\n  <tbody>\n    <tr>\n      <th>0</th>\n      <td>The Polka King</td>\n      <td>Comedy-drama</td>\n      <td>January 12, 2018</td>\n      <td>1 hour, 35 min.</td>\n      <td>English</td>\n    </tr>\n    <tr>\n      <th>1</th>\n      <td>Step Sisters</td>\n      <td>Comedy</td>\n      <td>January 19, 2018</td>\n      <td>1 hour, 48 min.</td>\n      <td>English</td>\n    </tr>\n    <tr>\n      <th>2</th>\n      <td>The Open House</td>\n      <td>Horror thriller</td>\n      <td>January 19, 2018</td>\n      <td>1 hour, 34 min.</td>\n      <td>English</td>\n    </tr>\n    <tr>\n      <th>3</th>\n      <td>A Futile and Stupid Gesture</td>\n      <td>Biographical/Comedy</td>\n      <td>January 26, 2018</td>\n      <td>1 hour, 41 min.</td>\n      <td>English</td>\n    </tr>\n    <tr>\n      <th>4</th>\n      <td>The Cloverfield Paradox</td>\n      <td>Science fiction</td>\n      <td>February 4, 2018</td>\n      <td>1 hour, 42 min.</td>\n      <td>English</td>\n    </tr>\n    <tr>\n      <th>...</th>\n      <td>...</td>\n      <td>...</td>\n      <td>...</td>\n      <td>...</td>\n      <td>...</td>\n    </tr>\n    <tr>\n      <th>54</th>\n      <td>The Killer</td>\n      <td>Western</td>\n      <td>November 10, 2017</td>\n      <td>1 hour, 39 min.</td>\n      <td>Portuguese</td>\n    </tr>\n    <tr>\n      <th>55</th>\n      <td>A Christmas Prince</td>\n      <td>Romantic comedy</td>\n      <td>November 17, 2017</td>\n      <td>1 hour, 32 min.</td>\n      <td>English</td>\n    </tr>\n    <tr>\n      <th>56</th>\n      <td>El Camino Christmas</td>\n      <td>Dark comedy</td>\n      <td>December 8, 2017</td>\n      <td>1 hour, 29 min.</td>\n      <td>English</td>\n    </tr>\n    <tr>\n      <th>57</th>\n      <td>Christmas Inheritance</td>\n      <td>Romantic drama</td>\n      <td>December 15, 2017</td>\n      <td>1 hour, 44 min.</td>\n      <td>English</td>\n    </tr>\n    <tr>\n      <th>58</th>\n      <td>Bright</td>\n      <td>Urban fantasy</td>\n      <td>December 22, 2017</td>\n      <td>1 hour, 57 min.</td>\n      <td>English</td>\n    </tr>\n  </tbody>\n</table>\n<p>199 rows × 5 columns</p>\n</div>"
     },
     "metadata": {},
     "execution_count": 284
    }
   ],
   "source": [
    "copyDfNetflix"
   ]
  },
  {
   "cell_type": "code",
   "execution_count": 12,
   "metadata": {},
   "outputs": [],
   "source": [
    "copyDfNetflix['YEAR']=pd.DatetimeIndex(copyDfNetflix['Premiere']).year"
   ]
  },
  {
   "cell_type": "code",
   "execution_count": 13,
   "metadata": {},
   "outputs": [
    {
     "output_type": "execute_result",
     "data": {
      "text/plain": [
       "                          title                Genre           Premiere  \\\n",
       "0                The Polka King         Comedy-drama   January 12, 2018   \n",
       "1                  Step Sisters               Comedy   January 19, 2018   \n",
       "2                The Open House      Horror thriller   January 19, 2018   \n",
       "3   A Futile and Stupid Gesture  Biographical/Comedy   January 26, 2018   \n",
       "4       The Cloverfield Paradox      Science fiction   February 4, 2018   \n",
       "..                          ...                  ...                ...   \n",
       "54                   The Killer              Western  November 10, 2017   \n",
       "55           A Christmas Prince      Romantic comedy  November 17, 2017   \n",
       "56          El Camino Christmas          Dark comedy   December 8, 2017   \n",
       "57        Christmas Inheritance       Romantic drama  December 15, 2017   \n",
       "58                       Bright        Urban fantasy  December 22, 2017   \n",
       "\n",
       "            Runtime    Language  YEAR  \n",
       "0   1 hour, 35 min.     English  2018  \n",
       "1   1 hour, 48 min.     English  2018  \n",
       "2   1 hour, 34 min.     English  2018  \n",
       "3   1 hour, 41 min.     English  2018  \n",
       "4   1 hour, 42 min.     English  2018  \n",
       "..              ...         ...   ...  \n",
       "54  1 hour, 39 min.  Portuguese  2017  \n",
       "55  1 hour, 32 min.     English  2017  \n",
       "56  1 hour, 29 min.     English  2017  \n",
       "57  1 hour, 44 min.     English  2017  \n",
       "58  1 hour, 57 min.     English  2017  \n",
       "\n",
       "[199 rows x 6 columns]"
      ],
      "text/html": "<div>\n<style scoped>\n    .dataframe tbody tr th:only-of-type {\n        vertical-align: middle;\n    }\n\n    .dataframe tbody tr th {\n        vertical-align: top;\n    }\n\n    .dataframe thead th {\n        text-align: right;\n    }\n</style>\n<table border=\"1\" class=\"dataframe\">\n  <thead>\n    <tr style=\"text-align: right;\">\n      <th></th>\n      <th>title</th>\n      <th>Genre</th>\n      <th>Premiere</th>\n      <th>Runtime</th>\n      <th>Language</th>\n      <th>YEAR</th>\n    </tr>\n  </thead>\n  <tbody>\n    <tr>\n      <th>0</th>\n      <td>The Polka King</td>\n      <td>Comedy-drama</td>\n      <td>January 12, 2018</td>\n      <td>1 hour, 35 min.</td>\n      <td>English</td>\n      <td>2018</td>\n    </tr>\n    <tr>\n      <th>1</th>\n      <td>Step Sisters</td>\n      <td>Comedy</td>\n      <td>January 19, 2018</td>\n      <td>1 hour, 48 min.</td>\n      <td>English</td>\n      <td>2018</td>\n    </tr>\n    <tr>\n      <th>2</th>\n      <td>The Open House</td>\n      <td>Horror thriller</td>\n      <td>January 19, 2018</td>\n      <td>1 hour, 34 min.</td>\n      <td>English</td>\n      <td>2018</td>\n    </tr>\n    <tr>\n      <th>3</th>\n      <td>A Futile and Stupid Gesture</td>\n      <td>Biographical/Comedy</td>\n      <td>January 26, 2018</td>\n      <td>1 hour, 41 min.</td>\n      <td>English</td>\n      <td>2018</td>\n    </tr>\n    <tr>\n      <th>4</th>\n      <td>The Cloverfield Paradox</td>\n      <td>Science fiction</td>\n      <td>February 4, 2018</td>\n      <td>1 hour, 42 min.</td>\n      <td>English</td>\n      <td>2018</td>\n    </tr>\n    <tr>\n      <th>...</th>\n      <td>...</td>\n      <td>...</td>\n      <td>...</td>\n      <td>...</td>\n      <td>...</td>\n      <td>...</td>\n    </tr>\n    <tr>\n      <th>54</th>\n      <td>The Killer</td>\n      <td>Western</td>\n      <td>November 10, 2017</td>\n      <td>1 hour, 39 min.</td>\n      <td>Portuguese</td>\n      <td>2017</td>\n    </tr>\n    <tr>\n      <th>55</th>\n      <td>A Christmas Prince</td>\n      <td>Romantic comedy</td>\n      <td>November 17, 2017</td>\n      <td>1 hour, 32 min.</td>\n      <td>English</td>\n      <td>2017</td>\n    </tr>\n    <tr>\n      <th>56</th>\n      <td>El Camino Christmas</td>\n      <td>Dark comedy</td>\n      <td>December 8, 2017</td>\n      <td>1 hour, 29 min.</td>\n      <td>English</td>\n      <td>2017</td>\n    </tr>\n    <tr>\n      <th>57</th>\n      <td>Christmas Inheritance</td>\n      <td>Romantic drama</td>\n      <td>December 15, 2017</td>\n      <td>1 hour, 44 min.</td>\n      <td>English</td>\n      <td>2017</td>\n    </tr>\n    <tr>\n      <th>58</th>\n      <td>Bright</td>\n      <td>Urban fantasy</td>\n      <td>December 22, 2017</td>\n      <td>1 hour, 57 min.</td>\n      <td>English</td>\n      <td>2017</td>\n    </tr>\n  </tbody>\n</table>\n<p>199 rows × 6 columns</p>\n</div>"
     },
     "metadata": {},
     "execution_count": 13
    }
   ],
   "source": [
    "copyDfNetflix"
   ]
  },
  {
   "cell_type": "code",
   "execution_count": 19,
   "metadata": {},
   "outputs": [],
   "source": [
    "copyDfNetflix.drop(['Genre', 'Premiere'], axis=1, inplace=True)"
   ]
  },
  {
   "cell_type": "code",
   "execution_count": 26,
   "metadata": {},
   "outputs": [
    {
     "output_type": "execute_result",
     "data": {
      "text/plain": [
       "                          title  startYear\n",
       "0                The Polka King       2018\n",
       "1                  Step Sisters       2018\n",
       "2                The Open House       2018\n",
       "3   A Futile and Stupid Gesture       2018\n",
       "4       The Cloverfield Paradox       2018\n",
       "..                          ...        ...\n",
       "54                   The Killer       2017\n",
       "55           A Christmas Prince       2017\n",
       "56          El Camino Christmas       2017\n",
       "57        Christmas Inheritance       2017\n",
       "58                       Bright       2017\n",
       "\n",
       "[199 rows x 2 columns]"
      ],
      "text/html": "<div>\n<style scoped>\n    .dataframe tbody tr th:only-of-type {\n        vertical-align: middle;\n    }\n\n    .dataframe tbody tr th {\n        vertical-align: top;\n    }\n\n    .dataframe thead th {\n        text-align: right;\n    }\n</style>\n<table border=\"1\" class=\"dataframe\">\n  <thead>\n    <tr style=\"text-align: right;\">\n      <th></th>\n      <th>title</th>\n      <th>startYear</th>\n    </tr>\n  </thead>\n  <tbody>\n    <tr>\n      <th>0</th>\n      <td>The Polka King</td>\n      <td>2018</td>\n    </tr>\n    <tr>\n      <th>1</th>\n      <td>Step Sisters</td>\n      <td>2018</td>\n    </tr>\n    <tr>\n      <th>2</th>\n      <td>The Open House</td>\n      <td>2018</td>\n    </tr>\n    <tr>\n      <th>3</th>\n      <td>A Futile and Stupid Gesture</td>\n      <td>2018</td>\n    </tr>\n    <tr>\n      <th>4</th>\n      <td>The Cloverfield Paradox</td>\n      <td>2018</td>\n    </tr>\n    <tr>\n      <th>...</th>\n      <td>...</td>\n      <td>...</td>\n    </tr>\n    <tr>\n      <th>54</th>\n      <td>The Killer</td>\n      <td>2017</td>\n    </tr>\n    <tr>\n      <th>55</th>\n      <td>A Christmas Prince</td>\n      <td>2017</td>\n    </tr>\n    <tr>\n      <th>56</th>\n      <td>El Camino Christmas</td>\n      <td>2017</td>\n    </tr>\n    <tr>\n      <th>57</th>\n      <td>Christmas Inheritance</td>\n      <td>2017</td>\n    </tr>\n    <tr>\n      <th>58</th>\n      <td>Bright</td>\n      <td>2017</td>\n    </tr>\n  </tbody>\n</table>\n<p>199 rows × 2 columns</p>\n</div>"
     },
     "metadata": {},
     "execution_count": 26
    }
   ],
   "source": [
    "copyDfNetflix"
   ]
  },
  {
   "cell_type": "code",
   "execution_count": 290,
   "metadata": {},
   "outputs": [
    {
     "output_type": "execute_result",
     "data": {
      "text/plain": [
       "           title        Genre           Premiere  YEAR\n",
       "63  The Irishman  Crime drama  November 27, 2019  2019"
      ],
      "text/html": "<div>\n<style scoped>\n    .dataframe tbody tr th:only-of-type {\n        vertical-align: middle;\n    }\n\n    .dataframe tbody tr th {\n        vertical-align: top;\n    }\n\n    .dataframe thead th {\n        text-align: right;\n    }\n</style>\n<table border=\"1\" class=\"dataframe\">\n  <thead>\n    <tr style=\"text-align: right;\">\n      <th></th>\n      <th>title</th>\n      <th>Genre</th>\n      <th>Premiere</th>\n      <th>YEAR</th>\n    </tr>\n  </thead>\n  <tbody>\n    <tr>\n      <th>63</th>\n      <td>The Irishman</td>\n      <td>Crime drama</td>\n      <td>November 27, 2019</td>\n      <td>2019</td>\n    </tr>\n  </tbody>\n</table>\n</div>"
     },
     "metadata": {},
     "execution_count": 290
    }
   ],
   "source": [
    "copyDfNetflix[copyDfNetflix['title'].str.contains('Irishman')]"
   ]
  },
  {
   "cell_type": "code",
   "execution_count": 107,
   "metadata": {},
   "outputs": [],
   "source": [
    "df=pd.concat([copyDfNetflix,Copy_table_film])"
   ]
  },
  {
   "cell_type": "code",
   "execution_count": 108,
   "metadata": {},
   "outputs": [
    {
     "output_type": "execute_result",
     "data": {
      "text/plain": [
       "             title  startYear     tconst titleType  primaryTitle  \\\n",
       "63    The Irishman       2019        NaN       NaN           NaN   \n",
       "4771  The Irishman       2019  tt1302006     movie  The Irishman   \n",
       "\n",
       "     originalTitle  isAdult endYear  runtimeMinutes                 genres  \\\n",
       "63             NaN      NaN     NaN             NaN                    NaN   \n",
       "4771  The Irishman      0.0      \\N           209.0  Biography,Crime,Drama   \n",
       "\n",
       "      averageRating  numVotes    titleId  ordering region language  \\\n",
       "63              NaN       NaN        NaN       NaN    NaN      NaN   \n",
       "4771            7.8  332899.0  tt1302006      39.0     FR       \\N   \n",
       "\n",
       "            types attributes  isOriginalTitle  \n",
       "63            NaN        NaN              NaN  \n",
       "4771  imdbDisplay         \\N              0.0  "
      ],
      "text/html": "<div>\n<style scoped>\n    .dataframe tbody tr th:only-of-type {\n        vertical-align: middle;\n    }\n\n    .dataframe tbody tr th {\n        vertical-align: top;\n    }\n\n    .dataframe thead th {\n        text-align: right;\n    }\n</style>\n<table border=\"1\" class=\"dataframe\">\n  <thead>\n    <tr style=\"text-align: right;\">\n      <th></th>\n      <th>title</th>\n      <th>startYear</th>\n      <th>tconst</th>\n      <th>titleType</th>\n      <th>primaryTitle</th>\n      <th>originalTitle</th>\n      <th>isAdult</th>\n      <th>endYear</th>\n      <th>runtimeMinutes</th>\n      <th>genres</th>\n      <th>averageRating</th>\n      <th>numVotes</th>\n      <th>titleId</th>\n      <th>ordering</th>\n      <th>region</th>\n      <th>language</th>\n      <th>types</th>\n      <th>attributes</th>\n      <th>isOriginalTitle</th>\n    </tr>\n  </thead>\n  <tbody>\n    <tr>\n      <th>63</th>\n      <td>The Irishman</td>\n      <td>2019</td>\n      <td>NaN</td>\n      <td>NaN</td>\n      <td>NaN</td>\n      <td>NaN</td>\n      <td>NaN</td>\n      <td>NaN</td>\n      <td>NaN</td>\n      <td>NaN</td>\n      <td>NaN</td>\n      <td>NaN</td>\n      <td>NaN</td>\n      <td>NaN</td>\n      <td>NaN</td>\n      <td>NaN</td>\n      <td>NaN</td>\n      <td>NaN</td>\n      <td>NaN</td>\n    </tr>\n    <tr>\n      <th>4771</th>\n      <td>The Irishman</td>\n      <td>2019</td>\n      <td>tt1302006</td>\n      <td>movie</td>\n      <td>The Irishman</td>\n      <td>The Irishman</td>\n      <td>0.0</td>\n      <td>\\N</td>\n      <td>209.0</td>\n      <td>Biography,Crime,Drama</td>\n      <td>7.8</td>\n      <td>332899.0</td>\n      <td>tt1302006</td>\n      <td>39.0</td>\n      <td>FR</td>\n      <td>\\N</td>\n      <td>imdbDisplay</td>\n      <td>\\N</td>\n      <td>0.0</td>\n    </tr>\n  </tbody>\n</table>\n</div>"
     },
     "metadata": {},
     "execution_count": 108
    }
   ],
   "source": [
    "df[df['title'].str.contains('Irishman', case= True)]\n"
   ]
  },
  {
   "cell_type": "code",
   "execution_count": 109,
   "metadata": {},
   "outputs": [
    {
     "output_type": "execute_result",
     "data": {
      "text/plain": [
       "                        title  startYear     tconst titleType  \\\n",
       "200          La veuve joyeuse       1934  tt0025493     movie   \n",
       "219         Les mains d'Orlac       1935  tt0026663     movie   \n",
       "302   La patrouille de l'aube       1938  tt0030044     movie   \n",
       "335                 Quasimodo       1939  tt0031455     movie   \n",
       "389       Le voleur de Bagdad       1940  tt0033152     movie   \n",
       "...                       ...        ...        ...       ...   \n",
       "5960                 Mon fils       2018  tt7628458     movie   \n",
       "5961           Marriage Story       2019  tt7653254     movie   \n",
       "5993                Paddleton       2019  tt8041276     movie   \n",
       "6037      Dolemite Is My Name       2019  tt8526872     movie   \n",
       "6089                    Mosul       2019  tt9252468     movie   \n",
       "\n",
       "                     primaryTitle                originalTitle  isAdult  \\\n",
       "200               The Merry Widow              The Merry Widow      0.0   \n",
       "219                      Mad Love                     Mad Love      0.0   \n",
       "302               The Dawn Patrol              The Dawn Patrol      0.0   \n",
       "335   The Hunchback of Notre Dame  The Hunchback of Notre Dame      0.0   \n",
       "389           The Thief of Bagdad          The Thief of Bagdad      0.0   \n",
       "...                           ...                          ...      ...   \n",
       "5960                Hadi Be Oglum                Hadi Be Oglum      0.0   \n",
       "5961               Marriage Story               Marriage Story      0.0   \n",
       "5993                    Paddleton                    Paddleton      0.0   \n",
       "6037          Dolemite Is My Name          Dolemite Is My Name      0.0   \n",
       "6089                        Mosul                        Mosul      0.0   \n",
       "\n",
       "     endYear  runtimeMinutes                    genres  averageRating  \\\n",
       "200       \\N            99.0    Comedy,Musical,Romance            7.2   \n",
       "219       \\N            68.0     Horror,Romance,Sci-Fi            7.3   \n",
       "302       \\N           103.0                 Drama,War            7.5   \n",
       "335       \\N           117.0             Drama,Romance            7.8   \n",
       "389       \\N           106.0  Adventure,Family,Fantasy            7.4   \n",
       "...      ...             ...                       ...            ...   \n",
       "5960      \\N           112.0                     Drama            7.1   \n",
       "5961      \\N           137.0      Comedy,Drama,Romance            7.9   \n",
       "5993      \\N            89.0              Comedy,Drama            7.2   \n",
       "6037      \\N           118.0    Biography,Comedy,Drama            7.3   \n",
       "6089      \\N            86.0          Action,Drama,War            7.1   \n",
       "\n",
       "      numVotes    titleId  ordering region language        types attributes  \\\n",
       "200     2584.0  tt0025493      27.0     FR       \\N           \\N         \\N   \n",
       "219     4678.0  tt0026663      12.0     FR       \\N           \\N         \\N   \n",
       "302     2755.0  tt0030044      11.0     FR       \\N  imdbDisplay         \\N   \n",
       "335    10473.0  tt0031455      13.0     FR       \\N           \\N         \\N   \n",
       "389    12062.0  tt0033152       9.0     FR       \\N           \\N         \\N   \n",
       "...        ...        ...       ...    ...      ...          ...        ...   \n",
       "5960    3057.0  tt7628458       6.0     FR       \\N  imdbDisplay         \\N   \n",
       "5961  254077.0  tt7653254      31.0     FR       \\N  imdbDisplay         \\N   \n",
       "5993   11667.0  tt8041276       8.0     FR       \\N  imdbDisplay         \\N   \n",
       "6037   54833.0  tt8526872      19.0     FR       \\N  imdbDisplay         \\N   \n",
       "6089   21317.0  tt9252468      13.0     FR       \\N  imdbDisplay         \\N   \n",
       "\n",
       "      isOriginalTitle  \n",
       "200               0.0  \n",
       "219               0.0  \n",
       "302               0.0  \n",
       "335               0.0  \n",
       "389               0.0  \n",
       "...               ...  \n",
       "5960              0.0  \n",
       "5961              0.0  \n",
       "5993              0.0  \n",
       "6037              0.0  \n",
       "6089              0.0  \n",
       "\n",
       "[90 rows x 19 columns]"
      ],
      "text/html": "<div>\n<style scoped>\n    .dataframe tbody tr th:only-of-type {\n        vertical-align: middle;\n    }\n\n    .dataframe tbody tr th {\n        vertical-align: top;\n    }\n\n    .dataframe thead th {\n        text-align: right;\n    }\n</style>\n<table border=\"1\" class=\"dataframe\">\n  <thead>\n    <tr style=\"text-align: right;\">\n      <th></th>\n      <th>title</th>\n      <th>startYear</th>\n      <th>tconst</th>\n      <th>titleType</th>\n      <th>primaryTitle</th>\n      <th>originalTitle</th>\n      <th>isAdult</th>\n      <th>endYear</th>\n      <th>runtimeMinutes</th>\n      <th>genres</th>\n      <th>averageRating</th>\n      <th>numVotes</th>\n      <th>titleId</th>\n      <th>ordering</th>\n      <th>region</th>\n      <th>language</th>\n      <th>types</th>\n      <th>attributes</th>\n      <th>isOriginalTitle</th>\n    </tr>\n  </thead>\n  <tbody>\n    <tr>\n      <th>200</th>\n      <td>La veuve joyeuse</td>\n      <td>1934</td>\n      <td>tt0025493</td>\n      <td>movie</td>\n      <td>The Merry Widow</td>\n      <td>The Merry Widow</td>\n      <td>0.0</td>\n      <td>\\N</td>\n      <td>99.0</td>\n      <td>Comedy,Musical,Romance</td>\n      <td>7.2</td>\n      <td>2584.0</td>\n      <td>tt0025493</td>\n      <td>27.0</td>\n      <td>FR</td>\n      <td>\\N</td>\n      <td>\\N</td>\n      <td>\\N</td>\n      <td>0.0</td>\n    </tr>\n    <tr>\n      <th>219</th>\n      <td>Les mains d'Orlac</td>\n      <td>1935</td>\n      <td>tt0026663</td>\n      <td>movie</td>\n      <td>Mad Love</td>\n      <td>Mad Love</td>\n      <td>0.0</td>\n      <td>\\N</td>\n      <td>68.0</td>\n      <td>Horror,Romance,Sci-Fi</td>\n      <td>7.3</td>\n      <td>4678.0</td>\n      <td>tt0026663</td>\n      <td>12.0</td>\n      <td>FR</td>\n      <td>\\N</td>\n      <td>\\N</td>\n      <td>\\N</td>\n      <td>0.0</td>\n    </tr>\n    <tr>\n      <th>302</th>\n      <td>La patrouille de l'aube</td>\n      <td>1938</td>\n      <td>tt0030044</td>\n      <td>movie</td>\n      <td>The Dawn Patrol</td>\n      <td>The Dawn Patrol</td>\n      <td>0.0</td>\n      <td>\\N</td>\n      <td>103.0</td>\n      <td>Drama,War</td>\n      <td>7.5</td>\n      <td>2755.0</td>\n      <td>tt0030044</td>\n      <td>11.0</td>\n      <td>FR</td>\n      <td>\\N</td>\n      <td>imdbDisplay</td>\n      <td>\\N</td>\n      <td>0.0</td>\n    </tr>\n    <tr>\n      <th>335</th>\n      <td>Quasimodo</td>\n      <td>1939</td>\n      <td>tt0031455</td>\n      <td>movie</td>\n      <td>The Hunchback of Notre Dame</td>\n      <td>The Hunchback of Notre Dame</td>\n      <td>0.0</td>\n      <td>\\N</td>\n      <td>117.0</td>\n      <td>Drama,Romance</td>\n      <td>7.8</td>\n      <td>10473.0</td>\n      <td>tt0031455</td>\n      <td>13.0</td>\n      <td>FR</td>\n      <td>\\N</td>\n      <td>\\N</td>\n      <td>\\N</td>\n      <td>0.0</td>\n    </tr>\n    <tr>\n      <th>389</th>\n      <td>Le voleur de Bagdad</td>\n      <td>1940</td>\n      <td>tt0033152</td>\n      <td>movie</td>\n      <td>The Thief of Bagdad</td>\n      <td>The Thief of Bagdad</td>\n      <td>0.0</td>\n      <td>\\N</td>\n      <td>106.0</td>\n      <td>Adventure,Family,Fantasy</td>\n      <td>7.4</td>\n      <td>12062.0</td>\n      <td>tt0033152</td>\n      <td>9.0</td>\n      <td>FR</td>\n      <td>\\N</td>\n      <td>\\N</td>\n      <td>\\N</td>\n      <td>0.0</td>\n    </tr>\n    <tr>\n      <th>...</th>\n      <td>...</td>\n      <td>...</td>\n      <td>...</td>\n      <td>...</td>\n      <td>...</td>\n      <td>...</td>\n      <td>...</td>\n      <td>...</td>\n      <td>...</td>\n      <td>...</td>\n      <td>...</td>\n      <td>...</td>\n      <td>...</td>\n      <td>...</td>\n      <td>...</td>\n      <td>...</td>\n      <td>...</td>\n      <td>...</td>\n      <td>...</td>\n    </tr>\n    <tr>\n      <th>5960</th>\n      <td>Mon fils</td>\n      <td>2018</td>\n      <td>tt7628458</td>\n      <td>movie</td>\n      <td>Hadi Be Oglum</td>\n      <td>Hadi Be Oglum</td>\n      <td>0.0</td>\n      <td>\\N</td>\n      <td>112.0</td>\n      <td>Drama</td>\n      <td>7.1</td>\n      <td>3057.0</td>\n      <td>tt7628458</td>\n      <td>6.0</td>\n      <td>FR</td>\n      <td>\\N</td>\n      <td>imdbDisplay</td>\n      <td>\\N</td>\n      <td>0.0</td>\n    </tr>\n    <tr>\n      <th>5961</th>\n      <td>Marriage Story</td>\n      <td>2019</td>\n      <td>tt7653254</td>\n      <td>movie</td>\n      <td>Marriage Story</td>\n      <td>Marriage Story</td>\n      <td>0.0</td>\n      <td>\\N</td>\n      <td>137.0</td>\n      <td>Comedy,Drama,Romance</td>\n      <td>7.9</td>\n      <td>254077.0</td>\n      <td>tt7653254</td>\n      <td>31.0</td>\n      <td>FR</td>\n      <td>\\N</td>\n      <td>imdbDisplay</td>\n      <td>\\N</td>\n      <td>0.0</td>\n    </tr>\n    <tr>\n      <th>5993</th>\n      <td>Paddleton</td>\n      <td>2019</td>\n      <td>tt8041276</td>\n      <td>movie</td>\n      <td>Paddleton</td>\n      <td>Paddleton</td>\n      <td>0.0</td>\n      <td>\\N</td>\n      <td>89.0</td>\n      <td>Comedy,Drama</td>\n      <td>7.2</td>\n      <td>11667.0</td>\n      <td>tt8041276</td>\n      <td>8.0</td>\n      <td>FR</td>\n      <td>\\N</td>\n      <td>imdbDisplay</td>\n      <td>\\N</td>\n      <td>0.0</td>\n    </tr>\n    <tr>\n      <th>6037</th>\n      <td>Dolemite Is My Name</td>\n      <td>2019</td>\n      <td>tt8526872</td>\n      <td>movie</td>\n      <td>Dolemite Is My Name</td>\n      <td>Dolemite Is My Name</td>\n      <td>0.0</td>\n      <td>\\N</td>\n      <td>118.0</td>\n      <td>Biography,Comedy,Drama</td>\n      <td>7.3</td>\n      <td>54833.0</td>\n      <td>tt8526872</td>\n      <td>19.0</td>\n      <td>FR</td>\n      <td>\\N</td>\n      <td>imdbDisplay</td>\n      <td>\\N</td>\n      <td>0.0</td>\n    </tr>\n    <tr>\n      <th>6089</th>\n      <td>Mosul</td>\n      <td>2019</td>\n      <td>tt9252468</td>\n      <td>movie</td>\n      <td>Mosul</td>\n      <td>Mosul</td>\n      <td>0.0</td>\n      <td>\\N</td>\n      <td>86.0</td>\n      <td>Action,Drama,War</td>\n      <td>7.1</td>\n      <td>21317.0</td>\n      <td>tt9252468</td>\n      <td>13.0</td>\n      <td>FR</td>\n      <td>\\N</td>\n      <td>imdbDisplay</td>\n      <td>\\N</td>\n      <td>0.0</td>\n    </tr>\n  </tbody>\n</table>\n<p>90 rows × 19 columns</p>\n</div>"
     },
     "metadata": {},
     "execution_count": 109
    }
   ],
   "source": [
    "df[df.duplicated('title')]"
   ]
  },
  {
   "cell_type": "code",
   "execution_count": 110,
   "metadata": {},
   "outputs": [],
   "source": [
    "df.drop_duplicates(subset=['title'], keep=False, inplace=True)"
   ]
  },
  {
   "cell_type": "code",
   "execution_count": 111,
   "metadata": {},
   "outputs": [
    {
     "output_type": "execute_result",
     "data": {
      "text/plain": [
       "                 title  startYear     tconst titleType    primaryTitle  \\\n",
       "2082       Taxi Driver       1976  tt0075314     movie     Taxi Driver   \n",
       "2137            Driver       1978  tt0077474     movie      The Driver   \n",
       "3470  Mulholland Drive       2001  tt0166924     movie  Mulholland Dr.   \n",
       "5550       Baby Driver       2017  tt3890160     movie     Baby Driver   \n",
       "5891     A Taxi Driver       2017  tt6878038     movie   A Taxi Driver   \n",
       "6090         Driveways       2019  tt9318280     movie       Driveways   \n",
       "\n",
       "         originalTitle  isAdult endYear  runtimeMinutes  \\\n",
       "2082       Taxi Driver      0.0      \\N           114.0   \n",
       "2137        The Driver      0.0      \\N            91.0   \n",
       "3470    Mulholland Dr.      0.0      \\N           147.0   \n",
       "5550       Baby Driver      0.0      \\N           113.0   \n",
       "5891  Taeksi woonjunsa      0.0      \\N           137.0   \n",
       "6090         Driveways      0.0      \\N            83.0   \n",
       "\n",
       "                      genres  averageRating  numVotes    titleId  ordering  \\\n",
       "2082             Crime,Drama            8.2  734540.0  tt0075314      16.0   \n",
       "2137   Action,Crime,Thriller            7.2   14643.0  tt0077474       7.0   \n",
       "3470  Drama,Mystery,Thriller            7.9  325887.0  tt0166924       6.0   \n",
       "5550      Action,Crime,Drama            7.6  447099.0  tt3890160       5.0   \n",
       "5891    Action,Drama,History            7.9   17274.0  tt6878038      12.0   \n",
       "6090                   Drama            7.3    3534.0  tt9318280       6.0   \n",
       "\n",
       "     region language        types attributes  isOriginalTitle  \n",
       "2082     FR       \\N  imdbDisplay         \\N              0.0  \n",
       "2137     FR       \\N           \\N         \\N              0.0  \n",
       "3470     FR       \\N           \\N         \\N              0.0  \n",
       "5550     FR       \\N  imdbDisplay         \\N              0.0  \n",
       "5891     FR       \\N  imdbDisplay         \\N              0.0  \n",
       "6090     FR       \\N  imdbDisplay         \\N              0.0  "
      ],
      "text/html": "<div>\n<style scoped>\n    .dataframe tbody tr th:only-of-type {\n        vertical-align: middle;\n    }\n\n    .dataframe tbody tr th {\n        vertical-align: top;\n    }\n\n    .dataframe thead th {\n        text-align: right;\n    }\n</style>\n<table border=\"1\" class=\"dataframe\">\n  <thead>\n    <tr style=\"text-align: right;\">\n      <th></th>\n      <th>title</th>\n      <th>startYear</th>\n      <th>tconst</th>\n      <th>titleType</th>\n      <th>primaryTitle</th>\n      <th>originalTitle</th>\n      <th>isAdult</th>\n      <th>endYear</th>\n      <th>runtimeMinutes</th>\n      <th>genres</th>\n      <th>averageRating</th>\n      <th>numVotes</th>\n      <th>titleId</th>\n      <th>ordering</th>\n      <th>region</th>\n      <th>language</th>\n      <th>types</th>\n      <th>attributes</th>\n      <th>isOriginalTitle</th>\n    </tr>\n  </thead>\n  <tbody>\n    <tr>\n      <th>2082</th>\n      <td>Taxi Driver</td>\n      <td>1976</td>\n      <td>tt0075314</td>\n      <td>movie</td>\n      <td>Taxi Driver</td>\n      <td>Taxi Driver</td>\n      <td>0.0</td>\n      <td>\\N</td>\n      <td>114.0</td>\n      <td>Crime,Drama</td>\n      <td>8.2</td>\n      <td>734540.0</td>\n      <td>tt0075314</td>\n      <td>16.0</td>\n      <td>FR</td>\n      <td>\\N</td>\n      <td>imdbDisplay</td>\n      <td>\\N</td>\n      <td>0.0</td>\n    </tr>\n    <tr>\n      <th>2137</th>\n      <td>Driver</td>\n      <td>1978</td>\n      <td>tt0077474</td>\n      <td>movie</td>\n      <td>The Driver</td>\n      <td>The Driver</td>\n      <td>0.0</td>\n      <td>\\N</td>\n      <td>91.0</td>\n      <td>Action,Crime,Thriller</td>\n      <td>7.2</td>\n      <td>14643.0</td>\n      <td>tt0077474</td>\n      <td>7.0</td>\n      <td>FR</td>\n      <td>\\N</td>\n      <td>\\N</td>\n      <td>\\N</td>\n      <td>0.0</td>\n    </tr>\n    <tr>\n      <th>3470</th>\n      <td>Mulholland Drive</td>\n      <td>2001</td>\n      <td>tt0166924</td>\n      <td>movie</td>\n      <td>Mulholland Dr.</td>\n      <td>Mulholland Dr.</td>\n      <td>0.0</td>\n      <td>\\N</td>\n      <td>147.0</td>\n      <td>Drama,Mystery,Thriller</td>\n      <td>7.9</td>\n      <td>325887.0</td>\n      <td>tt0166924</td>\n      <td>6.0</td>\n      <td>FR</td>\n      <td>\\N</td>\n      <td>\\N</td>\n      <td>\\N</td>\n      <td>0.0</td>\n    </tr>\n    <tr>\n      <th>5550</th>\n      <td>Baby Driver</td>\n      <td>2017</td>\n      <td>tt3890160</td>\n      <td>movie</td>\n      <td>Baby Driver</td>\n      <td>Baby Driver</td>\n      <td>0.0</td>\n      <td>\\N</td>\n      <td>113.0</td>\n      <td>Action,Crime,Drama</td>\n      <td>7.6</td>\n      <td>447099.0</td>\n      <td>tt3890160</td>\n      <td>5.0</td>\n      <td>FR</td>\n      <td>\\N</td>\n      <td>imdbDisplay</td>\n      <td>\\N</td>\n      <td>0.0</td>\n    </tr>\n    <tr>\n      <th>5891</th>\n      <td>A Taxi Driver</td>\n      <td>2017</td>\n      <td>tt6878038</td>\n      <td>movie</td>\n      <td>A Taxi Driver</td>\n      <td>Taeksi woonjunsa</td>\n      <td>0.0</td>\n      <td>\\N</td>\n      <td>137.0</td>\n      <td>Action,Drama,History</td>\n      <td>7.9</td>\n      <td>17274.0</td>\n      <td>tt6878038</td>\n      <td>12.0</td>\n      <td>FR</td>\n      <td>\\N</td>\n      <td>imdbDisplay</td>\n      <td>\\N</td>\n      <td>0.0</td>\n    </tr>\n    <tr>\n      <th>6090</th>\n      <td>Driveways</td>\n      <td>2019</td>\n      <td>tt9318280</td>\n      <td>movie</td>\n      <td>Driveways</td>\n      <td>Driveways</td>\n      <td>0.0</td>\n      <td>\\N</td>\n      <td>83.0</td>\n      <td>Drama</td>\n      <td>7.3</td>\n      <td>3534.0</td>\n      <td>tt9318280</td>\n      <td>6.0</td>\n      <td>FR</td>\n      <td>\\N</td>\n      <td>imdbDisplay</td>\n      <td>\\N</td>\n      <td>0.0</td>\n    </tr>\n  </tbody>\n</table>\n</div>"
     },
     "metadata": {},
     "execution_count": 111
    }
   ],
   "source": [
    "df[df['title'].str.contains('Drive', case= False)]"
   ]
  },
  {
   "cell_type": "code",
   "execution_count": 112,
   "metadata": {},
   "outputs": [],
   "source": [
    "df=df.dropna()\n",
    "df=df.reset_index(drop=True)"
   ]
  },
  {
   "cell_type": "code",
   "execution_count": 113,
   "metadata": {},
   "outputs": [
    {
     "output_type": "execute_result",
     "data": {
      "text/plain": [
       "                                              title  startYear     tconst  \\\n",
       "0                                           Cabiria       1914  tt0003740   \n",
       "1                                       Intolérance       1916  tt0006864   \n",
       "2                                     Les proscrits       1918  tt0008879   \n",
       "3                                     Miss Milliard       1919  tt0009893   \n",
       "4                                      Le lys brisé       1919  tt0009968   \n",
       "...                                             ...        ...        ...   \n",
       "5958                              La loi de Téhéran       2019  tt9817070   \n",
       "5959                                           Deux       2019  tt9845110   \n",
       "5960  The Bee Gees: How Can You Mend a Broken Heart       2020  tt9850386   \n",
       "5961                         Le bonheur à tout prix       2019  tt9882084   \n",
       "5962                                         Kaithi       2019  tt9900782   \n",
       "\n",
       "     titleType                                      primaryTitle  \\\n",
       "0        movie                                           Cabiria   \n",
       "1        movie  Intolerance: Love's Struggle Throughout the Ages   \n",
       "2        movie                           The Outlaw and His Wife   \n",
       "3        movie                               The Oyster Princess   \n",
       "4        movie                                   Broken Blossoms   \n",
       "...        ...                                               ...   \n",
       "5958     movie                                          Just 6.5   \n",
       "5959     movie                                         Two of Us   \n",
       "5960     movie     The Bee Gees: How Can You Mend a Broken Heart   \n",
       "5961     movie                                 Chasing Happiness   \n",
       "5962     movie                                            Kaithi   \n",
       "\n",
       "                                         originalTitle  isAdult endYear  \\\n",
       "0                                              Cabiria      0.0      \\N   \n",
       "1     Intolerance: Love's Struggle Throughout the Ages      0.0      \\N   \n",
       "2                          Berg-Ejvind och hans hustru      0.0      \\N   \n",
       "3                                Die Austernprinzessin      0.0      \\N   \n",
       "4       Broken Blossoms or The Yellow Man and the Girl      0.0      \\N   \n",
       "...                                                ...      ...     ...   \n",
       "5958                                Metri Shesh Va Nim      0.0      \\N   \n",
       "5959                                              Deux      0.0      \\N   \n",
       "5960     The Bee Gees: How Can You Mend a Broken Heart      0.0      \\N   \n",
       "5961                                 Chasing Happiness      0.0      \\N   \n",
       "5962                                            Kaithi      0.0      \\N   \n",
       "\n",
       "      runtimeMinutes                       genres  averageRating  numVotes  \\\n",
       "0              148.0      Adventure,Drama,History            7.1    3224.0   \n",
       "1              163.0                Drama,History            7.7   14377.0   \n",
       "2              136.0                        Drama            7.2    1577.0   \n",
       "3               60.0                       Comedy            7.2    1699.0   \n",
       "4               90.0                Drama,Romance            7.3    9532.0   \n",
       "...              ...                          ...            ...       ...   \n",
       "5958           131.0           Action,Crime,Drama            7.9    8786.0   \n",
       "5959            99.0                Drama,Romance            7.1    1585.0   \n",
       "5960           111.0            Documentary,Music            8.2    2887.0   \n",
       "5961            96.0  Biography,Documentary,Music            7.8    2011.0   \n",
       "5962           145.0              Action,Thriller            8.4   13156.0   \n",
       "\n",
       "        titleId  ordering region language        types attributes  \\\n",
       "0     tt0003740      17.0     FR       \\N  imdbDisplay         \\N   \n",
       "1     tt0006864      27.0     FR       \\N           \\N         \\N   \n",
       "2     tt0008879      12.0     FR       \\N           \\N         \\N   \n",
       "3     tt0009893      10.0     FR       \\N  imdbDisplay         \\N   \n",
       "4     tt0009968      15.0     FR       \\N           \\N         \\N   \n",
       "...         ...       ...    ...      ...          ...        ...   \n",
       "5958  tt9817070      12.0     FR       \\N  imdbDisplay         \\N   \n",
       "5959  tt9845110      17.0     FR       \\N  imdbDisplay         \\N   \n",
       "5960  tt9850386       9.0     FR       \\N  imdbDisplay         \\N   \n",
       "5961  tt9882084      16.0     FR       \\N  imdbDisplay         \\N   \n",
       "5962  tt9900782       7.0     FR       \\N  imdbDisplay         \\N   \n",
       "\n",
       "      isOriginalTitle  \n",
       "0                 0.0  \n",
       "1                 0.0  \n",
       "2                 0.0  \n",
       "3                 0.0  \n",
       "4                 0.0  \n",
       "...               ...  \n",
       "5958              0.0  \n",
       "5959              0.0  \n",
       "5960              0.0  \n",
       "5961              0.0  \n",
       "5962              0.0  \n",
       "\n",
       "[5963 rows x 19 columns]"
      ],
      "text/html": "<div>\n<style scoped>\n    .dataframe tbody tr th:only-of-type {\n        vertical-align: middle;\n    }\n\n    .dataframe tbody tr th {\n        vertical-align: top;\n    }\n\n    .dataframe thead th {\n        text-align: right;\n    }\n</style>\n<table border=\"1\" class=\"dataframe\">\n  <thead>\n    <tr style=\"text-align: right;\">\n      <th></th>\n      <th>title</th>\n      <th>startYear</th>\n      <th>tconst</th>\n      <th>titleType</th>\n      <th>primaryTitle</th>\n      <th>originalTitle</th>\n      <th>isAdult</th>\n      <th>endYear</th>\n      <th>runtimeMinutes</th>\n      <th>genres</th>\n      <th>averageRating</th>\n      <th>numVotes</th>\n      <th>titleId</th>\n      <th>ordering</th>\n      <th>region</th>\n      <th>language</th>\n      <th>types</th>\n      <th>attributes</th>\n      <th>isOriginalTitle</th>\n    </tr>\n  </thead>\n  <tbody>\n    <tr>\n      <th>0</th>\n      <td>Cabiria</td>\n      <td>1914</td>\n      <td>tt0003740</td>\n      <td>movie</td>\n      <td>Cabiria</td>\n      <td>Cabiria</td>\n      <td>0.0</td>\n      <td>\\N</td>\n      <td>148.0</td>\n      <td>Adventure,Drama,History</td>\n      <td>7.1</td>\n      <td>3224.0</td>\n      <td>tt0003740</td>\n      <td>17.0</td>\n      <td>FR</td>\n      <td>\\N</td>\n      <td>imdbDisplay</td>\n      <td>\\N</td>\n      <td>0.0</td>\n    </tr>\n    <tr>\n      <th>1</th>\n      <td>Intolérance</td>\n      <td>1916</td>\n      <td>tt0006864</td>\n      <td>movie</td>\n      <td>Intolerance: Love's Struggle Throughout the Ages</td>\n      <td>Intolerance: Love's Struggle Throughout the Ages</td>\n      <td>0.0</td>\n      <td>\\N</td>\n      <td>163.0</td>\n      <td>Drama,History</td>\n      <td>7.7</td>\n      <td>14377.0</td>\n      <td>tt0006864</td>\n      <td>27.0</td>\n      <td>FR</td>\n      <td>\\N</td>\n      <td>\\N</td>\n      <td>\\N</td>\n      <td>0.0</td>\n    </tr>\n    <tr>\n      <th>2</th>\n      <td>Les proscrits</td>\n      <td>1918</td>\n      <td>tt0008879</td>\n      <td>movie</td>\n      <td>The Outlaw and His Wife</td>\n      <td>Berg-Ejvind och hans hustru</td>\n      <td>0.0</td>\n      <td>\\N</td>\n      <td>136.0</td>\n      <td>Drama</td>\n      <td>7.2</td>\n      <td>1577.0</td>\n      <td>tt0008879</td>\n      <td>12.0</td>\n      <td>FR</td>\n      <td>\\N</td>\n      <td>\\N</td>\n      <td>\\N</td>\n      <td>0.0</td>\n    </tr>\n    <tr>\n      <th>3</th>\n      <td>Miss Milliard</td>\n      <td>1919</td>\n      <td>tt0009893</td>\n      <td>movie</td>\n      <td>The Oyster Princess</td>\n      <td>Die Austernprinzessin</td>\n      <td>0.0</td>\n      <td>\\N</td>\n      <td>60.0</td>\n      <td>Comedy</td>\n      <td>7.2</td>\n      <td>1699.0</td>\n      <td>tt0009893</td>\n      <td>10.0</td>\n      <td>FR</td>\n      <td>\\N</td>\n      <td>imdbDisplay</td>\n      <td>\\N</td>\n      <td>0.0</td>\n    </tr>\n    <tr>\n      <th>4</th>\n      <td>Le lys brisé</td>\n      <td>1919</td>\n      <td>tt0009968</td>\n      <td>movie</td>\n      <td>Broken Blossoms</td>\n      <td>Broken Blossoms or The Yellow Man and the Girl</td>\n      <td>0.0</td>\n      <td>\\N</td>\n      <td>90.0</td>\n      <td>Drama,Romance</td>\n      <td>7.3</td>\n      <td>9532.0</td>\n      <td>tt0009968</td>\n      <td>15.0</td>\n      <td>FR</td>\n      <td>\\N</td>\n      <td>\\N</td>\n      <td>\\N</td>\n      <td>0.0</td>\n    </tr>\n    <tr>\n      <th>...</th>\n      <td>...</td>\n      <td>...</td>\n      <td>...</td>\n      <td>...</td>\n      <td>...</td>\n      <td>...</td>\n      <td>...</td>\n      <td>...</td>\n      <td>...</td>\n      <td>...</td>\n      <td>...</td>\n      <td>...</td>\n      <td>...</td>\n      <td>...</td>\n      <td>...</td>\n      <td>...</td>\n      <td>...</td>\n      <td>...</td>\n      <td>...</td>\n    </tr>\n    <tr>\n      <th>5958</th>\n      <td>La loi de Téhéran</td>\n      <td>2019</td>\n      <td>tt9817070</td>\n      <td>movie</td>\n      <td>Just 6.5</td>\n      <td>Metri Shesh Va Nim</td>\n      <td>0.0</td>\n      <td>\\N</td>\n      <td>131.0</td>\n      <td>Action,Crime,Drama</td>\n      <td>7.9</td>\n      <td>8786.0</td>\n      <td>tt9817070</td>\n      <td>12.0</td>\n      <td>FR</td>\n      <td>\\N</td>\n      <td>imdbDisplay</td>\n      <td>\\N</td>\n      <td>0.0</td>\n    </tr>\n    <tr>\n      <th>5959</th>\n      <td>Deux</td>\n      <td>2019</td>\n      <td>tt9845110</td>\n      <td>movie</td>\n      <td>Two of Us</td>\n      <td>Deux</td>\n      <td>0.0</td>\n      <td>\\N</td>\n      <td>99.0</td>\n      <td>Drama,Romance</td>\n      <td>7.1</td>\n      <td>1585.0</td>\n      <td>tt9845110</td>\n      <td>17.0</td>\n      <td>FR</td>\n      <td>\\N</td>\n      <td>imdbDisplay</td>\n      <td>\\N</td>\n      <td>0.0</td>\n    </tr>\n    <tr>\n      <th>5960</th>\n      <td>The Bee Gees: How Can You Mend a Broken Heart</td>\n      <td>2020</td>\n      <td>tt9850386</td>\n      <td>movie</td>\n      <td>The Bee Gees: How Can You Mend a Broken Heart</td>\n      <td>The Bee Gees: How Can You Mend a Broken Heart</td>\n      <td>0.0</td>\n      <td>\\N</td>\n      <td>111.0</td>\n      <td>Documentary,Music</td>\n      <td>8.2</td>\n      <td>2887.0</td>\n      <td>tt9850386</td>\n      <td>9.0</td>\n      <td>FR</td>\n      <td>\\N</td>\n      <td>imdbDisplay</td>\n      <td>\\N</td>\n      <td>0.0</td>\n    </tr>\n    <tr>\n      <th>5961</th>\n      <td>Le bonheur à tout prix</td>\n      <td>2019</td>\n      <td>tt9882084</td>\n      <td>movie</td>\n      <td>Chasing Happiness</td>\n      <td>Chasing Happiness</td>\n      <td>0.0</td>\n      <td>\\N</td>\n      <td>96.0</td>\n      <td>Biography,Documentary,Music</td>\n      <td>7.8</td>\n      <td>2011.0</td>\n      <td>tt9882084</td>\n      <td>16.0</td>\n      <td>FR</td>\n      <td>\\N</td>\n      <td>imdbDisplay</td>\n      <td>\\N</td>\n      <td>0.0</td>\n    </tr>\n    <tr>\n      <th>5962</th>\n      <td>Kaithi</td>\n      <td>2019</td>\n      <td>tt9900782</td>\n      <td>movie</td>\n      <td>Kaithi</td>\n      <td>Kaithi</td>\n      <td>0.0</td>\n      <td>\\N</td>\n      <td>145.0</td>\n      <td>Action,Thriller</td>\n      <td>8.4</td>\n      <td>13156.0</td>\n      <td>tt9900782</td>\n      <td>7.0</td>\n      <td>FR</td>\n      <td>\\N</td>\n      <td>imdbDisplay</td>\n      <td>\\N</td>\n      <td>0.0</td>\n    </tr>\n  </tbody>\n</table>\n<p>5963 rows × 19 columns</p>\n</div>"
     },
     "metadata": {},
     "execution_count": 113
    }
   ],
   "source": [
    "df"
   ]
  },
  {
   "cell_type": "code",
   "execution_count": 114,
   "metadata": {},
   "outputs": [],
   "source": [
    "# je drop les collones que je veux pas pour faciliter la lecture\n",
    "df=df.drop(['primaryTitle','originalTitle', 'isAdult','endYear','titleId','attributes','isOriginalTitle','types'], axis=1)"
   ]
  },
  {
   "cell_type": "code",
   "execution_count": 115,
   "metadata": {},
   "outputs": [
    {
     "output_type": "execute_result",
     "data": {
      "text/plain": [
       "           title  startYear     tconst titleType  runtimeMinutes  \\\n",
       "0        Cabiria       1914  tt0003740     movie           148.0   \n",
       "1    Intolérance       1916  tt0006864     movie           163.0   \n",
       "2  Les proscrits       1918  tt0008879     movie           136.0   \n",
       "3  Miss Milliard       1919  tt0009893     movie            60.0   \n",
       "4   Le lys brisé       1919  tt0009968     movie            90.0   \n",
       "\n",
       "                    genres  averageRating  numVotes  ordering region language  \n",
       "0  Adventure,Drama,History            7.1    3224.0      17.0     FR       \\N  \n",
       "1            Drama,History            7.7   14377.0      27.0     FR       \\N  \n",
       "2                    Drama            7.2    1577.0      12.0     FR       \\N  \n",
       "3                   Comedy            7.2    1699.0      10.0     FR       \\N  \n",
       "4            Drama,Romance            7.3    9532.0      15.0     FR       \\N  "
      ],
      "text/html": "<div>\n<style scoped>\n    .dataframe tbody tr th:only-of-type {\n        vertical-align: middle;\n    }\n\n    .dataframe tbody tr th {\n        vertical-align: top;\n    }\n\n    .dataframe thead th {\n        text-align: right;\n    }\n</style>\n<table border=\"1\" class=\"dataframe\">\n  <thead>\n    <tr style=\"text-align: right;\">\n      <th></th>\n      <th>title</th>\n      <th>startYear</th>\n      <th>tconst</th>\n      <th>titleType</th>\n      <th>runtimeMinutes</th>\n      <th>genres</th>\n      <th>averageRating</th>\n      <th>numVotes</th>\n      <th>ordering</th>\n      <th>region</th>\n      <th>language</th>\n    </tr>\n  </thead>\n  <tbody>\n    <tr>\n      <th>0</th>\n      <td>Cabiria</td>\n      <td>1914</td>\n      <td>tt0003740</td>\n      <td>movie</td>\n      <td>148.0</td>\n      <td>Adventure,Drama,History</td>\n      <td>7.1</td>\n      <td>3224.0</td>\n      <td>17.0</td>\n      <td>FR</td>\n      <td>\\N</td>\n    </tr>\n    <tr>\n      <th>1</th>\n      <td>Intolérance</td>\n      <td>1916</td>\n      <td>tt0006864</td>\n      <td>movie</td>\n      <td>163.0</td>\n      <td>Drama,History</td>\n      <td>7.7</td>\n      <td>14377.0</td>\n      <td>27.0</td>\n      <td>FR</td>\n      <td>\\N</td>\n    </tr>\n    <tr>\n      <th>2</th>\n      <td>Les proscrits</td>\n      <td>1918</td>\n      <td>tt0008879</td>\n      <td>movie</td>\n      <td>136.0</td>\n      <td>Drama</td>\n      <td>7.2</td>\n      <td>1577.0</td>\n      <td>12.0</td>\n      <td>FR</td>\n      <td>\\N</td>\n    </tr>\n    <tr>\n      <th>3</th>\n      <td>Miss Milliard</td>\n      <td>1919</td>\n      <td>tt0009893</td>\n      <td>movie</td>\n      <td>60.0</td>\n      <td>Comedy</td>\n      <td>7.2</td>\n      <td>1699.0</td>\n      <td>10.0</td>\n      <td>FR</td>\n      <td>\\N</td>\n    </tr>\n    <tr>\n      <th>4</th>\n      <td>Le lys brisé</td>\n      <td>1919</td>\n      <td>tt0009968</td>\n      <td>movie</td>\n      <td>90.0</td>\n      <td>Drama,Romance</td>\n      <td>7.3</td>\n      <td>9532.0</td>\n      <td>15.0</td>\n      <td>FR</td>\n      <td>\\N</td>\n    </tr>\n  </tbody>\n</table>\n</div>"
     },
     "metadata": {},
     "execution_count": 115
    }
   ],
   "source": [
    "df.head()"
   ]
  },
  {
   "cell_type": "code",
   "execution_count": 125,
   "metadata": {},
   "outputs": [
    {
     "output_type": "execute_result",
     "data": {
      "text/plain": [
       "           title  startYear     tconst titleType  runtimeMinutes  \\\n",
       "0        Cabiria       1914  tt0003740     movie           148.0   \n",
       "1    Intolérance       1916  tt0006864     movie           163.0   \n",
       "2  Les proscrits       1918  tt0008879     movie           136.0   \n",
       "3  Miss Milliard       1919  tt0009893     movie            60.0   \n",
       "4   Le lys brisé       1919  tt0009968     movie            90.0   \n",
       "\n",
       "                    genres  averageRating  numVotes  ordering region language  \\\n",
       "0  Adventure,Drama,History            7.1    3224.0      17.0     FR       \\N   \n",
       "1            Drama,History            7.7   14377.0      27.0     FR       \\N   \n",
       "2                    Drama            7.2    1577.0      12.0     FR       \\N   \n",
       "3                   Comedy            7.2    1699.0      10.0     FR       \\N   \n",
       "4            Drama,Romance            7.3    9532.0      15.0     FR       \\N   \n",
       "\n",
       "   directors                                            writers  \n",
       "0  nm0665163            nm0195339,nm0515385,nm0665163,nm0758215  \n",
       "1  nm0000428  nm0048512,nm0115218,nm0000428,nm0002616,nm0640...  \n",
       "2  nm0803705                      nm0803705,nm0039377,nm2642082  \n",
       "3  nm0523932                                nm0473134,nm0523932  \n",
       "4  nm0000428                                nm0121885,nm0000428  "
      ],
      "text/html": "<div>\n<style scoped>\n    .dataframe tbody tr th:only-of-type {\n        vertical-align: middle;\n    }\n\n    .dataframe tbody tr th {\n        vertical-align: top;\n    }\n\n    .dataframe thead th {\n        text-align: right;\n    }\n</style>\n<table border=\"1\" class=\"dataframe\">\n  <thead>\n    <tr style=\"text-align: right;\">\n      <th></th>\n      <th>title</th>\n      <th>startYear</th>\n      <th>tconst</th>\n      <th>titleType</th>\n      <th>runtimeMinutes</th>\n      <th>genres</th>\n      <th>averageRating</th>\n      <th>numVotes</th>\n      <th>ordering</th>\n      <th>region</th>\n      <th>language</th>\n      <th>directors</th>\n      <th>writers</th>\n    </tr>\n  </thead>\n  <tbody>\n    <tr>\n      <th>0</th>\n      <td>Cabiria</td>\n      <td>1914</td>\n      <td>tt0003740</td>\n      <td>movie</td>\n      <td>148.0</td>\n      <td>Adventure,Drama,History</td>\n      <td>7.1</td>\n      <td>3224.0</td>\n      <td>17.0</td>\n      <td>FR</td>\n      <td>\\N</td>\n      <td>nm0665163</td>\n      <td>nm0195339,nm0515385,nm0665163,nm0758215</td>\n    </tr>\n    <tr>\n      <th>1</th>\n      <td>Intolérance</td>\n      <td>1916</td>\n      <td>tt0006864</td>\n      <td>movie</td>\n      <td>163.0</td>\n      <td>Drama,History</td>\n      <td>7.7</td>\n      <td>14377.0</td>\n      <td>27.0</td>\n      <td>FR</td>\n      <td>\\N</td>\n      <td>nm0000428</td>\n      <td>nm0048512,nm0115218,nm0000428,nm0002616,nm0640...</td>\n    </tr>\n    <tr>\n      <th>2</th>\n      <td>Les proscrits</td>\n      <td>1918</td>\n      <td>tt0008879</td>\n      <td>movie</td>\n      <td>136.0</td>\n      <td>Drama</td>\n      <td>7.2</td>\n      <td>1577.0</td>\n      <td>12.0</td>\n      <td>FR</td>\n      <td>\\N</td>\n      <td>nm0803705</td>\n      <td>nm0803705,nm0039377,nm2642082</td>\n    </tr>\n    <tr>\n      <th>3</th>\n      <td>Miss Milliard</td>\n      <td>1919</td>\n      <td>tt0009893</td>\n      <td>movie</td>\n      <td>60.0</td>\n      <td>Comedy</td>\n      <td>7.2</td>\n      <td>1699.0</td>\n      <td>10.0</td>\n      <td>FR</td>\n      <td>\\N</td>\n      <td>nm0523932</td>\n      <td>nm0473134,nm0523932</td>\n    </tr>\n    <tr>\n      <th>4</th>\n      <td>Le lys brisé</td>\n      <td>1919</td>\n      <td>tt0009968</td>\n      <td>movie</td>\n      <td>90.0</td>\n      <td>Drama,Romance</td>\n      <td>7.3</td>\n      <td>9532.0</td>\n      <td>15.0</td>\n      <td>FR</td>\n      <td>\\N</td>\n      <td>nm0000428</td>\n      <td>nm0121885,nm0000428</td>\n    </tr>\n  </tbody>\n</table>\n</div>"
     },
     "metadata": {},
     "execution_count": 125
    }
   ],
   "source": [
    "Df_Title_Rating_Director=pd.merge(left=df, right=title_crew, on='tconst')\n",
    "Df_Title_Rating_Director.head()"
   ]
  },
  {
   "cell_type": "code",
   "execution_count": 141,
   "metadata": {},
   "outputs": [
    {
     "output_type": "execute_result",
     "data": {
      "text/plain": [
       "                 title  startYear     tconst titleType  runtimeMinutes  \\\n",
       "0              Cabiria       1914  tt0003740     movie           148.0   \n",
       "1          Intolérance       1916  tt0006864     movie           163.0   \n",
       "2         Le lys brisé       1919  tt0009968     movie            90.0   \n",
       "3    À travers l'orage       1920  tt0011841     movie           145.0   \n",
       "4  Les deux orphelines       1921  tt0012532     movie           150.0   \n",
       "\n",
       "                    genres  averageRating  numVotes  ordering region language  \\\n",
       "0  Adventure,Drama,History            7.1    3224.0      17.0     FR       \\N   \n",
       "1            Drama,History            7.7   14377.0      27.0     FR       \\N   \n",
       "2            Drama,Romance            7.3    9532.0      15.0     FR       \\N   \n",
       "3            Drama,Romance            7.4    5098.0      11.0     FR       \\N   \n",
       "4    Drama,History,Romance            7.3    4797.0       6.0     FR       \\N   \n",
       "\n",
       "   directors                                            writers     nconst  \\\n",
       "0  nm0665163            nm0195339,nm0515385,nm0665163,nm0758215  nm0665163   \n",
       "1  nm0000428  nm0048512,nm0115218,nm0000428,nm0002616,nm0640...  nm0000428   \n",
       "2  nm0000428                                nm0121885,nm0000428  nm0000428   \n",
       "3  nm0000428  nm0662461,nm0103755,nm0342604,nm0446189,nm0000428  nm0000428   \n",
       "4  nm0000428                      nm0257866,nm0180077,nm0000428  nm0000428   \n",
       "\n",
       "         primaryName birthYear deathYear         primaryProfession  \\\n",
       "0  Giovanni Pastrone      1883      1959  director,writer,producer   \n",
       "1      D.W. Griffith      1875      1948  director,writer,producer   \n",
       "2      D.W. Griffith      1875      1948  director,writer,producer   \n",
       "3      D.W. Griffith      1875      1948  director,writer,producer   \n",
       "4      D.W. Griffith      1875      1948  director,writer,producer   \n",
       "\n",
       "                            knownForTitles  \n",
       "0  tt0006997,tt0350986,tt0003740,tt0173869  \n",
       "1  tt0006864,tt0010484,tt0009559,tt0004972  \n",
       "2  tt0006864,tt0010484,tt0009559,tt0004972  \n",
       "3  tt0006864,tt0010484,tt0009559,tt0004972  \n",
       "4  tt0006864,tt0010484,tt0009559,tt0004972  "
      ],
      "text/html": "<div>\n<style scoped>\n    .dataframe tbody tr th:only-of-type {\n        vertical-align: middle;\n    }\n\n    .dataframe tbody tr th {\n        vertical-align: top;\n    }\n\n    .dataframe thead th {\n        text-align: right;\n    }\n</style>\n<table border=\"1\" class=\"dataframe\">\n  <thead>\n    <tr style=\"text-align: right;\">\n      <th></th>\n      <th>title</th>\n      <th>startYear</th>\n      <th>tconst</th>\n      <th>titleType</th>\n      <th>runtimeMinutes</th>\n      <th>genres</th>\n      <th>averageRating</th>\n      <th>numVotes</th>\n      <th>ordering</th>\n      <th>region</th>\n      <th>language</th>\n      <th>directors</th>\n      <th>writers</th>\n      <th>nconst</th>\n      <th>primaryName</th>\n      <th>birthYear</th>\n      <th>deathYear</th>\n      <th>primaryProfession</th>\n      <th>knownForTitles</th>\n    </tr>\n  </thead>\n  <tbody>\n    <tr>\n      <th>0</th>\n      <td>Cabiria</td>\n      <td>1914</td>\n      <td>tt0003740</td>\n      <td>movie</td>\n      <td>148.0</td>\n      <td>Adventure,Drama,History</td>\n      <td>7.1</td>\n      <td>3224.0</td>\n      <td>17.0</td>\n      <td>FR</td>\n      <td>\\N</td>\n      <td>nm0665163</td>\n      <td>nm0195339,nm0515385,nm0665163,nm0758215</td>\n      <td>nm0665163</td>\n      <td>Giovanni Pastrone</td>\n      <td>1883</td>\n      <td>1959</td>\n      <td>director,writer,producer</td>\n      <td>tt0006997,tt0350986,tt0003740,tt0173869</td>\n    </tr>\n    <tr>\n      <th>1</th>\n      <td>Intolérance</td>\n      <td>1916</td>\n      <td>tt0006864</td>\n      <td>movie</td>\n      <td>163.0</td>\n      <td>Drama,History</td>\n      <td>7.7</td>\n      <td>14377.0</td>\n      <td>27.0</td>\n      <td>FR</td>\n      <td>\\N</td>\n      <td>nm0000428</td>\n      <td>nm0048512,nm0115218,nm0000428,nm0002616,nm0640...</td>\n      <td>nm0000428</td>\n      <td>D.W. Griffith</td>\n      <td>1875</td>\n      <td>1948</td>\n      <td>director,writer,producer</td>\n      <td>tt0006864,tt0010484,tt0009559,tt0004972</td>\n    </tr>\n    <tr>\n      <th>2</th>\n      <td>Le lys brisé</td>\n      <td>1919</td>\n      <td>tt0009968</td>\n      <td>movie</td>\n      <td>90.0</td>\n      <td>Drama,Romance</td>\n      <td>7.3</td>\n      <td>9532.0</td>\n      <td>15.0</td>\n      <td>FR</td>\n      <td>\\N</td>\n      <td>nm0000428</td>\n      <td>nm0121885,nm0000428</td>\n      <td>nm0000428</td>\n      <td>D.W. Griffith</td>\n      <td>1875</td>\n      <td>1948</td>\n      <td>director,writer,producer</td>\n      <td>tt0006864,tt0010484,tt0009559,tt0004972</td>\n    </tr>\n    <tr>\n      <th>3</th>\n      <td>À travers l'orage</td>\n      <td>1920</td>\n      <td>tt0011841</td>\n      <td>movie</td>\n      <td>145.0</td>\n      <td>Drama,Romance</td>\n      <td>7.4</td>\n      <td>5098.0</td>\n      <td>11.0</td>\n      <td>FR</td>\n      <td>\\N</td>\n      <td>nm0000428</td>\n      <td>nm0662461,nm0103755,nm0342604,nm0446189,nm0000428</td>\n      <td>nm0000428</td>\n      <td>D.W. Griffith</td>\n      <td>1875</td>\n      <td>1948</td>\n      <td>director,writer,producer</td>\n      <td>tt0006864,tt0010484,tt0009559,tt0004972</td>\n    </tr>\n    <tr>\n      <th>4</th>\n      <td>Les deux orphelines</td>\n      <td>1921</td>\n      <td>tt0012532</td>\n      <td>movie</td>\n      <td>150.0</td>\n      <td>Drama,History,Romance</td>\n      <td>7.3</td>\n      <td>4797.0</td>\n      <td>6.0</td>\n      <td>FR</td>\n      <td>\\N</td>\n      <td>nm0000428</td>\n      <td>nm0257866,nm0180077,nm0000428</td>\n      <td>nm0000428</td>\n      <td>D.W. Griffith</td>\n      <td>1875</td>\n      <td>1948</td>\n      <td>director,writer,producer</td>\n      <td>tt0006864,tt0010484,tt0009559,tt0004972</td>\n    </tr>\n  </tbody>\n</table>\n</div>"
     },
     "metadata": {},
     "execution_count": 141
    }
   ],
   "source": [
    "Df_Title_Rating_DirectorName=pd.merge(left=Df_Title_Rating_Director, right=name_basics, left_on='directors', right_on='nconst')\n",
    "Df_Title_Rating_DirectorName.head()"
   ]
  },
  {
   "cell_type": "code",
   "execution_count": 142,
   "metadata": {},
   "outputs": [],
   "source": [
    "Df_Title_Rating_DirectorName=Df_Title_Rating_DirectorName.drop(['directors', 'writers', 'nconst'], axis=1)"
   ]
  },
  {
   "cell_type": "code",
   "execution_count": 145,
   "metadata": {},
   "outputs": [
    {
     "output_type": "execute_result",
     "data": {
      "text/plain": [
       "                       title  startYear     tconst titleType  runtimeMinutes  \\\n",
       "0                    Cabiria       1914  tt0003740     movie           148.0   \n",
       "1                Intolérance       1916  tt0006864     movie           163.0   \n",
       "2               Le lys brisé       1919  tt0009968     movie            90.0   \n",
       "3          À travers l'orage       1920  tt0011841     movie           145.0   \n",
       "4        Les deux orphelines       1921  tt0012532     movie           150.0   \n",
       "...                      ...        ...        ...       ...             ...   \n",
       "5474          Le Colocataire       2019  tt9789686     movie           108.0   \n",
       "5475    J'ai perdu mon corps       2019  tt9806192     movie            81.0   \n",
       "5476       La loi de Téhéran       2019  tt9817070     movie           131.0   \n",
       "5477                    Deux       2019  tt9845110     movie            99.0   \n",
       "5478  Le bonheur à tout prix       2019  tt9882084     movie            96.0   \n",
       "\n",
       "                           genres  averageRating  numVotes  ordering region  \\\n",
       "0         Adventure,Drama,History            7.1    3224.0      17.0     FR   \n",
       "1                   Drama,History            7.7   14377.0      27.0     FR   \n",
       "2                   Drama,Romance            7.3    9532.0      15.0     FR   \n",
       "3                   Drama,Romance            7.4    5098.0      11.0     FR   \n",
       "4           Drama,History,Romance            7.3    4797.0       6.0     FR   \n",
       "...                           ...            ...       ...       ...    ...   \n",
       "5474                Drama,Romance            7.4    2307.0       3.0     FR   \n",
       "5475      Animation,Drama,Fantasy            7.6   27448.0      29.0     FR   \n",
       "5476           Action,Crime,Drama            7.9    8786.0      12.0     FR   \n",
       "5477                Drama,Romance            7.1    1585.0      17.0     FR   \n",
       "5478  Biography,Documentary,Music            7.8    2011.0      16.0     FR   \n",
       "\n",
       "     language         primaryName birthYear deathYear  \\\n",
       "0          \\N   Giovanni Pastrone      1883      1959   \n",
       "1          \\N       D.W. Griffith      1875      1948   \n",
       "2          \\N       D.W. Griffith      1875      1948   \n",
       "3          \\N       D.W. Griffith      1875      1948   \n",
       "4          \\N       D.W. Griffith      1875      1948   \n",
       "...       ...                 ...       ...       ...   \n",
       "5474       \\N        Marco Berger      1977        \\N   \n",
       "5475       \\N       Jérémy Clapin      1974        \\N   \n",
       "5476       \\N      Saeed Roustayi        \\N        \\N   \n",
       "5477       \\N  Filippo Meneghetti        \\N        \\N   \n",
       "5478       \\N         John Taylor        \\N        \\N   \n",
       "\n",
       "                         primaryProfession  \\\n",
       "0                 director,writer,producer   \n",
       "1                 director,writer,producer   \n",
       "2                 director,writer,producer   \n",
       "3                 director,writer,producer   \n",
       "4                 director,writer,producer   \n",
       "...                                    ...   \n",
       "5474                director,writer,editor   \n",
       "5475  writer,director,animation_department   \n",
       "5476              writer,director,producer   \n",
       "5477    writer,director,assistant_director   \n",
       "5478               actor,director,composer   \n",
       "\n",
       "                               knownForTitles  \n",
       "0     tt0006997,tt0350986,tt0003740,tt0173869  \n",
       "1     tt0006864,tt0010484,tt0009559,tt0004972  \n",
       "2     tt0006864,tt0010484,tt0009559,tt0004972  \n",
       "3     tt0006864,tt0010484,tt0009559,tt0004972  \n",
       "4     tt0006864,tt0010484,tt0009559,tt0004972  \n",
       "...                                       ...  \n",
       "5474  tt1408972,tt3919820,tt9789686,tt1796406  \n",
       "5475  tt3321358,tt2421764,tt9806192,tt1235926  \n",
       "5476  tt6207956,tt5460658,tt9817070,tt9861926  \n",
       "5477  tt9845110,tt2447032,tt1054112,tt3454720  \n",
       "5478  tt6971530,tt3826624,tt9882084,tt5877444  \n",
       "\n",
       "[5479 rows x 16 columns]"
      ],
      "text/html": "<div>\n<style scoped>\n    .dataframe tbody tr th:only-of-type {\n        vertical-align: middle;\n    }\n\n    .dataframe tbody tr th {\n        vertical-align: top;\n    }\n\n    .dataframe thead th {\n        text-align: right;\n    }\n</style>\n<table border=\"1\" class=\"dataframe\">\n  <thead>\n    <tr style=\"text-align: right;\">\n      <th></th>\n      <th>title</th>\n      <th>startYear</th>\n      <th>tconst</th>\n      <th>titleType</th>\n      <th>runtimeMinutes</th>\n      <th>genres</th>\n      <th>averageRating</th>\n      <th>numVotes</th>\n      <th>ordering</th>\n      <th>region</th>\n      <th>language</th>\n      <th>primaryName</th>\n      <th>birthYear</th>\n      <th>deathYear</th>\n      <th>primaryProfession</th>\n      <th>knownForTitles</th>\n    </tr>\n  </thead>\n  <tbody>\n    <tr>\n      <th>0</th>\n      <td>Cabiria</td>\n      <td>1914</td>\n      <td>tt0003740</td>\n      <td>movie</td>\n      <td>148.0</td>\n      <td>Adventure,Drama,History</td>\n      <td>7.1</td>\n      <td>3224.0</td>\n      <td>17.0</td>\n      <td>FR</td>\n      <td>\\N</td>\n      <td>Giovanni Pastrone</td>\n      <td>1883</td>\n      <td>1959</td>\n      <td>director,writer,producer</td>\n      <td>tt0006997,tt0350986,tt0003740,tt0173869</td>\n    </tr>\n    <tr>\n      <th>1</th>\n      <td>Intolérance</td>\n      <td>1916</td>\n      <td>tt0006864</td>\n      <td>movie</td>\n      <td>163.0</td>\n      <td>Drama,History</td>\n      <td>7.7</td>\n      <td>14377.0</td>\n      <td>27.0</td>\n      <td>FR</td>\n      <td>\\N</td>\n      <td>D.W. Griffith</td>\n      <td>1875</td>\n      <td>1948</td>\n      <td>director,writer,producer</td>\n      <td>tt0006864,tt0010484,tt0009559,tt0004972</td>\n    </tr>\n    <tr>\n      <th>2</th>\n      <td>Le lys brisé</td>\n      <td>1919</td>\n      <td>tt0009968</td>\n      <td>movie</td>\n      <td>90.0</td>\n      <td>Drama,Romance</td>\n      <td>7.3</td>\n      <td>9532.0</td>\n      <td>15.0</td>\n      <td>FR</td>\n      <td>\\N</td>\n      <td>D.W. Griffith</td>\n      <td>1875</td>\n      <td>1948</td>\n      <td>director,writer,producer</td>\n      <td>tt0006864,tt0010484,tt0009559,tt0004972</td>\n    </tr>\n    <tr>\n      <th>3</th>\n      <td>À travers l'orage</td>\n      <td>1920</td>\n      <td>tt0011841</td>\n      <td>movie</td>\n      <td>145.0</td>\n      <td>Drama,Romance</td>\n      <td>7.4</td>\n      <td>5098.0</td>\n      <td>11.0</td>\n      <td>FR</td>\n      <td>\\N</td>\n      <td>D.W. Griffith</td>\n      <td>1875</td>\n      <td>1948</td>\n      <td>director,writer,producer</td>\n      <td>tt0006864,tt0010484,tt0009559,tt0004972</td>\n    </tr>\n    <tr>\n      <th>4</th>\n      <td>Les deux orphelines</td>\n      <td>1921</td>\n      <td>tt0012532</td>\n      <td>movie</td>\n      <td>150.0</td>\n      <td>Drama,History,Romance</td>\n      <td>7.3</td>\n      <td>4797.0</td>\n      <td>6.0</td>\n      <td>FR</td>\n      <td>\\N</td>\n      <td>D.W. Griffith</td>\n      <td>1875</td>\n      <td>1948</td>\n      <td>director,writer,producer</td>\n      <td>tt0006864,tt0010484,tt0009559,tt0004972</td>\n    </tr>\n    <tr>\n      <th>...</th>\n      <td>...</td>\n      <td>...</td>\n      <td>...</td>\n      <td>...</td>\n      <td>...</td>\n      <td>...</td>\n      <td>...</td>\n      <td>...</td>\n      <td>...</td>\n      <td>...</td>\n      <td>...</td>\n      <td>...</td>\n      <td>...</td>\n      <td>...</td>\n      <td>...</td>\n      <td>...</td>\n    </tr>\n    <tr>\n      <th>5474</th>\n      <td>Le Colocataire</td>\n      <td>2019</td>\n      <td>tt9789686</td>\n      <td>movie</td>\n      <td>108.0</td>\n      <td>Drama,Romance</td>\n      <td>7.4</td>\n      <td>2307.0</td>\n      <td>3.0</td>\n      <td>FR</td>\n      <td>\\N</td>\n      <td>Marco Berger</td>\n      <td>1977</td>\n      <td>\\N</td>\n      <td>director,writer,editor</td>\n      <td>tt1408972,tt3919820,tt9789686,tt1796406</td>\n    </tr>\n    <tr>\n      <th>5475</th>\n      <td>J'ai perdu mon corps</td>\n      <td>2019</td>\n      <td>tt9806192</td>\n      <td>movie</td>\n      <td>81.0</td>\n      <td>Animation,Drama,Fantasy</td>\n      <td>7.6</td>\n      <td>27448.0</td>\n      <td>29.0</td>\n      <td>FR</td>\n      <td>\\N</td>\n      <td>Jérémy Clapin</td>\n      <td>1974</td>\n      <td>\\N</td>\n      <td>writer,director,animation_department</td>\n      <td>tt3321358,tt2421764,tt9806192,tt1235926</td>\n    </tr>\n    <tr>\n      <th>5476</th>\n      <td>La loi de Téhéran</td>\n      <td>2019</td>\n      <td>tt9817070</td>\n      <td>movie</td>\n      <td>131.0</td>\n      <td>Action,Crime,Drama</td>\n      <td>7.9</td>\n      <td>8786.0</td>\n      <td>12.0</td>\n      <td>FR</td>\n      <td>\\N</td>\n      <td>Saeed Roustayi</td>\n      <td>\\N</td>\n      <td>\\N</td>\n      <td>writer,director,producer</td>\n      <td>tt6207956,tt5460658,tt9817070,tt9861926</td>\n    </tr>\n    <tr>\n      <th>5477</th>\n      <td>Deux</td>\n      <td>2019</td>\n      <td>tt9845110</td>\n      <td>movie</td>\n      <td>99.0</td>\n      <td>Drama,Romance</td>\n      <td>7.1</td>\n      <td>1585.0</td>\n      <td>17.0</td>\n      <td>FR</td>\n      <td>\\N</td>\n      <td>Filippo Meneghetti</td>\n      <td>\\N</td>\n      <td>\\N</td>\n      <td>writer,director,assistant_director</td>\n      <td>tt9845110,tt2447032,tt1054112,tt3454720</td>\n    </tr>\n    <tr>\n      <th>5478</th>\n      <td>Le bonheur à tout prix</td>\n      <td>2019</td>\n      <td>tt9882084</td>\n      <td>movie</td>\n      <td>96.0</td>\n      <td>Biography,Documentary,Music</td>\n      <td>7.8</td>\n      <td>2011.0</td>\n      <td>16.0</td>\n      <td>FR</td>\n      <td>\\N</td>\n      <td>John Taylor</td>\n      <td>\\N</td>\n      <td>\\N</td>\n      <td>actor,director,composer</td>\n      <td>tt6971530,tt3826624,tt9882084,tt5877444</td>\n    </tr>\n  </tbody>\n</table>\n<p>5479 rows × 16 columns</p>\n</div>"
     },
     "metadata": {},
     "execution_count": 145
    }
   ],
   "source": [
    "Df_Title_Rating_DirectorName"
   ]
  },
  {
   "cell_type": "code",
   "execution_count": 152,
   "metadata": {},
   "outputs": [],
   "source": [
    "df.to_csv('Df_Title_Rating_DirectorName.csv')"
   ]
  },
  {
   "source": [
    "# j'ai une base clean :\n",
    "# -sans netflix\n",
    "# -1500+ vote plus et \n",
    "# -avreage note 7 plus"
   ],
   "cell_type": "markdown",
   "metadata": {}
  },
  {
   "cell_type": "code",
   "execution_count": 139,
   "metadata": {},
   "outputs": [],
   "source": [
    "Df_Title_Rating_DirectorName=pd.read_csv('Df_Title_Rating_DirectorName.csv')"
   ]
  },
  {
   "cell_type": "code",
   "execution_count": 140,
   "metadata": {},
   "outputs": [
    {
     "output_type": "execute_result",
     "data": {
      "text/plain": [
       "      Unnamed: 0                                          title  startYear  \\\n",
       "0              0                                        Cabiria       1914   \n",
       "1              1                                    Intolérance       1916   \n",
       "2              2                                  Les proscrits       1918   \n",
       "3              3                                  Miss Milliard       1919   \n",
       "4              4                                   Le lys brisé       1919   \n",
       "...          ...                                            ...        ...   \n",
       "5958        5958                              La loi de Téhéran       2019   \n",
       "5959        5959                                           Deux       2019   \n",
       "5960        5960  The Bee Gees: How Can You Mend a Broken Heart       2020   \n",
       "5961        5961                         Le bonheur à tout prix       2019   \n",
       "5962        5962                                         Kaithi       2019   \n",
       "\n",
       "         tconst titleType  runtimeMinutes                       genres  \\\n",
       "0     tt0003740     movie           148.0      Adventure,Drama,History   \n",
       "1     tt0006864     movie           163.0                Drama,History   \n",
       "2     tt0008879     movie           136.0                        Drama   \n",
       "3     tt0009893     movie            60.0                       Comedy   \n",
       "4     tt0009968     movie            90.0                Drama,Romance   \n",
       "...         ...       ...             ...                          ...   \n",
       "5958  tt9817070     movie           131.0           Action,Crime,Drama   \n",
       "5959  tt9845110     movie            99.0                Drama,Romance   \n",
       "5960  tt9850386     movie           111.0            Documentary,Music   \n",
       "5961  tt9882084     movie            96.0  Biography,Documentary,Music   \n",
       "5962  tt9900782     movie           145.0              Action,Thriller   \n",
       "\n",
       "      averageRating  numVotes  ordering region language  \n",
       "0               7.1    3224.0      17.0     FR       \\N  \n",
       "1               7.7   14377.0      27.0     FR       \\N  \n",
       "2               7.2    1577.0      12.0     FR       \\N  \n",
       "3               7.2    1699.0      10.0     FR       \\N  \n",
       "4               7.3    9532.0      15.0     FR       \\N  \n",
       "...             ...       ...       ...    ...      ...  \n",
       "5958            7.9    8786.0      12.0     FR       \\N  \n",
       "5959            7.1    1585.0      17.0     FR       \\N  \n",
       "5960            8.2    2887.0       9.0     FR       \\N  \n",
       "5961            7.8    2011.0      16.0     FR       \\N  \n",
       "5962            8.4   13156.0       7.0     FR       \\N  \n",
       "\n",
       "[5963 rows x 12 columns]"
      ],
      "text/html": "<div>\n<style scoped>\n    .dataframe tbody tr th:only-of-type {\n        vertical-align: middle;\n    }\n\n    .dataframe tbody tr th {\n        vertical-align: top;\n    }\n\n    .dataframe thead th {\n        text-align: right;\n    }\n</style>\n<table border=\"1\" class=\"dataframe\">\n  <thead>\n    <tr style=\"text-align: right;\">\n      <th></th>\n      <th>Unnamed: 0</th>\n      <th>title</th>\n      <th>startYear</th>\n      <th>tconst</th>\n      <th>titleType</th>\n      <th>runtimeMinutes</th>\n      <th>genres</th>\n      <th>averageRating</th>\n      <th>numVotes</th>\n      <th>ordering</th>\n      <th>region</th>\n      <th>language</th>\n    </tr>\n  </thead>\n  <tbody>\n    <tr>\n      <th>0</th>\n      <td>0</td>\n      <td>Cabiria</td>\n      <td>1914</td>\n      <td>tt0003740</td>\n      <td>movie</td>\n      <td>148.0</td>\n      <td>Adventure,Drama,History</td>\n      <td>7.1</td>\n      <td>3224.0</td>\n      <td>17.0</td>\n      <td>FR</td>\n      <td>\\N</td>\n    </tr>\n    <tr>\n      <th>1</th>\n      <td>1</td>\n      <td>Intolérance</td>\n      <td>1916</td>\n      <td>tt0006864</td>\n      <td>movie</td>\n      <td>163.0</td>\n      <td>Drama,History</td>\n      <td>7.7</td>\n      <td>14377.0</td>\n      <td>27.0</td>\n      <td>FR</td>\n      <td>\\N</td>\n    </tr>\n    <tr>\n      <th>2</th>\n      <td>2</td>\n      <td>Les proscrits</td>\n      <td>1918</td>\n      <td>tt0008879</td>\n      <td>movie</td>\n      <td>136.0</td>\n      <td>Drama</td>\n      <td>7.2</td>\n      <td>1577.0</td>\n      <td>12.0</td>\n      <td>FR</td>\n      <td>\\N</td>\n    </tr>\n    <tr>\n      <th>3</th>\n      <td>3</td>\n      <td>Miss Milliard</td>\n      <td>1919</td>\n      <td>tt0009893</td>\n      <td>movie</td>\n      <td>60.0</td>\n      <td>Comedy</td>\n      <td>7.2</td>\n      <td>1699.0</td>\n      <td>10.0</td>\n      <td>FR</td>\n      <td>\\N</td>\n    </tr>\n    <tr>\n      <th>4</th>\n      <td>4</td>\n      <td>Le lys brisé</td>\n      <td>1919</td>\n      <td>tt0009968</td>\n      <td>movie</td>\n      <td>90.0</td>\n      <td>Drama,Romance</td>\n      <td>7.3</td>\n      <td>9532.0</td>\n      <td>15.0</td>\n      <td>FR</td>\n      <td>\\N</td>\n    </tr>\n    <tr>\n      <th>...</th>\n      <td>...</td>\n      <td>...</td>\n      <td>...</td>\n      <td>...</td>\n      <td>...</td>\n      <td>...</td>\n      <td>...</td>\n      <td>...</td>\n      <td>...</td>\n      <td>...</td>\n      <td>...</td>\n      <td>...</td>\n    </tr>\n    <tr>\n      <th>5958</th>\n      <td>5958</td>\n      <td>La loi de Téhéran</td>\n      <td>2019</td>\n      <td>tt9817070</td>\n      <td>movie</td>\n      <td>131.0</td>\n      <td>Action,Crime,Drama</td>\n      <td>7.9</td>\n      <td>8786.0</td>\n      <td>12.0</td>\n      <td>FR</td>\n      <td>\\N</td>\n    </tr>\n    <tr>\n      <th>5959</th>\n      <td>5959</td>\n      <td>Deux</td>\n      <td>2019</td>\n      <td>tt9845110</td>\n      <td>movie</td>\n      <td>99.0</td>\n      <td>Drama,Romance</td>\n      <td>7.1</td>\n      <td>1585.0</td>\n      <td>17.0</td>\n      <td>FR</td>\n      <td>\\N</td>\n    </tr>\n    <tr>\n      <th>5960</th>\n      <td>5960</td>\n      <td>The Bee Gees: How Can You Mend a Broken Heart</td>\n      <td>2020</td>\n      <td>tt9850386</td>\n      <td>movie</td>\n      <td>111.0</td>\n      <td>Documentary,Music</td>\n      <td>8.2</td>\n      <td>2887.0</td>\n      <td>9.0</td>\n      <td>FR</td>\n      <td>\\N</td>\n    </tr>\n    <tr>\n      <th>5961</th>\n      <td>5961</td>\n      <td>Le bonheur à tout prix</td>\n      <td>2019</td>\n      <td>tt9882084</td>\n      <td>movie</td>\n      <td>96.0</td>\n      <td>Biography,Documentary,Music</td>\n      <td>7.8</td>\n      <td>2011.0</td>\n      <td>16.0</td>\n      <td>FR</td>\n      <td>\\N</td>\n    </tr>\n    <tr>\n      <th>5962</th>\n      <td>5962</td>\n      <td>Kaithi</td>\n      <td>2019</td>\n      <td>tt9900782</td>\n      <td>movie</td>\n      <td>145.0</td>\n      <td>Action,Thriller</td>\n      <td>8.4</td>\n      <td>13156.0</td>\n      <td>7.0</td>\n      <td>FR</td>\n      <td>\\N</td>\n    </tr>\n  </tbody>\n</table>\n<p>5963 rows × 12 columns</p>\n</div>"
     },
     "metadata": {},
     "execution_count": 140
    }
   ],
   "source": [
    "Df_Title_Rating_DirectorName"
   ]
  }
 ],
 "metadata": {
  "kernelspec": {
   "name": "python392jvsc74a57bd0134fd6e82c4d8537fa65acfca115c4c458646431ef3d178d5c028c448a216465",
   "display_name": "Python 3.9.2 64-bit"
  },
  "language_info": {
   "codemirror_mode": {
    "name": "ipython",
    "version": 3
   },
   "file_extension": ".py",
   "mimetype": "text/x-python",
   "name": "python",
   "nbconvert_exporter": "python",
   "pygments_lexer": "ipython3",
   "version": "3.9.2"
  },
  "metadata": {
   "interpreter": {
    "hash": "134fd6e82c4d8537fa65acfca115c4c458646431ef3d178d5c028c448a216465"
   }
  }
 },
 "nbformat": 4,
 "nbformat_minor": 4
}